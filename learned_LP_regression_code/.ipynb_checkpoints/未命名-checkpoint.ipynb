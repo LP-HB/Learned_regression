{
 "cells": [
  {
   "cell_type": "code",
   "execution_count": 4,
   "metadata": {},
   "outputs": [
    {
     "name": "stdout",
     "output_type": "stream",
     "text": [
      "Namespace(S_init_method='gaussian', bestonly=False, bs=5, data='ghg', device='cuda:0', initalg='random', iter=1000, k_sparse=1, load_file='', lr=0.0001, m=10, num_exp=1, random=False, raw=True, save_file=None, save_fldr=None, size=2000)\n",
      "-----------------------data process begins----------------------\n",
      "0\n",
      "(15, 327)\n",
      "ghg.gid.site1928.dat\n",
      "1\n",
      "(15, 327)\n",
      "ghg.gid.site1097.dat\n",
      "2\n",
      "(15, 327)\n",
      "ghg.gid.site0457.dat\n",
      "3\n",
      "(15, 327)\n",
      "ghg.gid.site2729.dat\n",
      "4\n",
      "(15, 327)\n",
      "ghg.gid.site1465.dat\n",
      "5\n",
      "(15, 327)\n",
      "ghg.gid.site1328.dat\n",
      "6\n",
      "(15, 327)\n",
      "ghg.gid.site0749.dat\n",
      "7\n",
      "(15, 327)\n",
      "ghg.gid.site1371.dat\n",
      "8\n",
      "(15, 327)\n",
      "ghg.gid.site2415.dat\n",
      "9\n",
      "(15, 327)\n",
      "ghg.gid.site1568.dat\n",
      "10\n",
      "(15, 327)\n",
      "ghg.gid.site2741.dat\n",
      "11\n",
      "(15, 327)\n",
      "ghg.gid.site0698.dat\n",
      "12\n",
      "(15, 327)\n",
      "ghg.gid.site1815.dat\n",
      "13\n",
      "(15, 327)\n",
      "ghg.gid.site2838.dat\n",
      "14\n",
      "(15, 327)\n",
      "ghg.gid.site0745.dat\n",
      "15\n",
      "(15, 327)\n",
      "ghg.gid.site0563.dat\n",
      "16\n",
      "(15, 327)\n",
      "ghg.gid.site1486.dat\n",
      "17\n",
      "(15, 327)\n",
      "ghg.gid.site1490.dat\n",
      "18\n",
      "(15, 327)\n",
      "ghg.gid.site1449.dat\n",
      "19\n",
      "(15, 327)\n",
      "ghg.gid.site0758.dat\n",
      "20\n",
      "(15, 327)\n",
      "ghg.gid.site1191.dat\n",
      "21\n",
      "(15, 327)\n",
      "ghg.gid.site1758.dat\n",
      "22\n",
      "(15, 327)\n",
      "ghg.gid.site1223.dat\n",
      "23\n",
      "(15, 327)\n",
      "ghg.gid.site1965.dat\n",
      "24\n",
      "(15, 327)\n",
      "ghg.gid.site1258.dat\n",
      "25\n",
      "(15, 327)\n",
      "ghg.gid.site0350.dat\n",
      "26\n",
      "(15, 327)\n",
      "ghg.gid.site0130.dat\n",
      "27\n",
      "(15, 327)\n",
      "ghg.gid.site1529.dat\n",
      "28\n",
      "(15, 327)\n",
      "ghg.gid.site0120.dat\n",
      "29\n",
      "(15, 327)\n",
      "ghg.gid.site0830.dat\n",
      "30\n",
      "(15, 327)\n",
      "ghg.gid.site2518.dat\n",
      "31\n",
      "(15, 327)\n",
      "ghg.gid.site0456.dat\n",
      "32\n",
      "(15, 327)\n",
      "ghg.gid.site2631.dat\n",
      "33\n",
      "(15, 327)\n",
      "ghg.gid.site0919.dat\n",
      "34\n",
      "(15, 327)\n",
      "ghg.gid.site1459.dat\n",
      "35\n",
      "(15, 327)\n",
      "ghg.gid.site2426.dat\n",
      "36\n",
      "(15, 327)\n",
      "ghg.gid.site2260.dat\n",
      "37\n",
      "(15, 327)\n",
      "ghg.gid.site2487.dat\n",
      "38\n",
      "(15, 327)\n",
      "ghg.gid.site2590.dat\n",
      "39\n",
      "(15, 327)\n",
      "ghg.gid.site1485.dat\n",
      "40\n",
      "(15, 327)\n",
      "ghg.gid.site2327.dat\n",
      "41\n",
      "(15, 327)\n",
      "ghg.gid.site2356.dat\n",
      "42\n",
      "(15, 327)\n",
      "ghg.gid.site2699.dat\n",
      "43\n",
      "(15, 327)\n",
      "ghg.gid.site0395.dat\n",
      "44\n",
      "(15, 327)\n",
      "ghg.gid.site2467.dat\n",
      "45\n",
      "(15, 327)\n",
      "ghg.gid.site1684.dat\n",
      "46\n",
      "(15, 327)\n",
      "ghg.gid.site1180.dat\n",
      "47\n",
      "(15, 327)\n",
      "ghg.gid.site1594.dat\n",
      "48\n",
      "(15, 327)\n",
      "ghg.gid.site1078.dat\n",
      "49\n",
      "(15, 327)\n",
      "ghg.gid.site2061.dat\n",
      "50\n",
      "(15, 327)\n",
      "ghg.gid.site0160.dat\n",
      "51\n",
      "(15, 327)\n",
      "ghg.gid.site1201.dat\n",
      "52\n",
      "(15, 327)\n",
      "ghg.gid.site0485.dat\n",
      "53\n",
      "(15, 327)\n",
      "ghg.gid.site2763.dat\n",
      "54\n",
      "(15, 327)\n",
      "ghg.gid.site0341.dat\n",
      "55\n",
      "(15, 327)\n",
      "ghg.gid.site0347.dat\n",
      "56\n",
      "(15, 327)\n",
      "ghg.gid.site0322.dat\n",
      "57\n",
      "(15, 327)\n",
      "ghg.gid.site1657.dat\n",
      "58\n",
      "(15, 327)\n",
      "ghg.gid.site0219.dat\n",
      "59\n",
      "(15, 327)\n",
      "ghg.gid.site0640.dat\n",
      "60\n",
      "(15, 327)\n",
      "ghg.gid.site1212.dat\n",
      "61\n",
      "(15, 327)\n",
      "ghg.gid.site2457.dat\n",
      "62\n",
      "(15, 327)\n",
      "ghg.gid.site1628.dat\n",
      "63\n",
      "(15, 327)\n",
      "ghg.gid.site1990.dat\n",
      "64\n",
      "(15, 327)\n",
      "ghg.gid.site1787.dat\n",
      "65\n",
      "(15, 327)\n",
      "ghg.gid.site1026.dat\n",
      "66\n",
      "(15, 327)\n",
      "ghg.gid.site1799.dat\n",
      "67\n",
      "(15, 327)\n",
      "ghg.gid.site0387.dat\n",
      "68\n",
      "(15, 327)\n",
      "ghg.gid.site2421.dat\n",
      "69\n",
      "(15, 327)\n",
      "ghg.gid.site1133.dat\n",
      "70\n",
      "(15, 327)\n",
      "ghg.gid.site0546.dat\n",
      "71\n",
      "(15, 327)\n",
      "ghg.gid.site0877.dat\n",
      "72\n",
      "(15, 327)\n",
      "ghg.gid.site1270.dat\n",
      "73\n",
      "(15, 327)\n",
      "ghg.gid.site2332.dat\n",
      "74\n",
      "(15, 327)\n",
      "ghg.gid.site1455.dat\n",
      "75\n",
      "(15, 327)\n",
      "ghg.gid.site1259.dat\n",
      "76\n",
      "(15, 327)\n",
      "ghg.gid.site0092.dat\n",
      "77\n",
      "(15, 327)\n",
      "ghg.gid.site0162.dat\n",
      "78\n",
      "(15, 327)\n",
      "ghg.gid.site0100.dat\n",
      "79\n",
      "(15, 327)\n",
      "ghg.gid.site0997.dat\n",
      "80\n",
      "(15, 327)\n",
      "ghg.gid.site1911.dat\n",
      "81\n",
      "(15, 327)\n",
      "ghg.gid.site2898.dat\n",
      "82\n",
      "(15, 327)\n",
      "ghg.gid.site1197.dat\n",
      "83\n",
      "(15, 327)\n",
      "ghg.gid.site1979.dat\n",
      "84\n",
      "(15, 327)\n",
      "ghg.gid.site0216.dat\n",
      "85\n",
      "(15, 327)\n",
      "ghg.gid.site1556.dat\n",
      "86\n",
      "(15, 327)\n",
      "ghg.gid.site0490.dat\n",
      "87\n",
      "(15, 327)\n",
      "ghg.gid.site0537.dat\n",
      "88\n",
      "(15, 327)\n",
      "ghg.gid.site0943.dat\n",
      "89\n",
      "(15, 327)\n",
      "ghg.gid.site2859.dat\n",
      "90\n",
      "(15, 327)\n",
      "ghg.gid.site2414.dat\n",
      "91\n",
      "(15, 327)\n",
      "ghg.gid.site1883.dat\n",
      "92\n",
      "(15, 327)\n",
      "ghg.gid.site0379.dat\n",
      "93\n",
      "(15, 327)\n",
      "ghg.gid.site0903.dat\n",
      "94\n",
      "(15, 327)\n",
      "ghg.gid.site2394.dat\n",
      "95\n",
      "(15, 327)\n",
      "ghg.gid.site0680.dat\n",
      "96\n",
      "(15, 327)\n",
      "ghg.gid.site1755.dat\n",
      "97\n",
      "(15, 327)\n",
      "ghg.gid.site2647.dat\n",
      "98\n",
      "(15, 327)\n",
      "ghg.gid.site1810.dat\n",
      "99\n",
      "(15, 327)\n",
      "ghg.gid.site2358.dat\n",
      "100\n",
      "(15, 327)\n",
      "ghg.gid.site2785.dat\n",
      "101\n",
      "(15, 327)\n",
      "ghg.gid.site2573.dat\n",
      "102\n",
      "(15, 327)\n",
      "ghg.gid.site1813.dat\n",
      "103\n",
      "(15, 327)\n",
      "ghg.gid.site1914.dat\n",
      "104\n",
      "(15, 327)\n",
      "ghg.gid.site0371.dat\n",
      "105\n",
      "(15, 327)\n",
      "ghg.gid.site0966.dat\n",
      "106\n",
      "(15, 327)\n",
      "ghg.gid.site0654.dat\n",
      "107\n",
      "(15, 327)\n",
      "ghg.gid.site2543.dat\n",
      "108\n",
      "(15, 327)\n",
      "ghg.gid.site2807.dat\n",
      "109\n",
      "(15, 327)\n",
      "ghg.gid.site0982.dat\n",
      "110\n",
      "(15, 327)\n",
      "ghg.gid.site0192.dat\n",
      "111\n",
      "(15, 327)\n",
      "ghg.gid.site1652.dat\n",
      "112\n",
      "(15, 327)\n",
      "ghg.gid.site0869.dat\n",
      "113\n",
      "(15, 327)\n",
      "ghg.gid.site0854.dat\n",
      "114\n",
      "(15, 327)\n",
      "ghg.gid.site1821.dat\n",
      "115\n",
      "(15, 327)\n",
      "ghg.gid.site0817.dat\n",
      "116\n",
      "(15, 327)\n",
      "ghg.gid.site2120.dat\n",
      "117\n",
      "(15, 327)\n",
      "ghg.gid.site1099.dat\n",
      "118\n",
      "(15, 327)\n",
      "ghg.gid.site1894.dat\n",
      "119\n",
      "(15, 327)\n",
      "ghg.gid.site1063.dat\n",
      "120\n",
      "(15, 327)\n",
      "ghg.gid.site2455.dat\n",
      "121\n",
      "(15, 327)\n",
      "ghg.gid.site0451.dat\n",
      "122\n",
      "(15, 327)\n",
      "ghg.gid.site2173.dat\n",
      "123\n",
      "(15, 327)\n",
      "ghg.gid.site0133.dat\n",
      "124\n",
      "(15, 327)\n",
      "ghg.gid.site0392.dat\n",
      "125\n",
      "(15, 327)\n",
      "ghg.gid.site0942.dat\n",
      "126\n",
      "(15, 327)\n",
      "ghg.gid.site0496.dat\n",
      "127\n",
      "(15, 327)\n",
      "ghg.gid.site1956.dat\n",
      "128\n",
      "(15, 327)\n",
      "ghg.gid.site2474.dat\n",
      "129\n",
      "(15, 327)\n",
      "ghg.gid.site0377.dat\n",
      "130\n",
      "(15, 327)\n",
      "ghg.gid.site1876.dat\n",
      "131\n",
      "(15, 327)\n",
      "ghg.gid.site1369.dat\n",
      "132\n",
      "(15, 327)\n",
      "ghg.gid.site0501.dat\n",
      "133\n",
      "(15, 327)\n",
      "ghg.gid.site1118.dat\n",
      "134\n",
      "(15, 327)\n",
      "ghg.gid.site1748.dat\n",
      "135\n",
      "(15, 327)\n",
      "ghg.gid.site1574.dat\n",
      "136\n",
      "(15, 327)\n",
      "ghg.gid.site0769.dat\n",
      "137\n",
      "(15, 327)\n",
      "ghg.gid.site1095.dat\n",
      "138\n",
      "(15, 327)\n",
      "ghg.gid.site0733.dat\n",
      "139\n",
      "(15, 327)\n",
      "ghg.gid.site0689.dat\n",
      "140\n",
      "(15, 327)\n",
      "ghg.gid.site2703.dat\n",
      "141\n",
      "(15, 327)\n",
      "ghg.gid.site0310.dat\n",
      "142\n",
      "(15, 327)\n",
      "ghg.gid.site1043.dat\n",
      "143\n",
      "(15, 327)\n",
      "ghg.gid.site2391.dat\n",
      "144\n",
      "(15, 327)\n",
      "ghg.gid.site0781.dat\n",
      "145\n",
      "(15, 327)\n",
      "ghg.gid.site0212.dat\n",
      "146\n",
      "(15, 327)\n",
      "ghg.gid.site1573.dat\n",
      "147\n",
      "(15, 327)\n",
      "ghg.gid.site0928.dat\n",
      "148\n",
      "(15, 327)\n",
      "ghg.gid.site2328.dat\n",
      "149\n",
      "(15, 327)\n",
      "ghg.gid.site2118.dat\n",
      "150\n",
      "(15, 327)\n",
      "ghg.gid.site2405.dat\n",
      "151\n",
      "(15, 327)\n",
      "ghg.gid.site1536.dat\n",
      "152\n",
      "(15, 327)\n",
      "ghg.gid.site0258.dat\n",
      "153\n",
      "(15, 327)\n",
      "ghg.gid.site1462.dat\n",
      "154\n",
      "(15, 327)\n",
      "ghg.gid.site0783.dat\n",
      "155\n",
      "(15, 327)\n",
      "ghg.gid.site0868.dat\n",
      "156\n",
      "(15, 327)\n",
      "ghg.gid.site0026.dat\n",
      "157\n",
      "(15, 327)\n",
      "ghg.gid.site2224.dat\n",
      "158\n",
      "(15, 327)\n",
      "ghg.gid.site0267.dat\n",
      "159\n",
      "(15, 327)\n",
      "ghg.gid.site0668.dat\n",
      "160\n",
      "(15, 327)\n",
      "ghg.gid.site0036.dat\n",
      "161\n",
      "(15, 327)\n",
      "ghg.gid.site0396.dat\n",
      "162\n",
      "(15, 327)\n",
      "ghg.gid.site0729.dat\n",
      "163\n",
      "(15, 327)\n",
      "ghg.gid.site2801.dat\n",
      "164\n",
      "(15, 327)\n",
      "ghg.gid.site2798.dat\n",
      "165\n",
      "(15, 327)\n",
      "ghg.gid.site0209.dat\n",
      "166\n",
      "(15, 327)\n",
      "ghg.gid.site0070.dat\n",
      "167\n",
      "(15, 327)\n",
      "ghg.gid.site0921.dat\n",
      "168\n",
      "(15, 327)\n",
      "ghg.gid.site0699.dat\n",
      "169\n",
      "(15, 327)\n",
      "ghg.gid.site0085.dat\n",
      "170\n",
      "(15, 327)\n",
      "ghg.gid.site2304.dat\n",
      "171\n",
      "(15, 327)\n",
      "ghg.gid.site0176.dat\n",
      "172\n",
      "(15, 327)\n",
      "ghg.gid.site0414.dat\n",
      "173\n",
      "(15, 327)\n",
      "ghg.gid.site0601.dat\n",
      "174\n",
      "(15, 327)\n",
      "ghg.gid.site0374.dat\n",
      "175\n",
      "(15, 327)\n",
      "ghg.gid.site1929.dat\n",
      "176\n",
      "(15, 327)\n",
      "ghg.gid.site0316.dat\n",
      "177\n",
      "(15, 327)\n",
      "ghg.gid.site2596.dat\n",
      "178\n",
      "(15, 327)\n",
      "ghg.gid.site1304.dat\n",
      "179\n",
      "(15, 327)\n",
      "ghg.gid.site2582.dat\n",
      "180\n",
      "(15, 327)\n",
      "ghg.gid.site0008.dat\n",
      "181\n",
      "(15, 327)\n",
      "ghg.gid.site1250.dat\n",
      "182\n",
      "(15, 327)\n",
      "ghg.gid.site1144.dat\n",
      "183\n",
      "(15, 327)\n",
      "ghg.gid.site1903.dat\n",
      "184\n",
      "(15, 327)\n",
      "ghg.gid.site0651.dat\n",
      "185\n",
      "(15, 327)\n",
      "ghg.gid.site0136.dat\n",
      "186\n",
      "(15, 327)\n",
      "ghg.gid.site2045.dat\n",
      "187\n",
      "(15, 327)\n",
      "ghg.gid.site0123.dat\n",
      "188\n",
      "(15, 327)\n",
      "ghg.gid.site1464.dat\n",
      "189\n",
      "(15, 327)\n",
      "ghg.gid.site1220.dat\n",
      "190\n",
      "(15, 327)\n",
      "ghg.gid.site0757.dat\n",
      "191\n",
      "(15, 327)\n",
      "ghg.gid.site0765.dat\n",
      "192\n",
      "(15, 327)\n",
      "ghg.gid.site0939.dat\n",
      "193\n",
      "(15, 327)\n",
      "ghg.gid.site0895.dat\n",
      "194\n",
      "(15, 327)\n",
      "ghg.gid.site2222.dat\n",
      "195\n",
      "(15, 327)\n",
      "ghg.gid.site2485.dat\n",
      "196\n",
      "(15, 327)\n",
      "ghg.gid.site2740.dat\n",
      "197\n",
      "(15, 327)\n",
      "ghg.gid.site1148.dat\n",
      "198\n",
      "(15, 327)\n",
      "ghg.gid.site2780.dat\n",
      "199\n",
      "(15, 327)\n",
      "ghg.gid.site2124.dat\n",
      "200\n",
      "(15, 327)\n",
      "ghg.gid.site1533.dat\n",
      "201\n",
      "(15, 327)\n",
      "ghg.gid.site2150.dat\n",
      "202\n",
      "(15, 327)\n",
      "ghg.gid.site2835.dat\n",
      "203\n",
      "(15, 327)\n",
      "ghg.gid.site0268.dat\n",
      "204\n",
      "(15, 327)\n",
      "ghg.gid.site1934.dat\n",
      "205\n",
      "(15, 327)\n",
      "ghg.gid.site1741.dat\n",
      "206\n",
      "(15, 327)\n",
      "ghg.gid.site0012.dat\n",
      "207\n",
      "(15, 327)\n",
      "ghg.gid.site2308.dat\n",
      "208\n",
      "(15, 327)\n",
      "ghg.gid.site1343.dat\n",
      "209\n",
      "(15, 327)\n",
      "ghg.gid.site2651.dat\n",
      "210\n",
      "(15, 327)\n",
      "ghg.gid.site0099.dat\n",
      "211\n",
      "(15, 327)\n",
      "ghg.gid.site2056.dat\n",
      "212\n",
      "(15, 327)\n",
      "ghg.gid.site1811.dat\n",
      "213\n",
      "(15, 327)\n",
      "ghg.gid.site0340.dat\n",
      "214\n",
      "(15, 327)\n",
      "ghg.gid.site0636.dat\n",
      "215\n",
      "(15, 327)\n",
      "ghg.gid.site2483.dat\n",
      "216\n",
      "(15, 327)\n",
      "ghg.gid.site0972.dat\n",
      "217\n",
      "(15, 327)\n",
      "ghg.gid.site2023.dat\n",
      "218\n",
      "(15, 327)\n",
      "ghg.gid.site1793.dat\n",
      "219\n",
      "(15, 327)\n",
      "ghg.gid.site0305.dat\n",
      "220\n",
      "(15, 327)\n",
      "ghg.gid.site1374.dat\n",
      "221\n",
      "(15, 327)\n",
      "ghg.gid.site0029.dat\n",
      "222\n",
      "(15, 327)\n",
      "ghg.gid.site1275.dat\n",
      "223\n",
      "(15, 327)\n",
      "ghg.gid.site2779.dat\n",
      "224\n",
      "(15, 327)\n",
      "ghg.gid.site1798.dat\n",
      "225\n",
      "(15, 327)\n",
      "ghg.gid.site0055.dat\n",
      "226\n",
      "(15, 327)\n",
      "ghg.gid.site0684.dat\n",
      "227\n",
      "(15, 327)\n",
      "ghg.gid.site1126.dat\n",
      "228\n",
      "(15, 327)\n",
      "ghg.gid.site2219.dat\n",
      "229\n",
      "(15, 327)\n",
      "ghg.gid.site1215.dat\n",
      "230\n",
      "(15, 327)\n",
      "ghg.gid.site2064.dat\n",
      "231\n",
      "(15, 327)\n",
      "ghg.gid.site2412.dat\n",
      "232\n",
      "(15, 327)\n",
      "ghg.gid.site2281.dat\n",
      "233\n"
     ]
    },
    {
     "name": "stdout",
     "output_type": "stream",
     "text": [
      "(15, 327)\n",
      "ghg.gid.site1342.dat\n",
      "234\n",
      "(15, 327)\n",
      "ghg.gid.site0727.dat\n",
      "235\n",
      "(15, 327)\n",
      "ghg.gid.site1396.dat\n",
      "236\n",
      "(15, 327)\n",
      "ghg.gid.site1605.dat\n",
      "237\n",
      "(15, 327)\n",
      "ghg.gid.site0557.dat\n",
      "238\n",
      "(15, 327)\n",
      "ghg.gid.site2360.dat\n",
      "239\n",
      "(15, 327)\n",
      "ghg.gid.site1363.dat\n",
      "240\n",
      "(15, 327)\n",
      "ghg.gid.site2179.dat\n",
      "241\n",
      "(15, 327)\n",
      "ghg.gid.site0810.dat\n",
      "242\n",
      "(15, 327)\n",
      "ghg.gid.site0359.dat\n",
      "243\n",
      "(15, 327)\n",
      "ghg.gid.site0232.dat\n",
      "244\n",
      "(15, 327)\n",
      "ghg.gid.site0663.dat\n",
      "245\n",
      "(15, 327)\n",
      "ghg.gid.site1784.dat\n",
      "246\n",
      "(15, 327)\n",
      "ghg.gid.site2843.dat\n",
      "247\n",
      "(15, 327)\n",
      "ghg.gid.site2100.dat\n",
      "248\n",
      "(15, 327)\n",
      "ghg.gid.site1204.dat\n",
      "249\n",
      "(15, 327)\n",
      "ghg.gid.site2662.dat\n",
      "250\n",
      "(15, 327)\n",
      "ghg.gid.site0480.dat\n",
      "251\n",
      "(15, 327)\n",
      "ghg.gid.site1895.dat\n",
      "252\n",
      "(15, 327)\n",
      "ghg.gid.site2460.dat\n",
      "253\n",
      "(15, 327)\n",
      "ghg.gid.site0873.dat\n",
      "254\n",
      "(15, 327)\n",
      "ghg.gid.site1106.dat\n",
      "255\n",
      "(15, 327)\n",
      "ghg.gid.site2499.dat\n",
      "256\n",
      "(15, 327)\n",
      "ghg.gid.site2366.dat\n",
      "257\n",
      "(15, 327)\n",
      "ghg.gid.site0295.dat\n",
      "258\n",
      "(15, 327)\n",
      "ghg.gid.site0720.dat\n",
      "259\n",
      "(15, 327)\n",
      "ghg.gid.site0900.dat\n",
      "260\n",
      "(15, 327)\n",
      "ghg.gid.site2370.dat\n",
      "261\n",
      "(15, 327)\n",
      "ghg.gid.site2070.dat\n",
      "262\n",
      "(15, 327)\n",
      "ghg.gid.site1240.dat\n",
      "263\n",
      "(15, 327)\n",
      "ghg.gid.site0254.dat\n",
      "264\n",
      "(15, 327)\n",
      "ghg.gid.site0799.dat\n",
      "265\n",
      "(15, 327)\n",
      "ghg.gid.site0231.dat\n",
      "266\n",
      "(15, 327)\n",
      "ghg.gid.site0572.dat\n",
      "267\n",
      "(15, 327)\n",
      "ghg.gid.site1922.dat\n",
      "268\n",
      "(15, 327)\n",
      "ghg.gid.site2866.dat\n",
      "269\n",
      "(15, 327)\n",
      "ghg.gid.site0165.dat\n",
      "270\n",
      "(15, 327)\n",
      "ghg.gid.site2208.dat\n",
      "271\n",
      "(15, 327)\n",
      "ghg.gid.site0184.dat\n",
      "272\n",
      "(15, 327)\n",
      "ghg.gid.site0978.dat\n",
      "273\n",
      "(15, 327)\n",
      "ghg.gid.site1945.dat\n",
      "274\n",
      "(15, 327)\n",
      "ghg.gid.site0327.dat\n",
      "275\n",
      "(15, 327)\n",
      "ghg.gid.site0297.dat\n",
      "276\n",
      "(15, 327)\n",
      "ghg.gid.site2191.dat\n",
      "277\n",
      "(15, 327)\n",
      "ghg.gid.site0063.dat\n",
      "278\n",
      "(15, 327)\n",
      "ghg.gid.site0208.dat\n",
      "279\n",
      "(15, 327)\n",
      "ghg.gid.site2098.dat\n",
      "280\n",
      "(15, 327)\n",
      "ghg.gid.site0237.dat\n",
      "281\n",
      "(15, 327)\n",
      "ghg.gid.site1348.dat\n",
      "282\n",
      "(15, 327)\n",
      "ghg.gid.site1531.dat\n",
      "283\n",
      "(15, 327)\n",
      "ghg.gid.site0782.dat\n",
      "284\n",
      "(15, 327)\n",
      "ghg.gid.site2034.dat\n",
      "285\n",
      "(15, 327)\n",
      "ghg.gid.site2636.dat\n",
      "286\n",
      "(15, 327)\n",
      "ghg.gid.site1069.dat\n",
      "287\n",
      "(15, 327)\n",
      "ghg.gid.site2031.dat\n",
      "288\n",
      "(15, 327)\n",
      "ghg.gid.site2163.dat\n",
      "289\n",
      "(15, 327)\n",
      "ghg.gid.site1937.dat\n",
      "290\n",
      "(15, 327)\n",
      "ghg.gid.site0822.dat\n",
      "291\n",
      "(15, 327)\n",
      "ghg.gid.site1968.dat\n",
      "292\n",
      "(15, 327)\n",
      "ghg.gid.site1731.dat\n",
      "293\n",
      "(15, 327)\n",
      "ghg.gid.site2901.dat\n",
      "294\n",
      "(15, 327)\n",
      "ghg.gid.site1796.dat\n",
      "295\n",
      "(15, 327)\n",
      "ghg.gid.site2159.dat\n",
      "296\n",
      "(15, 327)\n",
      "ghg.gid.site1629.dat\n",
      "297\n",
      "(15, 327)\n",
      "ghg.gid.site2529.dat\n",
      "298\n",
      "(15, 327)\n",
      "ghg.gid.site2772.dat\n",
      "299\n",
      "(15, 327)\n",
      "ghg.gid.site1681.dat\n",
      "300\n",
      "(15, 327)\n",
      "ghg.gid.site1631.dat\n",
      "301\n",
      "(15, 327)\n",
      "ghg.gid.site2802.dat\n",
      "302\n",
      "(15, 327)\n",
      "ghg.gid.site2587.dat\n",
      "303\n",
      "(15, 327)\n",
      "ghg.gid.site2237.dat\n",
      "304\n",
      "(15, 327)\n",
      "ghg.gid.site0358.dat\n",
      "305\n",
      "(15, 327)\n",
      "ghg.gid.site0655.dat\n",
      "306\n",
      "(15, 327)\n",
      "ghg.gid.site2632.dat\n",
      "307\n",
      "(15, 327)\n",
      "ghg.gid.site2287.dat\n",
      "308\n",
      "(15, 327)\n",
      "ghg.gid.site1376.dat\n",
      "309\n",
      "(15, 327)\n",
      "ghg.gid.site0132.dat\n",
      "310\n",
      "(15, 327)\n",
      "ghg.gid.site2712.dat\n",
      "311\n",
      "(15, 327)\n",
      "ghg.gid.site0767.dat\n",
      "312\n",
      "(15, 327)\n",
      "ghg.gid.site2300.dat\n",
      "313\n",
      "(15, 327)\n",
      "ghg.gid.site0884.dat\n",
      "314\n",
      "(15, 327)\n",
      "ghg.gid.site0479.dat\n",
      "315\n",
      "(15, 327)\n",
      "ghg.gid.site0163.dat\n",
      "316\n",
      "(15, 327)\n",
      "ghg.gid.site1124.dat\n",
      "317\n",
      "(15, 327)\n",
      "ghg.gid.site1708.dat\n",
      "318\n",
      "(15, 327)\n",
      "ghg.gid.site1100.dat\n",
      "319\n",
      "(15, 327)\n",
      "ghg.gid.site2005.dat\n",
      "320\n",
      "(15, 327)\n",
      "ghg.gid.site0632.dat\n",
      "321\n",
      "(15, 327)\n",
      "ghg.gid.site1623.dat\n",
      "322\n",
      "(15, 327)\n",
      "ghg.gid.site1252.dat\n",
      "323\n",
      "(15, 327)\n",
      "ghg.gid.site0078.dat\n",
      "324\n",
      "(15, 327)\n",
      "ghg.gid.site2886.dat\n",
      "325\n",
      "(15, 327)\n",
      "ghg.gid.site0406.dat\n",
      "326\n",
      "(15, 327)\n",
      "ghg.gid.site1096.dat\n",
      "327\n",
      "(15, 327)\n",
      "ghg.gid.site0332.dat\n",
      "328\n",
      "(15, 327)\n",
      "ghg.gid.site1399.dat\n",
      "329\n",
      "(15, 327)\n",
      "ghg.gid.site1842.dat\n",
      "330\n",
      "(15, 327)\n",
      "ghg.gid.site2081.dat\n",
      "331\n",
      "(15, 327)\n",
      "ghg.gid.site1557.dat\n",
      "332\n",
      "(15, 327)\n",
      "ghg.gid.site2547.dat\n",
      "333\n",
      "(15, 327)\n",
      "ghg.gid.site0198.dat\n",
      "334\n",
      "(15, 327)\n",
      "ghg.gid.site0902.dat\n",
      "335\n",
      "(15, 327)\n",
      "ghg.gid.site1750.dat\n",
      "336\n",
      "(15, 327)\n",
      "ghg.gid.site1101.dat\n",
      "337\n",
      "(15, 327)\n",
      "ghg.gid.site2435.dat\n",
      "338\n",
      "(15, 327)\n",
      "ghg.gid.site2022.dat\n",
      "339\n",
      "(15, 327)\n",
      "ghg.gid.site0017.dat\n",
      "340\n",
      "(15, 327)\n",
      "ghg.gid.site2731.dat\n",
      "341\n",
      "(15, 327)\n",
      "ghg.gid.site0239.dat\n",
      "342\n",
      "(15, 327)\n",
      "ghg.gid.site0789.dat\n",
      "343\n",
      "(15, 327)\n",
      "ghg.gid.site2449.dat\n",
      "344\n",
      "(15, 327)\n",
      "ghg.gid.site0240.dat\n",
      "345\n",
      "(15, 327)\n",
      "ghg.gid.site2157.dat\n",
      "346\n",
      "(15, 327)\n",
      "ghg.gid.site1157.dat\n",
      "347\n",
      "(15, 327)\n",
      "ghg.gid.site1938.dat\n",
      "348\n",
      "(15, 327)\n",
      "ghg.gid.site0483.dat\n",
      "349\n",
      "(15, 327)\n",
      "ghg.gid.site1478.dat\n",
      "350\n",
      "(15, 327)\n",
      "ghg.gid.site1791.dat\n",
      "351\n",
      "(15, 327)\n",
      "ghg.gid.site1185.dat\n",
      "352\n",
      "(15, 327)\n",
      "ghg.gid.site2376.dat\n",
      "353\n",
      "(15, 327)\n",
      "ghg.gid.site1375.dat\n",
      "354\n",
      "(15, 327)\n",
      "ghg.gid.site0827.dat\n",
      "355\n",
      "(15, 327)\n",
      "ghg.gid.site0248.dat\n",
      "356\n",
      "(15, 327)\n",
      "ghg.gid.site2864.dat\n",
      "357\n",
      "(15, 327)\n",
      "ghg.gid.site2364.dat\n",
      "358\n",
      "(15, 327)\n",
      "ghg.gid.site1075.dat\n",
      "359\n",
      "(15, 327)\n",
      "ghg.gid.site1782.dat\n",
      "360\n",
      "(15, 327)\n",
      "ghg.gid.site2917.dat\n",
      "361\n",
      "(15, 327)\n",
      "ghg.gid.site2738.dat\n",
      "362\n",
      "(15, 327)\n",
      "ghg.gid.site0383.dat\n",
      "363\n",
      "(15, 327)\n",
      "ghg.gid.site2218.dat\n",
      "364\n",
      "(15, 327)\n",
      "ghg.gid.site0220.dat\n",
      "365\n",
      "(15, 327)\n",
      "ghg.gid.site2833.dat\n",
      "366\n",
      "(15, 327)\n",
      "ghg.gid.site1844.dat\n",
      "367\n",
      "(15, 327)\n",
      "ghg.gid.site0046.dat\n",
      "368\n",
      "(15, 327)\n",
      "ghg.gid.site1649.dat\n",
      "369\n",
      "(15, 327)\n",
      "ghg.gid.site2730.dat\n",
      "370\n",
      "(15, 327)\n",
      "ghg.gid.site2015.dat\n",
      "371\n",
      "(15, 327)\n",
      "ghg.gid.site2751.dat\n",
      "372\n",
      "(15, 327)\n",
      "ghg.gid.site0290.dat\n",
      "373\n",
      "(15, 327)\n",
      "ghg.gid.site2516.dat\n",
      "374\n",
      "(15, 327)\n",
      "ghg.gid.site2665.dat\n",
      "375\n",
      "(15, 327)\n",
      "ghg.gid.site1308.dat\n",
      "376\n",
      "(15, 327)\n",
      "ghg.gid.site1307.dat\n",
      "377\n",
      "(15, 327)\n",
      "ghg.gid.site0154.dat\n",
      "378\n",
      "(15, 327)\n",
      "ghg.gid.site0404.dat\n",
      "379\n",
      "(15, 327)\n",
      "ghg.gid.site1316.dat\n",
      "380\n",
      "(15, 327)\n",
      "ghg.gid.site2875.dat\n",
      "381\n",
      "(15, 327)\n",
      "ghg.gid.site1041.dat\n",
      "382\n",
      "(15, 327)\n",
      "ghg.gid.site1010.dat\n",
      "383\n",
      "(15, 327)\n",
      "ghg.gid.site2353.dat\n",
      "384\n",
      "(15, 327)\n",
      "ghg.gid.site2634.dat\n",
      "385\n",
      "(15, 327)\n",
      "ghg.gid.site0924.dat\n",
      "386\n",
      "(15, 327)\n",
      "ghg.gid.site0865.dat\n",
      "387\n",
      "(15, 327)\n",
      "ghg.gid.site2004.dat\n",
      "388\n",
      "(15, 327)\n",
      "ghg.gid.site2793.dat\n",
      "389\n",
      "(15, 327)\n",
      "ghg.gid.site2099.dat\n",
      "390\n",
      "(15, 327)\n",
      "ghg.gid.site0338.dat\n",
      "391\n",
      "(15, 327)\n",
      "ghg.gid.site1992.dat\n",
      "392\n",
      "(15, 327)\n",
      "ghg.gid.site2904.dat\n",
      "393\n",
      "(15, 327)\n",
      "ghg.gid.site2452.dat\n",
      "394\n",
      "(15, 327)\n",
      "ghg.gid.site0764.dat\n",
      "395\n",
      "(15, 327)\n",
      "ghg.gid.site0367.dat\n",
      "396\n",
      "(15, 327)\n",
      "ghg.gid.site0151.dat\n",
      "397\n",
      "(15, 327)\n",
      "ghg.gid.site2110.dat\n",
      "398\n",
      "(15, 327)\n",
      "ghg.gid.site1609.dat\n",
      "399\n",
      "(15, 327)\n",
      "ghg.gid.site2570.dat\n",
      "400\n",
      "(15, 327)\n",
      "ghg.gid.site1179.dat\n",
      "401\n",
      "(15, 327)\n",
      "ghg.gid.site2381.dat\n",
      "402\n",
      "(15, 327)\n",
      "ghg.gid.site2230.dat\n",
      "403\n",
      "(15, 327)\n",
      "ghg.gid.site2129.dat\n",
      "404\n",
      "(15, 327)\n",
      "ghg.gid.site1175.dat\n",
      "405\n",
      "(15, 327)\n",
      "ghg.gid.site1919.dat\n",
      "406\n",
      "(15, 327)\n",
      "ghg.gid.site0056.dat\n",
      "407\n",
      "(15, 327)\n",
      "ghg.gid.site2661.dat\n",
      "408\n",
      "(15, 327)\n",
      "ghg.gid.site0762.dat\n",
      "409\n",
      "(15, 327)\n",
      "ghg.gid.site0701.dat\n",
      "410\n",
      "(15, 327)\n",
      "ghg.gid.site0187.dat\n",
      "411\n",
      "(15, 327)\n",
      "ghg.gid.site0920.dat\n",
      "412\n",
      "(15, 327)\n",
      "ghg.gid.site0990.dat\n",
      "413\n",
      "(15, 327)\n",
      "ghg.gid.site2399.dat\n",
      "414\n",
      "(15, 327)\n",
      "ghg.gid.site0598.dat\n",
      "415\n",
      "(15, 327)\n",
      "ghg.gid.site0806.dat\n",
      "416\n",
      "(15, 327)\n",
      "ghg.gid.site2530.dat\n",
      "417\n",
      "(15, 327)\n",
      "ghg.gid.site2899.dat\n",
      "418\n",
      "(15, 327)\n",
      "ghg.gid.site1321.dat\n",
      "419\n",
      "(15, 327)\n",
      "ghg.gid.site0980.dat\n",
      "420\n",
      "(15, 327)\n",
      "ghg.gid.site1311.dat\n",
      "421\n",
      "(15, 327)\n",
      "ghg.gid.site2397.dat\n",
      "422\n",
      "(15, 327)\n",
      "ghg.gid.site0469.dat\n",
      "423\n",
      "(15, 327)\n",
      "ghg.gid.site2736.dat\n",
      "424\n",
      "(15, 327)\n",
      "ghg.gid.site0415.dat\n",
      "425\n",
      "(15, 327)\n",
      "ghg.gid.site2258.dat\n",
      "426\n",
      "(15, 327)\n",
      "ghg.gid.site0512.dat\n",
      "427\n",
      "(15, 327)\n",
      "ghg.gid.site2425.dat\n",
      "428\n",
      "(15, 327)\n",
      "ghg.gid.site1673.dat\n",
      "429\n",
      "(15, 327)\n",
      "ghg.gid.site1860.dat\n",
      "430\n",
      "(15, 327)\n",
      "ghg.gid.site0390.dat\n",
      "431\n",
      "(15, 327)\n",
      "ghg.gid.site0743.dat\n",
      "432\n",
      "(15, 327)\n",
      "ghg.gid.site0273.dat\n",
      "433\n",
      "(15, 327)\n",
      "ghg.gid.site2210.dat\n",
      "434\n",
      "(15, 327)\n",
      "ghg.gid.site1007.dat\n",
      "435\n",
      "(15, 327)\n",
      "ghg.gid.site1064.dat\n",
      "436\n",
      "(15, 327)\n",
      "ghg.gid.site2334.dat\n",
      "437\n",
      "(15, 327)\n",
      "ghg.gid.site2143.dat\n",
      "438\n",
      "(15, 327)\n",
      "ghg.gid.site2628.dat\n",
      "439\n",
      "(15, 327)\n",
      "ghg.gid.site0977.dat\n",
      "440\n",
      "(15, 327)\n",
      "ghg.gid.site1999.dat\n",
      "441\n",
      "(15, 327)\n",
      "ghg.gid.site2266.dat\n",
      "442\n",
      "(15, 327)\n",
      "ghg.gid.site0916.dat\n",
      "443\n",
      "(15, 327)\n",
      "ghg.gid.site2310.dat\n",
      "444\n",
      "(15, 327)\n",
      "ghg.gid.site2324.dat\n",
      "445\n",
      "(15, 327)\n",
      "ghg.gid.site0539.dat\n",
      "446\n",
      "(15, 327)\n",
      "ghg.gid.site1356.dat\n",
      "447\n",
      "(15, 327)\n",
      "ghg.gid.site1762.dat\n",
      "448\n",
      "(15, 327)\n",
      "ghg.gid.site0911.dat\n",
      "449\n",
      "(15, 327)\n",
      "ghg.gid.site2558.dat\n",
      "450\n",
      "(15, 327)\n",
      "ghg.gid.site2716.dat\n",
      "451\n",
      "(15, 327)\n",
      "ghg.gid.site2696.dat\n",
      "452\n",
      "(15, 327)\n",
      "ghg.gid.site1519.dat\n",
      "453\n",
      "(15, 327)\n",
      "ghg.gid.site0032.dat\n",
      "454\n",
      "(15, 327)\n",
      "ghg.gid.site1982.dat\n",
      "455\n",
      "(15, 327)\n",
      "ghg.gid.site2566.dat\n",
      "456\n",
      "(15, 327)\n",
      "ghg.gid.site1718.dat\n",
      "457\n",
      "(15, 327)\n",
      "ghg.gid.site0984.dat\n",
      "458\n",
      "(15, 327)\n",
      "ghg.gid.site2024.dat\n",
      "459\n",
      "(15, 327)\n",
      "ghg.gid.site1624.dat\n",
      "460\n",
      "(15, 327)\n",
      "ghg.gid.site1849.dat\n",
      "461\n",
      "(15, 327)\n",
      "ghg.gid.site0218.dat\n",
      "462\n",
      "(15, 327)\n",
      "ghg.gid.site0471.dat\n",
      "463\n",
      "(15, 327)\n",
      "ghg.gid.site2186.dat\n",
      "464\n",
      "(15, 327)\n",
      "ghg.gid.site2869.dat\n",
      "465\n",
      "(15, 327)\n",
      "ghg.gid.site1066.dat\n",
      "466\n",
      "(15, 327)\n",
      "ghg.gid.site1912.dat\n",
      "467\n",
      "(15, 327)\n",
      "ghg.gid.site0244.dat\n",
      "468\n",
      "(15, 327)\n",
      "ghg.gid.site2621.dat\n",
      "469\n",
      "(15, 327)\n",
      "ghg.gid.site1291.dat\n",
      "470\n"
     ]
    },
    {
     "name": "stdout",
     "output_type": "stream",
     "text": [
      "(15, 327)\n",
      "ghg.gid.site2434.dat\n",
      "471\n",
      "(15, 327)\n",
      "ghg.gid.site1853.dat\n",
      "472\n",
      "(15, 327)\n",
      "ghg.gid.site2372.dat\n",
      "473\n",
      "(15, 327)\n",
      "ghg.gid.site2306.dat\n",
      "474\n",
      "(15, 327)\n",
      "ghg.gid.site0189.dat\n",
      "475\n",
      "(15, 327)\n",
      "ghg.gid.site1361.dat\n",
      "476\n",
      "(15, 327)\n",
      "ghg.gid.site1209.dat\n",
      "477\n",
      "(15, 327)\n",
      "ghg.gid.site0368.dat\n",
      "478\n",
      "(15, 327)\n",
      "ghg.gid.site1955.dat\n",
      "479\n",
      "(15, 327)\n",
      "ghg.gid.site0156.dat\n",
      "480\n",
      "(15, 327)\n",
      "ghg.gid.site2874.dat\n",
      "481\n",
      "(15, 327)\n",
      "ghg.gid.site1858.dat\n",
      "482\n",
      "(15, 327)\n",
      "ghg.gid.site1219.dat\n",
      "483\n",
      "(15, 327)\n",
      "ghg.gid.site2675.dat\n",
      "484\n",
      "(15, 327)\n",
      "ghg.gid.site0173.dat\n",
      "485\n",
      "(15, 327)\n",
      "ghg.gid.site1987.dat\n",
      "486\n",
      "(15, 327)\n",
      "ghg.gid.site0878.dat\n",
      "487\n",
      "(15, 327)\n",
      "ghg.gid.site1886.dat\n",
      "488\n",
      "(15, 327)\n",
      "ghg.gid.site1756.dat\n",
      "489\n",
      "(15, 327)\n",
      "ghg.gid.site0590.dat\n",
      "490\n",
      "(15, 327)\n",
      "ghg.gid.site1332.dat\n",
      "491\n",
      "(15, 327)\n",
      "ghg.gid.site2655.dat\n",
      "492\n",
      "(15, 327)\n",
      "ghg.gid.site1111.dat\n",
      "493\n",
      "(15, 327)\n",
      "ghg.gid.site2123.dat\n",
      "494\n",
      "(15, 327)\n",
      "ghg.gid.site1720.dat\n",
      "495\n",
      "(15, 327)\n",
      "ghg.gid.site1047.dat\n",
      "496\n",
      "(15, 327)\n",
      "ghg.gid.site0236.dat\n",
      "497\n",
      "(15, 327)\n",
      "ghg.gid.site2146.dat\n",
      "498\n",
      "(15, 327)\n",
      "ghg.gid.site2350.dat\n",
      "499\n",
      "(15, 327)\n",
      "ghg.gid.site0642.dat\n",
      "500\n",
      "(15, 327)\n",
      "ghg.gid.site1481.dat\n",
      "501\n",
      "(15, 327)\n",
      "ghg.gid.site0411.dat\n",
      "502\n",
      "(15, 327)\n",
      "ghg.gid.site0443.dat\n",
      "503\n",
      "(15, 327)\n",
      "ghg.gid.site1245.dat\n",
      "504\n",
      "(15, 327)\n",
      "ghg.gid.site1235.dat\n",
      "505\n",
      "(15, 327)\n",
      "ghg.gid.site1587.dat\n",
      "506\n",
      "(15, 327)\n",
      "ghg.gid.site0421.dat\n",
      "507\n",
      "(15, 327)\n",
      "ghg.gid.site0420.dat\n",
      "508\n",
      "(15, 327)\n",
      "ghg.gid.site2489.dat\n",
      "509\n",
      "(15, 327)\n",
      "ghg.gid.site1224.dat\n",
      "510\n",
      "(15, 327)\n",
      "ghg.gid.site1870.dat\n",
      "511\n",
      "(15, 327)\n",
      "ghg.gid.site0477.dat\n",
      "512\n",
      "(15, 327)\n",
      "ghg.gid.site2622.dat\n",
      "513\n",
      "(15, 327)\n",
      "ghg.gid.site1747.dat\n",
      "514\n",
      "(15, 327)\n",
      "ghg.gid.site1362.dat\n",
      "515\n",
      "(15, 327)\n",
      "ghg.gid.site2036.dat\n",
      "516\n",
      "(15, 327)\n",
      "ghg.gid.site0826.dat\n",
      "517\n",
      "(15, 327)\n",
      "ghg.gid.site1520.dat\n",
      "518\n",
      "(15, 327)\n",
      "ghg.gid.site0855.dat\n",
      "519\n",
      "(15, 327)\n",
      "ghg.gid.site0452.dat\n",
      "520\n",
      "(15, 327)\n",
      "ghg.gid.site0629.dat\n",
      "521\n",
      "(15, 327)\n",
      "ghg.gid.site2600.dat\n",
      "522\n",
      "(15, 327)\n",
      "ghg.gid.site1988.dat\n",
      "523\n",
      "(15, 327)\n",
      "ghg.gid.site0696.dat\n",
      "524\n",
      "(15, 327)\n",
      "ghg.gid.site2201.dat\n",
      "525\n",
      "(15, 327)\n",
      "ghg.gid.site2323.dat\n",
      "526\n",
      "(15, 327)\n",
      "ghg.gid.site2371.dat\n",
      "527\n",
      "(15, 327)\n",
      "ghg.gid.site1859.dat\n",
      "528\n",
      "(15, 327)\n",
      "ghg.gid.site1199.dat\n",
      "529\n",
      "(15, 327)\n",
      "ghg.gid.site1033.dat\n",
      "530\n",
      "(15, 327)\n",
      "ghg.gid.site0328.dat\n",
      "531\n",
      "(15, 327)\n",
      "ghg.gid.site1651.dat\n",
      "532\n",
      "(15, 327)\n",
      "ghg.gid.site2720.dat\n",
      "533\n",
      "(15, 327)\n",
      "ghg.gid.site1737.dat\n",
      "534\n",
      "(15, 327)\n",
      "ghg.gid.site1333.dat\n",
      "535\n",
      "(15, 327)\n",
      "ghg.gid.site2752.dat\n",
      "536\n",
      "(15, 327)\n",
      "ghg.gid.site2819.dat\n",
      "537\n",
      "(15, 327)\n",
      "ghg.gid.site2618.dat\n",
      "538\n",
      "(15, 327)\n",
      "ghg.gid.site2908.dat\n",
      "539\n",
      "(15, 327)\n",
      "ghg.gid.site1824.dat\n",
      "540\n",
      "(15, 327)\n",
      "ghg.gid.site0961.dat\n",
      "541\n",
      "(15, 327)\n",
      "ghg.gid.site0061.dat\n",
      "542\n",
      "(15, 327)\n",
      "ghg.gid.site0177.dat\n",
      "543\n",
      "(15, 327)\n",
      "ghg.gid.site1566.dat\n",
      "544\n",
      "(15, 327)\n",
      "ghg.gid.site1772.dat\n",
      "545\n",
      "(15, 327)\n",
      "ghg.gid.site2033.dat\n",
      "546\n",
      "(15, 327)\n",
      "ghg.gid.site2413.dat\n",
      "547\n",
      "(15, 327)\n",
      "ghg.gid.site1237.dat\n",
      "548\n",
      "(15, 327)\n",
      "ghg.gid.site0958.dat\n",
      "549\n",
      "(15, 327)\n",
      "ghg.gid.site2555.dat\n",
      "550\n",
      "(15, 327)\n",
      "ghg.gid.site1951.dat\n",
      "551\n",
      "(15, 327)\n",
      "ghg.gid.site1800.dat\n",
      "552\n",
      "(15, 327)\n",
      "ghg.gid.site1672.dat\n",
      "553\n",
      "(15, 327)\n",
      "ghg.gid.site0786.dat\n",
      "554\n",
      "(15, 327)\n",
      "ghg.gid.site0913.dat\n",
      "555\n",
      "(15, 327)\n",
      "ghg.gid.site1550.dat\n",
      "556\n",
      "(15, 327)\n",
      "ghg.gid.site2458.dat\n",
      "557\n",
      "(15, 327)\n",
      "ghg.gid.site1925.dat\n",
      "558\n",
      "(15, 327)\n",
      "ghg.gid.site0375.dat\n",
      "559\n",
      "(15, 327)\n",
      "ghg.gid.site2545.dat\n",
      "560\n",
      "(15, 327)\n",
      "ghg.gid.site0955.dat\n",
      "561\n",
      "(15, 327)\n",
      "ghg.gid.site1289.dat\n",
      "562\n",
      "(15, 327)\n",
      "ghg.gid.site2083.dat\n",
      "563\n",
      "(15, 327)\n",
      "ghg.gid.site2883.dat\n",
      "564\n",
      "(15, 327)\n",
      "ghg.gid.site1600.dat\n",
      "565\n",
      "(15, 327)\n",
      "ghg.gid.site0558.dat\n",
      "566\n",
      "(15, 327)\n",
      "ghg.gid.site0864.dat\n",
      "567\n",
      "(15, 327)\n",
      "ghg.gid.site2348.dat\n",
      "568\n",
      "(15, 327)\n",
      "ghg.gid.site1059.dat\n",
      "569\n",
      "(15, 327)\n",
      "ghg.gid.site0917.dat\n",
      "570\n",
      "(15, 327)\n",
      "ghg.gid.site1312.dat\n",
      "571\n",
      "(15, 327)\n",
      "ghg.gid.site0181.dat\n",
      "572\n",
      "(15, 327)\n",
      "ghg.gid.site0274.dat\n",
      "573\n",
      "(15, 327)\n",
      "ghg.gid.site0771.dat\n",
      "574\n",
      "(15, 327)\n",
      "ghg.gid.site0794.dat\n",
      "575\n",
      "(15, 327)\n",
      "ghg.gid.site1722.dat\n",
      "576\n",
      "(15, 327)\n",
      "ghg.gid.site2892.dat\n",
      "577\n",
      "(15, 327)\n",
      "ghg.gid.site2897.dat\n",
      "578\n",
      "(15, 327)\n",
      "ghg.gid.site0312.dat\n",
      "579\n",
      "(15, 327)\n",
      "ghg.gid.site2153.dat\n",
      "580\n",
      "(15, 327)\n",
      "ghg.gid.site1664.dat\n",
      "581\n",
      "(15, 327)\n",
      "ghg.gid.site1436.dat\n",
      "582\n",
      "(15, 327)\n",
      "ghg.gid.site1474.dat\n",
      "583\n",
      "(15, 327)\n",
      "ghg.gid.site1595.dat\n",
      "584\n",
      "(15, 327)\n",
      "ghg.gid.site1427.dat\n",
      "585\n",
      "(15, 327)\n",
      "ghg.gid.site1586.dat\n",
      "586\n",
      "(15, 327)\n",
      "ghg.gid.site1763.dat\n",
      "587\n",
      "(15, 327)\n",
      "ghg.gid.site0888.dat\n",
      "588\n",
      "(15, 327)\n",
      "ghg.gid.site0904.dat\n",
      "589\n",
      "(15, 327)\n",
      "ghg.gid.site1892.dat\n",
      "590\n",
      "(15, 327)\n",
      "ghg.gid.site0043.dat\n",
      "591\n",
      "(15, 327)\n",
      "ghg.gid.site0319.dat\n",
      "592\n",
      "(15, 327)\n",
      "ghg.gid.site2671.dat\n",
      "593\n",
      "(15, 327)\n",
      "ghg.gid.site1503.dat\n",
      "594\n",
      "(15, 327)\n",
      "ghg.gid.site2692.dat\n",
      "595\n",
      "(15, 327)\n",
      "ghg.gid.site0617.dat\n",
      "596\n",
      "(15, 327)\n",
      "ghg.gid.site0965.dat\n",
      "597\n",
      "(15, 327)\n",
      "ghg.gid.site1242.dat\n",
      "598\n",
      "(15, 327)\n",
      "ghg.gid.site2202.dat\n",
      "599\n",
      "(15, 327)\n",
      "ghg.gid.site0639.dat\n",
      "600\n",
      "(15, 327)\n",
      "ghg.gid.site2384.dat\n",
      "601\n",
      "(15, 327)\n",
      "ghg.gid.site1638.dat\n",
      "602\n",
      "(15, 327)\n",
      "ghg.gid.site2562.dat\n",
      "603\n",
      "(15, 327)\n",
      "ghg.gid.site0600.dat\n",
      "604\n",
      "(15, 327)\n",
      "ghg.gid.site0797.dat\n",
      "605\n",
      "(15, 327)\n",
      "ghg.gid.site1775.dat\n",
      "606\n",
      "(15, 327)\n",
      "ghg.gid.site1523.dat\n",
      "607\n",
      "(15, 327)\n",
      "ghg.gid.site0030.dat\n",
      "608\n",
      "(15, 327)\n",
      "ghg.gid.site2193.dat\n",
      "609\n",
      "(15, 327)\n",
      "ghg.gid.site0102.dat\n",
      "610\n",
      "(15, 327)\n",
      "ghg.gid.site1817.dat\n",
      "611\n",
      "(15, 327)\n",
      "ghg.gid.site0971.dat\n",
      "612\n",
      "(15, 327)\n",
      "ghg.gid.site1977.dat\n",
      "613\n",
      "(15, 327)\n",
      "ghg.gid.site1585.dat\n",
      "614\n",
      "(15, 327)\n",
      "ghg.gid.site2574.dat\n",
      "615\n",
      "(15, 327)\n",
      "ghg.gid.site1744.dat\n",
      "616\n",
      "(15, 327)\n",
      "ghg.gid.site2269.dat\n",
      "617\n",
      "(15, 327)\n",
      "ghg.gid.site1092.dat\n",
      "618\n",
      "(15, 327)\n",
      "ghg.gid.site2479.dat\n",
      "619\n",
      "(15, 327)\n",
      "ghg.gid.site2026.dat\n",
      "620\n",
      "(15, 327)\n",
      "ghg.gid.site0507.dat\n",
      "621\n",
      "(15, 327)\n",
      "ghg.gid.site2850.dat\n",
      "622\n",
      "(15, 327)\n",
      "ghg.gid.site2418.dat\n",
      "623\n",
      "(15, 327)\n",
      "ghg.gid.site2042.dat\n",
      "624\n",
      "(15, 327)\n",
      "ghg.gid.site2039.dat\n",
      "625\n",
      "(15, 327)\n",
      "ghg.gid.site1835.dat\n",
      "626\n",
      "(15, 327)\n",
      "ghg.gid.site0270.dat\n",
      "627\n",
      "(15, 327)\n",
      "ghg.gid.site1274.dat\n",
      "628\n",
      "(15, 327)\n",
      "ghg.gid.site2446.dat\n",
      "629\n",
      "(15, 327)\n",
      "ghg.gid.site1517.dat\n",
      "630\n",
      "(15, 327)\n",
      "ghg.gid.site2390.dat\n",
      "631\n",
      "(15, 327)\n",
      "ghg.gid.site0956.dat\n",
      "632\n",
      "(15, 327)\n",
      "ghg.gid.site0946.dat\n",
      "633\n",
      "(15, 327)\n",
      "ghg.gid.site1268.dat\n",
      "634\n",
      "(15, 327)\n",
      "ghg.gid.site0084.dat\n",
      "635\n",
      "(15, 327)\n",
      "ghg.gid.site2669.dat\n",
      "636\n",
      "(15, 327)\n",
      "ghg.gid.site1152.dat\n",
      "637\n",
      "(15, 327)\n",
      "ghg.gid.site1358.dat\n",
      "638\n",
      "(15, 327)\n",
      "ghg.gid.site1006.dat\n",
      "639\n",
      "(15, 327)\n",
      "ghg.gid.site0653.dat\n",
      "640\n",
      "(15, 327)\n",
      "ghg.gid.site2278.dat\n",
      "641\n",
      "(15, 327)\n",
      "ghg.gid.site1735.dat\n",
      "642\n",
      "(15, 327)\n",
      "ghg.gid.site0652.dat\n",
      "643\n",
      "(15, 327)\n",
      "ghg.gid.site2463.dat\n",
      "644\n",
      "(15, 327)\n",
      "ghg.gid.site2845.dat\n",
      "645\n",
      "(15, 327)\n",
      "ghg.gid.site2347.dat\n",
      "646\n",
      "(15, 327)\n",
      "ghg.gid.site0592.dat\n",
      "647\n",
      "(15, 327)\n",
      "ghg.gid.site2471.dat\n",
      "648\n",
      "(15, 327)\n",
      "ghg.gid.site0486.dat\n",
      "649\n",
      "(15, 327)\n",
      "ghg.gid.site1038.dat\n",
      "650\n",
      "(15, 327)\n",
      "ghg.gid.site2646.dat\n",
      "651\n",
      "(15, 327)\n",
      "ghg.gid.site2285.dat\n",
      "652\n",
      "(15, 327)\n",
      "ghg.gid.site1303.dat\n",
      "653\n",
      "(15, 327)\n",
      "ghg.gid.site1429.dat\n",
      "654\n",
      "(15, 327)\n",
      "ghg.gid.site1807.dat\n",
      "655\n",
      "(15, 327)\n",
      "ghg.gid.site2896.dat\n",
      "656\n",
      "(15, 327)\n",
      "ghg.gid.site2583.dat\n",
      "657\n",
      "(15, 327)\n",
      "ghg.gid.site1246.dat\n",
      "658\n",
      "(15, 327)\n",
      "ghg.gid.site2251.dat\n",
      "659\n",
      "(15, 327)\n",
      "ghg.gid.site2349.dat\n",
      "660\n",
      "(15, 327)\n",
      "ghg.gid.site1216.dat\n",
      "661\n",
      "(15, 327)\n",
      "ghg.gid.site1266.dat\n",
      "662\n",
      "(15, 327)\n",
      "ghg.gid.site2638.dat\n",
      "663\n",
      "(15, 327)\n",
      "ghg.gid.site2049.dat\n",
      "664\n",
      "(15, 327)\n",
      "ghg.gid.site0188.dat\n",
      "665\n",
      "(15, 327)\n",
      "ghg.gid.site0403.dat\n",
      "666\n",
      "(15, 327)\n",
      "ghg.gid.site1778.dat\n",
      "667\n",
      "(15, 327)\n",
      "ghg.gid.site0800.dat\n",
      "668\n",
      "(15, 327)\n",
      "ghg.gid.site1076.dat\n",
      "669\n",
      "(15, 327)\n",
      "ghg.gid.site1904.dat\n",
      "670\n",
      "(15, 327)\n",
      "ghg.gid.site1125.dat\n",
      "671\n",
      "(15, 327)\n",
      "ghg.gid.site2169.dat\n",
      "672\n",
      "(15, 327)\n",
      "ghg.gid.site1516.dat\n",
      "673\n",
      "(15, 327)\n",
      "ghg.gid.site2104.dat\n",
      "674\n",
      "(15, 327)\n",
      "ghg.gid.site0442.dat\n",
      "675\n",
      "(15, 327)\n",
      "ghg.gid.site0191.dat\n",
      "676\n",
      "(15, 327)\n",
      "ghg.gid.site1707.dat\n",
      "677\n",
      "(15, 327)\n",
      "ghg.gid.site0376.dat\n",
      "678\n",
      "(15, 327)\n",
      "ghg.gid.site0915.dat\n",
      "679\n",
      "(15, 327)\n",
      "ghg.gid.site1669.dat\n",
      "680\n",
      "(15, 327)\n",
      "ghg.gid.site0127.dat\n",
      "681\n",
      "(15, 327)\n",
      "ghg.gid.site1159.dat\n",
      "682\n",
      "(15, 327)\n",
      "ghg.gid.site0818.dat\n",
      "683\n",
      "(15, 327)\n",
      "ghg.gid.site1305.dat\n",
      "684\n",
      "(15, 327)\n",
      "ghg.gid.site1446.dat\n",
      "685\n",
      "(15, 327)\n",
      "ghg.gid.site2742.dat\n",
      "686\n",
      "(15, 327)\n",
      "ghg.gid.site2200.dat\n",
      "687\n",
      "(15, 327)\n",
      "ghg.gid.site2795.dat\n",
      "688\n",
      "(15, 327)\n",
      "ghg.gid.site2497.dat\n",
      "689\n",
      "(15, 327)\n",
      "ghg.gid.site0571.dat\n",
      "690\n",
      "(15, 327)\n",
      "ghg.gid.site0890.dat\n",
      "691\n",
      "(15, 327)\n",
      "ghg.gid.site2674.dat\n",
      "692\n",
      "(15, 327)\n",
      "ghg.gid.site0849.dat\n",
      "693\n",
      "(15, 327)\n",
      "ghg.gid.site2482.dat\n",
      "694\n",
      "(15, 327)\n",
      "ghg.gid.site2420.dat\n",
      "695\n",
      "(15, 327)\n",
      "ghg.gid.site2687.dat\n",
      "696\n",
      "(15, 327)\n",
      "ghg.gid.site0134.dat\n",
      "697\n",
      "(15, 327)\n",
      "ghg.gid.site2078.dat\n",
      "698\n",
      "(15, 327)\n",
      "ghg.gid.site1256.dat\n",
      "699\n",
      "(15, 327)\n",
      "ghg.gid.site2255.dat\n",
      "700\n",
      "(15, 327)\n",
      "ghg.gid.site1946.dat\n",
      "701\n",
      "(15, 327)\n",
      "ghg.gid.site2564.dat\n",
      "702\n",
      "(15, 327)\n",
      "ghg.gid.site0335.dat\n",
      "703\n",
      "(15, 327)\n",
      "ghg.gid.site2829.dat\n",
      "704\n",
      "(15, 327)\n",
      "ghg.gid.site1123.dat\n",
      "705\n",
      "(15, 327)\n",
      "ghg.gid.site2887.dat\n",
      "706\n",
      "(15, 327)\n",
      "ghg.gid.site2046.dat\n",
      "707\n",
      "(15, 327)\n",
      "ghg.gid.site1823.dat\n",
      "708\n",
      "(15, 327)\n",
      "ghg.gid.site1888.dat\n",
      "709\n"
     ]
    },
    {
     "name": "stdout",
     "output_type": "stream",
     "text": [
      "(15, 327)\n",
      "ghg.gid.site1475.dat\n",
      "710\n",
      "(15, 327)\n",
      "ghg.gid.site0230.dat\n",
      "711\n",
      "(15, 327)\n",
      "ghg.gid.site1825.dat\n",
      "712\n",
      "(15, 327)\n",
      "ghg.gid.site2253.dat\n",
      "713\n",
      "(15, 327)\n",
      "ghg.gid.site0685.dat\n",
      "714\n",
      "(15, 327)\n",
      "ghg.gid.site1105.dat\n",
      "715\n",
      "(15, 327)\n",
      "ghg.gid.site0446.dat\n",
      "716\n",
      "(15, 327)\n",
      "ghg.gid.site0755.dat\n",
      "717\n",
      "(15, 327)\n",
      "ghg.gid.site1564.dat\n",
      "718\n",
      "(15, 327)\n",
      "ghg.gid.site0482.dat\n",
      "719\n",
      "(15, 327)\n",
      "ghg.gid.site1472.dat\n",
      "720\n",
      "(15, 327)\n",
      "ghg.gid.site0909.dat\n",
      "721\n",
      "(15, 327)\n",
      "ghg.gid.site2706.dat\n",
      "722\n",
      "(15, 327)\n",
      "ghg.gid.site1962.dat\n",
      "723\n",
      "(15, 327)\n",
      "ghg.gid.site0498.dat\n",
      "724\n",
      "(15, 327)\n",
      "ghg.gid.site1677.dat\n",
      "725\n",
      "(15, 327)\n",
      "ghg.gid.site2013.dat\n",
      "726\n",
      "(15, 327)\n",
      "ghg.gid.site0528.dat\n",
      "727\n",
      "(15, 327)\n",
      "ghg.gid.site1391.dat\n",
      "728\n",
      "(15, 327)\n",
      "ghg.gid.site0401.dat\n",
      "729\n",
      "(15, 327)\n",
      "ghg.gid.site0253.dat\n",
      "730\n",
      "(15, 327)\n",
      "ghg.gid.site0646.dat\n",
      "731\n",
      "(15, 327)\n",
      "ghg.gid.site2346.dat\n",
      "732\n",
      "(15, 327)\n",
      "ghg.gid.site1261.dat\n",
      "733\n",
      "(15, 327)\n",
      "ghg.gid.site0461.dat\n",
      "734\n",
      "(15, 327)\n",
      "ghg.gid.site2565.dat\n",
      "735\n",
      "(15, 327)\n",
      "ghg.gid.site0581.dat\n",
      "736\n",
      "(15, 327)\n",
      "ghg.gid.site2428.dat\n",
      "737\n",
      "(15, 327)\n",
      "ghg.gid.site1717.dat\n",
      "738\n",
      "(15, 327)\n",
      "ghg.gid.site0126.dat\n",
      "739\n",
      "(15, 327)\n",
      "ghg.gid.site0989.dat\n",
      "740\n",
      "(15, 327)\n",
      "ghg.gid.site2077.dat\n",
      "741\n",
      "(15, 327)\n",
      "ghg.gid.site2909.dat\n",
      "742\n",
      "(15, 327)\n",
      "ghg.gid.site2198.dat\n",
      "743\n",
      "(15, 327)\n",
      "ghg.gid.site2642.dat\n",
      "744\n",
      "(15, 327)\n",
      "ghg.gid.site1812.dat\n",
      "745\n",
      "(15, 327)\n",
      "ghg.gid.site2704.dat\n",
      "746\n",
      "(15, 327)\n",
      "ghg.gid.site0311.dat\n",
      "747\n",
      "(15, 327)\n",
      "ghg.gid.site1140.dat\n",
      "748\n",
      "(15, 327)\n",
      "ghg.gid.site0224.dat\n",
      "749\n",
      "(15, 327)\n",
      "ghg.gid.site0981.dat\n",
      "750\n",
      "(15, 327)\n",
      "ghg.gid.site1619.dat\n",
      "751\n",
      "(15, 327)\n",
      "ghg.gid.site0195.dat\n",
      "752\n",
      "(15, 327)\n",
      "ghg.gid.site2151.dat\n",
      "753\n",
      "(15, 327)\n",
      "ghg.gid.site0840.dat\n",
      "754\n",
      "(15, 327)\n",
      "ghg.gid.site2336.dat\n",
      "755\n",
      "(15, 327)\n",
      "ghg.gid.site2823.dat\n",
      "756\n",
      "(15, 327)\n",
      "ghg.gid.site1364.dat\n",
      "757\n",
      "(15, 327)\n",
      "ghg.gid.site0354.dat\n",
      "758\n",
      "(15, 327)\n",
      "ghg.gid.site0090.dat\n",
      "759\n",
      "(15, 327)\n",
      "ghg.gid.site0910.dat\n",
      "760\n",
      "(15, 327)\n",
      "ghg.gid.site0545.dat\n",
      "761\n",
      "(15, 327)\n",
      "ghg.gid.site1764.dat\n",
      "762\n",
      "(15, 327)\n",
      "ghg.gid.site2012.dat\n",
      "763\n",
      "(15, 327)\n",
      "ghg.gid.site1702.dat\n",
      "764\n",
      "(15, 327)\n",
      "ghg.gid.site1789.dat\n",
      "765\n",
      "(15, 327)\n",
      "ghg.gid.site1869.dat\n",
      "766\n",
      "(15, 327)\n",
      "ghg.gid.site0660.dat\n",
      "767\n",
      "(15, 327)\n",
      "ghg.gid.site1795.dat\n",
      "768\n",
      "(15, 327)\n",
      "ghg.gid.site2694.dat\n",
      "769\n",
      "(15, 327)\n",
      "ghg.gid.site1207.dat\n",
      "770\n",
      "(15, 327)\n",
      "ghg.gid.site0796.dat\n",
      "771\n",
      "(15, 327)\n",
      "ghg.gid.site2450.dat\n",
      "772\n",
      "(15, 327)\n",
      "ghg.gid.site0894.dat\n",
      "773\n",
      "(15, 327)\n",
      "ghg.gid.site1602.dat\n",
      "774\n",
      "(15, 327)\n",
      "ghg.gid.site1444.dat\n",
      "775\n",
      "(15, 327)\n",
      "ghg.gid.site1724.dat\n",
      "776\n",
      "(15, 327)\n",
      "ghg.gid.site2175.dat\n",
      "777\n",
      "(15, 327)\n",
      "ghg.gid.site2147.dat\n",
      "778\n",
      "(15, 327)\n",
      "ghg.gid.site1022.dat\n",
      "779\n",
      "(15, 327)\n",
      "ghg.gid.site1461.dat\n",
      "780\n",
      "(15, 327)\n",
      "ghg.gid.site1617.dat\n",
      "781\n",
      "(15, 327)\n",
      "ghg.gid.site2409.dat\n",
      "782\n",
      "(15, 327)\n",
      "ghg.gid.site2341.dat\n",
      "783\n",
      "(15, 327)\n",
      "ghg.gid.site0397.dat\n",
      "784\n",
      "(15, 327)\n",
      "ghg.gid.site1393.dat\n",
      "785\n",
      "(15, 327)\n",
      "ghg.gid.site1460.dat\n",
      "786\n",
      "(15, 327)\n",
      "ghg.gid.site1539.dat\n",
      "787\n",
      "(15, 327)\n",
      "ghg.gid.site2630.dat\n",
      "788\n",
      "(15, 327)\n",
      "ghg.gid.site2019.dat\n",
      "789\n",
      "(15, 327)\n",
      "ghg.gid.site0229.dat\n",
      "790\n",
      "(15, 327)\n",
      "ghg.gid.site1667.dat\n",
      "791\n",
      "(15, 327)\n",
      "ghg.gid.site2396.dat\n",
      "792\n",
      "(15, 327)\n",
      "ghg.gid.site0738.dat\n",
      "793\n",
      "(15, 327)\n",
      "ghg.gid.site0677.dat\n",
      "794\n",
      "(15, 327)\n",
      "ghg.gid.site2619.dat\n",
      "795\n",
      "(15, 327)\n",
      "ghg.gid.site0908.dat\n",
      "796\n",
      "(15, 327)\n",
      "ghg.gid.site1203.dat\n",
      "797\n",
      "(15, 327)\n",
      "ghg.gid.site1834.dat\n",
      "798\n",
      "(15, 327)\n",
      "ghg.gid.site1857.dat\n",
      "799\n",
      "(15, 327)\n",
      "ghg.gid.site2536.dat\n",
      "800\n",
      "(15, 327)\n",
      "ghg.gid.site2903.dat\n",
      "801\n",
      "(15, 327)\n",
      "ghg.gid.site2401.dat\n",
      "802\n",
      "(15, 327)\n",
      "ghg.gid.site0272.dat\n",
      "803\n",
      "(15, 327)\n",
      "ghg.gid.site0067.dat\n",
      "804\n",
      "(15, 327)\n",
      "ghg.gid.site1814.dat\n",
      "805\n",
      "(15, 327)\n",
      "ghg.gid.site1715.dat\n",
      "806\n",
      "(15, 327)\n",
      "ghg.gid.site0106.dat\n",
      "807\n",
      "(15, 327)\n",
      "ghg.gid.site2484.dat\n",
      "808\n",
      "(15, 327)\n",
      "ghg.gid.site1325.dat\n",
      "809\n",
      "(15, 327)\n",
      "ghg.gid.site2214.dat\n",
      "810\n",
      "(15, 327)\n",
      "ghg.gid.site2488.dat\n",
      "811\n",
      "(15, 327)\n",
      "ghg.gid.site0083.dat\n",
      "812\n",
      "(15, 327)\n",
      "ghg.gid.site0503.dat\n",
      "813\n",
      "(15, 327)\n",
      "ghg.gid.site0169.dat\n",
      "814\n",
      "(15, 327)\n",
      "ghg.gid.site2030.dat\n",
      "815\n",
      "(15, 327)\n",
      "ghg.gid.site1792.dat\n",
      "816\n",
      "(15, 327)\n",
      "ghg.gid.site0053.dat\n",
      "817\n",
      "(15, 327)\n",
      "ghg.gid.site1121.dat\n",
      "818\n",
      "(15, 327)\n",
      "ghg.gid.site1104.dat\n",
      "819\n",
      "(15, 327)\n",
      "ghg.gid.site1757.dat\n",
      "820\n",
      "(15, 327)\n",
      "ghg.gid.site0281.dat\n",
      "821\n",
      "(15, 327)\n",
      "ghg.gid.site0513.dat\n",
      "822\n",
      "(15, 327)\n",
      "ghg.gid.site1682.dat\n",
      "823\n",
      "(15, 327)\n",
      "ghg.gid.site2379.dat\n",
      "824\n",
      "(15, 327)\n",
      "ghg.gid.site0344.dat\n",
      "825\n",
      "(15, 327)\n",
      "ghg.gid.site1239.dat\n",
      "826\n",
      "(15, 327)\n",
      "ghg.gid.site1070.dat\n",
      "827\n",
      "(15, 327)\n",
      "ghg.gid.site1178.dat\n",
      "828\n",
      "(15, 327)\n",
      "ghg.gid.site0634.dat\n",
      "829\n",
      "(15, 327)\n",
      "ghg.gid.site0277.dat\n",
      "830\n",
      "(15, 327)\n",
      "ghg.gid.site2432.dat\n",
      "831\n",
      "(15, 327)\n",
      "ghg.gid.site0870.dat\n",
      "832\n",
      "(15, 327)\n",
      "ghg.gid.site2658.dat\n",
      "833\n",
      "(15, 327)\n",
      "ghg.gid.site2362.dat\n",
      "834\n",
      "(15, 327)\n",
      "ghg.gid.site1897.dat\n",
      "835\n",
      "(15, 327)\n",
      "ghg.gid.site2162.dat\n",
      "836\n",
      "(15, 327)\n",
      "ghg.gid.site0861.dat\n",
      "837\n",
      "(15, 327)\n",
      "ghg.gid.site1035.dat\n",
      "838\n",
      "(15, 327)\n",
      "ghg.gid.site1940.dat\n",
      "839\n",
      "(15, 327)\n",
      "ghg.gid.site2657.dat\n",
      "840\n",
      "(15, 327)\n",
      "ghg.gid.site2183.dat\n",
      "841\n",
      "(15, 327)\n",
      "ghg.gid.site1012.dat\n",
      "842\n",
      "(15, 327)\n",
      "ghg.gid.site0967.dat\n",
      "843\n",
      "(15, 327)\n",
      "ghg.gid.site1582.dat\n",
      "844\n",
      "(15, 327)\n",
      "ghg.gid.site1670.dat\n",
      "845\n",
      "(15, 327)\n",
      "ghg.gid.site1513.dat\n",
      "846\n",
      "(15, 327)\n",
      "ghg.gid.site0352.dat\n",
      "847\n",
      "(15, 327)\n",
      "ghg.gid.site1469.dat\n",
      "848\n",
      "(15, 327)\n",
      "ghg.gid.site2506.dat\n",
      "849\n",
      "(15, 327)\n",
      "ghg.gid.site2515.dat\n",
      "850\n",
      "(15, 327)\n",
      "ghg.gid.site1528.dat\n",
      "851\n",
      "(15, 327)\n",
      "ghg.gid.site2249.dat\n",
      "852\n",
      "(15, 327)\n",
      "ghg.gid.site1441.dat\n",
      "853\n",
      "(15, 327)\n",
      "ghg.gid.site2197.dat\n",
      "854\n",
      "(15, 327)\n",
      "ghg.gid.site1947.dat\n",
      "855\n",
      "(15, 327)\n",
      "ghg.gid.site0667.dat\n",
      "856\n",
      "(15, 327)\n",
      "ghg.gid.site2440.dat\n",
      "857\n",
      "(15, 327)\n",
      "ghg.gid.site1457.dat\n",
      "858\n",
      "(15, 327)\n",
      "ghg.gid.site0841.dat\n",
      "859\n",
      "(15, 327)\n",
      "ghg.gid.site1640.dat\n",
      "860\n",
      "(15, 327)\n",
      "ghg.gid.site0763.dat\n",
      "861\n",
      "(15, 327)\n",
      "ghg.gid.site0167.dat\n",
      "862\n",
      "(15, 327)\n",
      "ghg.gid.site1414.dat\n",
      "863\n",
      "(15, 327)\n",
      "ghg.gid.site0959.dat\n",
      "864\n",
      "(15, 327)\n",
      "ghg.gid.site1976.dat\n",
      "865\n",
      "(15, 327)\n",
      "ghg.gid.site2011.dat\n",
      "866\n",
      "(15, 327)\n",
      "ghg.gid.site0474.dat\n",
      "867\n",
      "(15, 327)\n",
      "ghg.gid.site2203.dat\n",
      "868\n",
      "(15, 327)\n",
      "ghg.gid.site1498.dat\n",
      "869\n",
      "(15, 327)\n",
      "ghg.gid.site0616.dat\n",
      "870\n",
      "(15, 327)\n",
      "ghg.gid.site1505.dat\n",
      "871\n",
      "(15, 327)\n",
      "ghg.gid.site1986.dat\n",
      "872\n",
      "(15, 327)\n",
      "ghg.gid.site1683.dat\n",
      "873\n",
      "(15, 327)\n",
      "ghg.gid.site2697.dat\n",
      "874\n",
      "(15, 327)\n",
      "ghg.gid.site0816.dat\n",
      "875\n",
      "(15, 327)\n",
      "ghg.gid.site2330.dat\n",
      "876\n",
      "(15, 327)\n",
      "ghg.gid.site1227.dat\n",
      "877\n",
      "(15, 327)\n",
      "ghg.gid.site0217.dat\n",
      "878\n",
      "(15, 327)\n",
      "ghg.gid.site1827.dat\n",
      "879\n",
      "(15, 327)\n",
      "ghg.gid.site0317.dat\n",
      "880\n",
      "(15, 327)\n",
      "ghg.gid.site1087.dat\n",
      "881\n",
      "(15, 327)\n",
      "ghg.gid.site1779.dat\n",
      "882\n",
      "(15, 327)\n",
      "ghg.gid.site0098.dat\n",
      "883\n",
      "(15, 327)\n",
      "ghg.gid.site1991.dat\n",
      "884\n",
      "(15, 327)\n",
      "ghg.gid.site2595.dat\n",
      "885\n",
      "(15, 327)\n",
      "ghg.gid.site2727.dat\n",
      "886\n",
      "(15, 327)\n",
      "ghg.gid.site2429.dat\n",
      "887\n",
      "(15, 327)\n",
      "ghg.gid.site1596.dat\n",
      "888\n",
      "(15, 327)\n",
      "ghg.gid.site0812.dat\n",
      "889\n",
      "(15, 327)\n",
      "ghg.gid.site1093.dat\n",
      "890\n",
      "(15, 327)\n",
      "ghg.gid.site0025.dat\n",
      "891\n",
      "(15, 327)\n",
      "ghg.gid.site2504.dat\n",
      "892\n",
      "(15, 327)\n",
      "ghg.gid.site1218.dat\n",
      "893\n",
      "(15, 327)\n",
      "ghg.gid.site0643.dat\n",
      "894\n",
      "(15, 327)\n",
      "ghg.gid.site0999.dat\n",
      "895\n",
      "(15, 327)\n",
      "ghg.gid.site1370.dat\n",
      "896\n",
      "(15, 327)\n",
      "ghg.gid.site2247.dat\n",
      "897\n",
      "(15, 327)\n",
      "ghg.gid.site2338.dat\n",
      "898\n",
      "(15, 327)\n",
      "ghg.gid.site2777.dat\n",
      "899\n",
      "(15, 327)\n",
      "ghg.gid.site0185.dat\n",
      "900\n",
      "(15, 327)\n",
      "ghg.gid.site0370.dat\n",
      "901\n",
      "(15, 327)\n",
      "ghg.gid.site0204.dat\n",
      "902\n",
      "(15, 327)\n",
      "ghg.gid.site0843.dat\n",
      "903\n",
      "(15, 327)\n",
      "ghg.gid.site0413.dat\n",
      "904\n",
      "(15, 327)\n",
      "ghg.gid.site1418.dat\n",
      "905\n",
      "(15, 327)\n",
      "ghg.gid.site2804.dat\n",
      "906\n",
      "(15, 327)\n",
      "ghg.gid.site1081.dat\n",
      "907\n",
      "(15, 327)\n",
      "ghg.gid.site0052.dat\n",
      "908\n",
      "(15, 327)\n",
      "ghg.gid.site1452.dat\n",
      "909\n",
      "(15, 327)\n",
      "ghg.gid.site1751.dat\n",
      "910\n",
      "(15, 327)\n",
      "ghg.gid.site1685.dat\n",
      "911\n",
      "(15, 327)\n",
      "ghg.gid.site0076.dat\n",
      "912\n",
      "(15, 327)\n",
      "ghg.gid.site0879.dat\n",
      "913\n",
      "(15, 327)\n",
      "ghg.gid.site0526.dat\n",
      "914\n",
      "(15, 327)\n",
      "ghg.gid.site1410.dat\n",
      "915\n",
      "(15, 327)\n",
      "ghg.gid.site0435.dat\n",
      "916\n",
      "(15, 327)\n",
      "ghg.gid.site2388.dat\n",
      "917\n",
      "(15, 327)\n",
      "ghg.gid.site2301.dat\n",
      "918\n",
      "(15, 327)\n",
      "ghg.gid.site2594.dat\n",
      "919\n",
      "(15, 327)\n",
      "ghg.gid.site1736.dat\n",
      "920\n",
      "(15, 327)\n",
      "ghg.gid.site1884.dat\n",
      "921\n",
      "(15, 327)\n",
      "ghg.gid.site0637.dat\n",
      "922\n",
      "(15, 327)\n",
      "ghg.gid.site1931.dat\n",
      "923\n",
      "(15, 327)\n",
      "ghg.gid.site0862.dat\n",
      "924\n",
      "(15, 327)\n",
      "ghg.gid.site2599.dat\n",
      "925\n",
      "(15, 327)\n",
      "ghg.gid.site2919.dat\n",
      "926\n",
      "(15, 327)\n",
      "ghg.gid.site1255.dat\n",
      "927\n",
      "(15, 327)\n",
      "ghg.gid.site0898.dat\n",
      "928\n",
      "(15, 327)\n",
      "ghg.gid.site1243.dat\n",
      "929\n",
      "(15, 327)\n",
      "ghg.gid.site0342.dat\n",
      "930\n",
      "(15, 327)\n",
      "ghg.gid.site0326.dat\n",
      "931\n",
      "(15, 327)\n",
      "ghg.gid.site0428.dat\n",
      "932\n",
      "(15, 327)\n",
      "ghg.gid.site1383.dat\n",
      "933\n",
      "(15, 327)\n",
      "ghg.gid.site0519.dat\n",
      "934\n",
      "(15, 327)\n",
      "ghg.gid.site2220.dat\n",
      "935\n",
      "(15, 327)\n",
      "ghg.gid.site0382.dat\n",
      "936\n",
      "(15, 327)\n",
      "ghg.gid.site1560.dat\n",
      "937\n",
      "(15, 327)\n",
      "ghg.gid.site2290.dat\n",
      "938\n",
      "(15, 327)\n",
      "ghg.gid.site1544.dat\n",
      "939\n",
      "(15, 327)\n",
      "ghg.gid.site1985.dat\n",
      "940\n",
      "(15, 327)\n",
      "ghg.gid.site0186.dat\n",
      "941\n",
      "(15, 327)\n",
      "ghg.gid.site2572.dat\n",
      "942\n",
      "(15, 327)\n",
      "ghg.gid.site0540.dat\n",
      "943\n",
      "(15, 327)\n",
      "ghg.gid.site0265.dat\n",
      "944\n",
      "(15, 327)\n",
      "ghg.gid.site2010.dat\n",
      "945\n"
     ]
    },
    {
     "name": "stdout",
     "output_type": "stream",
     "text": [
      "(15, 327)\n",
      "ghg.gid.site0117.dat\n",
      "946\n",
      "(15, 327)\n",
      "ghg.gid.site2221.dat\n",
      "947\n",
      "(15, 327)\n",
      "ghg.gid.site0175.dat\n",
      "948\n",
      "(15, 327)\n",
      "ghg.gid.site0833.dat\n",
      "949\n",
      "(15, 327)\n",
      "ghg.gid.site1143.dat\n",
      "950\n",
      "(15, 327)\n",
      "ghg.gid.site1646.dat\n",
      "951\n",
      "(15, 327)\n",
      "ghg.gid.site0678.dat\n",
      "952\n",
      "(15, 327)\n",
      "ghg.gid.site1378.dat\n",
      "953\n",
      "(15, 327)\n",
      "ghg.gid.site0746.dat\n",
      "954\n",
      "(15, 327)\n",
      "ghg.gid.site0473.dat\n",
      "955\n",
      "(15, 327)\n",
      "ghg.gid.site0094.dat\n",
      "956\n",
      "(15, 327)\n",
      "ghg.gid.site1588.dat\n",
      "957\n",
      "(15, 327)\n",
      "ghg.gid.site1861.dat\n",
      "958\n",
      "(15, 327)\n",
      "ghg.gid.site2239.dat\n",
      "959\n",
      "(15, 327)\n",
      "ghg.gid.site0150.dat\n",
      "960\n",
      "(15, 327)\n",
      "ghg.gid.site2783.dat\n",
      "961\n",
      "(15, 327)\n",
      "ghg.gid.site2792.dat\n",
      "962\n",
      "(15, 327)\n",
      "ghg.gid.site2029.dat\n",
      "963\n",
      "(15, 327)\n",
      "ghg.gid.site0574.dat\n",
      "964\n",
      "(15, 327)\n",
      "ghg.gid.site2502.dat\n",
      "965\n",
      "(15, 327)\n",
      "ghg.gid.site2664.dat\n",
      "966\n",
      "(15, 327)\n",
      "ghg.gid.site0110.dat\n",
      "967\n",
      "(15, 327)\n",
      "ghg.gid.site2512.dat\n",
      "968\n",
      "(15, 327)\n",
      "ghg.gid.site2746.dat\n",
      "969\n",
      "(15, 327)\n",
      "ghg.gid.site1263.dat\n",
      "970\n",
      "(15, 327)\n",
      "ghg.gid.site1430.dat\n",
      "971\n",
      "(15, 327)\n",
      "ghg.gid.site0140.dat\n",
      "972\n",
      "(15, 327)\n",
      "ghg.gid.site0522.dat\n",
      "973\n",
      "(15, 327)\n",
      "ghg.gid.site0766.dat\n",
      "974\n",
      "(15, 327)\n",
      "ghg.gid.site1865.dat\n",
      "975\n",
      "(15, 327)\n",
      "ghg.gid.site1496.dat\n",
      "976\n",
      "(15, 327)\n",
      "ghg.gid.site2040.dat\n",
      "977\n",
      "(15, 327)\n",
      "ghg.gid.site2235.dat\n",
      "978\n",
      "(15, 327)\n",
      "ghg.gid.site0045.dat\n",
      "979\n",
      "(15, 327)\n",
      "ghg.gid.site1346.dat\n",
      "980\n",
      "(15, 327)\n",
      "ghg.gid.site1471.dat\n",
      "981\n",
      "(15, 327)\n",
      "ghg.gid.site0605.dat\n",
      "982\n",
      "(15, 327)\n",
      "ghg.gid.site0568.dat\n",
      "983\n",
      "(15, 327)\n",
      "ghg.gid.site0152.dat\n",
      "984\n",
      "(15, 327)\n",
      "ghg.gid.site2050.dat\n",
      "985\n",
      "(15, 327)\n",
      "ghg.gid.site1675.dat\n",
      "986\n",
      "(15, 327)\n",
      "ghg.gid.site2710.dat\n",
      "987\n",
      "(15, 327)\n",
      "ghg.gid.site2027.dat\n",
      "988\n",
      "(15, 327)\n",
      "ghg.gid.site2292.dat\n",
      "989\n",
      "(15, 327)\n",
      "ghg.gid.site0876.dat\n",
      "990\n",
      "(15, 327)\n",
      "ghg.gid.site0196.dat\n",
      "991\n",
      "(15, 327)\n",
      "ghg.gid.site0202.dat\n",
      "992\n",
      "(15, 327)\n",
      "ghg.gid.site0728.dat\n",
      "993\n",
      "(15, 327)\n",
      "ghg.gid.site0476.dat\n",
      "994\n",
      "(15, 327)\n",
      "ghg.gid.site0518.dat\n",
      "995\n",
      "(15, 327)\n",
      "ghg.gid.site0018.dat\n",
      "996\n",
      "(15, 327)\n",
      "ghg.gid.site2855.dat\n",
      "997\n",
      "(15, 327)\n",
      "ghg.gid.site2380.dat\n",
      "998\n",
      "(15, 327)\n",
      "ghg.gid.site0852.dat\n",
      "999\n",
      "(15, 327)\n",
      "ghg.gid.site2810.dat\n",
      "1000\n",
      "(15, 327)\n",
      "ghg.gid.site2288.dat\n",
      "1001\n",
      "(15, 327)\n",
      "ghg.gid.site1692.dat\n",
      "1002\n",
      "(15, 327)\n",
      "ghg.gid.site0618.dat\n",
      "1003\n",
      "(15, 327)\n",
      "ghg.gid.site2284.dat\n",
      "1004\n",
      "(15, 327)\n",
      "ghg.gid.site2700.dat\n",
      "1005\n",
      "(15, 327)\n",
      "ghg.gid.site1555.dat\n",
      "1006\n",
      "(15, 327)\n",
      "ghg.gid.site2291.dat\n",
      "1007\n",
      "(15, 327)\n",
      "ghg.gid.site1162.dat\n",
      "1008\n",
      "(15, 327)\n",
      "ghg.gid.site1379.dat\n",
      "1009\n",
      "(15, 327)\n",
      "ghg.gid.site1852.dat\n",
      "1010\n",
      "(15, 327)\n",
      "ghg.gid.site1023.dat\n",
      "1011\n",
      "(15, 327)\n",
      "ghg.gid.site1317.dat\n",
      "1012\n",
      "(15, 327)\n",
      "ghg.gid.site2553.dat\n",
      "1013\n",
      "(15, 327)\n",
      "ghg.gid.site0657.dat\n",
      "1014\n",
      "(15, 327)\n",
      "ghg.gid.site2602.dat\n",
      "1015\n",
      "(15, 327)\n",
      "ghg.gid.site0330.dat\n",
      "1016\n",
      "(15, 327)\n",
      "ghg.gid.site2135.dat\n",
      "1017\n",
      "(15, 327)\n",
      "ghg.gid.site2579.dat\n",
      "1018\n",
      "(15, 327)\n",
      "ghg.gid.site0499.dat\n",
      "1019\n",
      "(15, 327)\n",
      "ghg.gid.site1433.dat\n",
      "1020\n",
      "(15, 327)\n",
      "ghg.gid.site1482.dat\n",
      "1021\n",
      "(15, 327)\n",
      "ghg.gid.site2265.dat\n",
      "1022\n",
      "(15, 327)\n",
      "ghg.gid.site1431.dat\n",
      "1023\n",
      "(15, 327)\n",
      "ghg.gid.site0005.dat\n",
      "1024\n",
      "(15, 327)\n",
      "ghg.gid.site1766.dat\n",
      "1025\n",
      "(15, 327)\n",
      "ghg.gid.site1442.dat\n",
      "1026\n",
      "(15, 327)\n",
      "ghg.gid.site2084.dat\n",
      "1027\n",
      "(15, 327)\n",
      "ghg.gid.site2755.dat\n",
      "1028\n",
      "(15, 327)\n",
      "ghg.gid.site0649.dat\n",
      "1029\n",
      "(15, 327)\n",
      "ghg.gid.site1659.dat\n",
      "1030\n",
      "(15, 327)\n",
      "ghg.gid.site2503.dat\n",
      "1031\n",
      "(15, 327)\n",
      "ghg.gid.site1042.dat\n",
      "1032\n",
      "(15, 327)\n",
      "ghg.gid.site0304.dat\n",
      "1033\n",
      "(15, 327)\n",
      "ghg.gid.site0566.dat\n",
      "1034\n",
      "(15, 327)\n",
      "ghg.gid.site1615.dat\n",
      "1035\n",
      "(15, 327)\n",
      "ghg.gid.site1822.dat\n",
      "1036\n",
      "(15, 327)\n",
      "ghg.gid.site2626.dat\n",
      "1037\n",
      "(15, 327)\n",
      "ghg.gid.site1570.dat\n",
      "1038\n",
      "(15, 327)\n",
      "ghg.gid.site0741.dat\n",
      "1039\n",
      "(15, 327)\n",
      "ghg.gid.site1407.dat\n",
      "1040\n",
      "(15, 327)\n",
      "ghg.gid.site0057.dat\n",
      "1041\n",
      "(15, 327)\n",
      "ghg.gid.site0933.dat\n",
      "1042\n",
      "(15, 327)\n",
      "ghg.gid.site0145.dat\n",
      "1043\n",
      "(15, 327)\n",
      "ghg.gid.site1139.dat\n",
      "1044\n",
      "(15, 327)\n",
      "ghg.gid.site2491.dat\n",
      "1045\n",
      "(15, 327)\n",
      "ghg.gid.site0686.dat\n",
      "1046\n",
      "(15, 327)\n",
      "ghg.gid.site2227.dat\n",
      "1047\n",
      "(15, 327)\n",
      "ghg.gid.site1279.dat\n",
      "1048\n",
      "(15, 327)\n",
      "ghg.gid.site2286.dat\n",
      "1049\n",
      "(15, 327)\n",
      "ghg.gid.site0730.dat\n",
      "1050\n",
      "(15, 327)\n",
      "ghg.gid.site2267.dat\n",
      "1051\n",
      "(15, 327)\n",
      "ghg.gid.site1732.dat\n",
      "1052\n",
      "(15, 327)\n",
      "ghg.gid.site2470.dat\n",
      "1053\n",
      "(15, 327)\n",
      "ghg.gid.site1466.dat\n",
      "1054\n",
      "(15, 327)\n",
      "ghg.gid.site2576.dat\n",
      "1055\n",
      "(15, 327)\n",
      "ghg.gid.site2351.dat\n",
      "1056\n",
      "(15, 327)\n",
      "ghg.gid.site0475.dat\n",
      "1057\n",
      "(15, 327)\n",
      "ghg.gid.site2241.dat\n",
      "1058\n",
      "(15, 327)\n",
      "ghg.gid.site0732.dat\n",
      "1059\n",
      "(15, 327)\n",
      "ghg.gid.site0974.dat\n",
      "1060\n",
      "(15, 327)\n",
      "ghg.gid.site0559.dat\n",
      "1061\n",
      "(15, 327)\n",
      "ghg.gid.site2685.dat\n",
      "1062\n",
      "(15, 327)\n",
      "ghg.gid.site0182.dat\n",
      "1063\n",
      "(15, 327)\n",
      "ghg.gid.site1130.dat\n",
      "1064\n",
      "(15, 327)\n",
      "ghg.gid.site1001.dat\n",
      "1065\n",
      "(15, 327)\n",
      "ghg.gid.site1509.dat\n",
      "1066\n",
      "(15, 327)\n",
      "ghg.gid.site2705.dat\n",
      "1067\n",
      "(15, 327)\n",
      "ghg.gid.site0447.dat\n",
      "1068\n",
      "(15, 327)\n",
      "ghg.gid.site2459.dat\n",
      "1069\n",
      "(15, 327)\n",
      "ghg.gid.site0561.dat\n",
      "1070\n",
      "(15, 327)\n",
      "ghg.gid.site2721.dat\n",
      "1071\n",
      "(15, 327)\n",
      "ghg.gid.site1301.dat\n",
      "1072\n",
      "(15, 327)\n",
      "ghg.gid.site0718.dat\n",
      "1073\n",
      "(15, 327)\n",
      "ghg.gid.site0893.dat\n",
      "1074\n",
      "(15, 327)\n",
      "ghg.gid.site0807.dat\n",
      "1075\n",
      "(15, 327)\n",
      "ghg.gid.site0801.dat\n",
      "1076\n",
      "(15, 327)\n",
      "ghg.gid.site0190.dat\n",
      "1077\n",
      "(15, 327)\n",
      "ghg.gid.site1701.dat\n",
      "1078\n",
      "(15, 327)\n",
      "ghg.gid.site1341.dat\n",
      "1079\n",
      "(15, 327)\n",
      "ghg.gid.site0468.dat\n",
      "1080\n",
      "(15, 327)\n",
      "ghg.gid.site2144.dat\n",
      "1081\n",
      "(15, 327)\n",
      "ghg.gid.site0969.dat\n",
      "1082\n",
      "(15, 327)\n",
      "ghg.gid.site2728.dat\n",
      "1083\n",
      "(15, 327)\n",
      "ghg.gid.site2234.dat\n",
      "1084\n",
      "(15, 327)\n",
      "ghg.gid.site1153.dat\n",
      "1085\n",
      "(15, 327)\n",
      "ghg.gid.site1957.dat\n",
      "1086\n",
      "(15, 327)\n",
      "ghg.gid.site1048.dat\n",
      "1087\n",
      "(15, 327)\n",
      "ghg.gid.site1783.dat\n",
      "1088\n",
      "(15, 327)\n",
      "ghg.gid.site1972.dat\n",
      "1089\n",
      "(15, 327)\n",
      "ghg.gid.site2335.dat\n",
      "1090\n",
      "(15, 327)\n",
      "ghg.gid.site1296.dat\n",
      "1091\n",
      "(15, 327)\n",
      "ghg.gid.site1344.dat\n",
      "1092\n",
      "(15, 327)\n",
      "ghg.gid.site0334.dat\n",
      "1093\n",
      "(15, 327)\n",
      "ghg.gid.site1935.dat\n",
      "1094\n",
      "(15, 327)\n",
      "ghg.gid.site1004.dat\n",
      "1095\n",
      "(15, 327)\n",
      "ghg.gid.site2910.dat\n",
      "1096\n",
      "(15, 327)\n",
      "ghg.gid.site2556.dat\n",
      "1097\n",
      "(15, 327)\n",
      "ghg.gid.site2417.dat\n",
      "1098\n",
      "(15, 327)\n",
      "ghg.gid.site2317.dat\n",
      "1099\n",
      "(15, 327)\n",
      "ghg.gid.site1511.dat\n",
      "1100\n",
      "(15, 327)\n",
      "ghg.gid.site0687.dat\n",
      "1101\n",
      "(15, 327)\n",
      "ghg.gid.site0343.dat\n",
      "1102\n",
      "(15, 327)\n",
      "ghg.gid.site1102.dat\n",
      "1103\n",
      "(15, 327)\n",
      "ghg.gid.site1395.dat\n",
      "1104\n",
      "(15, 327)\n",
      "ghg.gid.site2438.dat\n",
      "1105\n",
      "(15, 327)\n",
      "ghg.gid.site0104.dat\n",
      "1106\n",
      "(15, 327)\n",
      "ghg.gid.site1425.dat\n",
      "1107\n",
      "(15, 327)\n",
      "ghg.gid.site1489.dat\n",
      "1108\n",
      "(15, 327)\n",
      "ghg.gid.site1079.dat\n",
      "1109\n",
      "(15, 327)\n",
      "ghg.gid.site1983.dat\n",
      "1110\n",
      "(15, 327)\n",
      "ghg.gid.site0504.dat\n",
      "1111\n",
      "(15, 327)\n",
      "ghg.gid.site1073.dat\n",
      "1112\n",
      "(15, 327)\n",
      "ghg.gid.site1581.dat\n",
      "1113\n",
      "(15, 327)\n",
      "ghg.gid.site0673.dat\n",
      "1114\n",
      "(15, 327)\n",
      "ghg.gid.site2520.dat\n",
      "1115\n",
      "(15, 327)\n",
      "ghg.gid.site1018.dat\n",
      "1116\n",
      "(15, 327)\n",
      "ghg.gid.site1921.dat\n",
      "1117\n",
      "(15, 327)\n",
      "ghg.gid.site0168.dat\n",
      "1118\n",
      "(15, 327)\n",
      "ghg.gid.site0307.dat\n",
      "1119\n",
      "(15, 327)\n",
      "ghg.gid.site1217.dat\n",
      "1120\n",
      "(15, 327)\n",
      "ghg.gid.site1131.dat\n",
      "1121\n",
      "(15, 327)\n",
      "ghg.gid.site0022.dat\n",
      "1122\n",
      "(15, 327)\n",
      "ghg.gid.site1856.dat\n",
      "1123\n",
      "(15, 327)\n",
      "ghg.gid.site2252.dat\n",
      "1124\n",
      "(15, 327)\n",
      "ghg.gid.site0131.dat\n",
      "1125\n",
      "(15, 327)\n",
      "ghg.gid.site0957.dat\n",
      "1126\n",
      "(15, 327)\n",
      "ghg.gid.site2044.dat\n",
      "1127\n",
      "(15, 327)\n",
      "ghg.gid.site0681.dat\n",
      "1128\n",
      "(15, 327)\n",
      "ghg.gid.site2343.dat\n",
      "1129\n",
      "(15, 327)\n",
      "ghg.gid.site1151.dat\n",
      "1130\n",
      "(15, 327)\n",
      "ghg.gid.site1889.dat\n",
      "1131\n",
      "(15, 327)\n",
      "ghg.gid.site2431.dat\n",
      "1132\n",
      "(15, 327)\n",
      "ghg.gid.site1119.dat\n",
      "1133\n",
      "(15, 327)\n",
      "ghg.gid.site2152.dat\n",
      "1134\n",
      "(15, 327)\n",
      "ghg.gid.site2771.dat\n",
      "1135\n",
      "(15, 327)\n",
      "ghg.gid.site0288.dat\n",
      "1136\n",
      "(15, 327)\n",
      "ghg.gid.site1579.dat\n",
      "1137\n",
      "(15, 327)\n",
      "ghg.gid.site1184.dat\n",
      "1138\n",
      "(15, 327)\n",
      "ghg.gid.site0778.dat\n",
      "1139\n",
      "(15, 327)\n",
      "ghg.gid.site1963.dat\n",
      "1140\n",
      "(15, 327)\n",
      "ghg.gid.site0228.dat\n",
      "1141\n",
      "(15, 327)\n",
      "ghg.gid.site1932.dat\n",
      "1142\n",
      "(15, 327)\n",
      "ghg.gid.site1878.dat\n",
      "1143\n",
      "(15, 327)\n",
      "ghg.gid.site0945.dat\n",
      "1144\n",
      "(15, 327)\n",
      "ghg.gid.site2096.dat\n",
      "1145\n",
      "(15, 327)\n",
      "ghg.gid.site1665.dat\n",
      "1146\n",
      "(15, 327)\n",
      "ghg.gid.site2140.dat\n",
      "1147\n",
      "(15, 327)\n",
      "ghg.gid.site0221.dat\n",
      "1148\n",
      "(15, 327)\n",
      "ghg.gid.site2817.dat\n",
      "1149\n",
      "(15, 327)\n",
      "ghg.gid.site0960.dat\n",
      "1150\n",
      "(15, 327)\n",
      "ghg.gid.site2382.dat\n",
      "1151\n",
      "(15, 327)\n",
      "ghg.gid.site2585.dat\n",
      "1152\n",
      "(15, 327)\n",
      "ghg.gid.site1759.dat\n",
      "1153\n",
      "(15, 327)\n",
      "ghg.gid.site0570.dat\n",
      "1154\n",
      "(15, 327)\n",
      "ghg.gid.site1994.dat\n",
      "1155\n",
      "(15, 327)\n",
      "ghg.gid.site2868.dat\n",
      "1156\n",
      "(15, 327)\n",
      "ghg.gid.site1005.dat\n",
      "1157\n",
      "(15, 327)\n",
      "ghg.gid.site1697.dat\n",
      "1158\n",
      "(15, 327)\n",
      "ghg.gid.site2294.dat\n",
      "1159\n",
      "(15, 327)\n",
      "ghg.gid.site0536.dat\n",
      "1160\n",
      "(15, 327)\n",
      "ghg.gid.site0674.dat\n",
      "1161\n",
      "(15, 327)\n",
      "ghg.gid.site2860.dat\n",
      "1162\n",
      "(15, 327)\n",
      "ghg.gid.site1864.dat\n",
      "1163\n",
      "(15, 327)\n",
      "ghg.gid.site1193.dat\n",
      "1164\n",
      "(15, 327)\n",
      "ghg.gid.site0309.dat\n",
      "1165\n",
      "(15, 327)\n",
      "ghg.gid.site0054.dat\n",
      "1166\n",
      "(15, 327)\n",
      "ghg.gid.site1850.dat\n",
      "1167\n",
      "(15, 327)\n",
      "ghg.gid.site1202.dat\n",
      "1168\n",
      "(15, 327)\n",
      "ghg.gid.site1420.dat\n",
      "1169\n",
      "(15, 327)\n",
      "ghg.gid.site2400.dat\n",
      "1170\n",
      "(15, 327)\n",
      "ghg.gid.site0129.dat\n",
      "1171\n",
      "(15, 327)\n",
      "ghg.gid.site1777.dat\n",
      "1172\n",
      "(15, 327)\n",
      "ghg.gid.site2149.dat\n",
      "1173\n",
      "(15, 327)\n",
      "ghg.gid.site1253.dat\n",
      "1174\n",
      "(15, 327)\n",
      "ghg.gid.site0837.dat\n",
      "1175\n"
     ]
    },
    {
     "name": "stdout",
     "output_type": "stream",
     "text": [
      "(15, 327)\n",
      "ghg.gid.site1633.dat\n",
      "1176\n",
      "(15, 327)\n",
      "ghg.gid.site0313.dat\n",
      "1177\n",
      "(15, 327)\n",
      "ghg.gid.site0276.dat\n",
      "1178\n",
      "(15, 327)\n",
      "ghg.gid.site1319.dat\n",
      "1179\n",
      "(15, 327)\n",
      "ghg.gid.site1545.dat\n",
      "1180\n",
      "(15, 327)\n",
      "ghg.gid.site0721.dat\n",
      "1181\n",
      "(15, 327)\n",
      "ghg.gid.site0929.dat\n",
      "1182\n",
      "(15, 327)\n",
      "ghg.gid.site1879.dat\n",
      "1183\n",
      "(15, 327)\n",
      "ghg.gid.site1698.dat\n",
      "1184\n",
      "(15, 327)\n",
      "ghg.gid.site1845.dat\n",
      "1185\n",
      "(15, 327)\n",
      "ghg.gid.site2240.dat\n",
      "1186\n",
      "(15, 327)\n",
      "ghg.gid.site1661.dat\n",
      "1187\n",
      "(15, 327)\n",
      "ghg.gid.site0213.dat\n",
      "1188\n",
      "(15, 327)\n",
      "ghg.gid.site0287.dat\n",
      "1189\n",
      "(15, 327)\n",
      "ghg.gid.site2090.dat\n",
      "1190\n",
      "(15, 327)\n",
      "ghg.gid.site0259.dat\n",
      "1191\n",
      "(15, 327)\n",
      "ghg.gid.site1618.dat\n",
      "1192\n",
      "(15, 327)\n",
      "ghg.gid.site2641.dat\n",
      "1193\n",
      "(15, 327)\n",
      "ghg.gid.site1392.dat\n",
      "1194\n",
      "(15, 327)\n",
      "ghg.gid.site2016.dat\n",
      "1195\n",
      "(15, 327)\n",
      "ghg.gid.site0661.dat\n",
      "1196\n",
      "(15, 327)\n",
      "ghg.gid.site2130.dat\n",
      "1197\n",
      "(15, 327)\n",
      "ghg.gid.site2682.dat\n",
      "1198\n",
      "(15, 327)\n",
      "ghg.gid.site1518.dat\n",
      "1199\n",
      "(15, 327)\n",
      "ghg.gid.site1112.dat\n",
      "1200\n",
      "(15, 327)\n",
      "ghg.gid.site2116.dat\n",
      "1201\n",
      "(15, 327)\n",
      "ghg.gid.site1689.dat\n",
      "1202\n",
      "(15, 327)\n",
      "ghg.gid.site1114.dat\n",
      "1203\n",
      "(15, 327)\n",
      "ghg.gid.site0693.dat\n",
      "1204\n",
      "(15, 327)\n",
      "ghg.gid.site1211.dat\n",
      "1205\n",
      "(15, 327)\n",
      "ghg.gid.site0751.dat\n",
      "1206\n",
      "(15, 327)\n",
      "ghg.gid.site0710.dat\n",
      "1207\n",
      "(15, 327)\n",
      "ghg.gid.site2686.dat\n",
      "1208\n",
      "(15, 327)\n",
      "ghg.gid.site0353.dat\n",
      "1209\n",
      "(15, 327)\n",
      "ghg.gid.site2172.dat\n",
      "1210\n",
      "(15, 327)\n",
      "ghg.gid.site2748.dat\n",
      "1211\n",
      "(15, 327)\n",
      "ghg.gid.site0587.dat\n",
      "1212\n",
      "(15, 327)\n",
      "ghg.gid.site2069.dat\n",
      "1213\n",
      "(15, 327)\n",
      "ghg.gid.site2913.dat\n",
      "1214\n",
      "(15, 327)\n",
      "ghg.gid.site1866.dat\n",
      "1215\n",
      "(15, 327)\n",
      "ghg.gid.site1706.dat\n",
      "1216\n",
      "(15, 327)\n",
      "ghg.gid.site1401.dat\n",
      "1217\n",
      "(15, 327)\n",
      "ghg.gid.site1832.dat\n",
      "1218\n",
      "(15, 327)\n",
      "ghg.gid.site2211.dat\n",
      "1219\n",
      "(15, 327)\n",
      "ghg.gid.site0803.dat\n",
      "1220\n",
      "(15, 327)\n",
      "ghg.gid.site1711.dat\n",
      "1221\n",
      "(15, 327)\n",
      "ghg.gid.site1056.dat\n",
      "1222\n",
      "(15, 327)\n",
      "ghg.gid.site1695.dat\n",
      "1223\n",
      "(15, 327)\n",
      "ghg.gid.site1357.dat\n",
      "1224\n",
      "(15, 327)\n",
      "ghg.gid.site2313.dat\n",
      "1225\n",
      "(15, 327)\n",
      "ghg.gid.site2759.dat\n",
      "1226\n",
      "(15, 327)\n",
      "ghg.gid.site0299.dat\n",
      "1227\n",
      "(15, 327)\n",
      "ghg.gid.site0315.dat\n",
      "1228\n",
      "(15, 327)\n",
      "ghg.gid.site1405.dat\n",
      "1229\n",
      "(15, 327)\n",
      "ghg.gid.site0222.dat\n",
      "1230\n",
      "(15, 327)\n",
      "ghg.gid.site1907.dat\n",
      "1231\n",
      "(15, 327)\n",
      "ghg.gid.site0445.dat\n",
      "1232\n",
      "(15, 327)\n",
      "ghg.gid.site1540.dat\n",
      "1233\n",
      "(15, 327)\n",
      "ghg.gid.site2411.dat\n",
      "1234\n",
      "(15, 327)\n",
      "ghg.gid.site1109.dat\n",
      "1235\n",
      "(15, 327)\n",
      "ghg.gid.site1709.dat\n",
      "1236\n",
      "(15, 327)\n",
      "ghg.gid.site1019.dat\n",
      "1237\n",
      "(15, 327)\n",
      "ghg.gid.site2340.dat\n",
      "1238\n",
      "(15, 327)\n",
      "ghg.gid.site2539.dat\n",
      "1239\n",
      "(15, 327)\n",
      "ghg.gid.site1592.dat\n",
      "1240\n",
      "(15, 327)\n",
      "ghg.gid.site1265.dat\n",
      "1241\n",
      "(15, 327)\n",
      "ghg.gid.site0752.dat\n",
      "1242\n",
      "(15, 327)\n",
      "ghg.gid.site0279.dat\n",
      "1243\n",
      "(15, 327)\n",
      "ghg.gid.site0544.dat\n",
      "1244\n",
      "(15, 327)\n",
      "ghg.gid.site1334.dat\n",
      "1245\n",
      "(15, 327)\n",
      "ghg.gid.site0448.dat\n",
      "1246\n",
      "(15, 327)\n",
      "ghg.gid.site2445.dat\n",
      "1247\n",
      "(15, 327)\n",
      "ghg.gid.site2422.dat\n",
      "1248\n",
      "(15, 327)\n",
      "ghg.gid.site0245.dat\n",
      "1249\n",
      "(15, 327)\n",
      "ghg.gid.site0737.dat\n",
      "1250\n",
      "(15, 327)\n",
      "ghg.gid.site1593.dat\n",
      "1251\n",
      "(15, 327)\n",
      "ghg.gid.site0834.dat\n",
      "1252\n",
      "(15, 327)\n",
      "ghg.gid.site0115.dat\n",
      "1253\n",
      "(15, 327)\n",
      "ghg.gid.site1377.dat\n",
      "1254\n",
      "(15, 327)\n",
      "ghg.gid.site2894.dat\n",
      "1255\n",
      "(15, 327)\n",
      "ghg.gid.site1522.dat\n",
      "1256\n",
      "(15, 327)\n",
      "ghg.gid.site1655.dat\n",
      "1257\n",
      "(15, 327)\n",
      "ghg.gid.site1222.dat\n",
      "1258\n",
      "(15, 327)\n",
      "ghg.gid.site1547.dat\n",
      "1259\n",
      "(15, 327)\n",
      "ghg.gid.site2478.dat\n",
      "1260\n",
      "(15, 327)\n",
      "ghg.gid.site2830.dat\n",
      "1261\n",
      "(15, 327)\n",
      "ghg.gid.site0725.dat\n",
      "1262\n",
      "(15, 327)\n",
      "ghg.gid.site2032.dat\n",
      "1263\n",
      "(15, 327)\n",
      "ghg.gid.site2511.dat\n",
      "1264\n",
      "(15, 327)\n",
      "ghg.gid.site2900.dat\n",
      "1265\n",
      "(15, 327)\n",
      "ghg.gid.site0399.dat\n",
      "1266\n",
      "(15, 327)\n",
      "ghg.gid.site2312.dat\n",
      "1267\n",
      "(15, 327)\n",
      "ghg.gid.site0141.dat\n",
      "1268\n",
      "(15, 327)\n",
      "ghg.gid.site0193.dat\n",
      "1269\n",
      "(15, 327)\n",
      "ghg.gid.site0719.dat\n",
      "1270\n",
      "(15, 327)\n",
      "ghg.gid.site2456.dat\n",
      "1271\n",
      "(15, 327)\n",
      "ghg.gid.site1480.dat\n",
      "1272\n",
      "(15, 327)\n",
      "ghg.gid.site1138.dat\n",
      "1273\n",
      "(15, 327)\n",
      "ghg.gid.site1492.dat\n",
      "1274\n",
      "(15, 327)\n",
      "ghg.gid.site2106.dat\n",
      "1275\n",
      "(15, 327)\n",
      "ghg.gid.site2125.dat\n",
      "1276\n",
      "(15, 327)\n",
      "ghg.gid.site2790.dat\n",
      "1277\n",
      "(15, 327)\n",
      "ghg.gid.site2079.dat\n",
      "1278\n",
      "(15, 327)\n",
      "ghg.gid.site1541.dat\n",
      "1279\n",
      "(15, 327)\n",
      "ghg.gid.site1467.dat\n",
      "1280\n",
      "(15, 327)\n",
      "ghg.gid.site1797.dat\n",
      "1281\n",
      "(15, 327)\n",
      "ghg.gid.site0349.dat\n",
      "1282\n",
      "(15, 327)\n",
      "ghg.gid.site2872.dat\n",
      "1283\n",
      "(15, 327)\n",
      "ghg.gid.site0393.dat\n",
      "1284\n",
      "(15, 327)\n",
      "ghg.gid.site0345.dat\n",
      "1285\n",
      "(15, 327)\n",
      "ghg.gid.site1868.dat\n",
      "1286\n",
      "(15, 327)\n",
      "ghg.gid.site0336.dat\n",
      "1287\n",
      "(15, 327)\n",
      "ghg.gid.site0128.dat\n",
      "1288\n",
      "(15, 327)\n",
      "ghg.gid.site0596.dat\n",
      "1289\n",
      "(15, 327)\n",
      "ghg.gid.site0627.dat\n",
      "1290\n",
      "(15, 327)\n",
      "ghg.gid.site1044.dat\n",
      "1291\n",
      "(15, 327)\n",
      "ghg.gid.site0805.dat\n",
      "1292\n",
      "(15, 327)\n",
      "ghg.gid.site2580.dat\n",
      "1293\n",
      "(15, 327)\n",
      "ghg.gid.site1350.dat\n",
      "1294\n",
      "(15, 327)\n",
      "ghg.gid.site1262.dat\n",
      "1295\n",
      "(15, 327)\n",
      "ghg.gid.site1077.dat\n",
      "1296\n",
      "(15, 327)\n",
      "ghg.gid.site1507.dat\n",
      "1297\n",
      "(15, 327)\n",
      "ghg.gid.site2177.dat\n",
      "1298\n",
      "(15, 327)\n",
      "ghg.gid.site0706.dat\n",
      "1299\n",
      "(15, 327)\n",
      "ghg.gid.site0381.dat\n",
      "1300\n",
      "(15, 327)\n",
      "ghg.gid.site0597.dat\n",
      "1301\n",
      "(15, 327)\n",
      "ghg.gid.site0087.dat\n",
      "1302\n",
      "(15, 327)\n",
      "ghg.gid.site1302.dat\n",
      "1303\n",
      "(15, 327)\n",
      "ghg.gid.site2270.dat\n",
      "1304\n",
      "(15, 327)\n",
      "ghg.gid.site0748.dat\n",
      "1305\n",
      "(15, 327)\n",
      "ghg.gid.site2142.dat\n",
      "1306\n",
      "(15, 327)\n",
      "ghg.gid.site0531.dat\n",
      "1307\n",
      "(15, 327)\n",
      "ghg.gid.site0180.dat\n",
      "1308\n",
      "(15, 327)\n",
      "ghg.gid.site1776.dat\n",
      "1309\n",
      "(15, 327)\n",
      "ghg.gid.site1841.dat\n",
      "1310\n",
      "(15, 327)\n",
      "ghg.gid.site2475.dat\n",
      "1311\n",
      "(15, 327)\n",
      "ghg.gid.site2109.dat\n",
      "1312\n",
      "(15, 327)\n",
      "ghg.gid.site1027.dat\n",
      "1313\n",
      "(15, 327)\n",
      "ghg.gid.site0535.dat\n",
      "1314\n",
      "(15, 327)\n",
      "ghg.gid.site1359.dat\n",
      "1315\n",
      "(15, 327)\n",
      "ghg.gid.site0744.dat\n",
      "1316\n",
      "(15, 327)\n",
      "ghg.gid.site2800.dat\n",
      "1317\n",
      "(15, 327)\n",
      "ghg.gid.site0233.dat\n",
      "1318\n",
      "(15, 327)\n",
      "ghg.gid.site1386.dat\n",
      "1319\n",
      "(15, 327)\n",
      "ghg.gid.site0436.dat\n",
      "1320\n",
      "(15, 327)\n",
      "ghg.gid.site1643.dat\n",
      "1321\n",
      "(15, 327)\n",
      "ghg.gid.site2523.dat\n",
      "1322\n",
      "(15, 327)\n",
      "ghg.gid.site2773.dat\n",
      "1323\n",
      "(15, 327)\n",
      "ghg.gid.site1524.dat\n",
      "1324\n",
      "(15, 327)\n",
      "ghg.gid.site0772.dat\n",
      "1325\n",
      "(15, 327)\n",
      "ghg.gid.site0992.dat\n",
      "1326\n",
      "(15, 327)\n",
      "ghg.gid.site0014.dat\n",
      "1327\n",
      "(15, 327)\n",
      "ghg.gid.site2461.dat\n",
      "1328\n",
      "(15, 327)\n",
      "ghg.gid.site1671.dat\n",
      "1329\n",
      "(15, 327)\n",
      "ghg.gid.site1948.dat\n",
      "1330\n",
      "(15, 327)\n",
      "ghg.gid.site0630.dat\n",
      "1331\n",
      "(15, 327)\n",
      "ghg.gid.site2893.dat\n",
      "1332\n",
      "(15, 327)\n",
      "ghg.gid.site1626.dat\n",
      "1333\n",
      "(15, 327)\n",
      "ghg.gid.site2293.dat\n",
      "1334\n",
      "(15, 327)\n",
      "ghg.gid.site2708.dat\n",
      "1335\n",
      "(15, 327)\n",
      "ghg.gid.site0682.dat\n",
      "1336\n",
      "(15, 327)\n",
      "ghg.gid.site0255.dat\n",
      "1337\n",
      "(15, 327)\n",
      "ghg.gid.site1575.dat\n",
      "1338\n",
      "(15, 327)\n",
      "ghg.gid.site2181.dat\n",
      "1339\n",
      "(15, 327)\n",
      "ghg.gid.site0394.dat\n",
      "1340\n",
      "(15, 327)\n",
      "ghg.gid.site1644.dat\n",
      "1341\n",
      "(15, 327)\n",
      "ghg.gid.site0042.dat\n",
      "1342\n",
      "(15, 327)\n",
      "ghg.gid.site0610.dat\n",
      "1343\n",
      "(15, 327)\n",
      "ghg.gid.site2430.dat\n",
      "1344\n",
      "(15, 327)\n",
      "ghg.gid.site1647.dat\n",
      "1345\n",
      "(15, 327)\n",
      "ghg.gid.site0612.dat\n",
      "1346\n",
      "(15, 327)\n",
      "ghg.gid.site0788.dat\n",
      "1347\n",
      "(15, 327)\n",
      "ghg.gid.site1287.dat\n",
      "1348\n",
      "(15, 327)\n",
      "ghg.gid.site1954.dat\n",
      "1349\n",
      "(15, 327)\n",
      "ghg.gid.site2644.dat\n",
      "1350\n",
      "(15, 327)\n",
      "ghg.gid.site1206.dat\n",
      "1351\n",
      "(15, 327)\n",
      "ghg.gid.site1831.dat\n",
      "1352\n",
      "(15, 327)\n",
      "ghg.gid.site1254.dat\n",
      "1353\n",
      "(15, 327)\n",
      "ghg.gid.site0049.dat\n",
      "1354\n",
      "(15, 327)\n",
      "ghg.gid.site2884.dat\n",
      "1355\n",
      "(15, 327)\n",
      "ghg.gid.site1819.dat\n",
      "1356\n",
      "(15, 327)\n",
      "ghg.gid.site1961.dat\n",
      "1357\n",
      "(15, 327)\n",
      "ghg.gid.site1622.dat\n",
      "1358\n",
      "(15, 327)\n",
      "ghg.gid.site0278.dat\n",
      "1359\n",
      "(15, 327)\n",
      "ghg.gid.site0037.dat\n",
      "1360\n",
      "(15, 327)\n",
      "ghg.gid.site1905.dat\n",
      "1361\n",
      "(15, 327)\n",
      "ghg.gid.site1473.dat\n",
      "1362\n",
      "(15, 327)\n",
      "ghg.gid.site2767.dat\n",
      "1363\n",
      "(15, 327)\n",
      "ghg.gid.site0863.dat\n",
      "1364\n",
      "(15, 327)\n",
      "ghg.gid.site1802.dat\n",
      "1365\n",
      "(15, 327)\n",
      "ghg.gid.site1422.dat\n",
      "1366\n",
      "(15, 327)\n",
      "ghg.gid.site1251.dat\n",
      "1367\n",
      "(15, 327)\n",
      "ghg.gid.site2331.dat\n",
      "1368\n",
      "(15, 327)\n",
      "ghg.gid.site1094.dat\n",
      "1369\n",
      "(15, 327)\n",
      "ghg.gid.site2816.dat\n",
      "1370\n",
      "(15, 327)\n",
      "ghg.gid.site1995.dat\n",
      "1371\n",
      "(15, 327)\n",
      "ghg.gid.site1336.dat\n",
      "1372\n",
      "(15, 327)\n",
      "ghg.gid.site0294.dat\n",
      "1373\n",
      "(15, 327)\n",
      "ghg.gid.site0705.dat\n",
      "1374\n",
      "(15, 327)\n",
      "ghg.gid.site2592.dat\n",
      "1375\n",
      "(15, 327)\n",
      "ghg.gid.site2093.dat\n",
      "1376\n",
      "(15, 327)\n",
      "ghg.gid.site0478.dat\n",
      "1377\n",
      "(15, 327)\n",
      "ghg.gid.site1654.dat\n",
      "1378\n",
      "(15, 327)\n",
      "ghg.gid.site1024.dat\n",
      "1379\n",
      "(15, 327)\n",
      "ghg.gid.site2256.dat\n",
      "1380\n",
      "(15, 327)\n",
      "ghg.gid.site0514.dat\n",
      "1381\n",
      "(15, 327)\n",
      "ghg.gid.site1738.dat\n",
      "1382\n",
      "(15, 327)\n",
      "ghg.gid.site1158.dat\n",
      "1383\n",
      "(15, 327)\n",
      "ghg.gid.site1803.dat\n",
      "1384\n",
      "(15, 327)\n",
      "ghg.gid.site0925.dat\n",
      "1385\n",
      "(15, 327)\n",
      "ghg.gid.site2112.dat\n",
      "1386\n",
      "(15, 327)\n",
      "ghg.gid.site1293.dat\n",
      "1387\n",
      "(15, 327)\n",
      "ghg.gid.site0547.dat\n",
      "1388\n",
      "(15, 327)\n",
      "ghg.gid.site0615.dat\n",
      "1389\n",
      "(15, 327)\n",
      "ghg.gid.site0157.dat\n",
      "1390\n",
      "(15, 327)\n",
      "ghg.gid.site2231.dat\n",
      "1391\n",
      "(15, 327)\n",
      "ghg.gid.site1352.dat\n",
      "1392\n",
      "(15, 327)\n",
      "ghg.gid.site0604.dat\n",
      "1393\n",
      "(15, 327)\n",
      "ghg.gid.site2918.dat\n",
      "1394\n",
      "(15, 327)\n",
      "ghg.gid.site1563.dat\n",
      "1395\n",
      "(15, 327)\n",
      "ghg.gid.site0179.dat\n",
      "1396\n",
      "(15, 327)\n",
      "ghg.gid.site1210.dat\n",
      "1397\n",
      "(15, 327)\n",
      "ghg.gid.site1553.dat\n",
      "1398\n",
      "(15, 327)\n",
      "ghg.gid.site1567.dat\n",
      "1399\n",
      "(15, 327)\n",
      "ghg.gid.site2339.dat\n",
      "1400\n",
      "(15, 327)\n",
      "ghg.gid.site1942.dat\n",
      "1401\n",
      "(15, 327)\n",
      "ghg.gid.site1160.dat\n",
      "1402\n",
      "(15, 327)\n",
      "ghg.gid.site0740.dat\n",
      "1403\n",
      "(15, 327)\n",
      "ghg.gid.site2522.dat\n",
      "1404\n",
      "(15, 327)\n",
      "ghg.gid.site2789.dat\n",
      "1405\n",
      "(15, 327)\n",
      "ghg.gid.site0991.dat\n",
      "1406\n",
      "(15, 327)\n",
      "ghg.gid.site2091.dat\n",
      "1407\n"
     ]
    },
    {
     "name": "stdout",
     "output_type": "stream",
     "text": [
      "(15, 327)\n",
      "ghg.gid.site0713.dat\n",
      "1408\n",
      "(15, 327)\n",
      "ghg.gid.site1753.dat\n",
      "1409\n",
      "(15, 327)\n",
      "ghg.gid.site0082.dat\n",
      "1410\n",
      "(15, 327)\n",
      "ghg.gid.site2423.dat\n",
      "1411\n",
      "(15, 327)\n",
      "ghg.gid.site1610.dat\n",
      "1412\n",
      "(15, 327)\n",
      "ghg.gid.site2808.dat\n",
      "1413\n",
      "(15, 327)\n",
      "ghg.gid.site2725.dat\n",
      "1414\n",
      "(15, 327)\n",
      "ghg.gid.site1226.dat\n",
      "1415\n",
      "(15, 327)\n",
      "ghg.gid.site2559.dat\n",
      "1416\n",
      "(15, 327)\n",
      "ghg.gid.site0940.dat\n",
      "1417\n",
      "(15, 327)\n",
      "ghg.gid.site2654.dat\n",
      "1418\n",
      "(15, 327)\n",
      "ghg.gid.site2189.dat\n",
      "1419\n",
      "(15, 327)\n",
      "ghg.gid.site2442.dat\n",
      "1420\n",
      "(15, 327)\n",
      "ghg.gid.site2560.dat\n",
      "1421\n",
      "(15, 327)\n",
      "ghg.gid.site2825.dat\n",
      "1422\n",
      "(15, 327)\n",
      "ghg.gid.site2407.dat\n",
      "1423\n",
      "(15, 327)\n",
      "ghg.gid.site0118.dat\n",
      "1424\n",
      "(15, 327)\n",
      "ghg.gid.site0356.dat\n",
      "1425\n",
      "(15, 327)\n",
      "ghg.gid.site2187.dat\n",
      "1426\n",
      "(15, 327)\n",
      "ghg.gid.site0591.dat\n",
      "1427\n",
      "(15, 327)\n",
      "ghg.gid.site2639.dat\n",
      "1428\n",
      "(15, 327)\n",
      "ghg.gid.site2148.dat\n",
      "1429\n",
      "(15, 327)\n",
      "ghg.gid.site0648.dat\n",
      "1430\n",
      "(15, 327)\n",
      "ghg.gid.site1967.dat\n",
      "1431\n",
      "(15, 327)\n",
      "ghg.gid.site1034.dat\n",
      "1432\n",
      "(15, 327)\n",
      "ghg.gid.site0846.dat\n",
      "1433\n",
      "(15, 327)\n",
      "ghg.gid.site2008.dat\n",
      "1434\n",
      "(15, 327)\n",
      "ghg.gid.site0138.dat\n",
      "1435\n",
      "(15, 327)\n",
      "ghg.gid.site2637.dat\n",
      "1436\n",
      "(15, 327)\n",
      "ghg.gid.site0153.dat\n",
      "1437\n",
      "(15, 327)\n",
      "ghg.gid.site2095.dat\n",
      "1438\n",
      "(15, 327)\n",
      "ghg.gid.site2832.dat\n",
      "1439\n",
      "(15, 327)\n",
      "ghg.gid.site0938.dat\n",
      "1440\n",
      "(15, 327)\n",
      "ghg.gid.site2811.dat\n",
      "1441\n",
      "(15, 327)\n",
      "ghg.gid.site1601.dat\n",
      "1442\n",
      "(15, 327)\n",
      "ghg.gid.site2568.dat\n",
      "1443\n",
      "(15, 327)\n",
      "ghg.gid.site0675.dat\n",
      "1444\n",
      "(15, 327)\n",
      "ghg.gid.site1400.dat\n",
      "1445\n",
      "(15, 327)\n",
      "ghg.gid.site1028.dat\n",
      "1446\n",
      "(15, 327)\n",
      "ghg.gid.site0464.dat\n",
      "1447\n",
      "(15, 327)\n",
      "ghg.gid.site0072.dat\n",
      "1448\n",
      "(15, 327)\n",
      "ghg.gid.site1147.dat\n",
      "1449\n",
      "(15, 327)\n",
      "ghg.gid.site0845.dat\n",
      "1450\n",
      "(15, 327)\n",
      "ghg.gid.site1549.dat\n",
      "1451\n",
      "(15, 327)\n",
      "ghg.gid.site1052.dat\n",
      "1452\n",
      "(15, 327)\n",
      "ghg.gid.site0194.dat\n",
      "1453\n",
      "(15, 327)\n",
      "ghg.gid.site0261.dat\n",
      "1454\n",
      "(15, 327)\n",
      "ghg.gid.site1381.dat\n",
      "1455\n",
      "(15, 327)\n",
      "ghg.gid.site2295.dat\n",
      "1456\n",
      "(15, 327)\n",
      "ghg.gid.site2298.dat\n",
      "1457\n",
      "(15, 327)\n",
      "ghg.gid.site1384.dat\n",
      "1458\n",
      "(15, 327)\n",
      "ghg.gid.site2921.dat\n",
      "1459\n",
      "(15, 327)\n",
      "ghg.gid.site0010.dat\n",
      "1460\n",
      "(15, 327)\n",
      "ghg.gid.site1898.dat\n",
      "1461\n",
      "(15, 327)\n",
      "ghg.gid.site1808.dat\n",
      "1462\n",
      "(15, 327)\n",
      "ghg.gid.site2912.dat\n",
      "1463\n",
      "(15, 327)\n",
      "ghg.gid.site2472.dat\n",
      "1464\n",
      "(15, 327)\n",
      "ghg.gid.site2629.dat\n",
      "1465\n",
      "(15, 327)\n",
      "ghg.gid.site0200.dat\n",
      "1466\n",
      "(15, 327)\n",
      "ghg.gid.site0050.dat\n",
      "1467\n",
      "(15, 327)\n",
      "ghg.gid.site1488.dat\n",
      "1468\n",
      "(15, 327)\n",
      "ghg.gid.site1926.dat\n",
      "1469\n",
      "(15, 327)\n",
      "ghg.gid.site0551.dat\n",
      "1470\n",
      "(15, 327)\n",
      "ghg.gid.site2693.dat\n",
      "1471\n",
      "(15, 327)\n",
      "ghg.gid.site2053.dat\n",
      "1472\n",
      "(15, 327)\n",
      "ghg.gid.site2333.dat\n",
      "1473\n",
      "(15, 327)\n",
      "ghg.gid.site0500.dat\n",
      "1474\n",
      "(15, 327)\n",
      "ghg.gid.site2722.dat\n",
      "1475\n",
      "(15, 327)\n",
      "ghg.gid.site2815.dat\n",
      "1476\n",
      "(15, 327)\n",
      "ghg.gid.site0303.dat\n",
      "1477\n",
      "(15, 327)\n",
      "ghg.gid.site1155.dat\n",
      "1478\n",
      "(15, 327)\n",
      "ghg.gid.site0950.dat\n",
      "1479\n",
      "(15, 327)\n",
      "ghg.gid.site2058.dat\n",
      "1480\n",
      "(15, 327)\n",
      "ghg.gid.site2733.dat\n",
      "1481\n",
      "(15, 327)\n",
      "ghg.gid.site1551.dat\n",
      "1482\n",
      "(15, 327)\n",
      "ghg.gid.site0006.dat\n",
      "1483\n",
      "(15, 327)\n",
      "ghg.gid.site2089.dat\n",
      "1484\n",
      "(15, 327)\n",
      "ghg.gid.site2101.dat\n",
      "1485\n",
      "(15, 327)\n",
      "ghg.gid.site1500.dat\n",
      "1486\n",
      "(15, 327)\n",
      "ghg.gid.site2713.dat\n",
      "1487\n",
      "(15, 327)\n",
      "ghg.gid.site1836.dat\n",
      "1488\n",
      "(15, 327)\n",
      "ghg.gid.site0858.dat\n",
      "1489\n",
      "(15, 327)\n",
      "ghg.gid.site0594.dat\n",
      "1490\n",
      "(15, 327)\n",
      "ghg.gid.site0736.dat\n",
      "1491\n",
      "(15, 327)\n",
      "ghg.gid.site2863.dat\n",
      "1492\n",
      "(15, 327)\n",
      "ghg.gid.site2473.dat\n",
      "1493\n",
      "(15, 327)\n",
      "ghg.gid.site0064.dat\n",
      "1494\n",
      "(15, 327)\n",
      "ghg.gid.site1380.dat\n",
      "1495\n",
      "(15, 327)\n",
      "ghg.gid.site1468.dat\n",
      "1496\n",
      "(15, 327)\n",
      "ghg.gid.site1915.dat\n",
      "1497\n",
      "(15, 327)\n",
      "ghg.gid.site2701.dat\n",
      "1498\n",
      "(15, 327)\n",
      "ghg.gid.site2398.dat\n",
      "1499\n",
      "(15, 327)\n",
      "ghg.gid.site0525.dat\n",
      "1500\n",
      "(15, 327)\n",
      "ghg.gid.site2126.dat\n",
      "1501\n",
      "(15, 327)\n",
      "ghg.gid.site1535.dat\n",
      "1502\n",
      "(15, 327)\n",
      "ghg.gid.site0964.dat\n",
      "1503\n",
      "(15, 327)\n",
      "ghg.gid.site0450.dat\n",
      "1504\n",
      "(15, 327)\n",
      "ghg.gid.site1470.dat\n",
      "1505\n",
      "(15, 327)\n",
      "ghg.gid.site0384.dat\n",
      "1506\n",
      "(15, 327)\n",
      "ghg.gid.site2648.dat\n",
      "1507\n",
      "(15, 327)\n",
      "ghg.gid.site1830.dat\n",
      "1508\n",
      "(15, 327)\n",
      "ghg.gid.site0573.dat\n",
      "1509\n",
      "(15, 327)\n",
      "ghg.gid.site1413.dat\n",
      "1510\n",
      "(15, 327)\n",
      "ghg.gid.site0586.dat\n",
      "1511\n",
      "(15, 327)\n",
      "ghg.gid.site2606.dat\n",
      "1512\n",
      "(15, 327)\n",
      "ghg.gid.site2593.dat\n",
      "1513\n",
      "(15, 327)\n",
      "ghg.gid.site1603.dat\n",
      "1514\n",
      "(15, 327)\n",
      "ghg.gid.site0821.dat\n",
      "1515\n",
      "(15, 327)\n",
      "ghg.gid.site1597.dat\n",
      "1516\n",
      "(15, 327)\n",
      "ghg.gid.site1742.dat\n",
      "1517\n",
      "(15, 327)\n",
      "ghg.gid.site2209.dat\n",
      "1518\n",
      "(15, 327)\n",
      "ghg.gid.site1663.dat\n",
      "1519\n",
      "(15, 327)\n",
      "ghg.gid.site1713.dat\n",
      "1520\n",
      "(15, 327)\n",
      "ghg.gid.site0679.dat\n",
      "1521\n",
      "(15, 327)\n",
      "ghg.gid.site2876.dat\n",
      "1522\n",
      "(15, 327)\n",
      "ghg.gid.site1129.dat\n",
      "1523\n",
      "(15, 327)\n",
      "ghg.gid.site2136.dat\n",
      "1524\n",
      "(15, 327)\n",
      "ghg.gid.site1989.dat\n",
      "1525\n",
      "(15, 327)\n",
      "ghg.gid.site0780.dat\n",
      "1526\n",
      "(15, 327)\n",
      "ghg.gid.site1495.dat\n",
      "1527\n",
      "(15, 327)\n",
      "ghg.gid.site0603.dat\n",
      "1528\n",
      "(15, 327)\n",
      "ghg.gid.site0970.dat\n",
      "1529\n",
      "(15, 327)\n",
      "ghg.gid.site0051.dat\n",
      "1530\n",
      "(15, 327)\n",
      "ghg.gid.site0553.dat\n",
      "1531\n",
      "(15, 327)\n",
      "ghg.gid.site1854.dat\n",
      "1532\n",
      "(15, 327)\n",
      "ghg.gid.site1943.dat\n",
      "1533\n",
      "(15, 327)\n",
      "ghg.gid.site1936.dat\n",
      "1534\n",
      "(15, 327)\n",
      "ghg.gid.site0694.dat\n",
      "1535\n",
      "(15, 327)\n",
      "ghg.gid.site1299.dat\n",
      "1536\n",
      "(15, 327)\n",
      "ghg.gid.site1032.dat\n",
      "1537\n",
      "(15, 327)\n",
      "ghg.gid.site2575.dat\n",
      "1538\n",
      "(15, 327)\n",
      "ghg.gid.site2228.dat\n",
      "1539\n",
      "(15, 327)\n",
      "ghg.gid.site1412.dat\n",
      "1540\n",
      "(15, 327)\n",
      "ghg.gid.site2273.dat\n",
      "1541\n",
      "(15, 327)\n",
      "ghg.gid.site0804.dat\n",
      "1542\n",
      "(15, 327)\n",
      "ghg.gid.site1214.dat\n",
      "1543\n",
      "(15, 327)\n",
      "ghg.gid.site2171.dat\n",
      "1544\n",
      "(15, 327)\n",
      "ghg.gid.site2305.dat\n",
      "1545\n",
      "(15, 327)\n",
      "ghg.gid.site1656.dat\n",
      "1546\n",
      "(15, 327)\n",
      "ghg.gid.site2744.dat\n",
      "1547\n",
      "(15, 327)\n",
      "ghg.gid.site0122.dat\n",
      "1548\n",
      "(15, 327)\n",
      "ghg.gid.site2796.dat\n",
      "1549\n",
      "(15, 327)\n",
      "ghg.gid.site1863.dat\n",
      "1550\n",
      "(15, 327)\n",
      "ghg.gid.site1734.dat\n",
      "1551\n",
      "(15, 327)\n",
      "ghg.gid.site0417.dat\n",
      "1552\n",
      "(15, 327)\n",
      "ghg.gid.site2392.dat\n",
      "1553\n",
      "(15, 327)\n",
      "ghg.gid.site0089.dat\n",
      "1554\n",
      "(15, 327)\n",
      "ghg.gid.site0073.dat\n",
      "1555\n",
      "(15, 327)\n",
      "ghg.gid.site1680.dat\n",
      "1556\n",
      "(15, 327)\n",
      "ghg.gid.site0947.dat\n",
      "1557\n",
      "(15, 327)\n",
      "ghg.gid.site2359.dat\n",
      "1558\n",
      "(15, 327)\n",
      "ghg.gid.site0912.dat\n",
      "1559\n",
      "(15, 327)\n",
      "ghg.gid.site0828.dat\n",
      "1560\n",
      "(15, 327)\n",
      "ghg.gid.site0625.dat\n",
      "1561\n",
      "(15, 327)\n",
      "ghg.gid.site0314.dat\n",
      "1562\n",
      "(15, 327)\n",
      "ghg.gid.site0171.dat\n",
      "1563\n",
      "(15, 327)\n",
      "ghg.gid.site2839.dat\n",
      "1564\n",
      "(15, 327)\n",
      "ghg.gid.site0460.dat\n",
      "1565\n",
      "(15, 327)\n",
      "ghg.gid.site2691.dat\n",
      "1566\n",
      "(15, 327)\n",
      "ghg.gid.site1851.dat\n",
      "1567\n",
      "(15, 327)\n",
      "ghg.gid.site0431.dat\n",
      "1568\n",
      "(15, 327)\n",
      "ghg.gid.site1559.dat\n",
      "1569\n",
      "(15, 327)\n",
      "ghg.gid.site1730.dat\n",
      "1570\n",
      "(15, 327)\n",
      "ghg.gid.site2848.dat\n",
      "1571\n",
      "(15, 327)\n",
      "ghg.gid.site1309.dat\n",
      "1572\n",
      "(15, 327)\n",
      "ghg.gid.site0467.dat\n",
      "1573\n",
      "(15, 327)\n",
      "ghg.gid.site2534.dat\n",
      "1574\n",
      "(15, 327)\n",
      "ghg.gid.site0658.dat\n",
      "1575\n",
      "(15, 327)\n",
      "ghg.gid.site2879.dat\n",
      "1576\n",
      "(15, 327)\n",
      "ghg.gid.site0146.dat\n",
      "1577\n",
      "(15, 327)\n",
      "ghg.gid.site2849.dat\n",
      "1578\n",
      "(15, 327)\n",
      "ghg.gid.site2867.dat\n",
      "1579\n",
      "(15, 327)\n",
      "ghg.gid.site0542.dat\n",
      "1580\n",
      "(15, 327)\n",
      "ghg.gid.site1589.dat\n",
      "1581\n",
      "(15, 327)\n",
      "ghg.gid.site2406.dat\n",
      "1582\n",
      "(15, 327)\n",
      "ghg.gid.site1182.dat\n",
      "1583\n",
      "(15, 327)\n",
      "ghg.gid.site0578.dat\n",
      "1584\n",
      "(15, 327)\n",
      "ghg.gid.site0892.dat\n",
      "1585\n",
      "(15, 327)\n",
      "ghg.gid.site2889.dat\n",
      "1586\n",
      "(15, 327)\n",
      "ghg.gid.site0552.dat\n",
      "1587\n",
      "(15, 327)\n",
      "ghg.gid.site1037.dat\n",
      "1588\n",
      "(15, 327)\n",
      "ghg.gid.site2747.dat\n",
      "1589\n",
      "(15, 327)\n",
      "ghg.gid.site2548.dat\n",
      "1590\n",
      "(15, 327)\n",
      "ghg.gid.site1080.dat\n",
      "1591\n",
      "(15, 327)\n",
      "ghg.gid.site1271.dat\n",
      "1592\n",
      "(15, 327)\n",
      "ghg.gid.site1440.dat\n",
      "1593\n",
      "(15, 327)\n",
      "ghg.gid.site0534.dat\n",
      "1594\n",
      "(15, 327)\n",
      "ghg.gid.site0109.dat\n",
      "1595\n",
      "(15, 327)\n",
      "ghg.gid.site1108.dat\n",
      "1596\n",
      "(15, 327)\n",
      "ghg.gid.site1054.dat\n",
      "1597\n",
      "(15, 327)\n",
      "ghg.gid.site1952.dat\n",
      "1598\n",
      "(15, 327)\n",
      "ghg.gid.site2762.dat\n",
      "1599\n",
      "(15, 327)\n",
      "ghg.gid.site0250.dat\n",
      "1600\n",
      "(15, 327)\n",
      "ghg.gid.site1727.dat\n",
      "1601\n",
      "(15, 327)\n",
      "ghg.gid.site0024.dat\n",
      "1602\n",
      "(15, 327)\n",
      "ghg.gid.site1726.dat\n",
      "1603\n",
      "(15, 327)\n",
      "ghg.gid.site1283.dat\n",
      "1604\n",
      "(15, 327)\n",
      "ghg.gid.site0423.dat\n",
      "1605\n",
      "(15, 327)\n",
      "ghg.gid.site0416.dat\n",
      "1606\n",
      "(15, 327)\n",
      "ghg.gid.site2277.dat\n",
      "1607\n",
      "(15, 327)\n",
      "ghg.gid.site0907.dat\n",
      "1608\n",
      "(15, 327)\n",
      "ghg.gid.site2754.dat\n",
      "1609\n",
      "(15, 327)\n",
      "ghg.gid.site2814.dat\n",
      "1610\n",
      "(15, 327)\n",
      "ghg.gid.site2633.dat\n",
      "1611\n",
      "(15, 327)\n",
      "ghg.gid.site1314.dat\n",
      "1612\n",
      "(15, 327)\n",
      "ghg.gid.site1546.dat\n",
      "1613\n",
      "(15, 327)\n",
      "ghg.gid.site2552.dat\n",
      "1614\n",
      "(15, 327)\n",
      "ghg.gid.site0398.dat\n",
      "1615\n",
      "(15, 327)\n",
      "ghg.gid.site1608.dat\n",
      "1616\n",
      "(15, 327)\n",
      "ghg.gid.site1039.dat\n",
      "1617\n",
      "(15, 327)\n",
      "ghg.gid.site2325.dat\n",
      "1618\n",
      "(15, 327)\n",
      "ghg.gid.site0041.dat\n",
      "1619\n",
      "(15, 327)\n",
      "ghg.gid.site2108.dat\n",
      "1620\n",
      "(15, 327)\n",
      "ghg.gid.site0038.dat\n",
      "1621\n",
      "(15, 327)\n",
      "ghg.gid.site1477.dat\n",
      "1622\n",
      "(15, 327)\n",
      "ghg.gid.site2006.dat\n",
      "1623\n",
      "(15, 327)\n",
      "ghg.gid.site1760.dat\n",
      "1624\n",
      "(15, 327)\n",
      "ghg.gid.site1089.dat\n",
      "1625\n",
      "(15, 327)\n",
      "ghg.gid.site1725.dat\n",
      "1626\n",
      "(15, 327)\n",
      "ghg.gid.site0286.dat\n",
      "1627\n",
      "(15, 327)\n",
      "ghg.gid.site2357.dat\n",
      "1628\n",
      "(15, 327)\n",
      "ghg.gid.site2577.dat\n",
      "1629\n",
      "(15, 327)\n",
      "ghg.gid.site0962.dat\n",
      "1630\n",
      "(15, 327)\n",
      "ghg.gid.site0927.dat\n",
      "1631\n",
      "(15, 327)\n",
      "ghg.gid.site2133.dat\n",
      "1632\n",
      "(15, 327)\n",
      "ghg.gid.site1408.dat\n",
      "1633\n",
      "(15, 327)\n",
      "ghg.gid.site2115.dat\n",
      "1634\n",
      "(15, 327)\n",
      "ghg.gid.site2492.dat\n"
     ]
    },
    {
     "name": "stdout",
     "output_type": "stream",
     "text": [
      "1635\n",
      "(15, 327)\n",
      "ghg.gid.site0918.dat\n",
      "1636\n",
      "(15, 327)\n",
      "ghg.gid.site0588.dat\n",
      "1637\n",
      "(15, 327)\n",
      "ghg.gid.site1880.dat\n",
      "1638\n",
      "(15, 327)\n",
      "ghg.gid.site1435.dat\n",
      "1639\n",
      "(15, 327)\n",
      "ghg.gid.site0988.dat\n",
      "1640\n",
      "(15, 327)\n",
      "ghg.gid.site1773.dat\n",
      "1641\n",
      "(15, 327)\n",
      "ghg.gid.site2345.dat\n",
      "1642\n",
      "(15, 327)\n",
      "ghg.gid.site1740.dat\n",
      "1643\n",
      "(15, 327)\n",
      "ghg.gid.site2226.dat\n",
      "1644\n",
      "(15, 327)\n",
      "ghg.gid.site0166.dat\n",
      "1645\n",
      "(15, 327)\n",
      "ghg.gid.site0885.dat\n",
      "1646\n",
      "(15, 327)\n",
      "ghg.gid.site2103.dat\n",
      "1647\n",
      "(15, 327)\n",
      "ghg.gid.site0380.dat\n",
      "1648\n",
      "(15, 327)\n",
      "ghg.gid.site0465.dat\n",
      "1649\n",
      "(15, 327)\n",
      "ghg.gid.site2207.dat\n",
      "1650\n",
      "(15, 327)\n",
      "ghg.gid.site0811.dat\n",
      "1651\n",
      "(15, 327)\n",
      "ghg.gid.site0360.dat\n",
      "1652\n",
      "(15, 327)\n",
      "ghg.gid.site2554.dat\n",
      "1653\n",
      "(15, 327)\n",
      "ghg.gid.site1479.dat\n",
      "1654\n",
      "(15, 327)\n",
      "ghg.gid.site2715.dat\n",
      "1655\n",
      "(15, 327)\n",
      "ghg.gid.site0556.dat\n",
      "1656\n",
      "(15, 327)\n",
      "ghg.gid.site0690.dat\n",
      "1657\n",
      "(15, 327)\n",
      "ghg.gid.site1607.dat\n",
      "1658\n",
      "(15, 327)\n",
      "ghg.gid.site2094.dat\n",
      "1659\n",
      "(15, 327)\n",
      "ghg.gid.site2902.dat\n",
      "1660\n",
      "(15, 327)\n",
      "ghg.gid.site0065.dat\n",
      "1661\n",
      "(15, 327)\n",
      "ghg.gid.site0859.dat\n",
      "1662\n",
      "(15, 327)\n",
      "ghg.gid.site0047.dat\n",
      "1663\n",
      "(15, 327)\n",
      "ghg.gid.site0492.dat\n",
      "1664\n",
      "(15, 327)\n",
      "ghg.gid.site1514.dat\n",
      "1665\n",
      "(15, 327)\n",
      "ghg.gid.site1189.dat\n",
      "1666\n",
      "(15, 327)\n",
      "ghg.gid.site2155.dat\n",
      "1667\n",
      "(15, 327)\n",
      "ghg.gid.site1839.dat\n",
      "1668\n",
      "(15, 327)\n",
      "ghg.gid.site2322.dat\n",
      "1669\n",
      "(15, 327)\n",
      "ghg.gid.site2048.dat\n",
      "1670\n",
      "(15, 327)\n",
      "ghg.gid.site0795.dat\n",
      "1671\n",
      "(15, 327)\n",
      "ghg.gid.site2439.dat\n",
      "1672\n",
      "(15, 327)\n",
      "ghg.gid.site0880.dat\n",
      "1673\n",
      "(15, 327)\n",
      "ghg.gid.site1165.dat\n",
      "1674\n",
      "(15, 327)\n",
      "ghg.gid.site2493.dat\n",
      "1675\n",
      "(15, 327)\n",
      "ghg.gid.site2719.dat\n",
      "1676\n",
      "(15, 327)\n",
      "ghg.gid.site0033.dat\n",
      "1677\n",
      "(15, 327)\n",
      "ghg.gid.site0620.dat\n",
      "1678\n",
      "(15, 327)\n",
      "ghg.gid.site0996.dat\n",
      "1679\n",
      "(15, 327)\n",
      "ghg.gid.site2531.dat\n",
      "1680\n",
      "(15, 327)\n",
      "ghg.gid.site0577.dat\n",
      "1681\n",
      "(15, 327)\n",
      "ghg.gid.site2791.dat\n",
      "1682\n",
      "(15, 327)\n",
      "ghg.gid.site1146.dat\n",
      "1683\n",
      "(15, 327)\n",
      "ghg.gid.site1200.dat\n",
      "1684\n",
      "(15, 327)\n",
      "ghg.gid.site2119.dat\n",
      "1685\n",
      "(15, 327)\n",
      "ghg.gid.site2496.dat\n",
      "1686\n",
      "(15, 327)\n",
      "ghg.gid.site1432.dat\n",
      "1687\n",
      "(15, 327)\n",
      "ghg.gid.site0523.dat\n",
      "1688\n",
      "(15, 327)\n",
      "ghg.gid.site0819.dat\n",
      "1689\n",
      "(15, 327)\n",
      "ghg.gid.site2196.dat\n",
      "1690\n",
      "(15, 327)\n",
      "ghg.gid.site2739.dat\n",
      "1691\n",
      "(15, 327)\n",
      "ghg.gid.site0437.dat\n",
      "1692\n",
      "(15, 327)\n",
      "ghg.gid.site2609.dat\n",
      "1693\n",
      "(15, 327)\n",
      "ghg.gid.site2818.dat\n",
      "1694\n",
      "(15, 327)\n",
      "ghg.gid.site2138.dat\n",
      "1695\n",
      "(15, 327)\n",
      "ghg.gid.site0425.dat\n",
      "1696\n",
      "(15, 327)\n",
      "ghg.gid.site0882.dat\n",
      "1697\n",
      "(15, 327)\n",
      "ghg.gid.site0926.dat\n",
      "1698\n",
      "(15, 327)\n",
      "ghg.gid.site0289.dat\n",
      "1699\n",
      "(15, 327)\n",
      "ghg.gid.site1604.dat\n",
      "1700\n",
      "(15, 327)\n",
      "ghg.gid.site2542.dat\n",
      "1701\n",
      "(15, 327)\n",
      "ghg.gid.site1388.dat\n",
      "1702\n",
      "(15, 327)\n",
      "ghg.gid.site1691.dat\n",
      "1703\n",
      "(15, 327)\n",
      "ghg.gid.site2014.dat\n",
      "1704\n",
      "(15, 327)\n",
      "ghg.gid.site0121.dat\n",
      "1705\n",
      "(15, 327)\n",
      "ghg.gid.site1959.dat\n",
      "1706\n",
      "(15, 327)\n",
      "ghg.gid.site1169.dat\n",
      "1707\n",
      "(15, 327)\n",
      "ghg.gid.site0333.dat\n",
      "1708\n",
      "(15, 327)\n",
      "ghg.gid.site1924.dat\n",
      "1709\n",
      "(15, 327)\n",
      "ghg.gid.site1700.dat\n",
      "1710\n",
      "(15, 327)\n",
      "ghg.gid.site2501.dat\n",
      "1711\n",
      "(15, 327)\n",
      "ghg.gid.site2068.dat\n",
      "1712\n",
      "(15, 327)\n",
      "ghg.gid.site0075.dat\n",
      "1713\n",
      "(15, 327)\n",
      "ghg.gid.site0688.dat\n",
      "1714\n",
      "(15, 327)\n",
      "ghg.gid.site0824.dat\n",
      "1715\n",
      "(15, 327)\n",
      "ghg.gid.site1166.dat\n",
      "1716\n",
      "(15, 327)\n",
      "ghg.gid.site1053.dat\n",
      "1717\n",
      "(15, 327)\n",
      "ghg.gid.site0672.dat\n",
      "1718\n",
      "(15, 327)\n",
      "ghg.gid.site0506.dat\n",
      "1719\n",
      "(15, 327)\n",
      "ghg.gid.site0114.dat\n",
      "1720\n",
      "(15, 327)\n",
      "ghg.gid.site0009.dat\n",
      "1721\n",
      "(15, 327)\n",
      "ghg.gid.site1451.dat\n",
      "1722\n",
      "(15, 327)\n",
      "ghg.gid.site1145.dat\n",
      "1723\n",
      "(15, 327)\n",
      "ghg.gid.site1627.dat\n",
      "1724\n",
      "(15, 327)\n",
      "ghg.gid.site1896.dat\n",
      "1725\n",
      "(15, 327)\n",
      "ghg.gid.site0505.dat\n",
      "1726\n",
      "(15, 327)\n",
      "ghg.gid.site0670.dat\n",
      "1727\n",
      "(15, 327)\n",
      "ghg.gid.site0726.dat\n",
      "1728\n",
      "(15, 327)\n",
      "ghg.gid.site1862.dat\n",
      "1729\n",
      "(15, 327)\n",
      "ghg.gid.site0815.dat\n",
      "1730\n",
      "(15, 327)\n",
      "ghg.gid.site2614.dat\n",
      "1731\n",
      "(15, 327)\n",
      "ghg.gid.site1572.dat\n",
      "1732\n",
      "(15, 327)\n",
      "ghg.gid.site0235.dat\n",
      "1733\n",
      "(15, 327)\n",
      "ghg.gid.site0491.dat\n",
      "1734\n",
      "(15, 327)\n",
      "ghg.gid.site1705.dat\n",
      "1735\n",
      "(15, 327)\n",
      "ghg.gid.site1964.dat\n",
      "1736\n",
      "(15, 327)\n",
      "ghg.gid.site2862.dat\n",
      "1737\n",
      "(15, 327)\n",
      "ghg.gid.site0973.dat\n",
      "1738\n",
      "(15, 327)\n",
      "ghg.gid.site1527.dat\n",
      "1739\n",
      "(15, 327)\n",
      "ghg.gid.site2597.dat\n",
      "1740\n",
      "(15, 327)\n",
      "ghg.gid.site1322.dat\n",
      "1741\n",
      "(15, 327)\n",
      "ghg.gid.site2275.dat\n",
      "1742\n",
      "(15, 327)\n",
      "ghg.gid.site0575.dat\n",
      "1743\n",
      "(15, 327)\n",
      "ghg.gid.site2589.dat\n",
      "1744\n",
      "(15, 327)\n",
      "ghg.gid.site2316.dat\n",
      "1745\n",
      "(15, 327)\n",
      "ghg.gid.site1107.dat\n",
      "1746\n",
      "(15, 327)\n",
      "ghg.gid.site1521.dat\n",
      "1747\n",
      "(15, 327)\n",
      "ghg.gid.site0385.dat\n",
      "1748\n",
      "(15, 327)\n",
      "ghg.gid.site2775.dat\n",
      "1749\n",
      "(15, 327)\n",
      "ghg.gid.site1537.dat\n",
      "1750\n",
      "(15, 327)\n",
      "ghg.gid.site0792.dat\n",
      "1751\n",
      "(15, 327)\n",
      "ghg.gid.site2782.dat\n",
      "1752\n",
      "(15, 327)\n",
      "ghg.gid.site0716.dat\n",
      "1753\n",
      "(15, 327)\n",
      "ghg.gid.site2272.dat\n",
      "1754\n",
      "(15, 327)\n",
      "ghg.gid.site2915.dat\n",
      "1755\n",
      "(15, 327)\n",
      "ghg.gid.site1122.dat\n",
      "1756\n",
      "(15, 327)\n",
      "ghg.gid.site1958.dat\n",
      "1757\n",
      "(15, 327)\n",
      "ghg.gid.site2128.dat\n",
      "1758\n",
      "(15, 327)\n",
      "ghg.gid.site2480.dat\n",
      "1759\n",
      "(15, 327)\n",
      "ghg.gid.site0708.dat\n",
      "1760\n",
      "(15, 327)\n",
      "ghg.gid.site1280.dat\n",
      "1761\n",
      "(15, 327)\n",
      "ghg.gid.site0487.dat\n",
      "1762\n",
      "(15, 327)\n",
      "ghg.gid.site1642.dat\n",
      "1763\n",
      "(15, 327)\n",
      "ghg.gid.site0998.dat\n",
      "1764\n",
      "(15, 327)\n",
      "ghg.gid.site1281.dat\n",
      "1765\n",
      "(15, 327)\n",
      "ghg.gid.site2584.dat\n",
      "1766\n",
      "(15, 327)\n",
      "ghg.gid.site1167.dat\n",
      "1767\n",
      "(15, 327)\n",
      "ghg.gid.site2279.dat\n",
      "1768\n",
      "(15, 327)\n",
      "ghg.gid.site0949.dat\n",
      "1769\n",
      "(15, 327)\n",
      "ghg.gid.site0080.dat\n",
      "1770\n",
      "(15, 327)\n",
      "ghg.gid.site1996.dat\n",
      "1771\n",
      "(15, 327)\n",
      "ghg.gid.site1387.dat\n",
      "1772\n",
      "(15, 327)\n",
      "ghg.gid.site1512.dat\n",
      "1773\n",
      "(15, 327)\n",
      "ghg.gid.site0426.dat\n",
      "1774\n",
      "(15, 327)\n",
      "ghg.gid.site0432.dat\n",
      "1775\n",
      "(15, 327)\n",
      "ghg.gid.site1082.dat\n",
      "1776\n",
      "(15, 327)\n",
      "ghg.gid.site0103.dat\n",
      "1777\n",
      "(15, 327)\n",
      "ghg.gid.site2617.dat\n",
      "1778\n",
      "(15, 327)\n",
      "ghg.gid.site1532.dat\n",
      "1779\n",
      "(15, 327)\n",
      "ghg.gid.site1117.dat\n",
      "1780\n",
      "(15, 327)\n",
      "ghg.gid.site1630.dat\n",
      "1781\n",
      "(15, 327)\n",
      "ghg.gid.site1061.dat\n",
      "1782\n",
      "(15, 327)\n",
      "ghg.gid.site1765.dat\n",
      "1783\n",
      "(15, 327)\n",
      "ghg.gid.site2206.dat\n",
      "1784\n",
      "(15, 327)\n",
      "ghg.gid.site1941.dat\n",
      "1785\n",
      "(15, 327)\n",
      "ghg.gid.site1367.dat\n",
      "1786\n",
      "(15, 327)\n",
      "ghg.gid.site1974.dat\n",
      "1787\n",
      "(15, 327)\n",
      "ghg.gid.site0003.dat\n",
      "1788\n",
      "(15, 327)\n",
      "ghg.gid.site2156.dat\n",
      "1789\n",
      "(15, 327)\n",
      "ghg.gid.site2204.dat\n",
      "1790\n",
      "(15, 327)\n",
      "ghg.gid.site2303.dat\n",
      "1791\n",
      "(15, 327)\n",
      "ghg.gid.site1916.dat\n",
      "1792\n",
      "(15, 327)\n",
      "ghg.gid.site2784.dat\n",
      "1793\n",
      "(15, 327)\n",
      "ghg.gid.site0952.dat\n",
      "1794\n",
      "(15, 327)\n",
      "ghg.gid.site1971.dat\n",
      "1795\n",
      "(15, 327)\n",
      "ghg.gid.site1300.dat\n",
      "1796\n",
      "(15, 327)\n",
      "ghg.gid.site1269.dat\n",
      "1797\n",
      "(15, 327)\n",
      "ghg.gid.site0624.dat\n",
      "1798\n",
      "(15, 327)\n",
      "ghg.gid.site2057.dat\n",
      "1799\n",
      "(15, 327)\n",
      "ghg.gid.site1877.dat\n",
      "1800\n",
      "(15, 327)\n",
      "ghg.gid.site1353.dat\n",
      "1801\n",
      "(15, 327)\n",
      "ghg.gid.site0252.dat\n",
      "1802\n",
      "(15, 327)\n",
      "ghg.gid.site2194.dat\n",
      "1803\n",
      "(15, 327)\n",
      "ghg.gid.site1847.dat\n",
      "1804\n",
      "(15, 327)\n",
      "ghg.gid.site0306.dat\n",
      "1805\n",
      "(15, 327)\n",
      "ghg.gid.site1434.dat\n",
      "1806\n",
      "(15, 327)\n",
      "ghg.gid.site1980.dat\n",
      "1807\n",
      "(15, 327)\n",
      "ghg.gid.site2672.dat\n",
      "1808\n",
      "(15, 327)\n",
      "ghg.gid.site0532.dat\n",
      "1809\n",
      "(15, 327)\n",
      "ghg.gid.site0676.dat\n",
      "1810\n",
      "(15, 327)\n",
      "ghg.gid.site2778.dat\n",
      "1811\n",
      "(15, 327)\n",
      "ghg.gid.site2635.dat\n",
      "1812\n",
      "(15, 327)\n",
      "ghg.gid.site1171.dat\n",
      "1813\n",
      "(15, 327)\n",
      "ghg.gid.site1745.dat\n",
      "1814\n",
      "(15, 327)\n",
      "ghg.gid.site1225.dat\n",
      "1815\n",
      "(15, 327)\n",
      "ghg.gid.site1029.dat\n",
      "1816\n",
      "(15, 327)\n",
      "ghg.gid.site0023.dat\n",
      "1817\n",
      "(15, 327)\n",
      "ghg.gid.site0214.dat\n",
      "1818\n",
      "(15, 327)\n",
      "ghg.gid.site2490.dat\n",
      "1819\n",
      "(15, 327)\n",
      "ghg.gid.site1491.dat\n",
      "1820\n",
      "(15, 327)\n",
      "ghg.gid.site1187.dat\n",
      "1821\n",
      "(15, 327)\n",
      "ghg.gid.site1584.dat\n",
      "1822\n",
      "(15, 327)\n",
      "ghg.gid.site0155.dat\n",
      "1823\n",
      "(15, 327)\n",
      "ghg.gid.site0609.dat\n",
      "1824\n",
      "(15, 327)\n",
      "ghg.gid.site0251.dat\n",
      "1825\n",
      "(15, 327)\n",
      "ghg.gid.site2154.dat\n",
      "1826\n",
      "(15, 327)\n",
      "ghg.gid.site1438.dat\n",
      "1827\n",
      "(15, 327)\n",
      "ghg.gid.site1443.dat\n",
      "1828\n",
      "(15, 327)\n",
      "ghg.gid.site1679.dat\n",
      "1829\n",
      "(15, 327)\n",
      "ghg.gid.site0071.dat\n",
      "1830\n",
      "(15, 327)\n",
      "ghg.gid.site2799.dat\n",
      "1831\n",
      "(15, 327)\n",
      "ghg.gid.site0210.dat\n",
      "1832\n",
      "(15, 327)\n",
      "ghg.gid.site2753.dat\n",
      "1833\n",
      "(15, 327)\n",
      "ghg.gid.site0883.dat\n",
      "1834\n",
      "(15, 327)\n",
      "ghg.gid.site1752.dat\n",
      "1835\n",
      "(15, 327)\n",
      "ghg.gid.site0549.dat\n",
      "1836\n",
      "(15, 327)\n",
      "ghg.gid.site1636.dat\n",
      "1837\n",
      "(15, 327)\n",
      "ghg.gid.site2852.dat\n",
      "1838\n",
      "(15, 327)\n",
      "ghg.gid.site0365.dat\n",
      "1839\n",
      "(15, 327)\n",
      "ghg.gid.site2245.dat\n",
      "1840\n",
      "(15, 327)\n",
      "ghg.gid.site0458.dat\n",
      "1841\n",
      "(15, 327)\n",
      "ghg.gid.site0391.dat\n",
      "1842\n",
      "(15, 327)\n",
      "ghg.gid.site0683.dat\n",
      "1843\n",
      "(15, 327)\n",
      "ghg.gid.site1335.dat\n",
      "1844\n",
      "(15, 327)\n",
      "ghg.gid.site2743.dat\n",
      "1845\n",
      "(15, 327)\n",
      "ghg.gid.site2385.dat\n",
      "1846\n",
      "(15, 327)\n",
      "ghg.gid.site1739.dat\n",
      "1847\n",
      "(15, 327)\n",
      "ghg.gid.site0709.dat\n",
      "1848\n",
      "(15, 327)\n",
      "ghg.gid.site0516.dat\n",
      "1849\n",
      "(15, 327)\n",
      "ghg.gid.site0759.dat\n",
      "1850\n",
      "(15, 327)\n",
      "ghg.gid.site0923.dat\n",
      "1851\n",
      "(15, 327)\n",
      "ghg.gid.site0427.dat\n",
      "1852\n",
      "(15, 327)\n",
      "ghg.gid.site2649.dat\n",
      "1853\n",
      "(15, 327)\n",
      "ghg.gid.site0125.dat\n",
      "1854\n",
      "(15, 327)\n",
      "ghg.gid.site1351.dat\n",
      "1855\n",
      "(15, 327)\n",
      "ghg.gid.site1660.dat\n",
      "1856\n",
      "(15, 327)\n",
      "ghg.gid.site1238.dat\n",
      "1857\n",
      "(15, 327)\n",
      "ghg.gid.site0644.dat\n",
      "1858\n",
      "(15, 327)\n",
      "ghg.gid.site1686.dat\n",
      "1859\n",
      "(15, 327)\n",
      "ghg.gid.site1141.dat\n",
      "1860\n",
      "(15, 327)\n",
      "ghg.gid.site2059.dat\n",
      "1861\n",
      "(15, 327)\n",
      "ghg.gid.site1997.dat\n",
      "1862\n",
      "(15, 327)\n",
      "ghg.gid.site1790.dat\n",
      "1863\n",
      "(15, 327)\n",
      "ghg.gid.site0292.dat\n",
      "1864\n",
      "(15, 327)\n",
      "ghg.gid.site2776.dat\n",
      "1865\n",
      "(15, 327)\n",
      "ghg.gid.site0857.dat\n",
      "1866\n",
      "(15, 327)\n",
      "ghg.gid.site0081.dat\n",
      "1867\n",
      "(15, 327)\n",
      "ghg.gid.site2707.dat\n",
      "1868\n",
      "(15, 327)\n",
      "ghg.gid.site2653.dat\n",
      "1869\n",
      "(15, 327)\n",
      "ghg.gid.site0249.dat\n",
      "1870\n"
     ]
    },
    {
     "name": "stdout",
     "output_type": "stream",
     "text": [
      "(15, 327)\n",
      "ghg.gid.site0378.dat\n",
      "1871\n",
      "(15, 327)\n",
      "ghg.gid.site1330.dat\n",
      "1872\n",
      "(15, 327)\n",
      "ghg.gid.site2374.dat\n",
      "1873\n",
      "(15, 327)\n",
      "ghg.gid.site1534.dat\n",
      "1874\n",
      "(15, 327)\n",
      "ghg.gid.site0520.dat\n",
      "1875\n",
      "(15, 327)\n",
      "ghg.gid.site1525.dat\n",
      "1876\n",
      "(15, 327)\n",
      "ghg.gid.site2786.dat\n",
      "1877\n",
      "(15, 327)\n",
      "ghg.gid.site1658.dat\n",
      "1878\n",
      "(15, 327)\n",
      "ghg.gid.site1714.dat\n",
      "1879\n",
      "(15, 327)\n",
      "ghg.gid.site0357.dat\n",
      "1880\n",
      "(15, 327)\n",
      "ghg.gid.site1497.dat\n",
      "1881\n",
      "(15, 327)\n",
      "ghg.gid.site1510.dat\n",
      "1882\n",
      "(15, 327)\n",
      "ghg.gid.site2296.dat\n",
      "1883\n",
      "(15, 327)\n",
      "ghg.gid.site1688.dat\n",
      "1884\n",
      "(15, 327)\n",
      "ghg.gid.site0215.dat\n",
      "1885\n",
      "(15, 327)\n",
      "ghg.gid.site1828.dat\n",
      "1886\n",
      "(15, 327)\n",
      "ghg.gid.site2766.dat\n",
      "1887\n",
      "(15, 327)\n",
      "ghg.gid.site1329.dat\n",
      "1888\n",
      "(15, 327)\n",
      "ghg.gid.site1060.dat\n",
      "1889\n",
      "(15, 327)\n",
      "ghg.gid.site1674.dat\n",
      "1890\n",
      "(15, 327)\n",
      "ghg.gid.site2880.dat\n",
      "1891\n",
      "(15, 327)\n",
      "ghg.gid.site1548.dat\n",
      "1892\n",
      "(15, 327)\n",
      "ghg.gid.site1625.dat\n",
      "1893\n",
      "(15, 327)\n",
      "ghg.gid.site2914.dat\n",
      "1894\n",
      "(15, 327)\n",
      "ghg.gid.site2105.dat\n",
      "1895\n",
      "(15, 327)\n",
      "ghg.gid.site1137.dat\n",
      "1896\n",
      "(15, 327)\n",
      "ghg.gid.site2679.dat\n",
      "1897\n",
      "(15, 327)\n",
      "ghg.gid.site0429.dat\n",
      "1898\n",
      "(15, 327)\n",
      "ghg.gid.site2878.dat\n",
      "1899\n",
      "(15, 327)\n",
      "ghg.gid.site1036.dat\n",
      "1900\n",
      "(15, 327)\n",
      "ghg.gid.site2465.dat\n",
      "1901\n",
      "(15, 327)\n",
      "ghg.gid.site2302.dat\n",
      "1902\n",
      "(15, 327)\n",
      "ghg.gid.site0593.dat\n",
      "1903\n",
      "(15, 327)\n",
      "ghg.gid.site1476.dat\n",
      "1904\n",
      "(15, 327)\n",
      "ghg.gid.site1091.dat\n",
      "1905\n",
      "(15, 327)\n",
      "ghg.gid.site0039.dat\n",
      "1906\n",
      "(15, 327)\n",
      "ghg.gid.site0280.dat\n",
      "1907\n",
      "(15, 327)\n",
      "ghg.gid.site1306.dat\n",
      "1908\n",
      "(15, 327)\n",
      "ghg.gid.site1950.dat\n",
      "1909\n",
      "(15, 327)\n",
      "ghg.gid.site2812.dat\n",
      "1910\n",
      "(15, 327)\n",
      "ghg.gid.site0203.dat\n",
      "1911\n",
      "(15, 327)\n",
      "ghg.gid.site2037.dat\n",
      "1912\n",
      "(15, 327)\n",
      "ghg.gid.site1583.dat\n",
      "1913\n",
      "(15, 327)\n",
      "ghg.gid.site1805.dat\n",
      "1914\n",
      "(15, 327)\n",
      "ghg.gid.site1749.dat\n",
      "1915\n",
      "(15, 327)\n",
      "ghg.gid.site1780.dat\n",
      "1916\n",
      "(15, 327)\n",
      "ghg.gid.site2238.dat\n",
      "1917\n",
      "(15, 327)\n",
      "ghg.gid.site1181.dat\n",
      "1918\n",
      "(15, 327)\n",
      "ghg.gid.site1421.dat\n",
      "1919\n",
      "(15, 327)\n",
      "ghg.gid.site2365.dat\n",
      "1920\n",
      "(15, 327)\n",
      "ghg.gid.site2102.dat\n",
      "1921\n",
      "(15, 327)\n",
      "ghg.gid.site2326.dat\n",
      "1922\n",
      "(15, 327)\n",
      "ghg.gid.site1394.dat\n",
      "1923\n",
      "(15, 327)\n",
      "ghg.gid.site0922.dat\n",
      "1924\n",
      "(15, 327)\n",
      "ghg.gid.site1909.dat\n",
      "1925\n",
      "(15, 327)\n",
      "ghg.gid.site0580.dat\n",
      "1926\n",
      "(15, 327)\n",
      "ghg.gid.site0650.dat\n",
      "1927\n",
      "(15, 327)\n",
      "ghg.gid.site0021.dat\n",
      "1928\n",
      "(15, 327)\n",
      "ghg.gid.site2433.dat\n",
      "1929\n",
      "(15, 327)\n",
      "ghg.gid.site2757.dat\n",
      "1930\n",
      "(15, 327)\n",
      "ghg.gid.site1506.dat\n",
      "1931\n",
      "(15, 327)\n",
      "ghg.gid.site1918.dat\n",
      "1932\n",
      "(15, 327)\n",
      "ghg.gid.site2891.dat\n",
      "1933\n",
      "(15, 327)\n",
      "ghg.gid.site2668.dat\n",
      "1934\n",
      "(15, 327)\n",
      "ghg.gid.site0589.dat\n",
      "1935\n",
      "(15, 327)\n",
      "ghg.gid.site2856.dat\n",
      "1936\n",
      "(15, 327)\n",
      "ghg.gid.site0562.dat\n",
      "1937\n",
      "(15, 327)\n",
      "ghg.gid.site2404.dat\n",
      "1938\n",
      "(15, 327)\n",
      "ghg.gid.site1084.dat\n",
      "1939\n",
      "(15, 327)\n",
      "ghg.gid.site2813.dat\n",
      "1940\n",
      "(15, 327)\n",
      "ghg.gid.site1198.dat\n",
      "1941\n",
      "(15, 327)\n",
      "ghg.gid.site0656.dat\n",
      "1942\n",
      "(15, 327)\n",
      "ghg.gid.site2906.dat\n",
      "1943\n",
      "(15, 327)\n",
      "ghg.gid.site2608.dat\n",
      "1944\n",
      "(15, 327)\n",
      "ghg.gid.site2540.dat\n",
      "1945\n",
      "(15, 327)\n",
      "ghg.gid.site1086.dat\n",
      "1946\n",
      "(15, 327)\n",
      "ghg.gid.site1331.dat\n",
      "1947\n",
      "(15, 327)\n",
      "ghg.gid.site1970.dat\n",
      "1948\n",
      "(15, 327)\n",
      "ghg.gid.site1298.dat\n",
      "1949\n",
      "(15, 327)\n",
      "ghg.gid.site0851.dat\n",
      "1950\n",
      "(15, 327)\n",
      "ghg.gid.site1128.dat\n",
      "1951\n",
      "(15, 327)\n",
      "ghg.gid.site0386.dat\n",
      "1952\n",
      "(15, 327)\n",
      "ghg.gid.site1908.dat\n",
      "1953\n",
      "(15, 327)\n",
      "ghg.gid.site1641.dat\n",
      "1954\n",
      "(15, 327)\n",
      "ghg.gid.site1194.dat\n",
      "1955\n",
      "(15, 327)\n",
      "ghg.gid.site2134.dat\n",
      "1956\n",
      "(15, 327)\n",
      "ghg.gid.site1501.dat\n",
      "1957\n",
      "(15, 327)\n",
      "ghg.gid.site0867.dat\n",
      "1958\n",
      "(15, 327)\n",
      "ghg.gid.site1398.dat\n",
      "1959\n",
      "(15, 327)\n",
      "ghg.gid.site2387.dat\n",
      "1960\n",
      "(15, 327)\n",
      "ghg.gid.site0028.dat\n",
      "1961\n",
      "(15, 327)\n",
      "ghg.gid.site2698.dat\n",
      "1962\n",
      "(15, 327)\n",
      "ghg.gid.site0275.dat\n",
      "1963\n",
      "(15, 327)\n",
      "ghg.gid.site0101.dat\n",
      "1964\n",
      "(15, 327)\n",
      "ghg.gid.site0388.dat\n",
      "1965\n",
      "(15, 327)\n",
      "ghg.gid.site1723.dat\n",
      "1966\n",
      "(15, 327)\n",
      "ghg.gid.site0031.dat\n",
      "1967\n",
      "(15, 327)\n",
      "ghg.gid.site0201.dat\n",
      "1968\n",
      "(15, 327)\n",
      "ghg.gid.site1591.dat\n",
      "1969\n",
      "(15, 327)\n",
      "ghg.gid.site2873.dat\n",
      "1970\n",
      "(15, 327)\n",
      "ghg.gid.site0300.dat\n",
      "1971\n",
      "(15, 327)\n",
      "ghg.gid.site2043.dat\n",
      "1972\n",
      "(15, 327)\n",
      "ghg.gid.site1419.dat\n",
      "1973\n",
      "(15, 327)\n",
      "ghg.gid.site0707.dat\n",
      "1974\n",
      "(15, 327)\n",
      "ghg.gid.site0234.dat\n",
      "1975\n",
      "(15, 327)\n",
      "ghg.gid.site0484.dat\n",
      "1976\n",
      "(15, 327)\n",
      "ghg.gid.site0291.dat\n",
      "1977\n",
      "(15, 327)\n",
      "ghg.gid.site1149.dat\n",
      "1978\n",
      "(15, 327)\n",
      "ghg.gid.site2416.dat\n",
      "1979\n",
      "(15, 327)\n",
      "ghg.gid.site2603.dat\n",
      "1980\n",
      "(15, 327)\n",
      "ghg.gid.site1650.dat\n",
      "1981\n",
      "(15, 327)\n",
      "ghg.gid.site1786.dat\n",
      "1982\n",
      "(15, 327)\n",
      "ghg.gid.site0735.dat\n",
      "1983\n",
      "(15, 327)\n",
      "ghg.gid.site1142.dat\n",
      "1984\n",
      "(15, 327)\n",
      "ghg.gid.site0111.dat\n",
      "1985\n",
      "(15, 327)\n",
      "ghg.gid.site0543.dat\n",
      "1986\n",
      "(15, 327)\n",
      "ghg.gid.site0731.dat\n",
      "1987\n",
      "(15, 327)\n",
      "ghg.gid.site0844.dat\n",
      "1988\n",
      "(15, 327)\n",
      "ghg.gid.site1767.dat\n",
      "1989\n",
      "(15, 327)\n",
      "ghg.gid.site2395.dat\n",
      "1990\n",
      "(15, 327)\n",
      "ghg.gid.site2670.dat\n",
      "1991\n",
      "(15, 327)\n",
      "ghg.gid.site2561.dat\n",
      "1992\n",
      "(15, 327)\n",
      "ghg.gid.site0671.dat\n",
      "1993\n",
      "(15, 327)\n",
      "ghg.gid.site0881.dat\n",
      "1994\n",
      "(15, 327)\n",
      "ghg.gid.site0260.dat\n",
      "1995\n",
      "(15, 327)\n",
      "ghg.gid.site2760.dat\n",
      "1996\n",
      "(15, 327)\n",
      "ghg.gid.site1637.dat\n",
      "1997\n",
      "(15, 327)\n",
      "ghg.gid.site2178.dat\n",
      "1998\n",
      "(15, 327)\n",
      "ghg.gid.site1562.dat\n",
      "1999\n",
      "(15, 327)\n",
      "ghg.gid.site1611.dat\n",
      "----------------data process finish-----------------\n",
      "Working on data  ghg\n",
      "Dim=  327 14 1\n",
      "N train= 1600 N test= 400\n",
      "computing best lp regression loss\n",
      "======================LP regression===============\n",
      "106.0\n",
      "======================LP regression===============\n"
     ]
    },
    {
     "name": "stderr",
     "output_type": "stream",
     "text": [
      "\n",
      "  0%|          | 0/1000 [00:00<?, ?it/s]\u001b[A"
     ]
    },
    {
     "name": "stdout",
     "output_type": "stream",
     "text": [
      "======================LP regression===============\n",
      "108.0\n",
      "======================LP regression===============\n",
      "Best: train:106.000000 , test:108.000000\n",
      "\n",
      "-----------doing random-----------\n",
      "------------TOTAL RANDOM-----------\n",
      "106.0 113.0\n",
      "Saved iteration: 0\n"
     ]
    },
    {
     "name": "stderr",
     "output_type": "stream",
     "text": [
      "\n",
      "  0%|          | 1/1000 [02:44<45:38:03, 164.45s/it]\u001b[A"
     ]
    },
    {
     "name": "stdout",
     "output_type": "stream",
     "text": [
      "tensor(111.5965, grad_fn=<MeanBackward0>)\n"
     ]
    },
    {
     "name": "stderr",
     "output_type": "stream",
     "text": [
      "\n",
      "  0%|          | 2/1000 [02:48<32:17:13, 116.47s/it]\u001b[A"
     ]
    },
    {
     "name": "stdout",
     "output_type": "stream",
     "text": [
      "tensor(75.4681, grad_fn=<MeanBackward0>)\n"
     ]
    },
    {
     "name": "stderr",
     "output_type": "stream",
     "text": [
      "\n",
      "  0%|          | 3/1000 [02:53<22:56:26, 82.84s/it] \u001b[A"
     ]
    },
    {
     "name": "stdout",
     "output_type": "stream",
     "text": [
      "tensor(146.0130, grad_fn=<MeanBackward0>)\n"
     ]
    },
    {
     "name": "stderr",
     "output_type": "stream",
     "text": [
      "\n",
      "  0%|          | 4/1000 [02:57<16:24:08, 59.29s/it]\u001b[A"
     ]
    },
    {
     "name": "stdout",
     "output_type": "stream",
     "text": [
      "tensor(152.9832, grad_fn=<MeanBackward0>)\n"
     ]
    },
    {
     "name": "stderr",
     "output_type": "stream",
     "text": [
      "\n",
      "  0%|          | 5/1000 [03:02<11:50:10, 42.82s/it]\u001b[A"
     ]
    },
    {
     "name": "stdout",
     "output_type": "stream",
     "text": [
      "tensor(94.1299, grad_fn=<MeanBackward0>)\n"
     ]
    },
    {
     "name": "stderr",
     "output_type": "stream",
     "text": [
      "\n",
      "  1%|          | 6/1000 [03:06<8:38:17, 31.29s/it] \u001b[A"
     ]
    },
    {
     "name": "stdout",
     "output_type": "stream",
     "text": [
      "tensor(121.6642, grad_fn=<MeanBackward0>)\n"
     ]
    },
    {
     "name": "stderr",
     "output_type": "stream",
     "text": [
      "\n",
      "  1%|          | 7/1000 [03:10<6:24:46, 23.25s/it]\u001b[A"
     ]
    },
    {
     "name": "stdout",
     "output_type": "stream",
     "text": [
      "tensor(88.6963, grad_fn=<MeanBackward0>)\n"
     ]
    },
    {
     "name": "stderr",
     "output_type": "stream",
     "text": [
      "\n",
      "  1%|          | 8/1000 [03:15<4:51:04, 17.61s/it]\u001b[A"
     ]
    },
    {
     "name": "stdout",
     "output_type": "stream",
     "text": [
      "tensor(116.2015, grad_fn=<MeanBackward0>)\n"
     ]
    },
    {
     "name": "stderr",
     "output_type": "stream",
     "text": [
      "\n",
      "  1%|          | 9/1000 [03:19<3:45:05, 13.63s/it]\u001b[A"
     ]
    },
    {
     "name": "stdout",
     "output_type": "stream",
     "text": [
      "tensor(110.1126, grad_fn=<MeanBackward0>)\n"
     ]
    },
    {
     "name": "stderr",
     "output_type": "stream",
     "text": [
      "\n",
      "  1%|          | 10/1000 [03:24<2:58:55, 10.84s/it]\u001b[A"
     ]
    },
    {
     "name": "stdout",
     "output_type": "stream",
     "text": [
      "tensor(86.7089, grad_fn=<MeanBackward0>)\n",
      "102.0 111.0\n",
      "Saved iteration: 10\n"
     ]
    },
    {
     "name": "stderr",
     "output_type": "stream",
     "text": [
      "\n",
      "  1%|          | 11/1000 [06:09<15:41:20, 57.11s/it]\u001b[A"
     ]
    },
    {
     "name": "stdout",
     "output_type": "stream",
     "text": [
      "tensor(107.9528, grad_fn=<MeanBackward0>)\n"
     ]
    },
    {
     "name": "stderr",
     "output_type": "stream",
     "text": [
      "\n",
      "  1%|          | 12/1000 [06:13<11:19:56, 41.29s/it]\u001b[A"
     ]
    },
    {
     "name": "stdout",
     "output_type": "stream",
     "text": [
      "tensor(73.1476, grad_fn=<MeanBackward0>)\n"
     ]
    },
    {
     "name": "stderr",
     "output_type": "stream",
     "text": [
      "\n",
      "  1%|▏         | 13/1000 [06:17<8:16:55, 30.21s/it] \u001b[A"
     ]
    },
    {
     "name": "stdout",
     "output_type": "stream",
     "text": [
      "tensor(53.2264, grad_fn=<MeanBackward0>)\n"
     ]
    },
    {
     "name": "stderr",
     "output_type": "stream",
     "text": [
      "\n",
      "  1%|▏         | 14/1000 [06:22<6:09:01, 22.46s/it]\u001b[A"
     ]
    },
    {
     "name": "stdout",
     "output_type": "stream",
     "text": [
      "tensor(72.4202, grad_fn=<MeanBackward0>)\n"
     ]
    },
    {
     "name": "stderr",
     "output_type": "stream",
     "text": [
      "\n",
      "  2%|▏         | 15/1000 [06:26<4:39:46, 17.04s/it]\u001b[A"
     ]
    },
    {
     "name": "stdout",
     "output_type": "stream",
     "text": [
      "tensor(106.5169, grad_fn=<MeanBackward0>)\n"
     ]
    },
    {
     "name": "stderr",
     "output_type": "stream",
     "text": [
      "\n",
      "  2%|▏         | 16/1000 [06:31<3:37:24, 13.26s/it]\u001b[A"
     ]
    },
    {
     "name": "stdout",
     "output_type": "stream",
     "text": [
      "tensor(100.7248, grad_fn=<MeanBackward0>)\n"
     ]
    },
    {
     "name": "stderr",
     "output_type": "stream",
     "text": [
      "\n",
      "  2%|▏         | 17/1000 [06:35<2:53:17, 10.58s/it]\u001b[A"
     ]
    },
    {
     "name": "stdout",
     "output_type": "stream",
     "text": [
      "tensor(85.2174, grad_fn=<MeanBackward0>)\n"
     ]
    },
    {
     "name": "stderr",
     "output_type": "stream",
     "text": [
      "\n",
      "  2%|▏         | 18/1000 [06:39<2:22:31,  8.71s/it]\u001b[A"
     ]
    },
    {
     "name": "stdout",
     "output_type": "stream",
     "text": [
      "tensor(45.9398, grad_fn=<MeanBackward0>)\n"
     ]
    },
    {
     "name": "stderr",
     "output_type": "stream",
     "text": [
      "\n",
      "  2%|▏         | 19/1000 [06:44<2:01:05,  7.41s/it]\u001b[A"
     ]
    },
    {
     "name": "stdout",
     "output_type": "stream",
     "text": [
      "tensor(70.7084, grad_fn=<MeanBackward0>)\n"
     ]
    },
    {
     "name": "stderr",
     "output_type": "stream",
     "text": [
      "\n",
      "  2%|▏         | 20/1000 [06:48<1:46:43,  6.53s/it]\u001b[A"
     ]
    },
    {
     "name": "stdout",
     "output_type": "stream",
     "text": [
      "tensor(55.4563, grad_fn=<MeanBackward0>)\n",
      "108.0 115.0\n",
      "Saved iteration: 20\n"
     ]
    },
    {
     "name": "stderr",
     "output_type": "stream",
     "text": [
      "\n",
      "  2%|▏         | 21/1000 [09:31<14:33:47, 53.55s/it]\u001b[A"
     ]
    },
    {
     "name": "stdout",
     "output_type": "stream",
     "text": [
      "tensor(55.1148, grad_fn=<MeanBackward0>)\n"
     ]
    },
    {
     "name": "stderr",
     "output_type": "stream",
     "text": [
      "\n",
      "  2%|▏         | 22/1000 [09:36<10:32:19, 38.79s/it]\u001b[A"
     ]
    },
    {
     "name": "stdout",
     "output_type": "stream",
     "text": [
      "tensor(136.6291, grad_fn=<MeanBackward0>)\n"
     ]
    },
    {
     "name": "stderr",
     "output_type": "stream",
     "text": [
      "\n",
      "  2%|▏         | 23/1000 [09:40<7:43:13, 28.45s/it] \u001b[A"
     ]
    },
    {
     "name": "stdout",
     "output_type": "stream",
     "text": [
      "tensor(113.3672, grad_fn=<MeanBackward0>)\n"
     ]
    },
    {
     "name": "stderr",
     "output_type": "stream",
     "text": [
      "\n",
      "  2%|▏         | 24/1000 [09:45<5:46:07, 21.28s/it]\u001b[A"
     ]
    },
    {
     "name": "stdout",
     "output_type": "stream",
     "text": [
      "tensor(102.0044, grad_fn=<MeanBackward0>)\n"
     ]
    },
    {
     "name": "stderr",
     "output_type": "stream",
     "text": [
      "\n",
      "  2%|▎         | 25/1000 [09:49<4:23:15, 16.20s/it]\u001b[A"
     ]
    },
    {
     "name": "stdout",
     "output_type": "stream",
     "text": [
      "tensor(75.3752, grad_fn=<MeanBackward0>)\n"
     ]
    },
    {
     "name": "stderr",
     "output_type": "stream",
     "text": [
      "\n",
      "  3%|▎         | 26/1000 [09:53<3:25:19, 12.65s/it]\u001b[A"
     ]
    },
    {
     "name": "stdout",
     "output_type": "stream",
     "text": [
      "tensor(103.7343, grad_fn=<MeanBackward0>)\n"
     ]
    },
    {
     "name": "stderr",
     "output_type": "stream",
     "text": [
      "\n",
      "  3%|▎         | 27/1000 [09:58<2:44:52, 10.17s/it]\u001b[A"
     ]
    },
    {
     "name": "stdout",
     "output_type": "stream",
     "text": [
      "tensor(119.6781, grad_fn=<MeanBackward0>)\n"
     ]
    },
    {
     "name": "stderr",
     "output_type": "stream",
     "text": [
      "\n",
      "  3%|▎         | 28/1000 [10:02<2:16:36,  8.43s/it]\u001b[A"
     ]
    },
    {
     "name": "stdout",
     "output_type": "stream",
     "text": [
      "tensor(114.9690, grad_fn=<MeanBackward0>)\n"
     ]
    },
    {
     "name": "stderr",
     "output_type": "stream",
     "text": [
      "\n",
      "  3%|▎         | 29/1000 [10:07<1:57:25,  7.26s/it]\u001b[A"
     ]
    },
    {
     "name": "stdout",
     "output_type": "stream",
     "text": [
      "tensor(98.3901, grad_fn=<MeanBackward0>)\n"
     ]
    },
    {
     "name": "stderr",
     "output_type": "stream",
     "text": [
      "\n",
      "  3%|▎         | 30/1000 [10:11<1:43:16,  6.39s/it]\u001b[A"
     ]
    },
    {
     "name": "stdout",
     "output_type": "stream",
     "text": [
      "tensor(110.9755, grad_fn=<MeanBackward0>)\n",
      "101.0 111.0\n",
      "Saved iteration: 30\n"
     ]
    },
    {
     "name": "stderr",
     "output_type": "stream",
     "text": [
      "\n",
      "  3%|▎         | 31/1000 [12:56<14:32:08, 54.00s/it]\u001b[A"
     ]
    },
    {
     "name": "stdout",
     "output_type": "stream",
     "text": [
      "tensor(121.9250, grad_fn=<MeanBackward0>)\n"
     ]
    },
    {
     "name": "stderr",
     "output_type": "stream",
     "text": [
      "\n",
      "  3%|▎         | 32/1000 [13:00<10:30:55, 39.11s/it]\u001b[A"
     ]
    },
    {
     "name": "stdout",
     "output_type": "stream",
     "text": [
      "tensor(43.7653, grad_fn=<MeanBackward0>)\n"
     ]
    },
    {
     "name": "stderr",
     "output_type": "stream",
     "text": [
      "\n",
      "  3%|▎         | 33/1000 [13:05<7:42:13, 28.68s/it] \u001b[A"
     ]
    },
    {
     "name": "stdout",
     "output_type": "stream",
     "text": [
      "tensor(60.7551, grad_fn=<MeanBackward0>)\n"
     ]
    },
    {
     "name": "stderr",
     "output_type": "stream",
     "text": [
      "\n",
      "  3%|▎         | 34/1000 [13:09<5:44:34, 21.40s/it]\u001b[A"
     ]
    },
    {
     "name": "stdout",
     "output_type": "stream",
     "text": [
      "tensor(23.9175, grad_fn=<MeanBackward0>)\n"
     ]
    },
    {
     "name": "stderr",
     "output_type": "stream",
     "text": [
      "\n",
      "  4%|▎         | 35/1000 [13:14<4:22:21, 16.31s/it]\u001b[A"
     ]
    },
    {
     "name": "stdout",
     "output_type": "stream",
     "text": [
      "tensor(58.0740, grad_fn=<MeanBackward0>)\n"
     ]
    },
    {
     "name": "stderr",
     "output_type": "stream",
     "text": [
      "\n",
      "  4%|▎         | 36/1000 [13:18<3:24:23, 12.72s/it]\u001b[A"
     ]
    },
    {
     "name": "stdout",
     "output_type": "stream",
     "text": [
      "tensor(27.4964, grad_fn=<MeanBackward0>)\n"
     ]
    },
    {
     "name": "stderr",
     "output_type": "stream",
     "text": [
      "\n",
      "  4%|▎         | 37/1000 [13:22<2:43:54, 10.21s/it]\u001b[A"
     ]
    },
    {
     "name": "stdout",
     "output_type": "stream",
     "text": [
      "tensor(25.5037, grad_fn=<MeanBackward0>)\n"
     ]
    },
    {
     "name": "stderr",
     "output_type": "stream",
     "text": [
      "\n",
      "  4%|▍         | 38/1000 [13:27<2:15:39,  8.46s/it]\u001b[A"
     ]
    },
    {
     "name": "stdout",
     "output_type": "stream",
     "text": [
      "tensor(60.9793, grad_fn=<MeanBackward0>)\n"
     ]
    },
    {
     "name": "stderr",
     "output_type": "stream",
     "text": [
      "\n",
      "  4%|▍         | 39/1000 [13:31<1:55:47,  7.23s/it]\u001b[A"
     ]
    },
    {
     "name": "stdout",
     "output_type": "stream",
     "text": [
      "tensor(51.8112, grad_fn=<MeanBackward0>)\n"
     ]
    },
    {
     "name": "stderr",
     "output_type": "stream",
     "text": [
      "\n",
      "  4%|▍         | 40/1000 [13:35<1:41:54,  6.37s/it]\u001b[A"
     ]
    },
    {
     "name": "stdout",
     "output_type": "stream",
     "text": [
      "tensor(70.6473, grad_fn=<MeanBackward0>)\n",
      "117.0 125.0\n",
      "Saved iteration: 40\n"
     ]
    },
    {
     "name": "stderr",
     "output_type": "stream",
     "text": [
      "\n",
      "  4%|▍         | 41/1000 [16:20<14:21:15, 53.88s/it]\u001b[A"
     ]
    },
    {
     "name": "stdout",
     "output_type": "stream",
     "text": [
      "tensor(48.6435, grad_fn=<MeanBackward0>)\n"
     ]
    },
    {
     "name": "stderr",
     "output_type": "stream",
     "text": [
      "\n",
      "  4%|▍         | 42/1000 [16:25<10:23:51, 39.07s/it]\u001b[A"
     ]
    },
    {
     "name": "stdout",
     "output_type": "stream",
     "text": [
      "tensor(85.5209, grad_fn=<MeanBackward0>)\n"
     ]
    },
    {
     "name": "stderr",
     "output_type": "stream",
     "text": [
      "\n",
      "  4%|▍         | 43/1000 [16:29<7:37:00, 28.65s/it] \u001b[A"
     ]
    },
    {
     "name": "stdout",
     "output_type": "stream",
     "text": [
      "tensor(103.1922, grad_fn=<MeanBackward0>)\n"
     ]
    },
    {
     "name": "stderr",
     "output_type": "stream",
     "text": [
      "\n",
      "  4%|▍         | 44/1000 [16:33<5:40:28, 21.37s/it]\u001b[A"
     ]
    },
    {
     "name": "stdout",
     "output_type": "stream",
     "text": [
      "tensor(91.0656, grad_fn=<MeanBackward0>)\n"
     ]
    },
    {
     "name": "stderr",
     "output_type": "stream",
     "text": [
      "\n",
      "  4%|▍         | 45/1000 [16:38<4:20:10, 16.35s/it]\u001b[A"
     ]
    },
    {
     "name": "stdout",
     "output_type": "stream",
     "text": [
      "tensor(79.3376, grad_fn=<MeanBackward0>)\n"
     ]
    },
    {
     "name": "stderr",
     "output_type": "stream",
     "text": [
      "\n",
      "  5%|▍         | 46/1000 [16:42<3:23:27, 12.80s/it]\u001b[A"
     ]
    },
    {
     "name": "stdout",
     "output_type": "stream",
     "text": [
      "tensor(51.5499, grad_fn=<MeanBackward0>)\n"
     ]
    },
    {
     "name": "stderr",
     "output_type": "stream",
     "text": [
      "\n",
      "  5%|▍         | 47/1000 [16:47<2:43:22, 10.29s/it]\u001b[A"
     ]
    },
    {
     "name": "stdout",
     "output_type": "stream",
     "text": [
      "tensor(110.2565, grad_fn=<MeanBackward0>)\n"
     ]
    },
    {
     "name": "stderr",
     "output_type": "stream",
     "text": [
      "\n",
      "  5%|▍         | 48/1000 [16:51<2:15:06,  8.52s/it]\u001b[A"
     ]
    },
    {
     "name": "stdout",
     "output_type": "stream",
     "text": [
      "tensor(97.9257, grad_fn=<MeanBackward0>)\n"
     ]
    },
    {
     "name": "stderr",
     "output_type": "stream",
     "text": [
      "\n",
      "  5%|▍         | 49/1000 [16:56<1:55:13,  7.27s/it]\u001b[A"
     ]
    },
    {
     "name": "stdout",
     "output_type": "stream",
     "text": [
      "tensor(110.6401, grad_fn=<MeanBackward0>)\n"
     ]
    },
    {
     "name": "stderr",
     "output_type": "stream",
     "text": [
      "\n",
      "  5%|▌         | 50/1000 [17:00<1:41:20,  6.40s/it]\u001b[A"
     ]
    },
    {
     "name": "stdout",
     "output_type": "stream",
     "text": [
      "tensor(85.9667, grad_fn=<MeanBackward0>)\n",
      "100.0 110.0\n",
      "Saved iteration: 50\n"
     ]
    },
    {
     "name": "stderr",
     "output_type": "stream",
     "text": [
      "\n",
      "  5%|▌         | 51/1000 [19:46<14:18:42, 54.29s/it]\u001b[A"
     ]
    },
    {
     "name": "stdout",
     "output_type": "stream",
     "text": [
      "tensor(59.7208, grad_fn=<MeanBackward0>)\n"
     ]
    },
    {
     "name": "stderr",
     "output_type": "stream",
     "text": [
      "\n",
      "  5%|▌         | 52/1000 [19:50<10:21:07, 39.31s/it]\u001b[A"
     ]
    },
    {
     "name": "stdout",
     "output_type": "stream",
     "text": [
      "tensor(20.2083, grad_fn=<MeanBackward0>)\n"
     ]
    },
    {
     "name": "stderr",
     "output_type": "stream",
     "text": [
      "\n",
      "  5%|▌         | 53/1000 [19:55<7:35:03, 28.83s/it] \u001b[A"
     ]
    },
    {
     "name": "stdout",
     "output_type": "stream",
     "text": [
      "tensor(24.2461, grad_fn=<MeanBackward0>)\n"
     ]
    },
    {
     "name": "stderr",
     "output_type": "stream",
     "text": [
      "\n",
      "  5%|▌         | 54/1000 [19:59<5:38:56, 21.50s/it]\u001b[A"
     ]
    },
    {
     "name": "stdout",
     "output_type": "stream",
     "text": [
      "tensor(30.8342, grad_fn=<MeanBackward0>)\n"
     ]
    },
    {
     "name": "stderr",
     "output_type": "stream",
     "text": [
      "\n",
      "  6%|▌         | 55/1000 [20:04<4:18:03, 16.38s/it]\u001b[A"
     ]
    },
    {
     "name": "stdout",
     "output_type": "stream",
     "text": [
      "tensor(29.3758, grad_fn=<MeanBackward0>)\n"
     ]
    },
    {
     "name": "stderr",
     "output_type": "stream",
     "text": [
      "\n",
      "  6%|▌         | 56/1000 [20:08<3:21:22, 12.80s/it]\u001b[A"
     ]
    },
    {
     "name": "stdout",
     "output_type": "stream",
     "text": [
      "tensor(31.6743, grad_fn=<MeanBackward0>)\n"
     ]
    },
    {
     "name": "stderr",
     "output_type": "stream",
     "text": [
      "\n",
      "  6%|▌         | 57/1000 [20:12<2:41:17, 10.26s/it]\u001b[A"
     ]
    },
    {
     "name": "stdout",
     "output_type": "stream",
     "text": [
      "tensor(33.0478, grad_fn=<MeanBackward0>)\n"
     ]
    },
    {
     "name": "stderr",
     "output_type": "stream",
     "text": [
      "\n",
      "  6%|▌         | 58/1000 [20:17<2:13:29,  8.50s/it]\u001b[A"
     ]
    },
    {
     "name": "stdout",
     "output_type": "stream",
     "text": [
      "tensor(42.9480, grad_fn=<MeanBackward0>)\n"
     ]
    },
    {
     "name": "stderr",
     "output_type": "stream",
     "text": [
      "\n",
      "  6%|▌         | 59/1000 [20:21<1:53:43,  7.25s/it]\u001b[A"
     ]
    },
    {
     "name": "stdout",
     "output_type": "stream",
     "text": [
      "tensor(29.3810, grad_fn=<MeanBackward0>)\n"
     ]
    },
    {
     "name": "stderr",
     "output_type": "stream",
     "text": [
      "\n",
      "  6%|▌         | 60/1000 [20:26<1:40:23,  6.41s/it]\u001b[A"
     ]
    },
    {
     "name": "stdout",
     "output_type": "stream",
     "text": [
      "tensor(30.1435, grad_fn=<MeanBackward0>)\n",
      "108.0 115.0\n",
      "Saved iteration: 60\n"
     ]
    },
    {
     "name": "stderr",
     "output_type": "stream",
     "text": [
      "\n",
      "  6%|▌         | 61/1000 [23:12<14:11:02, 54.38s/it]\u001b[A"
     ]
    },
    {
     "name": "stdout",
     "output_type": "stream",
     "text": [
      "tensor(21.5607, grad_fn=<MeanBackward0>)\n"
     ]
    },
    {
     "name": "stderr",
     "output_type": "stream",
     "text": [
      "\n",
      "  6%|▌         | 62/1000 [23:16<10:15:22, 39.36s/it]\u001b[A"
     ]
    },
    {
     "name": "stdout",
     "output_type": "stream",
     "text": [
      "tensor(89.7374, grad_fn=<MeanBackward0>)\n"
     ]
    },
    {
     "name": "stderr",
     "output_type": "stream",
     "text": [
      "\n",
      "  6%|▋         | 63/1000 [23:21<7:30:47, 28.87s/it] \u001b[A"
     ]
    },
    {
     "name": "stdout",
     "output_type": "stream",
     "text": [
      "tensor(97.7069, grad_fn=<MeanBackward0>)\n"
     ]
    },
    {
     "name": "stderr",
     "output_type": "stream",
     "text": [
      "\n",
      "  6%|▋         | 64/1000 [23:25<5:35:31, 21.51s/it]\u001b[A"
     ]
    },
    {
     "name": "stdout",
     "output_type": "stream",
     "text": [
      "tensor(66.2140, grad_fn=<MeanBackward0>)\n"
     ]
    },
    {
     "name": "stderr",
     "output_type": "stream",
     "text": [
      "\n",
      "  6%|▋         | 65/1000 [23:29<4:15:31, 16.40s/it]\u001b[A"
     ]
    },
    {
     "name": "stdout",
     "output_type": "stream",
     "text": [
      "tensor(38.9314, grad_fn=<MeanBackward0>)\n"
     ]
    },
    {
     "name": "stderr",
     "output_type": "stream",
     "text": [
      "\n",
      "  7%|▋         | 66/1000 [23:34<3:19:16, 12.80s/it]\u001b[A"
     ]
    },
    {
     "name": "stdout",
     "output_type": "stream",
     "text": [
      "tensor(47.1120, grad_fn=<MeanBackward0>)\n"
     ]
    },
    {
     "name": "stderr",
     "output_type": "stream",
     "text": [
      "\n",
      "  7%|▋         | 67/1000 [23:38<2:39:33, 10.26s/it]\u001b[A"
     ]
    },
    {
     "name": "stdout",
     "output_type": "stream",
     "text": [
      "tensor(21.3486, grad_fn=<MeanBackward0>)\n"
     ]
    },
    {
     "name": "stderr",
     "output_type": "stream",
     "text": [
      "\n",
      "  7%|▋         | 68/1000 [23:43<2:11:53,  8.49s/it]\u001b[A"
     ]
    },
    {
     "name": "stdout",
     "output_type": "stream",
     "text": [
      "tensor(33.7461, grad_fn=<MeanBackward0>)\n"
     ]
    },
    {
     "name": "stderr",
     "output_type": "stream",
     "text": [
      "\n",
      "  7%|▋         | 69/1000 [23:47<1:52:41,  7.26s/it]\u001b[A"
     ]
    },
    {
     "name": "stdout",
     "output_type": "stream",
     "text": [
      "tensor(44.7864, grad_fn=<MeanBackward0>)\n"
     ]
    },
    {
     "name": "stderr",
     "output_type": "stream",
     "text": [
      "\n",
      "  7%|▋         | 70/1000 [23:51<1:39:46,  6.44s/it]\u001b[A"
     ]
    },
    {
     "name": "stdout",
     "output_type": "stream",
     "text": [
      "tensor(35.9309, grad_fn=<MeanBackward0>)\n",
      "105.0 116.0\n",
      "Saved iteration: 70\n"
     ]
    },
    {
     "name": "stderr",
     "output_type": "stream",
     "text": [
      "\n",
      "  7%|▋         | 71/1000 [26:39<14:08:30, 54.80s/it]\u001b[A"
     ]
    },
    {
     "name": "stdout",
     "output_type": "stream",
     "text": [
      "tensor(22.8680, grad_fn=<MeanBackward0>)\n"
     ]
    },
    {
     "name": "stderr",
     "output_type": "stream",
     "text": [
      "\n",
      "  7%|▋         | 72/1000 [26:46<10:25:08, 40.42s/it]\u001b[A"
     ]
    },
    {
     "name": "stdout",
     "output_type": "stream",
     "text": [
      "tensor(122.5383, grad_fn=<MeanBackward0>)\n"
     ]
    },
    {
     "name": "stderr",
     "output_type": "stream",
     "text": [
      "\n",
      "  7%|▋         | 73/1000 [26:52<7:46:15, 30.18s/it] \u001b[A"
     ]
    },
    {
     "name": "stdout",
     "output_type": "stream",
     "text": [
      "tensor(65.1483, grad_fn=<MeanBackward0>)\n"
     ]
    },
    {
     "name": "stderr",
     "output_type": "stream",
     "text": [
      "\n",
      "  7%|▋         | 74/1000 [26:59<5:56:45, 23.12s/it]\u001b[A"
     ]
    },
    {
     "name": "stdout",
     "output_type": "stream",
     "text": [
      "tensor(57.7350, grad_fn=<MeanBackward0>)\n"
     ]
    },
    {
     "name": "stderr",
     "output_type": "stream",
     "text": [
      "\n",
      "  8%|▊         | 75/1000 [27:05<4:36:49, 17.96s/it]\u001b[A"
     ]
    },
    {
     "name": "stdout",
     "output_type": "stream",
     "text": [
      "tensor(68.0596, grad_fn=<MeanBackward0>)\n"
     ]
    },
    {
     "name": "stderr",
     "output_type": "stream",
     "text": [
      "\n",
      "  8%|▊         | 76/1000 [27:11<3:40:07, 14.29s/it]\u001b[A"
     ]
    },
    {
     "name": "stdout",
     "output_type": "stream",
     "text": [
      "tensor(57.7162, grad_fn=<MeanBackward0>)\n"
     ]
    },
    {
     "name": "stderr",
     "output_type": "stream",
     "text": [
      "\n",
      "  8%|▊         | 77/1000 [27:16<3:00:26, 11.73s/it]\u001b[A"
     ]
    },
    {
     "name": "stdout",
     "output_type": "stream",
     "text": [
      "tensor(40.9686, grad_fn=<MeanBackward0>)\n"
     ]
    },
    {
     "name": "stderr",
     "output_type": "stream",
     "text": [
      "\n",
      "  8%|▊         | 78/1000 [27:22<2:34:14, 10.04s/it]\u001b[A"
     ]
    },
    {
     "name": "stdout",
     "output_type": "stream",
     "text": [
      "tensor(98.9146, grad_fn=<MeanBackward0>)\n"
     ]
    },
    {
     "name": "stderr",
     "output_type": "stream",
     "text": [
      "\n",
      "  8%|▊         | 79/1000 [27:28<2:15:20,  8.82s/it]\u001b[A"
     ]
    },
    {
     "name": "stdout",
     "output_type": "stream",
     "text": [
      "tensor(55.4397, grad_fn=<MeanBackward0>)\n"
     ]
    },
    {
     "name": "stderr",
     "output_type": "stream",
     "text": [
      "\n",
      "  8%|▊         | 80/1000 [27:35<2:05:09,  8.16s/it]\u001b[A"
     ]
    },
    {
     "name": "stdout",
     "output_type": "stream",
     "text": [
      "tensor(49.5395, grad_fn=<MeanBackward0>)\n",
      "101.0 110.0\n",
      "Saved iteration: 80\n"
     ]
    },
    {
     "name": "stderr",
     "output_type": "stream",
     "text": [
      "\n",
      "  8%|▊         | 81/1000 [31:14<18:13:23, 71.39s/it]\u001b[A"
     ]
    },
    {
     "name": "stdout",
     "output_type": "stream",
     "text": [
      "tensor(64.7467, grad_fn=<MeanBackward0>)\n"
     ]
    },
    {
     "name": "stderr",
     "output_type": "stream",
     "text": [
      "\n",
      "  8%|▊         | 82/1000 [31:20<13:10:40, 51.68s/it]\u001b[A"
     ]
    },
    {
     "name": "stdout",
     "output_type": "stream",
     "text": [
      "tensor(56.7552, grad_fn=<MeanBackward0>)\n"
     ]
    },
    {
     "name": "stderr",
     "output_type": "stream",
     "text": [
      "\n",
      "  8%|▊         | 83/1000 [31:25<9:39:33, 37.92s/it] \u001b[A"
     ]
    },
    {
     "name": "stdout",
     "output_type": "stream",
     "text": [
      "tensor(39.0265, grad_fn=<MeanBackward0>)\n"
     ]
    },
    {
     "name": "stderr",
     "output_type": "stream",
     "text": [
      "\n",
      "  8%|▊         | 84/1000 [31:31<7:11:14, 28.25s/it]\u001b[A"
     ]
    },
    {
     "name": "stdout",
     "output_type": "stream",
     "text": [
      "tensor(35.9520, grad_fn=<MeanBackward0>)\n"
     ]
    },
    {
     "name": "stderr",
     "output_type": "stream",
     "text": [
      "\n",
      "  8%|▊         | 85/1000 [31:37<5:28:16, 21.53s/it]\u001b[A"
     ]
    },
    {
     "name": "stdout",
     "output_type": "stream",
     "text": [
      "tensor(32.4690, grad_fn=<MeanBackward0>)\n"
     ]
    },
    {
     "name": "stderr",
     "output_type": "stream",
     "text": [
      "\n",
      "  9%|▊         | 86/1000 [31:43<4:15:19, 16.76s/it]\u001b[A"
     ]
    },
    {
     "name": "stdout",
     "output_type": "stream",
     "text": [
      "tensor(31.0402, grad_fn=<MeanBackward0>)\n"
     ]
    },
    {
     "name": "stderr",
     "output_type": "stream",
     "text": [
      "\n",
      "  9%|▊         | 87/1000 [31:48<3:24:02, 13.41s/it]\u001b[A"
     ]
    },
    {
     "name": "stdout",
     "output_type": "stream",
     "text": [
      "tensor(28.2270, grad_fn=<MeanBackward0>)\n"
     ]
    },
    {
     "name": "stderr",
     "output_type": "stream",
     "text": [
      "\n",
      "  9%|▉         | 88/1000 [31:54<2:49:20, 11.14s/it]\u001b[A"
     ]
    },
    {
     "name": "stdout",
     "output_type": "stream",
     "text": [
      "tensor(28.6116, grad_fn=<MeanBackward0>)\n"
     ]
    },
    {
     "name": "stderr",
     "output_type": "stream",
     "text": [
      "\n",
      "  9%|▉         | 89/1000 [32:00<2:26:35,  9.66s/it]\u001b[A"
     ]
    },
    {
     "name": "stdout",
     "output_type": "stream",
     "text": [
      "tensor(26.2119, grad_fn=<MeanBackward0>)\n"
     ]
    },
    {
     "name": "stderr",
     "output_type": "stream",
     "text": [
      "\n",
      "  9%|▉         | 90/1000 [32:06<2:09:11,  8.52s/it]\u001b[A"
     ]
    },
    {
     "name": "stdout",
     "output_type": "stream",
     "text": [
      "tensor(37.1063, grad_fn=<MeanBackward0>)\n",
      "143.0 160.0\n",
      "Saved iteration: 90\n"
     ]
    },
    {
     "name": "stderr",
     "output_type": "stream",
     "text": [
      "\n",
      "  9%|▉         | 91/1000 [35:46<18:09:10, 71.89s/it]\u001b[A"
     ]
    },
    {
     "name": "stdout",
     "output_type": "stream",
     "text": [
      "tensor(21.5599, grad_fn=<MeanBackward0>)\n"
     ]
    },
    {
     "name": "stderr",
     "output_type": "stream",
     "text": [
      "\n",
      "  9%|▉         | 92/1000 [35:52<13:09:06, 52.14s/it]\u001b[A"
     ]
    },
    {
     "name": "stdout",
     "output_type": "stream",
     "text": [
      "tensor(171.4199, grad_fn=<MeanBackward0>)\n"
     ]
    },
    {
     "name": "stderr",
     "output_type": "stream",
     "text": [
      "\n",
      "  9%|▉         | 93/1000 [35:58<9:39:27, 38.33s/it] \u001b[A"
     ]
    },
    {
     "name": "stdout",
     "output_type": "stream",
     "text": [
      "tensor(99.8337, grad_fn=<MeanBackward0>)\n"
     ]
    },
    {
     "name": "stderr",
     "output_type": "stream",
     "text": [
      "\n",
      "  9%|▉         | 94/1000 [36:04<7:11:27, 28.57s/it]\u001b[A"
     ]
    },
    {
     "name": "stdout",
     "output_type": "stream",
     "text": [
      "tensor(222.0312, grad_fn=<MeanBackward0>)\n"
     ]
    },
    {
     "name": "stderr",
     "output_type": "stream",
     "text": [
      "\n",
      " 10%|▉         | 95/1000 [36:10<5:27:52, 21.74s/it]\u001b[A"
     ]
    },
    {
     "name": "stdout",
     "output_type": "stream",
     "text": [
      "tensor(129.8324, grad_fn=<MeanBackward0>)\n"
     ]
    },
    {
     "name": "stderr",
     "output_type": "stream",
     "text": [
      "\n",
      " 10%|▉         | 96/1000 [36:15<4:14:48, 16.91s/it]\u001b[A"
     ]
    },
    {
     "name": "stdout",
     "output_type": "stream",
     "text": [
      "tensor(167.5532, grad_fn=<MeanBackward0>)\n"
     ]
    },
    {
     "name": "stderr",
     "output_type": "stream",
     "text": [
      "\n",
      " 10%|▉         | 97/1000 [36:21<3:24:56, 13.62s/it]\u001b[A"
     ]
    },
    {
     "name": "stdout",
     "output_type": "stream",
     "text": [
      "tensor(213.2831, grad_fn=<MeanBackward0>)\n"
     ]
    },
    {
     "name": "stderr",
     "output_type": "stream",
     "text": [
      "\n",
      " 10%|▉         | 98/1000 [36:27<2:48:50, 11.23s/it]\u001b[A"
     ]
    },
    {
     "name": "stdout",
     "output_type": "stream",
     "text": [
      "tensor(132.0453, grad_fn=<MeanBackward0>)\n"
     ]
    },
    {
     "name": "stderr",
     "output_type": "stream",
     "text": [
      "\n",
      " 10%|▉         | 99/1000 [36:33<2:24:41,  9.64s/it]\u001b[A"
     ]
    },
    {
     "name": "stdout",
     "output_type": "stream",
     "text": [
      "tensor(129.7656, grad_fn=<MeanBackward0>)\n"
     ]
    },
    {
     "name": "stderr",
     "output_type": "stream",
     "text": [
      "\n",
      " 10%|█         | 100/1000 [36:38<2:06:57,  8.46s/it]\u001b[A"
     ]
    },
    {
     "name": "stdout",
     "output_type": "stream",
     "text": [
      "tensor(105.1330, grad_fn=<MeanBackward0>)\n",
      "101.0 110.0\n",
      "Saved iteration: 100\n"
     ]
    },
    {
     "name": "stderr",
     "output_type": "stream",
     "text": [
      "\n",
      " 10%|█         | 101/1000 [40:17<17:50:35, 71.45s/it]\u001b[A"
     ]
    },
    {
     "name": "stdout",
     "output_type": "stream",
     "text": [
      "tensor(153.0305, grad_fn=<MeanBackward0>)\n"
     ]
    },
    {
     "name": "stderr",
     "output_type": "stream",
     "text": [
      "\n",
      " 10%|█         | 102/1000 [40:23<12:54:21, 51.74s/it]\u001b[A"
     ]
    },
    {
     "name": "stdout",
     "output_type": "stream",
     "text": [
      "tensor(90.2708, grad_fn=<MeanBackward0>)\n"
     ]
    },
    {
     "name": "stderr",
     "output_type": "stream",
     "text": [
      "\n",
      " 10%|█         | 103/1000 [40:28<9:27:06, 37.93s/it] \u001b[A"
     ]
    },
    {
     "name": "stdout",
     "output_type": "stream",
     "text": [
      "tensor(102.3140, grad_fn=<MeanBackward0>)\n"
     ]
    },
    {
     "name": "stderr",
     "output_type": "stream",
     "text": [
      "\n",
      " 10%|█         | 104/1000 [40:34<7:03:24, 28.35s/it]\u001b[A"
     ]
    },
    {
     "name": "stdout",
     "output_type": "stream",
     "text": [
      "tensor(106.9631, grad_fn=<MeanBackward0>)\n"
     ]
    },
    {
     "name": "stderr",
     "output_type": "stream",
     "text": [
      "\n",
      " 10%|█         | 105/1000 [40:40<5:20:35, 21.49s/it]\u001b[A"
     ]
    },
    {
     "name": "stdout",
     "output_type": "stream",
     "text": [
      "tensor(62.7132, grad_fn=<MeanBackward0>)\n"
     ]
    },
    {
     "name": "stderr",
     "output_type": "stream",
     "text": [
      "\n",
      " 11%|█         | 106/1000 [40:46<4:10:44, 16.83s/it]\u001b[A"
     ]
    },
    {
     "name": "stdout",
     "output_type": "stream",
     "text": [
      "tensor(66.4436, grad_fn=<MeanBackward0>)\n"
     ]
    },
    {
     "name": "stderr",
     "output_type": "stream",
     "text": [
      "\n",
      " 11%|█         | 107/1000 [40:52<3:21:48, 13.56s/it]\u001b[A"
     ]
    },
    {
     "name": "stdout",
     "output_type": "stream",
     "text": [
      "tensor(84.0206, grad_fn=<MeanBackward0>)\n"
     ]
    },
    {
     "name": "stderr",
     "output_type": "stream",
     "text": [
      "\n",
      " 11%|█         | 108/1000 [40:58<2:48:59, 11.37s/it]\u001b[A"
     ]
    },
    {
     "name": "stdout",
     "output_type": "stream",
     "text": [
      "tensor(117.8559, grad_fn=<MeanBackward0>)\n"
     ]
    },
    {
     "name": "stderr",
     "output_type": "stream",
     "text": [
      "\n",
      " 11%|█         | 109/1000 [41:04<2:24:03,  9.70s/it]\u001b[A"
     ]
    },
    {
     "name": "stdout",
     "output_type": "stream",
     "text": [
      "tensor(68.1140, grad_fn=<MeanBackward0>)\n"
     ]
    },
    {
     "name": "stderr",
     "output_type": "stream",
     "text": [
      "\n",
      " 11%|█         | 110/1000 [41:09<2:05:03,  8.43s/it]\u001b[A"
     ]
    },
    {
     "name": "stdout",
     "output_type": "stream",
     "text": [
      "tensor(81.4090, grad_fn=<MeanBackward0>)\n",
      "105.0 111.0\n",
      "Saved iteration: 110\n"
     ]
    },
    {
     "name": "stderr",
     "output_type": "stream",
     "text": [
      "\n",
      " 11%|█         | 111/1000 [44:51<17:52:01, 72.35s/it]\u001b[A"
     ]
    },
    {
     "name": "stdout",
     "output_type": "stream",
     "text": [
      "tensor(74.7628, grad_fn=<MeanBackward0>)\n"
     ]
    },
    {
     "name": "stderr",
     "output_type": "stream",
     "text": [
      "\n",
      " 11%|█         | 112/1000 [44:57<12:58:01, 52.57s/it]\u001b[A"
     ]
    },
    {
     "name": "stdout",
     "output_type": "stream",
     "text": [
      "tensor(30.1579, grad_fn=<MeanBackward0>)\n"
     ]
    },
    {
     "name": "stderr",
     "output_type": "stream",
     "text": [
      "\n",
      " 11%|█▏        | 113/1000 [45:03<9:29:15, 38.51s/it] \u001b[A"
     ]
    },
    {
     "name": "stdout",
     "output_type": "stream",
     "text": [
      "tensor(66.6592, grad_fn=<MeanBackward0>)\n"
     ]
    },
    {
     "name": "stderr",
     "output_type": "stream",
     "text": [
      "\n",
      " 11%|█▏        | 114/1000 [45:08<7:02:48, 28.63s/it]\u001b[A"
     ]
    },
    {
     "name": "stdout",
     "output_type": "stream",
     "text": [
      "tensor(26.6798, grad_fn=<MeanBackward0>)\n"
     ]
    },
    {
     "name": "stderr",
     "output_type": "stream",
     "text": [
      "\n",
      " 12%|█▏        | 115/1000 [45:14<5:20:35, 21.74s/it]\u001b[A"
     ]
    },
    {
     "name": "stdout",
     "output_type": "stream",
     "text": [
      "tensor(36.5241, grad_fn=<MeanBackward0>)\n"
     ]
    },
    {
     "name": "stderr",
     "output_type": "stream",
     "text": [
      "\n",
      " 12%|█▏        | 116/1000 [45:20<4:10:58, 17.03s/it]\u001b[A"
     ]
    },
    {
     "name": "stdout",
     "output_type": "stream",
     "text": [
      "tensor(26.0347, grad_fn=<MeanBackward0>)\n"
     ]
    },
    {
     "name": "stderr",
     "output_type": "stream",
     "text": [
      "\n",
      " 12%|█▏        | 117/1000 [45:26<3:23:06, 13.80s/it]\u001b[A"
     ]
    },
    {
     "name": "stdout",
     "output_type": "stream",
     "text": [
      "tensor(63.1455, grad_fn=<MeanBackward0>)\n"
     ]
    },
    {
     "name": "stderr",
     "output_type": "stream",
     "text": [
      "\n",
      " 12%|█▏        | 118/1000 [45:32<2:48:00, 11.43s/it]\u001b[A"
     ]
    },
    {
     "name": "stdout",
     "output_type": "stream",
     "text": [
      "tensor(24.9246, grad_fn=<MeanBackward0>)\n"
     ]
    },
    {
     "name": "stderr",
     "output_type": "stream",
     "text": [
      "\n",
      " 12%|█▏        | 119/1000 [45:38<2:22:13,  9.69s/it]\u001b[A"
     ]
    },
    {
     "name": "stdout",
     "output_type": "stream",
     "text": [
      "tensor(44.2849, grad_fn=<MeanBackward0>)\n"
     ]
    },
    {
     "name": "stderr",
     "output_type": "stream",
     "text": [
      "\n",
      " 12%|█▏        | 120/1000 [45:44<2:07:20,  8.68s/it]\u001b[A"
     ]
    },
    {
     "name": "stdout",
     "output_type": "stream",
     "text": [
      "tensor(28.9293, grad_fn=<MeanBackward0>)\n",
      "128.0 126.0\n",
      "Saved iteration: 120\n"
     ]
    },
    {
     "name": "stderr",
     "output_type": "stream",
     "text": [
      "\n",
      " 12%|█▏        | 121/1000 [49:21<17:21:14, 71.07s/it]\u001b[A"
     ]
    },
    {
     "name": "stdout",
     "output_type": "stream",
     "text": [
      "tensor(47.4914, grad_fn=<MeanBackward0>)\n"
     ]
    },
    {
     "name": "stderr",
     "output_type": "stream",
     "text": [
      "\n",
      " 12%|█▏        | 122/1000 [49:27<12:33:11, 51.47s/it]\u001b[A"
     ]
    },
    {
     "name": "stdout",
     "output_type": "stream",
     "text": [
      "tensor(109.7815, grad_fn=<MeanBackward0>)\n"
     ]
    },
    {
     "name": "stderr",
     "output_type": "stream",
     "text": [
      "\n",
      " 12%|█▏        | 123/1000 [49:33<9:15:12, 37.98s/it] \u001b[A"
     ]
    },
    {
     "name": "stdout",
     "output_type": "stream",
     "text": [
      "tensor(183.3460, grad_fn=<MeanBackward0>)\n"
     ]
    },
    {
     "name": "stderr",
     "output_type": "stream",
     "text": [
      "\n",
      " 12%|█▏        | 124/1000 [49:39<6:54:18, 28.38s/it]\u001b[A"
     ]
    },
    {
     "name": "stdout",
     "output_type": "stream",
     "text": [
      "tensor(187.0163, grad_fn=<MeanBackward0>)\n"
     ]
    },
    {
     "name": "stderr",
     "output_type": "stream",
     "text": [
      "\n",
      " 12%|█▎        | 125/1000 [49:45<5:14:31, 21.57s/it]\u001b[A"
     ]
    },
    {
     "name": "stdout",
     "output_type": "stream",
     "text": [
      "tensor(123.9970, grad_fn=<MeanBackward0>)\n"
     ]
    },
    {
     "name": "stderr",
     "output_type": "stream",
     "text": [
      "\n",
      " 13%|█▎        | 126/1000 [49:50<4:04:45, 16.80s/it]\u001b[A"
     ]
    },
    {
     "name": "stdout",
     "output_type": "stream",
     "text": [
      "tensor(127.8426, grad_fn=<MeanBackward0>)\n"
     ]
    },
    {
     "name": "stderr",
     "output_type": "stream",
     "text": [
      "\n",
      " 13%|█▎        | 127/1000 [49:57<3:17:32, 13.58s/it]\u001b[A"
     ]
    },
    {
     "name": "stdout",
     "output_type": "stream",
     "text": [
      "tensor(91.4872, grad_fn=<MeanBackward0>)\n"
     ]
    },
    {
     "name": "stderr",
     "output_type": "stream",
     "text": [
      "\n",
      " 13%|█▎        | 128/1000 [50:03<2:46:10, 11.43s/it]\u001b[A"
     ]
    },
    {
     "name": "stdout",
     "output_type": "stream",
     "text": [
      "tensor(102.2714, grad_fn=<MeanBackward0>)\n"
     ]
    },
    {
     "name": "stderr",
     "output_type": "stream",
     "text": [
      "\n",
      " 13%|█▎        | 129/1000 [50:09<2:23:25,  9.88s/it]\u001b[A"
     ]
    },
    {
     "name": "stdout",
     "output_type": "stream",
     "text": [
      "tensor(94.0719, grad_fn=<MeanBackward0>)\n"
     ]
    },
    {
     "name": "stderr",
     "output_type": "stream",
     "text": [
      "\n",
      " 13%|█▎        | 130/1000 [50:15<2:05:40,  8.67s/it]\u001b[A"
     ]
    },
    {
     "name": "stdout",
     "output_type": "stream",
     "text": [
      "tensor(85.0437, grad_fn=<MeanBackward0>)\n",
      "103.0 110.0\n",
      "Saved iteration: 130\n"
     ]
    },
    {
     "name": "stderr",
     "output_type": "stream",
     "text": [
      "\n",
      " 13%|█▎        | 131/1000 [53:51<17:07:41, 70.96s/it]\u001b[A"
     ]
    },
    {
     "name": "stdout",
     "output_type": "stream",
     "text": [
      "tensor(84.3564, grad_fn=<MeanBackward0>)\n"
     ]
    },
    {
     "name": "stderr",
     "output_type": "stream",
     "text": [
      "\n",
      " 13%|█▎        | 132/1000 [53:57<12:22:37, 51.33s/it]\u001b[A"
     ]
    },
    {
     "name": "stdout",
     "output_type": "stream",
     "text": [
      "tensor(42.9257, grad_fn=<MeanBackward0>)\n"
     ]
    },
    {
     "name": "stderr",
     "output_type": "stream",
     "text": [
      "\n",
      " 13%|█▎        | 133/1000 [54:03<9:04:27, 37.68s/it] \u001b[A"
     ]
    },
    {
     "name": "stdout",
     "output_type": "stream",
     "text": [
      "tensor(49.5154, grad_fn=<MeanBackward0>)\n"
     ]
    },
    {
     "name": "stderr",
     "output_type": "stream",
     "text": [
      "\n",
      " 13%|█▎        | 134/1000 [54:09<6:46:44, 28.18s/it]\u001b[A"
     ]
    },
    {
     "name": "stdout",
     "output_type": "stream",
     "text": [
      "tensor(24.5707, grad_fn=<MeanBackward0>)\n"
     ]
    },
    {
     "name": "stderr",
     "output_type": "stream",
     "text": [
      "\n",
      " 14%|█▎        | 135/1000 [54:15<5:09:25, 21.46s/it]\u001b[A"
     ]
    },
    {
     "name": "stdout",
     "output_type": "stream",
     "text": [
      "tensor(37.4002, grad_fn=<MeanBackward0>)\n"
     ]
    },
    {
     "name": "stderr",
     "output_type": "stream",
     "text": [
      "\n",
      " 14%|█▎        | 136/1000 [54:20<4:00:39, 16.71s/it]\u001b[A"
     ]
    },
    {
     "name": "stdout",
     "output_type": "stream",
     "text": [
      "tensor(41.2533, grad_fn=<MeanBackward0>)\n"
     ]
    },
    {
     "name": "stderr",
     "output_type": "stream",
     "text": [
      "\n",
      " 14%|█▎        | 137/1000 [54:26<3:12:21, 13.37s/it]\u001b[A"
     ]
    },
    {
     "name": "stdout",
     "output_type": "stream",
     "text": [
      "tensor(21.6161, grad_fn=<MeanBackward0>)\n"
     ]
    },
    {
     "name": "stderr",
     "output_type": "stream",
     "text": [
      "\n",
      " 14%|█▍        | 138/1000 [54:32<2:40:41, 11.19s/it]\u001b[A"
     ]
    },
    {
     "name": "stdout",
     "output_type": "stream",
     "text": [
      "tensor(35.2940, grad_fn=<MeanBackward0>)\n"
     ]
    },
    {
     "name": "stderr",
     "output_type": "stream",
     "text": [
      "\n",
      " 14%|█▍        | 139/1000 [54:38<2:18:43,  9.67s/it]\u001b[A"
     ]
    },
    {
     "name": "stdout",
     "output_type": "stream",
     "text": [
      "tensor(32.9188, grad_fn=<MeanBackward0>)\n"
     ]
    },
    {
     "name": "stderr",
     "output_type": "stream",
     "text": [
      "\n",
      " 14%|█▍        | 140/1000 [54:44<2:03:11,  8.59s/it]\u001b[A"
     ]
    },
    {
     "name": "stdout",
     "output_type": "stream",
     "text": [
      "tensor(25.8339, grad_fn=<MeanBackward0>)\n",
      "113.0 117.0\n",
      "Saved iteration: 140\n"
     ]
    },
    {
     "name": "stderr",
     "output_type": "stream",
     "text": [
      "\n",
      " 14%|█▍        | 141/1000 [58:23<17:08:07, 71.81s/it]\u001b[A"
     ]
    },
    {
     "name": "stdout",
     "output_type": "stream",
     "text": [
      "tensor(34.4616, grad_fn=<MeanBackward0>)\n"
     ]
    },
    {
     "name": "stderr",
     "output_type": "stream",
     "text": [
      "\n",
      " 14%|█▍        | 142/1000 [58:29<12:24:59, 52.10s/it]\u001b[A"
     ]
    },
    {
     "name": "stdout",
     "output_type": "stream",
     "text": [
      "tensor(63.6242, grad_fn=<MeanBackward0>)\n"
     ]
    },
    {
     "name": "stderr",
     "output_type": "stream",
     "text": [
      "\n",
      " 14%|█▍        | 143/1000 [58:35<9:05:43, 38.21s/it] \u001b[A"
     ]
    },
    {
     "name": "stdout",
     "output_type": "stream",
     "text": [
      "tensor(129.1970, grad_fn=<MeanBackward0>)\n"
     ]
    },
    {
     "name": "stderr",
     "output_type": "stream",
     "text": [
      "\n",
      " 14%|█▍        | 144/1000 [58:41<6:45:51, 28.45s/it]\u001b[A"
     ]
    },
    {
     "name": "stdout",
     "output_type": "stream",
     "text": [
      "tensor(86.6388, grad_fn=<MeanBackward0>)\n"
     ]
    },
    {
     "name": "stderr",
     "output_type": "stream",
     "text": [
      "\n",
      " 14%|█▍        | 145/1000 [58:47<5:08:01, 21.62s/it]\u001b[A"
     ]
    },
    {
     "name": "stdout",
     "output_type": "stream",
     "text": [
      "tensor(60.7690, grad_fn=<MeanBackward0>)\n"
     ]
    },
    {
     "name": "stderr",
     "output_type": "stream",
     "text": [
      "\n",
      " 15%|█▍        | 146/1000 [58:53<4:01:34, 16.97s/it]\u001b[A"
     ]
    },
    {
     "name": "stdout",
     "output_type": "stream",
     "text": [
      "tensor(64.4040, grad_fn=<MeanBackward0>)\n"
     ]
    },
    {
     "name": "stderr",
     "output_type": "stream",
     "text": [
      "\n",
      " 15%|█▍        | 147/1000 [58:59<3:13:33, 13.61s/it]\u001b[A"
     ]
    },
    {
     "name": "stdout",
     "output_type": "stream",
     "text": [
      "tensor(100.5441, grad_fn=<MeanBackward0>)\n"
     ]
    },
    {
     "name": "stderr",
     "output_type": "stream",
     "text": [
      "\n",
      " 15%|█▍        | 148/1000 [59:04<2:40:19, 11.29s/it]\u001b[A"
     ]
    },
    {
     "name": "stdout",
     "output_type": "stream",
     "text": [
      "tensor(45.2466, grad_fn=<MeanBackward0>)\n"
     ]
    },
    {
     "name": "stderr",
     "output_type": "stream",
     "text": [
      "\n",
      " 15%|█▍        | 149/1000 [59:10<2:15:55,  9.58s/it]\u001b[A"
     ]
    },
    {
     "name": "stdout",
     "output_type": "stream",
     "text": [
      "tensor(38.5212, grad_fn=<MeanBackward0>)\n"
     ]
    },
    {
     "name": "stderr",
     "output_type": "stream",
     "text": [
      "\n",
      " 15%|█▌        | 150/1000 [59:16<2:01:55,  8.61s/it]\u001b[A"
     ]
    },
    {
     "name": "stdout",
     "output_type": "stream",
     "text": [
      "tensor(50.3276, grad_fn=<MeanBackward0>)\n",
      "103.0 110.0\n",
      "Saved iteration: 150\n"
     ]
    },
    {
     "name": "stderr",
     "output_type": "stream",
     "text": [
      "\n",
      " 15%|█▌        | 151/1000 [1:02:53<16:46:53, 71.16s/it]\u001b[A"
     ]
    },
    {
     "name": "stdout",
     "output_type": "stream",
     "text": [
      "tensor(23.6966, grad_fn=<MeanBackward0>)\n"
     ]
    },
    {
     "name": "stderr",
     "output_type": "stream",
     "text": [
      "\n",
      " 15%|█▌        | 152/1000 [1:02:59<12:08:29, 51.54s/it]\u001b[A"
     ]
    },
    {
     "name": "stdout",
     "output_type": "stream",
     "text": [
      "tensor(54.5963, grad_fn=<MeanBackward0>)\n"
     ]
    },
    {
     "name": "stderr",
     "output_type": "stream",
     "text": [
      "\n",
      " 15%|█▌        | 153/1000 [1:03:05<8:54:21, 37.85s/it] \u001b[A"
     ]
    },
    {
     "name": "stdout",
     "output_type": "stream",
     "text": [
      "tensor(54.5343, grad_fn=<MeanBackward0>)\n"
     ]
    },
    {
     "name": "stderr",
     "output_type": "stream",
     "text": [
      "\n",
      " 15%|█▌        | 154/1000 [1:03:11<6:37:13, 28.17s/it]\u001b[A"
     ]
    },
    {
     "name": "stdout",
     "output_type": "stream",
     "text": [
      "tensor(86.3060, grad_fn=<MeanBackward0>)\n"
     ]
    },
    {
     "name": "stderr",
     "output_type": "stream",
     "text": [
      "\n",
      " 16%|█▌        | 155/1000 [1:03:16<5:01:02, 21.38s/it]\u001b[A"
     ]
    },
    {
     "name": "stdout",
     "output_type": "stream",
     "text": [
      "tensor(28.5103, grad_fn=<MeanBackward0>)\n"
     ]
    },
    {
     "name": "stderr",
     "output_type": "stream",
     "text": [
      "\n",
      " 16%|█▌        | 156/1000 [1:03:22<3:54:10, 16.65s/it]\u001b[A"
     ]
    },
    {
     "name": "stdout",
     "output_type": "stream",
     "text": [
      "tensor(41.7612, grad_fn=<MeanBackward0>)\n"
     ]
    },
    {
     "name": "stderr",
     "output_type": "stream",
     "text": [
      "\n",
      " 16%|█▌        | 157/1000 [1:03:28<3:08:48, 13.44s/it]\u001b[A"
     ]
    },
    {
     "name": "stdout",
     "output_type": "stream",
     "text": [
      "tensor(23.3729, grad_fn=<MeanBackward0>)\n"
     ]
    },
    {
     "name": "stderr",
     "output_type": "stream",
     "text": [
      "\n",
      " 16%|█▌        | 158/1000 [1:03:34<2:38:09, 11.27s/it]\u001b[A"
     ]
    },
    {
     "name": "stdout",
     "output_type": "stream",
     "text": [
      "tensor(23.5619, grad_fn=<MeanBackward0>)\n"
     ]
    },
    {
     "name": "stderr",
     "output_type": "stream",
     "text": [
      "\n",
      " 16%|█▌        | 159/1000 [1:03:40<2:15:10,  9.64s/it]\u001b[A"
     ]
    },
    {
     "name": "stdout",
     "output_type": "stream",
     "text": [
      "tensor(28.0325, grad_fn=<MeanBackward0>)\n"
     ]
    },
    {
     "name": "stderr",
     "output_type": "stream",
     "text": [
      "\n",
      " 16%|█▌        | 160/1000 [1:03:45<1:57:27,  8.39s/it]\u001b[A"
     ]
    },
    {
     "name": "stdout",
     "output_type": "stream",
     "text": [
      "tensor(13.3992, grad_fn=<MeanBackward0>)\n",
      "117.0 133.0\n",
      "Saved iteration: 160\n"
     ]
    },
    {
     "name": "stderr",
     "output_type": "stream",
     "text": [
      "\n",
      " 16%|█▌        | 161/1000 [1:07:25<16:41:50, 71.65s/it]\u001b[A"
     ]
    },
    {
     "name": "stdout",
     "output_type": "stream",
     "text": [
      "tensor(17.2800, grad_fn=<MeanBackward0>)\n"
     ]
    },
    {
     "name": "stderr",
     "output_type": "stream",
     "text": [
      "\n",
      " 16%|█▌        | 162/1000 [1:07:30<12:04:27, 51.87s/it]\u001b[A"
     ]
    },
    {
     "name": "stdout",
     "output_type": "stream",
     "text": [
      "tensor(115.4522, grad_fn=<MeanBackward0>)\n"
     ]
    },
    {
     "name": "stderr",
     "output_type": "stream",
     "text": [
      "\n",
      " 16%|█▋        | 163/1000 [1:07:36<8:50:05, 38.00s/it] \u001b[A"
     ]
    },
    {
     "name": "stdout",
     "output_type": "stream",
     "text": [
      "tensor(175.9367, grad_fn=<MeanBackward0>)\n"
     ]
    },
    {
     "name": "stderr",
     "output_type": "stream",
     "text": [
      "\n",
      " 16%|█▋        | 164/1000 [1:07:42<6:35:39, 28.40s/it]\u001b[A"
     ]
    },
    {
     "name": "stdout",
     "output_type": "stream",
     "text": [
      "tensor(203.0844, grad_fn=<MeanBackward0>)\n"
     ]
    },
    {
     "name": "stderr",
     "output_type": "stream",
     "text": [
      "\n",
      " 16%|█▋        | 165/1000 [1:07:48<5:04:14, 21.86s/it]\u001b[A"
     ]
    },
    {
     "name": "stdout",
     "output_type": "stream",
     "text": [
      "tensor(159.9630, grad_fn=<MeanBackward0>)\n"
     ]
    },
    {
     "name": "stderr",
     "output_type": "stream",
     "text": [
      "\n",
      " 17%|█▋        | 166/1000 [1:07:54<3:57:30, 17.09s/it]\u001b[A"
     ]
    },
    {
     "name": "stdout",
     "output_type": "stream",
     "text": [
      "tensor(137.7429, grad_fn=<MeanBackward0>)\n"
     ]
    },
    {
     "name": "stderr",
     "output_type": "stream",
     "text": [
      "\n",
      " 17%|█▋        | 167/1000 [1:08:00<3:09:52, 13.68s/it]\u001b[A"
     ]
    },
    {
     "name": "stdout",
     "output_type": "stream",
     "text": [
      "tensor(120.9608, grad_fn=<MeanBackward0>)\n"
     ]
    },
    {
     "name": "stderr",
     "output_type": "stream",
     "text": [
      "\n",
      " 17%|█▋        | 168/1000 [1:08:06<2:36:09, 11.26s/it]\u001b[A"
     ]
    },
    {
     "name": "stdout",
     "output_type": "stream",
     "text": [
      "tensor(172.2727, grad_fn=<MeanBackward0>)\n"
     ]
    },
    {
     "name": "stderr",
     "output_type": "stream",
     "text": [
      "\n",
      " 17%|█▋        | 169/1000 [1:08:12<2:13:35,  9.65s/it]\u001b[A"
     ]
    },
    {
     "name": "stdout",
     "output_type": "stream",
     "text": [
      "tensor(105.5380, grad_fn=<MeanBackward0>)\n"
     ]
    },
    {
     "name": "stderr",
     "output_type": "stream",
     "text": [
      "\n",
      " 17%|█▋        | 170/1000 [1:08:18<1:59:19,  8.63s/it]\u001b[A"
     ]
    },
    {
     "name": "stdout",
     "output_type": "stream",
     "text": [
      "tensor(148.5984, grad_fn=<MeanBackward0>)\n",
      "99.0 110.0\n",
      "Saved iteration: 170\n"
     ]
    },
    {
     "name": "stderr",
     "output_type": "stream",
     "text": [
      "\n",
      " 17%|█▋        | 171/1000 [1:11:56<16:28:20, 71.53s/it]\u001b[A"
     ]
    },
    {
     "name": "stdout",
     "output_type": "stream",
     "text": [
      "tensor(174.9248, grad_fn=<MeanBackward0>)\n"
     ]
    },
    {
     "name": "stderr",
     "output_type": "stream",
     "text": [
      "\n",
      " 17%|█▋        | 172/1000 [1:12:02<11:56:42, 51.94s/it]\u001b[A"
     ]
    },
    {
     "name": "stdout",
     "output_type": "stream",
     "text": [
      "tensor(78.9607, grad_fn=<MeanBackward0>)\n"
     ]
    },
    {
     "name": "stderr",
     "output_type": "stream",
     "text": [
      "\n",
      " 17%|█▋        | 173/1000 [1:12:08<8:44:35, 38.06s/it] \u001b[A"
     ]
    },
    {
     "name": "stdout",
     "output_type": "stream",
     "text": [
      "tensor(99.7069, grad_fn=<MeanBackward0>)\n"
     ]
    },
    {
     "name": "stderr",
     "output_type": "stream",
     "text": [
      "\n",
      " 17%|█▋        | 174/1000 [1:12:14<6:31:06, 28.41s/it]\u001b[A"
     ]
    },
    {
     "name": "stdout",
     "output_type": "stream",
     "text": [
      "tensor(55.0724, grad_fn=<MeanBackward0>)\n"
     ]
    },
    {
     "name": "stderr",
     "output_type": "stream",
     "text": [
      "\n",
      " 18%|█▊        | 175/1000 [1:12:19<4:56:00, 21.53s/it]\u001b[A"
     ]
    },
    {
     "name": "stdout",
     "output_type": "stream",
     "text": [
      "tensor(54.3196, grad_fn=<MeanBackward0>)\n"
     ]
    },
    {
     "name": "stderr",
     "output_type": "stream",
     "text": [
      "\n",
      " 18%|█▊        | 176/1000 [1:12:25<3:51:08, 16.83s/it]\u001b[A"
     ]
    },
    {
     "name": "stdout",
     "output_type": "stream",
     "text": [
      "tensor(78.2812, grad_fn=<MeanBackward0>)\n"
     ]
    },
    {
     "name": "stderr",
     "output_type": "stream",
     "text": [
      "\n",
      " 18%|█▊        | 177/1000 [1:12:31<3:06:34, 13.60s/it]\u001b[A"
     ]
    },
    {
     "name": "stdout",
     "output_type": "stream",
     "text": [
      "tensor(48.2847, grad_fn=<MeanBackward0>)\n"
     ]
    },
    {
     "name": "stderr",
     "output_type": "stream",
     "text": [
      "\n",
      " 18%|█▊        | 178/1000 [1:12:37<2:34:38, 11.29s/it]\u001b[A"
     ]
    },
    {
     "name": "stdout",
     "output_type": "stream",
     "text": [
      "tensor(34.6638, grad_fn=<MeanBackward0>)\n"
     ]
    },
    {
     "name": "stderr",
     "output_type": "stream",
     "text": [
      "\n",
      " 18%|█▊        | 179/1000 [1:12:43<2:12:13,  9.66s/it]\u001b[A"
     ]
    },
    {
     "name": "stdout",
     "output_type": "stream",
     "text": [
      "tensor(38.0508, grad_fn=<MeanBackward0>)\n"
     ]
    },
    {
     "name": "stderr",
     "output_type": "stream",
     "text": [
      "\n",
      " 18%|█▊        | 180/1000 [1:12:49<1:55:12,  8.43s/it]\u001b[A"
     ]
    },
    {
     "name": "stdout",
     "output_type": "stream",
     "text": [
      "tensor(67.3875, grad_fn=<MeanBackward0>)\n",
      "101.0 110.0\n",
      "Saved iteration: 180\n"
     ]
    },
    {
     "name": "stderr",
     "output_type": "stream",
     "text": [
      "\n",
      " 18%|█▊        | 181/1000 [1:16:26<16:10:37, 71.11s/it]\u001b[A"
     ]
    },
    {
     "name": "stdout",
     "output_type": "stream",
     "text": [
      "tensor(48.1023, grad_fn=<MeanBackward0>)\n"
     ]
    },
    {
     "name": "stderr",
     "output_type": "stream",
     "text": [
      "\n",
      " 18%|█▊        | 182/1000 [1:16:32<11:41:40, 51.47s/it]\u001b[A"
     ]
    },
    {
     "name": "stdout",
     "output_type": "stream",
     "text": [
      "tensor(55.1157, grad_fn=<MeanBackward0>)\n"
     ]
    },
    {
     "name": "stderr",
     "output_type": "stream",
     "text": [
      "\n",
      " 18%|█▊        | 183/1000 [1:16:38<8:34:15, 37.77s/it] \u001b[A"
     ]
    },
    {
     "name": "stdout",
     "output_type": "stream",
     "text": [
      "tensor(56.5310, grad_fn=<MeanBackward0>)\n"
     ]
    },
    {
     "name": "stderr",
     "output_type": "stream",
     "text": [
      "\n",
      " 18%|█▊        | 184/1000 [1:16:44<6:25:29, 28.35s/it]\u001b[A"
     ]
    },
    {
     "name": "stdout",
     "output_type": "stream",
     "text": [
      "tensor(31.9314, grad_fn=<MeanBackward0>)\n"
     ]
    },
    {
     "name": "stderr",
     "output_type": "stream",
     "text": [
      "\n",
      " 18%|█▊        | 185/1000 [1:16:50<4:53:21, 21.60s/it]\u001b[A"
     ]
    },
    {
     "name": "stdout",
     "output_type": "stream",
     "text": [
      "tensor(35.0545, grad_fn=<MeanBackward0>)\n"
     ]
    },
    {
     "name": "stderr",
     "output_type": "stream",
     "text": [
      "\n",
      " 19%|█▊        | 186/1000 [1:16:55<3:47:23, 16.76s/it]\u001b[A"
     ]
    },
    {
     "name": "stdout",
     "output_type": "stream",
     "text": [
      "tensor(35.4247, grad_fn=<MeanBackward0>)\n"
     ]
    },
    {
     "name": "stderr",
     "output_type": "stream",
     "text": [
      "\n",
      " 19%|█▊        | 187/1000 [1:17:01<3:04:22, 13.61s/it]\u001b[A"
     ]
    },
    {
     "name": "stdout",
     "output_type": "stream",
     "text": [
      "tensor(34.0660, grad_fn=<MeanBackward0>)\n"
     ]
    },
    {
     "name": "stderr",
     "output_type": "stream",
     "text": [
      "\n",
      " 19%|█▉        | 188/1000 [1:17:08<2:35:05, 11.46s/it]\u001b[A"
     ]
    },
    {
     "name": "stdout",
     "output_type": "stream",
     "text": [
      "tensor(48.5321, grad_fn=<MeanBackward0>)\n"
     ]
    },
    {
     "name": "stderr",
     "output_type": "stream",
     "text": [
      "\n",
      " 19%|█▉        | 189/1000 [1:17:14<2:12:13,  9.78s/it]\u001b[A"
     ]
    },
    {
     "name": "stdout",
     "output_type": "stream",
     "text": [
      "tensor(26.0869, grad_fn=<MeanBackward0>)\n"
     ]
    },
    {
     "name": "stderr",
     "output_type": "stream",
     "text": [
      "\n",
      " 19%|█▉        | 190/1000 [1:17:20<1:56:34,  8.64s/it]\u001b[A"
     ]
    },
    {
     "name": "stdout",
     "output_type": "stream",
     "text": [
      "tensor(29.1221, grad_fn=<MeanBackward0>)\n",
      "108.0 116.0\n",
      "Saved iteration: 190\n"
     ]
    },
    {
     "name": "stderr",
     "output_type": "stream",
     "text": [
      "\n",
      " 19%|█▉        | 191/1000 [1:20:56<15:57:47, 71.04s/it]\u001b[A"
     ]
    },
    {
     "name": "stdout",
     "output_type": "stream",
     "text": [
      "tensor(33.0387, grad_fn=<MeanBackward0>)\n"
     ]
    },
    {
     "name": "stderr",
     "output_type": "stream",
     "text": [
      "\n",
      " 19%|█▉        | 192/1000 [1:21:02<11:32:18, 51.41s/it]\u001b[A"
     ]
    },
    {
     "name": "stdout",
     "output_type": "stream",
     "text": [
      "tensor(110.6295, grad_fn=<MeanBackward0>)\n"
     ]
    },
    {
     "name": "stderr",
     "output_type": "stream",
     "text": [
      "\n",
      " 19%|█▉        | 193/1000 [1:21:08<8:26:21, 37.65s/it] \u001b[A"
     ]
    },
    {
     "name": "stdout",
     "output_type": "stream",
     "text": [
      "tensor(132.1743, grad_fn=<MeanBackward0>)\n"
     ]
    },
    {
     "name": "stderr",
     "output_type": "stream",
     "text": [
      "\n",
      " 19%|█▉        | 194/1000 [1:21:13<6:16:42, 28.04s/it]\u001b[A"
     ]
    },
    {
     "name": "stdout",
     "output_type": "stream",
     "text": [
      "tensor(121.2006, grad_fn=<MeanBackward0>)\n"
     ]
    },
    {
     "name": "stderr",
     "output_type": "stream",
     "text": [
      "\n",
      " 20%|█▉        | 195/1000 [1:21:19<4:47:14, 21.41s/it]\u001b[A"
     ]
    },
    {
     "name": "stdout",
     "output_type": "stream",
     "text": [
      "tensor(148.1180, grad_fn=<MeanBackward0>)\n"
     ]
    },
    {
     "name": "stderr",
     "output_type": "stream",
     "text": [
      "\n",
      " 20%|█▉        | 196/1000 [1:21:25<3:44:14, 16.73s/it]\u001b[A"
     ]
    },
    {
     "name": "stdout",
     "output_type": "stream",
     "text": [
      "tensor(101.8856, grad_fn=<MeanBackward0>)\n"
     ]
    },
    {
     "name": "stderr",
     "output_type": "stream",
     "text": [
      "\n",
      " 20%|█▉        | 197/1000 [1:21:30<2:58:44, 13.36s/it]\u001b[A"
     ]
    },
    {
     "name": "stdout",
     "output_type": "stream",
     "text": [
      "tensor(105.5015, grad_fn=<MeanBackward0>)\n"
     ]
    },
    {
     "name": "stderr",
     "output_type": "stream",
     "text": [
      "\n",
      " 20%|█▉        | 198/1000 [1:21:36<2:27:41, 11.05s/it]\u001b[A"
     ]
    },
    {
     "name": "stdout",
     "output_type": "stream",
     "text": [
      "tensor(95.4705, grad_fn=<MeanBackward0>)\n"
     ]
    },
    {
     "name": "stderr",
     "output_type": "stream",
     "text": [
      "\n",
      " 20%|█▉        | 199/1000 [1:21:42<2:07:20,  9.54s/it]\u001b[A"
     ]
    },
    {
     "name": "stdout",
     "output_type": "stream",
     "text": [
      "tensor(108.7277, grad_fn=<MeanBackward0>)\n"
     ]
    },
    {
     "name": "stderr",
     "output_type": "stream",
     "text": [
      "\n",
      " 20%|██        | 200/1000 [1:21:48<1:53:14,  8.49s/it]\u001b[A"
     ]
    },
    {
     "name": "stdout",
     "output_type": "stream",
     "text": [
      "tensor(128.7749, grad_fn=<MeanBackward0>)\n",
      "99.0 110.0\n",
      "Saved iteration: 200\n"
     ]
    },
    {
     "name": "stderr",
     "output_type": "stream",
     "text": [
      "\n",
      " 20%|██        | 201/1000 [1:25:25<15:46:23, 71.07s/it]\u001b[A"
     ]
    },
    {
     "name": "stdout",
     "output_type": "stream",
     "text": [
      "tensor(105.4057, grad_fn=<MeanBackward0>)\n"
     ]
    },
    {
     "name": "stderr",
     "output_type": "stream",
     "text": [
      "\n",
      " 20%|██        | 202/1000 [1:25:31<11:25:39, 51.55s/it]\u001b[A"
     ]
    },
    {
     "name": "stdout",
     "output_type": "stream",
     "text": [
      "tensor(40.4872, grad_fn=<MeanBackward0>)\n"
     ]
    },
    {
     "name": "stderr",
     "output_type": "stream",
     "text": [
      "\n",
      " 20%|██        | 203/1000 [1:25:37<8:21:53, 37.78s/it] \u001b[A"
     ]
    },
    {
     "name": "stdout",
     "output_type": "stream",
     "text": [
      "tensor(35.2862, grad_fn=<MeanBackward0>)\n"
     ]
    },
    {
     "name": "stderr",
     "output_type": "stream",
     "text": [
      "\n",
      " 20%|██        | 204/1000 [1:25:43<6:13:57, 28.19s/it]\u001b[A"
     ]
    },
    {
     "name": "stdout",
     "output_type": "stream",
     "text": [
      "tensor(40.0751, grad_fn=<MeanBackward0>)\n"
     ]
    },
    {
     "name": "stderr",
     "output_type": "stream",
     "text": [
      "\n",
      " 20%|██        | 205/1000 [1:25:48<4:44:00, 21.44s/it]\u001b[A"
     ]
    },
    {
     "name": "stdout",
     "output_type": "stream",
     "text": [
      "tensor(30.3879, grad_fn=<MeanBackward0>)\n"
     ]
    },
    {
     "name": "stderr",
     "output_type": "stream",
     "text": [
      "\n",
      " 21%|██        | 206/1000 [1:25:54<3:41:35, 16.74s/it]\u001b[A"
     ]
    },
    {
     "name": "stdout",
     "output_type": "stream",
     "text": [
      "tensor(19.0904, grad_fn=<MeanBackward0>)\n"
     ]
    },
    {
     "name": "stderr",
     "output_type": "stream",
     "text": [
      "\n",
      " 21%|██        | 207/1000 [1:26:00<2:57:50, 13.46s/it]\u001b[A"
     ]
    },
    {
     "name": "stdout",
     "output_type": "stream",
     "text": [
      "tensor(30.9021, grad_fn=<MeanBackward0>)\n"
     ]
    },
    {
     "name": "stderr",
     "output_type": "stream",
     "text": [
      "\n",
      " 21%|██        | 208/1000 [1:26:06<2:27:51, 11.20s/it]\u001b[A"
     ]
    },
    {
     "name": "stdout",
     "output_type": "stream",
     "text": [
      "tensor(17.8907, grad_fn=<MeanBackward0>)\n"
     ]
    },
    {
     "name": "stderr",
     "output_type": "stream",
     "text": [
      "\n",
      " 21%|██        | 209/1000 [1:26:12<2:06:26,  9.59s/it]\u001b[A"
     ]
    },
    {
     "name": "stdout",
     "output_type": "stream",
     "text": [
      "tensor(30.4365, grad_fn=<MeanBackward0>)\n"
     ]
    },
    {
     "name": "stderr",
     "output_type": "stream",
     "text": [
      "\n",
      " 21%|██        | 210/1000 [1:26:17<1:50:53,  8.42s/it]\u001b[A"
     ]
    },
    {
     "name": "stdout",
     "output_type": "stream",
     "text": [
      "tensor(43.2245, grad_fn=<MeanBackward0>)\n",
      "104.0 110.0\n",
      "Saved iteration: 210\n"
     ]
    },
    {
     "name": "stderr",
     "output_type": "stream",
     "text": [
      "\n",
      " 21%|██        | 211/1000 [1:29:54<15:33:07, 70.96s/it]\u001b[A"
     ]
    },
    {
     "name": "stdout",
     "output_type": "stream",
     "text": [
      "tensor(65.4610, grad_fn=<MeanBackward0>)\n"
     ]
    },
    {
     "name": "stderr",
     "output_type": "stream",
     "text": [
      "\n",
      " 21%|██        | 212/1000 [1:30:00<11:15:09, 51.41s/it]\u001b[A"
     ]
    },
    {
     "name": "stdout",
     "output_type": "stream",
     "text": [
      "tensor(63.1072, grad_fn=<MeanBackward0>)\n"
     ]
    },
    {
     "name": "stderr",
     "output_type": "stream",
     "text": [
      "\n",
      " 21%|██▏       | 213/1000 [1:30:06<8:14:56, 37.73s/it] \u001b[A"
     ]
    },
    {
     "name": "stdout",
     "output_type": "stream",
     "text": [
      "tensor(112.0337, grad_fn=<MeanBackward0>)\n"
     ]
    },
    {
     "name": "stderr",
     "output_type": "stream",
     "text": [
      "\n",
      " 21%|██▏       | 214/1000 [1:30:12<6:08:07, 28.10s/it]\u001b[A"
     ]
    },
    {
     "name": "stdout",
     "output_type": "stream",
     "text": [
      "tensor(62.6295, grad_fn=<MeanBackward0>)\n"
     ]
    },
    {
     "name": "stderr",
     "output_type": "stream",
     "text": [
      "\n",
      " 22%|██▏       | 215/1000 [1:30:17<4:40:23, 21.43s/it]\u001b[A"
     ]
    },
    {
     "name": "stdout",
     "output_type": "stream",
     "text": [
      "tensor(111.5883, grad_fn=<MeanBackward0>)\n"
     ]
    },
    {
     "name": "stderr",
     "output_type": "stream",
     "text": [
      "\n",
      " 22%|██▏       | 216/1000 [1:30:23<3:38:07, 16.69s/it]\u001b[A"
     ]
    },
    {
     "name": "stdout",
     "output_type": "stream",
     "text": [
      "tensor(141.3435, grad_fn=<MeanBackward0>)\n"
     ]
    },
    {
     "name": "stderr",
     "output_type": "stream",
     "text": [
      "\n",
      " 22%|██▏       | 217/1000 [1:30:29<2:55:51, 13.48s/it]\u001b[A"
     ]
    },
    {
     "name": "stdout",
     "output_type": "stream",
     "text": [
      "tensor(112.8606, grad_fn=<MeanBackward0>)\n"
     ]
    },
    {
     "name": "stderr",
     "output_type": "stream",
     "text": [
      "\n",
      " 22%|██▏       | 218/1000 [1:30:34<2:24:23, 11.08s/it]\u001b[A"
     ]
    },
    {
     "name": "stdout",
     "output_type": "stream",
     "text": [
      "tensor(73.8196, grad_fn=<MeanBackward0>)\n"
     ]
    },
    {
     "name": "stderr",
     "output_type": "stream",
     "text": [
      "\n",
      " 22%|██▏       | 219/1000 [1:30:40<2:03:00,  9.45s/it]\u001b[A"
     ]
    },
    {
     "name": "stdout",
     "output_type": "stream",
     "text": [
      "tensor(50.3256, grad_fn=<MeanBackward0>)\n"
     ]
    },
    {
     "name": "stderr",
     "output_type": "stream",
     "text": [
      "\n",
      " 22%|██▏       | 220/1000 [1:30:46<1:49:22,  8.41s/it]\u001b[A"
     ]
    },
    {
     "name": "stdout",
     "output_type": "stream",
     "text": [
      "tensor(72.6210, grad_fn=<MeanBackward0>)\n",
      "100.0 110.0\n",
      "Saved iteration: 220\n"
     ]
    },
    {
     "name": "stderr",
     "output_type": "stream",
     "text": [
      "\n",
      " 22%|██▏       | 221/1000 [1:34:22<15:18:29, 70.74s/it]\u001b[A"
     ]
    },
    {
     "name": "stdout",
     "output_type": "stream",
     "text": [
      "tensor(115.1989, grad_fn=<MeanBackward0>)\n"
     ]
    },
    {
     "name": "stderr",
     "output_type": "stream",
     "text": [
      "\n",
      " 22%|██▏       | 222/1000 [1:34:28<11:04:14, 51.23s/it]\u001b[A"
     ]
    },
    {
     "name": "stdout",
     "output_type": "stream",
     "text": [
      "tensor(33.1807, grad_fn=<MeanBackward0>)\n"
     ]
    },
    {
     "name": "stderr",
     "output_type": "stream",
     "text": [
      "\n",
      " 22%|██▏       | 223/1000 [1:34:33<8:05:41, 37.51s/it] \u001b[A"
     ]
    },
    {
     "name": "stdout",
     "output_type": "stream",
     "text": [
      "tensor(30.3494, grad_fn=<MeanBackward0>)\n"
     ]
    },
    {
     "name": "stderr",
     "output_type": "stream",
     "text": [
      "\n",
      " 22%|██▏       | 224/1000 [1:34:39<6:01:18, 27.94s/it]\u001b[A"
     ]
    },
    {
     "name": "stdout",
     "output_type": "stream",
     "text": [
      "tensor(22.0089, grad_fn=<MeanBackward0>)\n"
     ]
    },
    {
     "name": "stderr",
     "output_type": "stream",
     "text": [
      "\n",
      " 22%|██▎       | 225/1000 [1:34:45<4:35:51, 21.36s/it]\u001b[A"
     ]
    },
    {
     "name": "stdout",
     "output_type": "stream",
     "text": [
      "tensor(45.9478, grad_fn=<MeanBackward0>)\n"
     ]
    },
    {
     "name": "stderr",
     "output_type": "stream",
     "text": [
      "\n",
      " 23%|██▎       | 226/1000 [1:34:51<3:36:03, 16.75s/it]\u001b[A"
     ]
    },
    {
     "name": "stdout",
     "output_type": "stream",
     "text": [
      "tensor(37.1466, grad_fn=<MeanBackward0>)\n"
     ]
    },
    {
     "name": "stderr",
     "output_type": "stream",
     "text": [
      "\n",
      " 23%|██▎       | 227/1000 [1:34:57<2:52:49, 13.41s/it]\u001b[A"
     ]
    },
    {
     "name": "stdout",
     "output_type": "stream",
     "text": [
      "tensor(25.0574, grad_fn=<MeanBackward0>)\n"
     ]
    },
    {
     "name": "stderr",
     "output_type": "stream",
     "text": [
      "\n",
      " 23%|██▎       | 228/1000 [1:35:02<2:21:58, 11.03s/it]\u001b[A"
     ]
    },
    {
     "name": "stdout",
     "output_type": "stream",
     "text": [
      "tensor(41.0772, grad_fn=<MeanBackward0>)\n"
     ]
    },
    {
     "name": "stderr",
     "output_type": "stream",
     "text": [
      "\n",
      " 23%|██▎       | 229/1000 [1:35:08<2:03:12,  9.59s/it]\u001b[A"
     ]
    },
    {
     "name": "stdout",
     "output_type": "stream",
     "text": [
      "tensor(31.2803, grad_fn=<MeanBackward0>)\n"
     ]
    },
    {
     "name": "stderr",
     "output_type": "stream",
     "text": [
      "\n",
      " 23%|██▎       | 230/1000 [1:35:14<1:48:48,  8.48s/it]\u001b[A"
     ]
    },
    {
     "name": "stdout",
     "output_type": "stream",
     "text": [
      "tensor(19.8997, grad_fn=<MeanBackward0>)\n",
      "157.0 154.0\n",
      "Saved iteration: 230\n"
     ]
    },
    {
     "name": "stderr",
     "output_type": "stream",
     "text": [
      "\n",
      " 23%|██▎       | 231/1000 [1:38:52<15:12:38, 71.21s/it]\u001b[A"
     ]
    },
    {
     "name": "stdout",
     "output_type": "stream",
     "text": [
      "tensor(18.6403, grad_fn=<MeanBackward0>)\n"
     ]
    },
    {
     "name": "stderr",
     "output_type": "stream",
     "text": [
      "\n",
      " 23%|██▎       | 232/1000 [1:38:58<11:00:37, 51.61s/it]\u001b[A"
     ]
    },
    {
     "name": "stdout",
     "output_type": "stream",
     "text": [
      "tensor(244.6614, grad_fn=<MeanBackward0>)\n"
     ]
    },
    {
     "name": "stderr",
     "output_type": "stream",
     "text": [
      "\n",
      " 23%|██▎       | 233/1000 [1:39:04<8:05:59, 38.02s/it] \u001b[A"
     ]
    },
    {
     "name": "stdout",
     "output_type": "stream",
     "text": [
      "tensor(176.9987, grad_fn=<MeanBackward0>)\n"
     ]
    },
    {
     "name": "stderr",
     "output_type": "stream",
     "text": [
      "\n",
      " 23%|██▎       | 234/1000 [1:39:10<6:01:31, 28.32s/it]\u001b[A"
     ]
    },
    {
     "name": "stdout",
     "output_type": "stream",
     "text": [
      "tensor(184.4875, grad_fn=<MeanBackward0>)\n"
     ]
    },
    {
     "name": "stderr",
     "output_type": "stream",
     "text": [
      "\n",
      " 24%|██▎       | 235/1000 [1:39:16<4:35:13, 21.59s/it]\u001b[A"
     ]
    },
    {
     "name": "stdout",
     "output_type": "stream",
     "text": [
      "tensor(216.5164, grad_fn=<MeanBackward0>)\n"
     ]
    },
    {
     "name": "stderr",
     "output_type": "stream",
     "text": [
      "\n",
      " 24%|██▎       | 236/1000 [1:39:22<3:35:09, 16.90s/it]\u001b[A"
     ]
    },
    {
     "name": "stdout",
     "output_type": "stream",
     "text": [
      "tensor(180.2972, grad_fn=<MeanBackward0>)\n"
     ]
    },
    {
     "name": "stderr",
     "output_type": "stream",
     "text": [
      "\n",
      " 24%|██▎       | 237/1000 [1:39:27<2:52:15, 13.55s/it]\u001b[A"
     ]
    },
    {
     "name": "stdout",
     "output_type": "stream",
     "text": [
      "tensor(160.7359, grad_fn=<MeanBackward0>)\n"
     ]
    },
    {
     "name": "stderr",
     "output_type": "stream",
     "text": [
      "\n",
      " 24%|██▍       | 238/1000 [1:39:33<2:22:46, 11.24s/it]\u001b[A"
     ]
    },
    {
     "name": "stdout",
     "output_type": "stream",
     "text": [
      "tensor(236.6644, grad_fn=<MeanBackward0>)\n"
     ]
    },
    {
     "name": "stderr",
     "output_type": "stream",
     "text": [
      "\n",
      " 24%|██▍       | 239/1000 [1:39:39<2:00:53,  9.53s/it]\u001b[A"
     ]
    },
    {
     "name": "stdout",
     "output_type": "stream",
     "text": [
      "tensor(161.4878, grad_fn=<MeanBackward0>)\n"
     ]
    },
    {
     "name": "stderr",
     "output_type": "stream",
     "text": [
      "\n",
      " 24%|██▍       | 240/1000 [1:39:45<1:47:35,  8.49s/it]\u001b[A"
     ]
    },
    {
     "name": "stdout",
     "output_type": "stream",
     "text": [
      "tensor(200.8842, grad_fn=<MeanBackward0>)\n",
      "99.0 110.0\n",
      "Saved iteration: 240\n"
     ]
    },
    {
     "name": "stderr",
     "output_type": "stream",
     "text": [
      "\n",
      " 24%|██▍       | 241/1000 [1:43:24<15:06:37, 71.67s/it]\u001b[A"
     ]
    },
    {
     "name": "stdout",
     "output_type": "stream",
     "text": [
      "tensor(236.8611, grad_fn=<MeanBackward0>)\n"
     ]
    },
    {
     "name": "stderr",
     "output_type": "stream",
     "text": [
      "\n",
      " 24%|██▍       | 242/1000 [1:43:29<10:54:41, 51.82s/it]\u001b[A"
     ]
    },
    {
     "name": "stdout",
     "output_type": "stream",
     "text": [
      "tensor(119.3748, grad_fn=<MeanBackward0>)\n"
     ]
    },
    {
     "name": "stderr",
     "output_type": "stream",
     "text": [
      "\n",
      " 24%|██▍       | 243/1000 [1:43:35<8:00:33, 38.09s/it] \u001b[A"
     ]
    },
    {
     "name": "stdout",
     "output_type": "stream",
     "text": [
      "tensor(77.5618, grad_fn=<MeanBackward0>)\n"
     ]
    },
    {
     "name": "stderr",
     "output_type": "stream",
     "text": [
      "\n",
      " 24%|██▍       | 244/1000 [1:43:41<5:57:24, 28.37s/it]\u001b[A"
     ]
    },
    {
     "name": "stdout",
     "output_type": "stream",
     "text": [
      "tensor(123.6485, grad_fn=<MeanBackward0>)\n"
     ]
    },
    {
     "name": "stderr",
     "output_type": "stream",
     "text": [
      "\n",
      " 24%|██▍       | 245/1000 [1:43:47<4:31:24, 21.57s/it]\u001b[A"
     ]
    },
    {
     "name": "stdout",
     "output_type": "stream",
     "text": [
      "tensor(87.9943, grad_fn=<MeanBackward0>)\n"
     ]
    },
    {
     "name": "stderr",
     "output_type": "stream",
     "text": [
      "\n",
      " 25%|██▍       | 246/1000 [1:43:52<3:30:41, 16.77s/it]\u001b[A"
     ]
    },
    {
     "name": "stdout",
     "output_type": "stream",
     "text": [
      "tensor(156.5436, grad_fn=<MeanBackward0>)\n"
     ]
    },
    {
     "name": "stderr",
     "output_type": "stream",
     "text": [
      "\n",
      " 25%|██▍       | 247/1000 [1:43:58<2:49:50, 13.53s/it]\u001b[A"
     ]
    },
    {
     "name": "stdout",
     "output_type": "stream",
     "text": [
      "tensor(130.9226, grad_fn=<MeanBackward0>)\n"
     ]
    },
    {
     "name": "stderr",
     "output_type": "stream",
     "text": [
      "\n",
      " 25%|██▍       | 248/1000 [1:44:04<2:19:57, 11.17s/it]\u001b[A"
     ]
    },
    {
     "name": "stdout",
     "output_type": "stream",
     "text": [
      "tensor(92.1152, grad_fn=<MeanBackward0>)\n"
     ]
    },
    {
     "name": "stderr",
     "output_type": "stream",
     "text": [
      "\n",
      " 25%|██▍       | 249/1000 [1:44:10<2:00:41,  9.64s/it]\u001b[A"
     ]
    },
    {
     "name": "stdout",
     "output_type": "stream",
     "text": [
      "tensor(123.7720, grad_fn=<MeanBackward0>)\n"
     ]
    },
    {
     "name": "stderr",
     "output_type": "stream",
     "text": [
      "\n",
      " 25%|██▌       | 250/1000 [1:44:16<1:45:52,  8.47s/it]\u001b[A"
     ]
    },
    {
     "name": "stdout",
     "output_type": "stream",
     "text": [
      "tensor(92.7015, grad_fn=<MeanBackward0>)\n",
      "102.0 110.0\n",
      "Saved iteration: 250\n"
     ]
    },
    {
     "name": "stderr",
     "output_type": "stream",
     "text": [
      "\n",
      " 25%|██▌       | 251/1000 [1:47:52<14:44:52, 70.88s/it]\u001b[A"
     ]
    },
    {
     "name": "stdout",
     "output_type": "stream",
     "text": [
      "tensor(118.9455, grad_fn=<MeanBackward0>)\n"
     ]
    },
    {
     "name": "stderr",
     "output_type": "stream",
     "text": [
      "\n",
      " 25%|██▌       | 252/1000 [1:47:58<10:39:33, 51.30s/it]\u001b[A"
     ]
    },
    {
     "name": "stdout",
     "output_type": "stream",
     "text": [
      "tensor(45.9700, grad_fn=<MeanBackward0>)\n"
     ]
    },
    {
     "name": "stderr",
     "output_type": "stream",
     "text": [
      "\n",
      " 25%|██▌       | 253/1000 [1:48:04<7:49:45, 37.73s/it] \u001b[A"
     ]
    },
    {
     "name": "stdout",
     "output_type": "stream",
     "text": [
      "tensor(45.7022, grad_fn=<MeanBackward0>)\n"
     ]
    },
    {
     "name": "stderr",
     "output_type": "stream",
     "text": [
      "\n",
      " 25%|██▌       | 254/1000 [1:48:10<5:50:04, 28.16s/it]\u001b[A"
     ]
    },
    {
     "name": "stdout",
     "output_type": "stream",
     "text": [
      "tensor(57.9463, grad_fn=<MeanBackward0>)\n"
     ]
    },
    {
     "name": "stderr",
     "output_type": "stream",
     "text": [
      "\n",
      " 26%|██▌       | 255/1000 [1:48:16<4:26:15, 21.44s/it]\u001b[A"
     ]
    },
    {
     "name": "stdout",
     "output_type": "stream",
     "text": [
      "tensor(52.2364, grad_fn=<MeanBackward0>)\n"
     ]
    },
    {
     "name": "stderr",
     "output_type": "stream",
     "text": [
      "\n",
      " 26%|██▌       | 256/1000 [1:48:21<3:27:14, 16.71s/it]\u001b[A"
     ]
    },
    {
     "name": "stdout",
     "output_type": "stream",
     "text": [
      "tensor(50.0989, grad_fn=<MeanBackward0>)\n"
     ]
    },
    {
     "name": "stderr",
     "output_type": "stream",
     "text": [
      "\n",
      " 26%|██▌       | 257/1000 [1:48:27<2:45:27, 13.36s/it]\u001b[A"
     ]
    },
    {
     "name": "stdout",
     "output_type": "stream",
     "text": [
      "tensor(37.9975, grad_fn=<MeanBackward0>)\n"
     ]
    },
    {
     "name": "stderr",
     "output_type": "stream",
     "text": [
      "\n",
      " 26%|██▌       | 258/1000 [1:48:33<2:17:36, 11.13s/it]\u001b[A"
     ]
    },
    {
     "name": "stdout",
     "output_type": "stream",
     "text": [
      "tensor(45.0850, grad_fn=<MeanBackward0>)\n"
     ]
    },
    {
     "name": "stderr",
     "output_type": "stream",
     "text": [
      "\n",
      " 26%|██▌       | 259/1000 [1:48:38<1:57:05,  9.48s/it]\u001b[A"
     ]
    },
    {
     "name": "stdout",
     "output_type": "stream",
     "text": [
      "tensor(34.6891, grad_fn=<MeanBackward0>)\n"
     ]
    },
    {
     "name": "stderr",
     "output_type": "stream",
     "text": [
      "\n",
      " 26%|██▌       | 260/1000 [1:48:44<1:42:54,  8.34s/it]\u001b[A"
     ]
    },
    {
     "name": "stdout",
     "output_type": "stream",
     "text": [
      "tensor(27.2815, grad_fn=<MeanBackward0>)\n",
      "154.0 171.0\n",
      "Saved iteration: 260\n"
     ]
    },
    {
     "name": "stderr",
     "output_type": "stream",
     "text": [
      "\n",
      " 26%|██▌       | 261/1000 [1:52:20<14:29:09, 70.57s/it]\u001b[A"
     ]
    },
    {
     "name": "stdout",
     "output_type": "stream",
     "text": [
      "tensor(37.3534, grad_fn=<MeanBackward0>)\n"
     ]
    },
    {
     "name": "stderr",
     "output_type": "stream",
     "text": [
      "\n",
      " 26%|██▌       | 262/1000 [1:52:25<10:27:59, 51.06s/it]\u001b[A"
     ]
    },
    {
     "name": "stdout",
     "output_type": "stream",
     "text": [
      "tensor(167.9086, grad_fn=<MeanBackward0>)\n"
     ]
    },
    {
     "name": "stderr",
     "output_type": "stream",
     "text": [
      "\n",
      " 26%|██▋       | 263/1000 [1:52:31<7:40:07, 37.46s/it] \u001b[A"
     ]
    },
    {
     "name": "stdout",
     "output_type": "stream",
     "text": [
      "tensor(124.5667, grad_fn=<MeanBackward0>)\n"
     ]
    },
    {
     "name": "stderr",
     "output_type": "stream",
     "text": [
      "\n",
      " 26%|██▋       | 264/1000 [1:52:37<5:44:25, 28.08s/it]\u001b[A"
     ]
    },
    {
     "name": "stdout",
     "output_type": "stream",
     "text": [
      "tensor(182.6159, grad_fn=<MeanBackward0>)\n"
     ]
    },
    {
     "name": "stderr",
     "output_type": "stream",
     "text": [
      "\n",
      " 26%|██▋       | 265/1000 [1:52:43<4:21:35, 21.35s/it]\u001b[A"
     ]
    },
    {
     "name": "stdout",
     "output_type": "stream",
     "text": [
      "tensor(137.6140, grad_fn=<MeanBackward0>)\n"
     ]
    },
    {
     "name": "stderr",
     "output_type": "stream",
     "text": [
      "\n",
      " 27%|██▋       | 266/1000 [1:52:48<3:22:41, 16.57s/it]\u001b[A"
     ]
    },
    {
     "name": "stdout",
     "output_type": "stream",
     "text": [
      "tensor(171.9913, grad_fn=<MeanBackward0>)\n"
     ]
    },
    {
     "name": "stderr",
     "output_type": "stream",
     "text": [
      "\n",
      " 27%|██▋       | 267/1000 [1:52:54<2:42:53, 13.33s/it]\u001b[A"
     ]
    },
    {
     "name": "stdout",
     "output_type": "stream",
     "text": [
      "tensor(128.5070, grad_fn=<MeanBackward0>)\n"
     ]
    },
    {
     "name": "stderr",
     "output_type": "stream",
     "text": [
      "\n",
      " 27%|██▋       | 268/1000 [1:53:01<2:17:17, 11.25s/it]\u001b[A"
     ]
    },
    {
     "name": "stdout",
     "output_type": "stream",
     "text": [
      "tensor(156.6590, grad_fn=<MeanBackward0>)\n"
     ]
    },
    {
     "name": "stderr",
     "output_type": "stream",
     "text": [
      "\n",
      " 27%|██▋       | 269/1000 [1:53:07<1:58:35,  9.73s/it]\u001b[A"
     ]
    },
    {
     "name": "stdout",
     "output_type": "stream",
     "text": [
      "tensor(132.2764, grad_fn=<MeanBackward0>)\n"
     ]
    },
    {
     "name": "stderr",
     "output_type": "stream",
     "text": [
      "\n",
      " 27%|██▋       | 270/1000 [1:53:12<1:43:23,  8.50s/it]\u001b[A"
     ]
    },
    {
     "name": "stdout",
     "output_type": "stream",
     "text": [
      "tensor(107.3974, grad_fn=<MeanBackward0>)\n",
      "101.0 110.0\n",
      "Saved iteration: 270\n"
     ]
    },
    {
     "name": "stderr",
     "output_type": "stream",
     "text": [
      "\n",
      " 27%|██▋       | 271/1000 [1:56:49<14:22:14, 70.97s/it]\u001b[A"
     ]
    },
    {
     "name": "stdout",
     "output_type": "stream",
     "text": [
      "tensor(106.3635, grad_fn=<MeanBackward0>)\n"
     ]
    },
    {
     "name": "stderr",
     "output_type": "stream",
     "text": [
      "\n",
      " 27%|██▋       | 272/1000 [1:56:55<10:24:16, 51.45s/it]\u001b[A"
     ]
    },
    {
     "name": "stdout",
     "output_type": "stream",
     "text": [
      "tensor(71.4229, grad_fn=<MeanBackward0>)\n"
     ]
    },
    {
     "name": "stderr",
     "output_type": "stream",
     "text": [
      "\n",
      " 27%|██▋       | 273/1000 [1:57:01<7:36:32, 37.68s/it] \u001b[A"
     ]
    },
    {
     "name": "stdout",
     "output_type": "stream",
     "text": [
      "tensor(44.4235, grad_fn=<MeanBackward0>)\n"
     ]
    },
    {
     "name": "stderr",
     "output_type": "stream",
     "text": [
      "\n",
      " 27%|██▋       | 274/1000 [1:57:06<5:40:22, 28.13s/it]\u001b[A"
     ]
    },
    {
     "name": "stdout",
     "output_type": "stream",
     "text": [
      "tensor(69.4684, grad_fn=<MeanBackward0>)\n"
     ]
    },
    {
     "name": "stderr",
     "output_type": "stream",
     "text": [
      "\n",
      " 28%|██▊       | 275/1000 [1:57:12<4:18:33, 21.40s/it]\u001b[A"
     ]
    },
    {
     "name": "stdout",
     "output_type": "stream",
     "text": [
      "tensor(57.3273, grad_fn=<MeanBackward0>)\n"
     ]
    },
    {
     "name": "stderr",
     "output_type": "stream",
     "text": [
      "\n",
      " 28%|██▊       | 276/1000 [1:57:18<3:22:36, 16.79s/it]\u001b[A"
     ]
    },
    {
     "name": "stdout",
     "output_type": "stream",
     "text": [
      "tensor(55.5222, grad_fn=<MeanBackward0>)\n"
     ]
    },
    {
     "name": "stderr",
     "output_type": "stream",
     "text": [
      "\n",
      " 28%|██▊       | 277/1000 [1:57:24<2:42:07, 13.45s/it]\u001b[A"
     ]
    },
    {
     "name": "stdout",
     "output_type": "stream",
     "text": [
      "tensor(31.0253, grad_fn=<MeanBackward0>)\n"
     ]
    },
    {
     "name": "stderr",
     "output_type": "stream",
     "text": [
      "\n",
      " 28%|██▊       | 278/1000 [1:57:30<2:14:11, 11.15s/it]\u001b[A"
     ]
    },
    {
     "name": "stdout",
     "output_type": "stream",
     "text": [
      "tensor(58.4580, grad_fn=<MeanBackward0>)\n"
     ]
    },
    {
     "name": "stderr",
     "output_type": "stream",
     "text": [
      "\n",
      " 28%|██▊       | 279/1000 [1:57:35<1:54:36,  9.54s/it]\u001b[A"
     ]
    },
    {
     "name": "stdout",
     "output_type": "stream",
     "text": [
      "tensor(54.8531, grad_fn=<MeanBackward0>)\n"
     ]
    },
    {
     "name": "stderr",
     "output_type": "stream",
     "text": [
      "\n",
      " 28%|██▊       | 280/1000 [1:57:42<1:42:38,  8.55s/it]\u001b[A"
     ]
    },
    {
     "name": "stdout",
     "output_type": "stream",
     "text": [
      "tensor(55.1924, grad_fn=<MeanBackward0>)\n",
      "108.0 117.0\n",
      "Saved iteration: 280\n"
     ]
    },
    {
     "name": "stderr",
     "output_type": "stream",
     "text": [
      "\n",
      " 28%|██▊       | 281/1000 [2:01:18<14:11:13, 71.03s/it]\u001b[A"
     ]
    },
    {
     "name": "stdout",
     "output_type": "stream",
     "text": [
      "tensor(36.1832, grad_fn=<MeanBackward0>)\n"
     ]
    },
    {
     "name": "stderr",
     "output_type": "stream",
     "text": [
      "\n",
      " 28%|██▊       | 282/1000 [2:01:24<10:16:06, 51.48s/it]\u001b[A"
     ]
    },
    {
     "name": "stdout",
     "output_type": "stream",
     "text": [
      "tensor(75.9044, grad_fn=<MeanBackward0>)\n"
     ]
    },
    {
     "name": "stderr",
     "output_type": "stream",
     "text": [
      "\n",
      " 28%|██▊       | 283/1000 [2:01:30<7:30:40, 37.71s/it] \u001b[A"
     ]
    },
    {
     "name": "stdout",
     "output_type": "stream",
     "text": [
      "tensor(73.2599, grad_fn=<MeanBackward0>)\n"
     ]
    },
    {
     "name": "stderr",
     "output_type": "stream",
     "text": [
      "\n",
      " 28%|██▊       | 284/1000 [2:01:36<5:35:28, 28.11s/it]\u001b[A"
     ]
    },
    {
     "name": "stdout",
     "output_type": "stream",
     "text": [
      "tensor(73.9165, grad_fn=<MeanBackward0>)\n"
     ]
    },
    {
     "name": "stderr",
     "output_type": "stream",
     "text": [
      "\n",
      " 28%|██▊       | 285/1000 [2:01:41<4:15:17, 21.42s/it]\u001b[A"
     ]
    },
    {
     "name": "stdout",
     "output_type": "stream",
     "text": [
      "tensor(31.5934, grad_fn=<MeanBackward0>)\n"
     ]
    },
    {
     "name": "stderr",
     "output_type": "stream",
     "text": [
      "\n",
      " 29%|██▊       | 286/1000 [2:01:47<3:18:42, 16.70s/it]\u001b[A"
     ]
    },
    {
     "name": "stdout",
     "output_type": "stream",
     "text": [
      "tensor(65.3116, grad_fn=<MeanBackward0>)\n"
     ]
    },
    {
     "name": "stderr",
     "output_type": "stream",
     "text": [
      "\n",
      " 29%|██▊       | 287/1000 [2:01:53<2:39:40, 13.44s/it]\u001b[A"
     ]
    },
    {
     "name": "stdout",
     "output_type": "stream",
     "text": [
      "tensor(60.8127, grad_fn=<MeanBackward0>)\n"
     ]
    },
    {
     "name": "stderr",
     "output_type": "stream",
     "text": [
      "\n",
      " 29%|██▉       | 288/1000 [2:01:58<2:11:28, 11.08s/it]\u001b[A"
     ]
    },
    {
     "name": "stdout",
     "output_type": "stream",
     "text": [
      "tensor(61.7021, grad_fn=<MeanBackward0>)\n"
     ]
    },
    {
     "name": "stderr",
     "output_type": "stream",
     "text": [
      "\n",
      " 29%|██▉       | 289/1000 [2:02:04<1:53:00,  9.54s/it]\u001b[A"
     ]
    },
    {
     "name": "stdout",
     "output_type": "stream",
     "text": [
      "tensor(62.7687, grad_fn=<MeanBackward0>)\n"
     ]
    },
    {
     "name": "stderr",
     "output_type": "stream",
     "text": [
      "\n",
      " 29%|██▉       | 290/1000 [2:02:10<1:39:29,  8.41s/it]\u001b[A"
     ]
    },
    {
     "name": "stdout",
     "output_type": "stream",
     "text": [
      "tensor(50.1828, grad_fn=<MeanBackward0>)\n",
      "106.0 110.0\n",
      "Saved iteration: 290\n"
     ]
    },
    {
     "name": "stderr",
     "output_type": "stream",
     "text": [
      "\n",
      " 29%|██▉       | 291/1000 [2:05:46<13:55:27, 70.70s/it]\u001b[A"
     ]
    },
    {
     "name": "stdout",
     "output_type": "stream",
     "text": [
      "tensor(52.2362, grad_fn=<MeanBackward0>)\n"
     ]
    },
    {
     "name": "stderr",
     "output_type": "stream",
     "text": [
      "\n",
      " 29%|██▉       | 292/1000 [2:05:52<10:04:07, 51.20s/it]\u001b[A"
     ]
    },
    {
     "name": "stdout",
     "output_type": "stream",
     "text": [
      "tensor(55.8927, grad_fn=<MeanBackward0>)\n"
     ]
    },
    {
     "name": "stderr",
     "output_type": "stream",
     "text": [
      "\n",
      " 29%|██▉       | 293/1000 [2:05:58<7:22:53, 37.59s/it] \u001b[A"
     ]
    },
    {
     "name": "stdout",
     "output_type": "stream",
     "text": [
      "tensor(83.0454, grad_fn=<MeanBackward0>)\n"
     ]
    },
    {
     "name": "stderr",
     "output_type": "stream",
     "text": [
      "\n",
      " 29%|██▉       | 294/1000 [2:06:04<5:30:25, 28.08s/it]\u001b[A"
     ]
    },
    {
     "name": "stdout",
     "output_type": "stream",
     "text": [
      "tensor(44.0867, grad_fn=<MeanBackward0>)\n"
     ]
    },
    {
     "name": "stderr",
     "output_type": "stream",
     "text": [
      "\n",
      " 30%|██▉       | 295/1000 [2:06:09<4:11:35, 21.41s/it]\u001b[A"
     ]
    },
    {
     "name": "stdout",
     "output_type": "stream",
     "text": [
      "tensor(41.3513, grad_fn=<MeanBackward0>)\n"
     ]
    },
    {
     "name": "stderr",
     "output_type": "stream",
     "text": [
      "\n",
      " 30%|██▉       | 296/1000 [2:06:15<3:15:51, 16.69s/it]\u001b[A"
     ]
    },
    {
     "name": "stdout",
     "output_type": "stream",
     "text": [
      "tensor(63.1181, grad_fn=<MeanBackward0>)\n"
     ]
    },
    {
     "name": "stderr",
     "output_type": "stream",
     "text": [
      "\n",
      " 30%|██▉       | 297/1000 [2:06:21<2:36:14, 13.34s/it]\u001b[A"
     ]
    },
    {
     "name": "stdout",
     "output_type": "stream",
     "text": [
      "tensor(58.2821, grad_fn=<MeanBackward0>)\n"
     ]
    },
    {
     "name": "stderr",
     "output_type": "stream",
     "text": [
      "\n",
      " 30%|██▉       | 298/1000 [2:06:26<2:09:21, 11.06s/it]\u001b[A"
     ]
    },
    {
     "name": "stdout",
     "output_type": "stream",
     "text": [
      "tensor(63.0433, grad_fn=<MeanBackward0>)\n"
     ]
    },
    {
     "name": "stderr",
     "output_type": "stream",
     "text": [
      "\n",
      " 30%|██▉       | 299/1000 [2:06:33<1:53:27,  9.71s/it]\u001b[A"
     ]
    },
    {
     "name": "stdout",
     "output_type": "stream",
     "text": [
      "tensor(22.3702, grad_fn=<MeanBackward0>)\n"
     ]
    },
    {
     "name": "stderr",
     "output_type": "stream",
     "text": [
      "\n",
      " 30%|███       | 300/1000 [2:06:39<1:40:32,  8.62s/it]\u001b[A"
     ]
    },
    {
     "name": "stdout",
     "output_type": "stream",
     "text": [
      "tensor(59.6836, grad_fn=<MeanBackward0>)\n",
      "105.0 113.0\n",
      "Saved iteration: 300\n"
     ]
    },
    {
     "name": "stderr",
     "output_type": "stream",
     "text": [
      "\n",
      " 30%|███       | 301/1000 [2:10:15<13:45:14, 70.84s/it]\u001b[A"
     ]
    },
    {
     "name": "stdout",
     "output_type": "stream",
     "text": [
      "tensor(42.5786, grad_fn=<MeanBackward0>)\n"
     ]
    },
    {
     "name": "stderr",
     "output_type": "stream",
     "text": [
      "\n",
      " 30%|███       | 302/1000 [2:10:21<9:57:27, 51.36s/it] \u001b[A"
     ]
    },
    {
     "name": "stdout",
     "output_type": "stream",
     "text": [
      "tensor(93.9687, grad_fn=<MeanBackward0>)\n"
     ]
    },
    {
     "name": "stderr",
     "output_type": "stream",
     "text": [
      "\n",
      " 30%|███       | 303/1000 [2:10:27<7:16:59, 37.62s/it]\u001b[A"
     ]
    },
    {
     "name": "stdout",
     "output_type": "stream",
     "text": [
      "tensor(151.9164, grad_fn=<MeanBackward0>)\n"
     ]
    },
    {
     "name": "stderr",
     "output_type": "stream",
     "text": [
      "\n",
      " 30%|███       | 304/1000 [2:10:32<5:25:08, 28.03s/it]\u001b[A"
     ]
    },
    {
     "name": "stdout",
     "output_type": "stream",
     "text": [
      "tensor(83.9490, grad_fn=<MeanBackward0>)\n"
     ]
    },
    {
     "name": "stderr",
     "output_type": "stream",
     "text": [
      "\n",
      " 30%|███       | 305/1000 [2:10:38<4:07:53, 21.40s/it]\u001b[A"
     ]
    },
    {
     "name": "stdout",
     "output_type": "stream",
     "text": [
      "tensor(62.4816, grad_fn=<MeanBackward0>)\n"
     ]
    },
    {
     "name": "stderr",
     "output_type": "stream",
     "text": [
      "\n",
      " 31%|███       | 306/1000 [2:10:44<3:13:36, 16.74s/it]\u001b[A"
     ]
    },
    {
     "name": "stdout",
     "output_type": "stream",
     "text": [
      "tensor(93.6651, grad_fn=<MeanBackward0>)\n"
     ]
    },
    {
     "name": "stderr",
     "output_type": "stream",
     "text": [
      "\n",
      " 31%|███       | 307/1000 [2:10:50<2:34:50, 13.41s/it]\u001b[A"
     ]
    },
    {
     "name": "stdout",
     "output_type": "stream",
     "text": [
      "tensor(87.4349, grad_fn=<MeanBackward0>)\n"
     ]
    },
    {
     "name": "stderr",
     "output_type": "stream",
     "text": [
      "\n",
      " 31%|███       | 308/1000 [2:10:55<2:07:58, 11.10s/it]\u001b[A"
     ]
    },
    {
     "name": "stdout",
     "output_type": "stream",
     "text": [
      "tensor(117.5205, grad_fn=<MeanBackward0>)\n"
     ]
    },
    {
     "name": "stderr",
     "output_type": "stream",
     "text": [
      "\n",
      " 31%|███       | 309/1000 [2:11:01<1:50:06,  9.56s/it]\u001b[A"
     ]
    },
    {
     "name": "stdout",
     "output_type": "stream",
     "text": [
      "tensor(108.4200, grad_fn=<MeanBackward0>)\n"
     ]
    },
    {
     "name": "stderr",
     "output_type": "stream",
     "text": [
      "\n",
      " 31%|███       | 310/1000 [2:11:07<1:36:59,  8.43s/it]\u001b[A"
     ]
    },
    {
     "name": "stdout",
     "output_type": "stream",
     "text": [
      "tensor(129.3841, grad_fn=<MeanBackward0>)\n",
      "102.0 110.0\n",
      "Saved iteration: 310\n"
     ]
    },
    {
     "name": "stderr",
     "output_type": "stream",
     "text": [
      "\n",
      " 31%|███       | 311/1000 [2:14:42<13:28:00, 70.36s/it]\u001b[A"
     ]
    },
    {
     "name": "stdout",
     "output_type": "stream",
     "text": [
      "tensor(90.8549, grad_fn=<MeanBackward0>)\n"
     ]
    },
    {
     "name": "stderr",
     "output_type": "stream",
     "text": [
      "\n",
      " 31%|███       | 312/1000 [2:14:48<9:44:57, 51.01s/it] \u001b[A"
     ]
    },
    {
     "name": "stdout",
     "output_type": "stream",
     "text": [
      "tensor(38.7378, grad_fn=<MeanBackward0>)\n"
     ]
    },
    {
     "name": "stderr",
     "output_type": "stream",
     "text": [
      "\n",
      " 31%|███▏      | 313/1000 [2:14:53<7:08:20, 37.41s/it]\u001b[A"
     ]
    },
    {
     "name": "stdout",
     "output_type": "stream",
     "text": [
      "tensor(25.4161, grad_fn=<MeanBackward0>)\n"
     ]
    },
    {
     "name": "stderr",
     "output_type": "stream",
     "text": [
      "\n",
      " 31%|███▏      | 314/1000 [2:15:00<5:20:24, 28.02s/it]\u001b[A"
     ]
    },
    {
     "name": "stdout",
     "output_type": "stream",
     "text": [
      "tensor(30.9142, grad_fn=<MeanBackward0>)\n"
     ]
    },
    {
     "name": "stderr",
     "output_type": "stream",
     "text": [
      "\n",
      " 32%|███▏      | 315/1000 [2:15:05<4:03:42, 21.35s/it]\u001b[A"
     ]
    },
    {
     "name": "stdout",
     "output_type": "stream",
     "text": [
      "tensor(22.7749, grad_fn=<MeanBackward0>)\n"
     ]
    },
    {
     "name": "stderr",
     "output_type": "stream",
     "text": [
      "\n",
      " 32%|███▏      | 316/1000 [2:15:11<3:11:02, 16.76s/it]\u001b[A"
     ]
    },
    {
     "name": "stdout",
     "output_type": "stream",
     "text": [
      "tensor(30.2487, grad_fn=<MeanBackward0>)\n"
     ]
    },
    {
     "name": "stderr",
     "output_type": "stream",
     "text": [
      "\n",
      " 32%|███▏      | 317/1000 [2:15:17<2:32:17, 13.38s/it]\u001b[A"
     ]
    },
    {
     "name": "stdout",
     "output_type": "stream",
     "text": [
      "tensor(36.6808, grad_fn=<MeanBackward0>)\n"
     ]
    },
    {
     "name": "stderr",
     "output_type": "stream",
     "text": [
      "\n",
      " 32%|███▏      | 318/1000 [2:15:23<2:05:58, 11.08s/it]\u001b[A"
     ]
    },
    {
     "name": "stdout",
     "output_type": "stream",
     "text": [
      "tensor(19.1812, grad_fn=<MeanBackward0>)\n"
     ]
    },
    {
     "name": "stderr",
     "output_type": "stream",
     "text": [
      "\n",
      " 32%|███▏      | 319/1000 [2:15:28<1:47:00,  9.43s/it]\u001b[A"
     ]
    },
    {
     "name": "stdout",
     "output_type": "stream",
     "text": [
      "tensor(17.0355, grad_fn=<MeanBackward0>)\n"
     ]
    },
    {
     "name": "stderr",
     "output_type": "stream",
     "text": [
      "\n",
      " 32%|███▏      | 320/1000 [2:15:34<1:35:01,  8.38s/it]\u001b[A"
     ]
    },
    {
     "name": "stdout",
     "output_type": "stream",
     "text": [
      "tensor(15.7777, grad_fn=<MeanBackward0>)\n",
      "138.0 141.0\n",
      "Saved iteration: 320\n"
     ]
    },
    {
     "name": "stderr",
     "output_type": "stream",
     "text": [
      "\n",
      " 32%|███▏      | 321/1000 [2:19:11<13:20:53, 70.77s/it]\u001b[A"
     ]
    },
    {
     "name": "stdout",
     "output_type": "stream",
     "text": [
      "tensor(17.5506, grad_fn=<MeanBackward0>)\n"
     ]
    },
    {
     "name": "stderr",
     "output_type": "stream",
     "text": [
      "\n",
      " 32%|███▏      | 322/1000 [2:19:16<9:38:54, 51.23s/it] \u001b[A"
     ]
    },
    {
     "name": "stdout",
     "output_type": "stream",
     "text": [
      "tensor(188.3739, grad_fn=<MeanBackward0>)\n"
     ]
    },
    {
     "name": "stderr",
     "output_type": "stream",
     "text": [
      "\n",
      " 32%|███▏      | 323/1000 [2:19:22<7:03:44, 37.55s/it]\u001b[A"
     ]
    },
    {
     "name": "stdout",
     "output_type": "stream",
     "text": [
      "tensor(213.4741, grad_fn=<MeanBackward0>)\n"
     ]
    },
    {
     "name": "stderr",
     "output_type": "stream",
     "text": [
      "\n",
      " 32%|███▏      | 324/1000 [2:19:28<5:16:21, 28.08s/it]\u001b[A"
     ]
    },
    {
     "name": "stdout",
     "output_type": "stream",
     "text": [
      "tensor(166.2910, grad_fn=<MeanBackward0>)\n"
     ]
    },
    {
     "name": "stderr",
     "output_type": "stream",
     "text": [
      "\n",
      " 32%|███▎      | 325/1000 [2:19:33<4:00:27, 21.37s/it]\u001b[A"
     ]
    },
    {
     "name": "stdout",
     "output_type": "stream",
     "text": [
      "tensor(141.9583, grad_fn=<MeanBackward0>)\n"
     ]
    },
    {
     "name": "stderr",
     "output_type": "stream",
     "text": [
      "\n",
      " 33%|███▎      | 326/1000 [2:19:39<3:07:28, 16.69s/it]\u001b[A"
     ]
    },
    {
     "name": "stdout",
     "output_type": "stream",
     "text": [
      "tensor(129.8684, grad_fn=<MeanBackward0>)\n"
     ]
    },
    {
     "name": "stderr",
     "output_type": "stream",
     "text": [
      "\n",
      " 33%|███▎      | 327/1000 [2:19:45<2:29:49, 13.36s/it]\u001b[A"
     ]
    },
    {
     "name": "stdout",
     "output_type": "stream",
     "text": [
      "tensor(193.5256, grad_fn=<MeanBackward0>)\n"
     ]
    },
    {
     "name": "stderr",
     "output_type": "stream",
     "text": [
      "\n",
      " 33%|███▎      | 328/1000 [2:19:51<2:05:03, 11.17s/it]\u001b[A"
     ]
    },
    {
     "name": "stdout",
     "output_type": "stream",
     "text": [
      "tensor(213.9373, grad_fn=<MeanBackward0>)\n"
     ]
    },
    {
     "name": "stderr",
     "output_type": "stream",
     "text": [
      "\n",
      " 33%|███▎      | 329/1000 [2:19:57<1:47:42,  9.63s/it]\u001b[A"
     ]
    },
    {
     "name": "stdout",
     "output_type": "stream",
     "text": [
      "tensor(209.2340, grad_fn=<MeanBackward0>)\n"
     ]
    },
    {
     "name": "stderr",
     "output_type": "stream",
     "text": [
      "\n",
      " 33%|███▎      | 330/1000 [2:20:04<1:37:29,  8.73s/it]\u001b[A"
     ]
    },
    {
     "name": "stdout",
     "output_type": "stream",
     "text": [
      "tensor(314.8471, grad_fn=<MeanBackward0>)\n",
      "101.0 110.0\n",
      "Saved iteration: 330\n"
     ]
    },
    {
     "name": "stderr",
     "output_type": "stream",
     "text": [
      "\n",
      " 33%|███▎      | 331/1000 [2:23:42<13:17:36, 71.53s/it]\u001b[A"
     ]
    },
    {
     "name": "stdout",
     "output_type": "stream",
     "text": [
      "tensor(112.1128, grad_fn=<MeanBackward0>)\n"
     ]
    },
    {
     "name": "stderr",
     "output_type": "stream",
     "text": [
      "\n",
      " 33%|███▎      | 332/1000 [2:23:47<9:36:21, 51.77s/it] \u001b[A"
     ]
    },
    {
     "name": "stdout",
     "output_type": "stream",
     "text": [
      "tensor(83.0195, grad_fn=<MeanBackward0>)\n"
     ]
    },
    {
     "name": "stderr",
     "output_type": "stream",
     "text": [
      "\n",
      " 33%|███▎      | 333/1000 [2:23:53<7:02:32, 38.01s/it]\u001b[A"
     ]
    },
    {
     "name": "stdout",
     "output_type": "stream",
     "text": [
      "tensor(88.1922, grad_fn=<MeanBackward0>)\n"
     ]
    },
    {
     "name": "stderr",
     "output_type": "stream",
     "text": [
      "\n",
      " 33%|███▎      | 334/1000 [2:23:59<5:14:46, 28.36s/it]\u001b[A"
     ]
    },
    {
     "name": "stdout",
     "output_type": "stream",
     "text": [
      "tensor(122.8342, grad_fn=<MeanBackward0>)\n"
     ]
    },
    {
     "name": "stderr",
     "output_type": "stream",
     "text": [
      "\n",
      " 34%|███▎      | 335/1000 [2:24:05<3:58:24, 21.51s/it]\u001b[A"
     ]
    },
    {
     "name": "stdout",
     "output_type": "stream",
     "text": [
      "tensor(116.6335, grad_fn=<MeanBackward0>)\n"
     ]
    },
    {
     "name": "stderr",
     "output_type": "stream",
     "text": [
      "\n",
      " 34%|███▎      | 336/1000 [2:24:10<3:05:28, 16.76s/it]\u001b[A"
     ]
    },
    {
     "name": "stdout",
     "output_type": "stream",
     "text": [
      "tensor(84.4268, grad_fn=<MeanBackward0>)\n"
     ]
    },
    {
     "name": "stderr",
     "output_type": "stream",
     "text": [
      "\n",
      " 34%|███▎      | 337/1000 [2:24:16<2:28:14, 13.42s/it]\u001b[A"
     ]
    },
    {
     "name": "stdout",
     "output_type": "stream",
     "text": [
      "tensor(42.7049, grad_fn=<MeanBackward0>)\n"
     ]
    },
    {
     "name": "stderr",
     "output_type": "stream",
     "text": [
      "\n",
      " 34%|███▍      | 338/1000 [2:24:22<2:03:07, 11.16s/it]\u001b[A"
     ]
    },
    {
     "name": "stdout",
     "output_type": "stream",
     "text": [
      "tensor(71.5178, grad_fn=<MeanBackward0>)\n"
     ]
    },
    {
     "name": "stderr",
     "output_type": "stream",
     "text": [
      "\n",
      " 34%|███▍      | 339/1000 [2:24:27<1:44:22,  9.47s/it]\u001b[A"
     ]
    },
    {
     "name": "stdout",
     "output_type": "stream",
     "text": [
      "tensor(58.3700, grad_fn=<MeanBackward0>)\n"
     ]
    },
    {
     "name": "stderr",
     "output_type": "stream",
     "text": [
      "\n",
      " 34%|███▍      | 340/1000 [2:24:33<1:33:00,  8.46s/it]\u001b[A"
     ]
    },
    {
     "name": "stdout",
     "output_type": "stream",
     "text": [
      "tensor(87.2056, grad_fn=<MeanBackward0>)\n",
      "105.0 112.0\n",
      "Saved iteration: 340\n"
     ]
    },
    {
     "name": "stderr",
     "output_type": "stream",
     "text": [
      "\n",
      " 34%|███▍      | 341/1000 [2:28:09<12:53:56, 70.46s/it]\u001b[A"
     ]
    },
    {
     "name": "stdout",
     "output_type": "stream",
     "text": [
      "tensor(61.1114, grad_fn=<MeanBackward0>)\n"
     ]
    },
    {
     "name": "stderr",
     "output_type": "stream",
     "text": [
      "\n",
      " 34%|███▍      | 342/1000 [2:28:15<9:20:48, 51.14s/it] \u001b[A"
     ]
    },
    {
     "name": "stdout",
     "output_type": "stream",
     "text": [
      "tensor(78.4151, grad_fn=<MeanBackward0>)\n"
     ]
    },
    {
     "name": "stderr",
     "output_type": "stream",
     "text": [
      "\n",
      " 34%|███▍      | 343/1000 [2:28:20<6:50:21, 37.48s/it]\u001b[A"
     ]
    },
    {
     "name": "stdout",
     "output_type": "stream",
     "text": [
      "tensor(32.8237, grad_fn=<MeanBackward0>)\n"
     ]
    },
    {
     "name": "stderr",
     "output_type": "stream",
     "text": [
      "\n",
      " 34%|███▍      | 344/1000 [2:28:26<5:05:08, 27.91s/it]\u001b[A"
     ]
    },
    {
     "name": "stdout",
     "output_type": "stream",
     "text": [
      "tensor(28.1254, grad_fn=<MeanBackward0>)\n"
     ]
    },
    {
     "name": "stderr",
     "output_type": "stream",
     "text": [
      "\n",
      " 34%|███▍      | 345/1000 [2:28:33<3:55:28, 21.57s/it]\u001b[A"
     ]
    },
    {
     "name": "stdout",
     "output_type": "stream",
     "text": [
      "tensor(25.2339, grad_fn=<MeanBackward0>)\n"
     ]
    },
    {
     "name": "stderr",
     "output_type": "stream",
     "text": [
      "\n",
      " 35%|███▍      | 346/1000 [2:28:39<3:05:47, 17.05s/it]\u001b[A"
     ]
    },
    {
     "name": "stdout",
     "output_type": "stream",
     "text": [
      "tensor(46.3410, grad_fn=<MeanBackward0>)\n"
     ]
    },
    {
     "name": "stderr",
     "output_type": "stream",
     "text": [
      "\n",
      " 35%|███▍      | 347/1000 [2:28:45<2:28:30, 13.65s/it]\u001b[A"
     ]
    },
    {
     "name": "stdout",
     "output_type": "stream",
     "text": [
      "tensor(36.4747, grad_fn=<MeanBackward0>)\n"
     ]
    },
    {
     "name": "stderr",
     "output_type": "stream",
     "text": [
      "\n",
      " 35%|███▍      | 348/1000 [2:28:50<2:02:35, 11.28s/it]\u001b[A"
     ]
    },
    {
     "name": "stdout",
     "output_type": "stream",
     "text": [
      "tensor(56.3510, grad_fn=<MeanBackward0>)\n"
     ]
    },
    {
     "name": "stderr",
     "output_type": "stream",
     "text": [
      "\n",
      " 35%|███▍      | 349/1000 [2:28:56<1:44:05,  9.59s/it]\u001b[A"
     ]
    },
    {
     "name": "stdout",
     "output_type": "stream",
     "text": [
      "tensor(26.2862, grad_fn=<MeanBackward0>)\n"
     ]
    },
    {
     "name": "stderr",
     "output_type": "stream",
     "text": [
      "\n",
      " 35%|███▌      | 350/1000 [2:29:02<1:31:58,  8.49s/it]\u001b[A"
     ]
    },
    {
     "name": "stdout",
     "output_type": "stream",
     "text": [
      "tensor(41.1689, grad_fn=<MeanBackward0>)\n",
      "129.0 141.0\n",
      "Saved iteration: 350\n"
     ]
    },
    {
     "name": "stderr",
     "output_type": "stream",
     "text": [
      "\n",
      " 35%|███▌      | 351/1000 [2:32:36<12:39:22, 70.20s/it]\u001b[A"
     ]
    },
    {
     "name": "stdout",
     "output_type": "stream",
     "text": [
      "tensor(21.4715, grad_fn=<MeanBackward0>)\n"
     ]
    },
    {
     "name": "stderr",
     "output_type": "stream",
     "text": [
      "\n",
      " 35%|███▌      | 352/1000 [2:32:42<9:09:03, 50.84s/it] \u001b[A"
     ]
    },
    {
     "name": "stdout",
     "output_type": "stream",
     "text": [
      "tensor(207.9969, grad_fn=<MeanBackward0>)\n"
     ]
    },
    {
     "name": "stderr",
     "output_type": "stream",
     "text": [
      "\n",
      " 35%|███▌      | 353/1000 [2:32:48<6:42:25, 37.32s/it]\u001b[A"
     ]
    },
    {
     "name": "stdout",
     "output_type": "stream",
     "text": [
      "tensor(268.1068, grad_fn=<MeanBackward0>)\n"
     ]
    },
    {
     "name": "stderr",
     "output_type": "stream",
     "text": [
      "\n",
      " 35%|███▌      | 354/1000 [2:32:53<4:59:46, 27.84s/it]\u001b[A"
     ]
    },
    {
     "name": "stdout",
     "output_type": "stream",
     "text": [
      "tensor(214.9029, grad_fn=<MeanBackward0>)\n"
     ]
    },
    {
     "name": "stderr",
     "output_type": "stream",
     "text": [
      "\n",
      " 36%|███▌      | 355/1000 [2:32:59<3:48:09, 21.22s/it]\u001b[A"
     ]
    },
    {
     "name": "stdout",
     "output_type": "stream",
     "text": [
      "tensor(130.1594, grad_fn=<MeanBackward0>)\n"
     ]
    },
    {
     "name": "stderr",
     "output_type": "stream",
     "text": [
      "\n",
      " 36%|███▌      | 356/1000 [2:33:05<2:58:57, 16.67s/it]\u001b[A"
     ]
    },
    {
     "name": "stdout",
     "output_type": "stream",
     "text": [
      "tensor(120.9415, grad_fn=<MeanBackward0>)\n"
     ]
    },
    {
     "name": "stderr",
     "output_type": "stream",
     "text": [
      "\n",
      " 36%|███▌      | 357/1000 [2:33:11<2:24:18, 13.47s/it]\u001b[A"
     ]
    },
    {
     "name": "stdout",
     "output_type": "stream",
     "text": [
      "tensor(169.9937, grad_fn=<MeanBackward0>)\n"
     ]
    },
    {
     "name": "stderr",
     "output_type": "stream",
     "text": [
      "\n",
      " 36%|███▌      | 358/1000 [2:33:17<1:58:36, 11.08s/it]\u001b[A"
     ]
    },
    {
     "name": "stdout",
     "output_type": "stream",
     "text": [
      "tensor(144.8644, grad_fn=<MeanBackward0>)\n"
     ]
    },
    {
     "name": "stderr",
     "output_type": "stream",
     "text": [
      "\n",
      " 36%|███▌      | 359/1000 [2:33:22<1:41:07,  9.47s/it]\u001b[A"
     ]
    },
    {
     "name": "stdout",
     "output_type": "stream",
     "text": [
      "tensor(108.1878, grad_fn=<MeanBackward0>)\n"
     ]
    },
    {
     "name": "stderr",
     "output_type": "stream",
     "text": [
      "\n",
      " 36%|███▌      | 360/1000 [2:33:28<1:29:22,  8.38s/it]\u001b[A"
     ]
    },
    {
     "name": "stdout",
     "output_type": "stream",
     "text": [
      "tensor(136.3324, grad_fn=<MeanBackward0>)\n",
      "102.0 110.0\n",
      "Saved iteration: 360\n"
     ]
    },
    {
     "name": "stderr",
     "output_type": "stream",
     "text": [
      "\n",
      " 36%|███▌      | 361/1000 [2:37:05<12:33:43, 70.77s/it]\u001b[A"
     ]
    },
    {
     "name": "stdout",
     "output_type": "stream",
     "text": [
      "tensor(249.1134, grad_fn=<MeanBackward0>)\n"
     ]
    },
    {
     "name": "stderr",
     "output_type": "stream",
     "text": [
      "\n",
      " 36%|███▌      | 362/1000 [2:37:10<9:04:43, 51.23s/it] \u001b[A"
     ]
    },
    {
     "name": "stdout",
     "output_type": "stream",
     "text": [
      "tensor(131.0299, grad_fn=<MeanBackward0>)\n"
     ]
    },
    {
     "name": "stderr",
     "output_type": "stream",
     "text": [
      "\n",
      " 36%|███▋      | 363/1000 [2:37:16<6:39:47, 37.66s/it]\u001b[A"
     ]
    },
    {
     "name": "stdout",
     "output_type": "stream",
     "text": [
      "tensor(67.0049, grad_fn=<MeanBackward0>)\n"
     ]
    },
    {
     "name": "stderr",
     "output_type": "stream",
     "text": [
      "\n",
      " 36%|███▋      | 364/1000 [2:37:22<4:58:00, 28.11s/it]\u001b[A"
     ]
    },
    {
     "name": "stdout",
     "output_type": "stream",
     "text": [
      "tensor(80.6948, grad_fn=<MeanBackward0>)\n"
     ]
    },
    {
     "name": "stderr",
     "output_type": "stream",
     "text": [
      "\n",
      " 36%|███▋      | 365/1000 [2:37:28<3:46:14, 21.38s/it]\u001b[A"
     ]
    },
    {
     "name": "stdout",
     "output_type": "stream",
     "text": [
      "tensor(96.6833, grad_fn=<MeanBackward0>)\n"
     ]
    },
    {
     "name": "stderr",
     "output_type": "stream",
     "text": [
      "\n",
      " 37%|███▋      | 366/1000 [2:37:33<2:56:08, 16.67s/it]\u001b[A"
     ]
    },
    {
     "name": "stdout",
     "output_type": "stream",
     "text": [
      "tensor(76.9670, grad_fn=<MeanBackward0>)\n"
     ]
    },
    {
     "name": "stderr",
     "output_type": "stream",
     "text": [
      "\n",
      " 37%|███▋      | 367/1000 [2:37:39<2:20:53, 13.35s/it]\u001b[A"
     ]
    },
    {
     "name": "stdout",
     "output_type": "stream",
     "text": [
      "tensor(83.5171, grad_fn=<MeanBackward0>)\n"
     ]
    },
    {
     "name": "stderr",
     "output_type": "stream",
     "text": [
      "\n",
      " 37%|███▋      | 368/1000 [2:37:45<1:56:46, 11.09s/it]\u001b[A"
     ]
    },
    {
     "name": "stdout",
     "output_type": "stream",
     "text": [
      "tensor(40.4924, grad_fn=<MeanBackward0>)\n"
     ]
    },
    {
     "name": "stderr",
     "output_type": "stream",
     "text": [
      "\n",
      " 37%|███▋      | 369/1000 [2:37:50<1:39:13,  9.43s/it]\u001b[A"
     ]
    },
    {
     "name": "stdout",
     "output_type": "stream",
     "text": [
      "tensor(75.0721, grad_fn=<MeanBackward0>)\n"
     ]
    },
    {
     "name": "stderr",
     "output_type": "stream",
     "text": [
      "\n",
      " 37%|███▋      | 370/1000 [2:37:56<1:28:00,  8.38s/it]\u001b[A"
     ]
    },
    {
     "name": "stdout",
     "output_type": "stream",
     "text": [
      "tensor(48.5823, grad_fn=<MeanBackward0>)\n",
      "105.0 111.0\n",
      "Saved iteration: 370\n"
     ]
    },
    {
     "name": "stderr",
     "output_type": "stream",
     "text": [
      "\n",
      " 37%|███▋      | 371/1000 [2:41:35<12:29:08, 71.46s/it]\u001b[A"
     ]
    },
    {
     "name": "stdout",
     "output_type": "stream",
     "text": [
      "tensor(61.1050, grad_fn=<MeanBackward0>)\n"
     ]
    },
    {
     "name": "stderr",
     "output_type": "stream",
     "text": [
      "\n",
      " 37%|███▋      | 372/1000 [2:41:41<9:01:35, 51.74s/it] \u001b[A"
     ]
    },
    {
     "name": "stdout",
     "output_type": "stream",
     "text": [
      "tensor(37.7588, grad_fn=<MeanBackward0>)\n"
     ]
    },
    {
     "name": "stderr",
     "output_type": "stream",
     "text": [
      "\n",
      " 37%|███▋      | 373/1000 [2:41:47<6:36:57, 37.99s/it]\u001b[A"
     ]
    },
    {
     "name": "stdout",
     "output_type": "stream",
     "text": [
      "tensor(40.2509, grad_fn=<MeanBackward0>)\n"
     ]
    },
    {
     "name": "stderr",
     "output_type": "stream",
     "text": [
      "\n",
      " 37%|███▋      | 374/1000 [2:41:52<4:55:09, 28.29s/it]\u001b[A"
     ]
    },
    {
     "name": "stdout",
     "output_type": "stream",
     "text": [
      "tensor(42.5191, grad_fn=<MeanBackward0>)\n"
     ]
    },
    {
     "name": "stderr",
     "output_type": "stream",
     "text": [
      "\n",
      " 38%|███▊      | 375/1000 [2:41:58<3:44:14, 21.53s/it]\u001b[A"
     ]
    },
    {
     "name": "stdout",
     "output_type": "stream",
     "text": [
      "tensor(37.2891, grad_fn=<MeanBackward0>)\n"
     ]
    },
    {
     "name": "stderr",
     "output_type": "stream",
     "text": [
      "\n",
      " 38%|███▊      | 376/1000 [2:42:04<2:55:52, 16.91s/it]\u001b[A"
     ]
    },
    {
     "name": "stdout",
     "output_type": "stream",
     "text": [
      "tensor(32.0245, grad_fn=<MeanBackward0>)\n"
     ]
    },
    {
     "name": "stderr",
     "output_type": "stream",
     "text": [
      "\n",
      " 38%|███▊      | 377/1000 [2:42:10<2:21:11, 13.60s/it]\u001b[A"
     ]
    },
    {
     "name": "stdout",
     "output_type": "stream",
     "text": [
      "tensor(18.7695, grad_fn=<MeanBackward0>)\n"
     ]
    },
    {
     "name": "stderr",
     "output_type": "stream",
     "text": [
      "\n",
      " 38%|███▊      | 378/1000 [2:42:16<1:56:19, 11.22s/it]\u001b[A"
     ]
    },
    {
     "name": "stdout",
     "output_type": "stream",
     "text": [
      "tensor(29.1078, grad_fn=<MeanBackward0>)\n"
     ]
    },
    {
     "name": "stderr",
     "output_type": "stream",
     "text": [
      "\n",
      " 38%|███▊      | 379/1000 [2:42:21<1:38:27,  9.51s/it]\u001b[A"
     ]
    },
    {
     "name": "stdout",
     "output_type": "stream",
     "text": [
      "tensor(51.0310, grad_fn=<MeanBackward0>)\n"
     ]
    },
    {
     "name": "stderr",
     "output_type": "stream",
     "text": [
      "\n",
      " 38%|███▊      | 380/1000 [2:42:27<1:27:21,  8.45s/it]\u001b[A"
     ]
    },
    {
     "name": "stdout",
     "output_type": "stream",
     "text": [
      "tensor(25.0622, grad_fn=<MeanBackward0>)\n",
      "122.0 139.0\n",
      "Saved iteration: 380\n"
     ]
    },
    {
     "name": "stderr",
     "output_type": "stream",
     "text": [
      "\n",
      " 38%|███▊      | 381/1000 [2:46:03<12:09:37, 70.72s/it]\u001b[A"
     ]
    },
    {
     "name": "stdout",
     "output_type": "stream",
     "text": [
      "tensor(29.4349, grad_fn=<MeanBackward0>)\n"
     ]
    },
    {
     "name": "stderr",
     "output_type": "stream",
     "text": [
      "\n",
      " 38%|███▊      | 382/1000 [2:46:09<8:48:19, 51.29s/it] \u001b[A"
     ]
    },
    {
     "name": "stdout",
     "output_type": "stream",
     "text": [
      "tensor(182.6369, grad_fn=<MeanBackward0>)\n"
     ]
    },
    {
     "name": "stderr",
     "output_type": "stream",
     "text": [
      "\n",
      " 38%|███▊      | 383/1000 [2:46:15<6:26:51, 37.62s/it]\u001b[A"
     ]
    },
    {
     "name": "stdout",
     "output_type": "stream",
     "text": [
      "tensor(173.4630, grad_fn=<MeanBackward0>)\n"
     ]
    },
    {
     "name": "stderr",
     "output_type": "stream",
     "text": [
      "\n",
      " 38%|███▊      | 384/1000 [2:46:21<4:47:30, 28.00s/it]\u001b[A"
     ]
    },
    {
     "name": "stdout",
     "output_type": "stream",
     "text": [
      "tensor(177.9341, grad_fn=<MeanBackward0>)\n"
     ]
    },
    {
     "name": "stderr",
     "output_type": "stream",
     "text": [
      "\n",
      " 38%|███▊      | 385/1000 [2:46:26<3:37:53, 21.26s/it]\u001b[A"
     ]
    },
    {
     "name": "stdout",
     "output_type": "stream",
     "text": [
      "tensor(187.0178, grad_fn=<MeanBackward0>)\n"
     ]
    },
    {
     "name": "stderr",
     "output_type": "stream",
     "text": [
      "\n",
      " 39%|███▊      | 386/1000 [2:46:32<2:51:02, 16.71s/it]\u001b[A"
     ]
    },
    {
     "name": "stdout",
     "output_type": "stream",
     "text": [
      "tensor(143.6576, grad_fn=<MeanBackward0>)\n"
     ]
    },
    {
     "name": "stderr",
     "output_type": "stream",
     "text": [
      "\n",
      " 39%|███▊      | 387/1000 [2:46:38<2:17:14, 13.43s/it]\u001b[A"
     ]
    },
    {
     "name": "stdout",
     "output_type": "stream",
     "text": [
      "tensor(145.1122, grad_fn=<MeanBackward0>)\n"
     ]
    },
    {
     "name": "stderr",
     "output_type": "stream",
     "text": [
      "\n",
      " 39%|███▉      | 388/1000 [2:46:44<1:53:15, 11.10s/it]\u001b[A"
     ]
    },
    {
     "name": "stdout",
     "output_type": "stream",
     "text": [
      "tensor(157.0803, grad_fn=<MeanBackward0>)\n"
     ]
    },
    {
     "name": "stderr",
     "output_type": "stream",
     "text": [
      "\n",
      " 39%|███▉      | 389/1000 [2:46:49<1:35:45,  9.40s/it]\u001b[A"
     ]
    },
    {
     "name": "stdout",
     "output_type": "stream",
     "text": [
      "tensor(138.5857, grad_fn=<MeanBackward0>)\n"
     ]
    },
    {
     "name": "stderr",
     "output_type": "stream",
     "text": [
      "\n",
      " 39%|███▉      | 390/1000 [2:46:55<1:25:24,  8.40s/it]\u001b[A"
     ]
    },
    {
     "name": "stdout",
     "output_type": "stream",
     "text": [
      "tensor(226.4619, grad_fn=<MeanBackward0>)\n",
      "101.0 110.0\n",
      "Saved iteration: 390\n"
     ]
    },
    {
     "name": "stderr",
     "output_type": "stream",
     "text": [
      "\n",
      " 39%|███▉      | 391/1000 [2:50:29<11:49:59, 69.95s/it]\u001b[A"
     ]
    },
    {
     "name": "stdout",
     "output_type": "stream",
     "text": [
      "tensor(130.5897, grad_fn=<MeanBackward0>)\n"
     ]
    },
    {
     "name": "stderr",
     "output_type": "stream",
     "text": [
      "\n",
      " 39%|███▉      | 392/1000 [2:50:34<8:33:46, 50.70s/it] \u001b[A"
     ]
    },
    {
     "name": "stdout",
     "output_type": "stream",
     "text": [
      "tensor(98.8671, grad_fn=<MeanBackward0>)\n"
     ]
    },
    {
     "name": "stderr",
     "output_type": "stream",
     "text": [
      "\n",
      " 39%|███▉      | 393/1000 [2:50:42<6:20:30, 37.61s/it]\u001b[A"
     ]
    },
    {
     "name": "stdout",
     "output_type": "stream",
     "text": [
      "tensor(135.7398, grad_fn=<MeanBackward0>)\n"
     ]
    },
    {
     "name": "stderr",
     "output_type": "stream",
     "text": [
      "\n",
      " 39%|███▉      | 394/1000 [2:50:47<4:44:03, 28.13s/it]\u001b[A"
     ]
    },
    {
     "name": "stdout",
     "output_type": "stream",
     "text": [
      "tensor(102.3356, grad_fn=<MeanBackward0>)\n"
     ]
    },
    {
     "name": "stderr",
     "output_type": "stream",
     "text": [
      "\n",
      " 40%|███▉      | 395/1000 [2:50:53<3:36:15, 21.45s/it]\u001b[A"
     ]
    },
    {
     "name": "stdout",
     "output_type": "stream",
     "text": [
      "tensor(89.0102, grad_fn=<MeanBackward0>)\n"
     ]
    },
    {
     "name": "stderr",
     "output_type": "stream",
     "text": [
      "\n",
      " 40%|███▉      | 396/1000 [2:50:59<2:48:21, 16.72s/it]\u001b[A"
     ]
    },
    {
     "name": "stdout",
     "output_type": "stream",
     "text": [
      "tensor(112.5657, grad_fn=<MeanBackward0>)\n"
     ]
    },
    {
     "name": "stderr",
     "output_type": "stream",
     "text": [
      "\n",
      " 40%|███▉      | 397/1000 [2:51:05<2:15:50, 13.52s/it]\u001b[A"
     ]
    },
    {
     "name": "stdout",
     "output_type": "stream",
     "text": [
      "tensor(92.6403, grad_fn=<MeanBackward0>)\n"
     ]
    },
    {
     "name": "stderr",
     "output_type": "stream",
     "text": [
      "\n",
      " 40%|███▉      | 398/1000 [2:51:11<1:51:41, 11.13s/it]\u001b[A"
     ]
    },
    {
     "name": "stdout",
     "output_type": "stream",
     "text": [
      "tensor(97.7728, grad_fn=<MeanBackward0>)\n"
     ]
    },
    {
     "name": "stderr",
     "output_type": "stream",
     "text": [
      "\n",
      " 40%|███▉      | 399/1000 [2:51:16<1:34:54,  9.48s/it]\u001b[A"
     ]
    },
    {
     "name": "stdout",
     "output_type": "stream",
     "text": [
      "tensor(114.2559, grad_fn=<MeanBackward0>)\n"
     ]
    },
    {
     "name": "stderr",
     "output_type": "stream",
     "text": [
      "\n",
      " 40%|████      | 400/1000 [2:51:22<1:23:30,  8.35s/it]\u001b[A"
     ]
    },
    {
     "name": "stdout",
     "output_type": "stream",
     "text": [
      "tensor(93.0607, grad_fn=<MeanBackward0>)\n",
      "104.0 111.0\n",
      "Saved iteration: 400\n"
     ]
    },
    {
     "name": "stderr",
     "output_type": "stream",
     "text": [
      "\n",
      " 40%|████      | 401/1000 [2:54:59<11:48:28, 70.97s/it]\u001b[A"
     ]
    },
    {
     "name": "stdout",
     "output_type": "stream",
     "text": [
      "tensor(74.0989, grad_fn=<MeanBackward0>)\n"
     ]
    },
    {
     "name": "stderr",
     "output_type": "stream",
     "text": [
      "\n",
      " 40%|████      | 402/1000 [2:55:05<8:32:32, 51.43s/it] \u001b[A"
     ]
    },
    {
     "name": "stdout",
     "output_type": "stream",
     "text": [
      "tensor(42.4142, grad_fn=<MeanBackward0>)\n"
     ]
    },
    {
     "name": "stderr",
     "output_type": "stream",
     "text": [
      "\n",
      " 40%|████      | 403/1000 [2:55:11<6:15:32, 37.74s/it]\u001b[A"
     ]
    },
    {
     "name": "stdout",
     "output_type": "stream",
     "text": [
      "tensor(36.6801, grad_fn=<MeanBackward0>)\n"
     ]
    },
    {
     "name": "stderr",
     "output_type": "stream",
     "text": [
      "\n",
      " 40%|████      | 404/1000 [2:55:16<4:38:35, 28.05s/it]\u001b[A"
     ]
    },
    {
     "name": "stdout",
     "output_type": "stream",
     "text": [
      "tensor(21.0761, grad_fn=<MeanBackward0>)\n"
     ]
    },
    {
     "name": "stderr",
     "output_type": "stream",
     "text": [
      "\n",
      " 40%|████      | 405/1000 [2:55:22<3:32:18, 21.41s/it]\u001b[A"
     ]
    },
    {
     "name": "stdout",
     "output_type": "stream",
     "text": [
      "tensor(29.0386, grad_fn=<MeanBackward0>)\n"
     ]
    },
    {
     "name": "stderr",
     "output_type": "stream",
     "text": [
      "\n",
      " 41%|████      | 406/1000 [2:55:28<2:45:07, 16.68s/it]\u001b[A"
     ]
    },
    {
     "name": "stdout",
     "output_type": "stream",
     "text": [
      "tensor(44.9583, grad_fn=<MeanBackward0>)\n"
     ]
    },
    {
     "name": "stderr",
     "output_type": "stream",
     "text": [
      "\n",
      " 41%|████      | 407/1000 [2:55:33<2:12:32, 13.41s/it]\u001b[A"
     ]
    },
    {
     "name": "stdout",
     "output_type": "stream",
     "text": [
      "tensor(46.0300, grad_fn=<MeanBackward0>)\n"
     ]
    },
    {
     "name": "stderr",
     "output_type": "stream",
     "text": [
      "\n",
      " 41%|████      | 408/1000 [2:55:39<1:49:05, 11.06s/it]\u001b[A"
     ]
    },
    {
     "name": "stdout",
     "output_type": "stream",
     "text": [
      "tensor(42.3899, grad_fn=<MeanBackward0>)\n"
     ]
    },
    {
     "name": "stderr",
     "output_type": "stream",
     "text": [
      "\n",
      " 41%|████      | 409/1000 [2:55:45<1:33:32,  9.50s/it]\u001b[A"
     ]
    },
    {
     "name": "stdout",
     "output_type": "stream",
     "text": [
      "tensor(48.7173, grad_fn=<MeanBackward0>)\n"
     ]
    },
    {
     "name": "stderr",
     "output_type": "stream",
     "text": [
      "\n",
      " 41%|████      | 410/1000 [2:55:51<1:22:05,  8.35s/it]\u001b[A"
     ]
    },
    {
     "name": "stdout",
     "output_type": "stream",
     "text": [
      "tensor(24.7762, grad_fn=<MeanBackward0>)\n",
      "113.0 120.0\n",
      "Saved iteration: 410\n"
     ]
    },
    {
     "name": "stderr",
     "output_type": "stream",
     "text": [
      "\n",
      " 41%|████      | 411/1000 [2:59:27<11:34:38, 70.76s/it]\u001b[A"
     ]
    },
    {
     "name": "stdout",
     "output_type": "stream",
     "text": [
      "tensor(34.0696, grad_fn=<MeanBackward0>)\n"
     ]
    },
    {
     "name": "stderr",
     "output_type": "stream",
     "text": [
      "\n",
      " 41%|████      | 412/1000 [2:59:33<8:22:35, 51.29s/it] \u001b[A"
     ]
    },
    {
     "name": "stdout",
     "output_type": "stream",
     "text": [
      "tensor(115.8515, grad_fn=<MeanBackward0>)\n"
     ]
    },
    {
     "name": "stderr",
     "output_type": "stream",
     "text": [
      "\n",
      " 41%|████▏     | 413/1000 [2:59:39<6:08:31, 37.67s/it]\u001b[A"
     ]
    },
    {
     "name": "stdout",
     "output_type": "stream",
     "text": [
      "tensor(168.4898, grad_fn=<MeanBackward0>)\n"
     ]
    },
    {
     "name": "stderr",
     "output_type": "stream",
     "text": [
      "\n",
      " 41%|████▏     | 414/1000 [2:59:44<4:33:50, 28.04s/it]\u001b[A"
     ]
    },
    {
     "name": "stdout",
     "output_type": "stream",
     "text": [
      "tensor(94.8684, grad_fn=<MeanBackward0>)\n"
     ]
    },
    {
     "name": "stderr",
     "output_type": "stream",
     "text": [
      "\n",
      " 42%|████▏     | 415/1000 [2:59:50<3:28:28, 21.38s/it]\u001b[A"
     ]
    },
    {
     "name": "stdout",
     "output_type": "stream",
     "text": [
      "tensor(101.2619, grad_fn=<MeanBackward0>)\n"
     ]
    },
    {
     "name": "stderr",
     "output_type": "stream",
     "text": [
      "\n",
      " 42%|████▏     | 416/1000 [2:59:56<2:44:05, 16.86s/it]\u001b[A"
     ]
    },
    {
     "name": "stdout",
     "output_type": "stream",
     "text": [
      "tensor(152.3823, grad_fn=<MeanBackward0>)\n"
     ]
    },
    {
     "name": "stderr",
     "output_type": "stream",
     "text": [
      "\n",
      " 42%|████▏     | 417/1000 [3:00:03<2:12:22, 13.62s/it]\u001b[A"
     ]
    },
    {
     "name": "stdout",
     "output_type": "stream",
     "text": [
      "tensor(143.7228, grad_fn=<MeanBackward0>)\n"
     ]
    },
    {
     "name": "stderr",
     "output_type": "stream",
     "text": [
      "\n",
      " 42%|████▏     | 418/1000 [3:00:08<1:49:00, 11.24s/it]\u001b[A"
     ]
    },
    {
     "name": "stdout",
     "output_type": "stream",
     "text": [
      "tensor(108.5745, grad_fn=<MeanBackward0>)\n"
     ]
    },
    {
     "name": "stderr",
     "output_type": "stream",
     "text": [
      "\n",
      " 42%|████▏     | 419/1000 [3:00:14<1:32:14,  9.53s/it]\u001b[A"
     ]
    },
    {
     "name": "stdout",
     "output_type": "stream",
     "text": [
      "tensor(149.1740, grad_fn=<MeanBackward0>)\n"
     ]
    },
    {
     "name": "stderr",
     "output_type": "stream",
     "text": [
      "\n",
      " 42%|████▏     | 420/1000 [3:00:20<1:21:47,  8.46s/it]\u001b[A"
     ]
    },
    {
     "name": "stdout",
     "output_type": "stream",
     "text": [
      "tensor(126.1165, grad_fn=<MeanBackward0>)\n",
      "101.0 110.0\n",
      "Saved iteration: 420\n"
     ]
    },
    {
     "name": "stderr",
     "output_type": "stream",
     "text": [
      "\n",
      " 42%|████▏     | 421/1000 [3:03:57<11:26:29, 71.14s/it]\u001b[A"
     ]
    },
    {
     "name": "stdout",
     "output_type": "stream",
     "text": [
      "tensor(120.7631, grad_fn=<MeanBackward0>)\n"
     ]
    },
    {
     "name": "stderr",
     "output_type": "stream",
     "text": [
      "\n",
      " 42%|████▏     | 422/1000 [3:04:03<8:16:33, 51.55s/it] \u001b[A"
     ]
    },
    {
     "name": "stdout",
     "output_type": "stream",
     "text": [
      "tensor(76.9433, grad_fn=<MeanBackward0>)\n"
     ]
    },
    {
     "name": "stderr",
     "output_type": "stream",
     "text": [
      "\n",
      " 42%|████▏     | 423/1000 [3:04:09<6:04:07, 37.86s/it]\u001b[A"
     ]
    },
    {
     "name": "stdout",
     "output_type": "stream",
     "text": [
      "tensor(53.9722, grad_fn=<MeanBackward0>)\n"
     ]
    },
    {
     "name": "stderr",
     "output_type": "stream",
     "text": [
      "\n",
      " 42%|████▏     | 424/1000 [3:04:15<4:31:07, 28.24s/it]\u001b[A"
     ]
    },
    {
     "name": "stdout",
     "output_type": "stream",
     "text": [
      "tensor(38.7186, grad_fn=<MeanBackward0>)\n"
     ]
    },
    {
     "name": "stderr",
     "output_type": "stream",
     "text": [
      "\n",
      " 42%|████▎     | 425/1000 [3:04:20<3:25:22, 21.43s/it]\u001b[A"
     ]
    },
    {
     "name": "stdout",
     "output_type": "stream",
     "text": [
      "tensor(28.8804, grad_fn=<MeanBackward0>)\n"
     ]
    },
    {
     "name": "stderr",
     "output_type": "stream",
     "text": [
      "\n",
      " 43%|████▎     | 426/1000 [3:04:26<2:39:52, 16.71s/it]\u001b[A"
     ]
    },
    {
     "name": "stdout",
     "output_type": "stream",
     "text": [
      "tensor(52.6955, grad_fn=<MeanBackward0>)\n"
     ]
    },
    {
     "name": "stderr",
     "output_type": "stream",
     "text": [
      "\n",
      " 43%|████▎     | 427/1000 [3:04:32<2:09:22, 13.55s/it]\u001b[A"
     ]
    },
    {
     "name": "stdout",
     "output_type": "stream",
     "text": [
      "tensor(36.2590, grad_fn=<MeanBackward0>)\n"
     ]
    },
    {
     "name": "stderr",
     "output_type": "stream",
     "text": [
      "\n",
      " 43%|████▎     | 428/1000 [3:04:38<1:46:46, 11.20s/it]\u001b[A"
     ]
    },
    {
     "name": "stdout",
     "output_type": "stream",
     "text": [
      "tensor(43.4002, grad_fn=<MeanBackward0>)\n"
     ]
    },
    {
     "name": "stderr",
     "output_type": "stream",
     "text": [
      "\n",
      " 43%|████▎     | 429/1000 [3:04:43<1:30:36,  9.52s/it]\u001b[A"
     ]
    },
    {
     "name": "stdout",
     "output_type": "stream",
     "text": [
      "tensor(36.9989, grad_fn=<MeanBackward0>)\n"
     ]
    },
    {
     "name": "stderr",
     "output_type": "stream",
     "text": [
      "\n",
      " 43%|████▎     | 430/1000 [3:04:49<1:19:16,  8.34s/it]\u001b[A"
     ]
    },
    {
     "name": "stdout",
     "output_type": "stream",
     "text": [
      "tensor(36.2527, grad_fn=<MeanBackward0>)\n",
      "116.0 122.0\n",
      "Saved iteration: 430\n"
     ]
    },
    {
     "name": "stderr",
     "output_type": "stream",
     "text": [
      "\n",
      " 43%|████▎     | 431/1000 [3:08:25<11:10:46, 70.73s/it]\u001b[A"
     ]
    },
    {
     "name": "stdout",
     "output_type": "stream",
     "text": [
      "tensor(26.9340, grad_fn=<MeanBackward0>)\n"
     ]
    },
    {
     "name": "stderr",
     "output_type": "stream",
     "text": [
      "\n",
      " 43%|████▎     | 432/1000 [3:08:31<8:04:43, 51.20s/it] \u001b[A"
     ]
    },
    {
     "name": "stdout",
     "output_type": "stream",
     "text": [
      "tensor(141.0677, grad_fn=<MeanBackward0>)\n"
     ]
    },
    {
     "name": "stderr",
     "output_type": "stream",
     "text": [
      "\n",
      " 43%|████▎     | 433/1000 [3:08:37<5:55:12, 37.59s/it]\u001b[A"
     ]
    },
    {
     "name": "stdout",
     "output_type": "stream",
     "text": [
      "tensor(141.4450, grad_fn=<MeanBackward0>)\n"
     ]
    },
    {
     "name": "stderr",
     "output_type": "stream",
     "text": [
      "\n",
      " 43%|████▎     | 434/1000 [3:08:43<4:25:17, 28.12s/it]\u001b[A"
     ]
    },
    {
     "name": "stdout",
     "output_type": "stream",
     "text": [
      "tensor(116.0021, grad_fn=<MeanBackward0>)\n"
     ]
    },
    {
     "name": "stderr",
     "output_type": "stream",
     "text": [
      "\n",
      " 44%|████▎     | 435/1000 [3:08:48<3:20:59, 21.34s/it]\u001b[A"
     ]
    },
    {
     "name": "stdout",
     "output_type": "stream",
     "text": [
      "tensor(144.6582, grad_fn=<MeanBackward0>)\n"
     ]
    },
    {
     "name": "stderr",
     "output_type": "stream",
     "text": [
      "\n",
      " 44%|████▎     | 436/1000 [3:08:54<2:36:23, 16.64s/it]\u001b[A"
     ]
    },
    {
     "name": "stdout",
     "output_type": "stream",
     "text": [
      "tensor(124.8082, grad_fn=<MeanBackward0>)\n"
     ]
    },
    {
     "name": "stderr",
     "output_type": "stream",
     "text": [
      "\n",
      " 44%|████▎     | 437/1000 [3:09:00<2:05:50, 13.41s/it]\u001b[A"
     ]
    },
    {
     "name": "stdout",
     "output_type": "stream",
     "text": [
      "tensor(86.6893, grad_fn=<MeanBackward0>)\n"
     ]
    },
    {
     "name": "stderr",
     "output_type": "stream",
     "text": [
      "\n",
      " 44%|████▍     | 438/1000 [3:09:06<1:45:14, 11.24s/it]\u001b[A"
     ]
    },
    {
     "name": "stdout",
     "output_type": "stream",
     "text": [
      "tensor(125.3288, grad_fn=<MeanBackward0>)\n"
     ]
    },
    {
     "name": "stderr",
     "output_type": "stream",
     "text": [
      "\n",
      " 44%|████▍     | 439/1000 [3:09:12<1:29:38,  9.59s/it]\u001b[A"
     ]
    },
    {
     "name": "stdout",
     "output_type": "stream",
     "text": [
      "tensor(127.5144, grad_fn=<MeanBackward0>)\n"
     ]
    },
    {
     "name": "stderr",
     "output_type": "stream",
     "text": [
      "\n",
      " 44%|████▍     | 440/1000 [3:09:17<1:18:09,  8.37s/it]\u001b[A"
     ]
    },
    {
     "name": "stdout",
     "output_type": "stream",
     "text": [
      "tensor(104.9379, grad_fn=<MeanBackward0>)\n",
      "102.0 110.0\n",
      "Saved iteration: 440\n"
     ]
    },
    {
     "name": "stderr",
     "output_type": "stream",
     "text": [
      "\n",
      " 44%|████▍     | 441/1000 [3:12:55<11:02:48, 71.14s/it]\u001b[A"
     ]
    },
    {
     "name": "stdout",
     "output_type": "stream",
     "text": [
      "tensor(119.7070, grad_fn=<MeanBackward0>)\n"
     ]
    },
    {
     "name": "stderr",
     "output_type": "stream",
     "text": [
      "\n",
      " 44%|████▍     | 442/1000 [3:13:01<7:59:13, 51.53s/it] \u001b[A"
     ]
    },
    {
     "name": "stdout",
     "output_type": "stream",
     "text": [
      "tensor(51.9709, grad_fn=<MeanBackward0>)\n"
     ]
    },
    {
     "name": "stderr",
     "output_type": "stream",
     "text": [
      "\n",
      " 44%|████▍     | 443/1000 [3:13:07<5:51:11, 37.83s/it]\u001b[A"
     ]
    },
    {
     "name": "stdout",
     "output_type": "stream",
     "text": [
      "tensor(37.9647, grad_fn=<MeanBackward0>)\n"
     ]
    },
    {
     "name": "stderr",
     "output_type": "stream",
     "text": [
      "\n",
      " 44%|████▍     | 444/1000 [3:13:12<4:21:41, 28.24s/it]\u001b[A"
     ]
    },
    {
     "name": "stdout",
     "output_type": "stream",
     "text": [
      "tensor(48.4532, grad_fn=<MeanBackward0>)\n"
     ]
    },
    {
     "name": "stderr",
     "output_type": "stream",
     "text": [
      "\n",
      " 44%|████▍     | 445/1000 [3:13:18<3:19:00, 21.51s/it]\u001b[A"
     ]
    },
    {
     "name": "stdout",
     "output_type": "stream",
     "text": [
      "tensor(62.0415, grad_fn=<MeanBackward0>)\n"
     ]
    },
    {
     "name": "stderr",
     "output_type": "stream",
     "text": [
      "\n",
      " 45%|████▍     | 446/1000 [3:13:24<2:34:16, 16.71s/it]\u001b[A"
     ]
    },
    {
     "name": "stdout",
     "output_type": "stream",
     "text": [
      "tensor(50.2369, grad_fn=<MeanBackward0>)\n"
     ]
    },
    {
     "name": "stderr",
     "output_type": "stream",
     "text": [
      "\n",
      " 45%|████▍     | 447/1000 [3:13:29<2:03:38, 13.42s/it]\u001b[A"
     ]
    },
    {
     "name": "stdout",
     "output_type": "stream",
     "text": [
      "tensor(47.6998, grad_fn=<MeanBackward0>)\n"
     ]
    },
    {
     "name": "stderr",
     "output_type": "stream",
     "text": [
      "\n",
      " 45%|████▍     | 448/1000 [3:13:35<1:42:24, 11.13s/it]\u001b[A"
     ]
    },
    {
     "name": "stdout",
     "output_type": "stream",
     "text": [
      "tensor(56.2487, grad_fn=<MeanBackward0>)\n"
     ]
    },
    {
     "name": "stderr",
     "output_type": "stream",
     "text": [
      "\n",
      " 45%|████▍     | 449/1000 [3:13:41<1:28:13,  9.61s/it]\u001b[A"
     ]
    },
    {
     "name": "stdout",
     "output_type": "stream",
     "text": [
      "tensor(44.2098, grad_fn=<MeanBackward0>)\n"
     ]
    },
    {
     "name": "stderr",
     "output_type": "stream",
     "text": [
      "\n",
      " 45%|████▌     | 450/1000 [3:13:47<1:16:56,  8.39s/it]\u001b[A"
     ]
    },
    {
     "name": "stdout",
     "output_type": "stream",
     "text": [
      "tensor(26.2793, grad_fn=<MeanBackward0>)\n",
      "111.0 114.0\n",
      "Saved iteration: 450\n"
     ]
    },
    {
     "name": "stderr",
     "output_type": "stream",
     "text": [
      "\n",
      " 45%|████▌     | 451/1000 [3:17:23<10:46:59, 70.71s/it]\u001b[A"
     ]
    },
    {
     "name": "stdout",
     "output_type": "stream",
     "text": [
      "tensor(28.6540, grad_fn=<MeanBackward0>)\n"
     ]
    },
    {
     "name": "stderr",
     "output_type": "stream",
     "text": [
      "\n",
      " 45%|████▌     | 452/1000 [3:17:29<7:48:21, 51.28s/it] \u001b[A"
     ]
    },
    {
     "name": "stdout",
     "output_type": "stream",
     "text": [
      "tensor(66.3340, grad_fn=<MeanBackward0>)\n"
     ]
    },
    {
     "name": "stderr",
     "output_type": "stream",
     "text": [
      "\n",
      " 45%|████▌     | 453/1000 [3:17:35<5:42:58, 37.62s/it]\u001b[A"
     ]
    },
    {
     "name": "stdout",
     "output_type": "stream",
     "text": [
      "tensor(64.3807, grad_fn=<MeanBackward0>)\n"
     ]
    },
    {
     "name": "stderr",
     "output_type": "stream",
     "text": [
      "\n",
      " 45%|████▌     | 454/1000 [3:17:40<4:15:22, 28.06s/it]\u001b[A"
     ]
    },
    {
     "name": "stdout",
     "output_type": "stream",
     "text": [
      "tensor(73.0075, grad_fn=<MeanBackward0>)\n"
     ]
    },
    {
     "name": "stderr",
     "output_type": "stream",
     "text": [
      "\n",
      " 46%|████▌     | 455/1000 [3:17:46<3:13:50, 21.34s/it]\u001b[A"
     ]
    },
    {
     "name": "stdout",
     "output_type": "stream",
     "text": [
      "tensor(49.7730, grad_fn=<MeanBackward0>)\n"
     ]
    },
    {
     "name": "stderr",
     "output_type": "stream",
     "text": [
      "\n",
      " 46%|████▌     | 456/1000 [3:17:52<2:30:39, 16.62s/it]\u001b[A"
     ]
    },
    {
     "name": "stdout",
     "output_type": "stream",
     "text": [
      "tensor(46.7745, grad_fn=<MeanBackward0>)\n"
     ]
    },
    {
     "name": "stderr",
     "output_type": "stream",
     "text": [
      "\n",
      " 46%|████▌     | 457/1000 [3:17:58<2:02:16, 13.51s/it]\u001b[A"
     ]
    },
    {
     "name": "stdout",
     "output_type": "stream",
     "text": [
      "tensor(74.3446, grad_fn=<MeanBackward0>)\n"
     ]
    },
    {
     "name": "stderr",
     "output_type": "stream",
     "text": [
      "\n",
      " 46%|████▌     | 458/1000 [3:18:04<1:43:00, 11.40s/it]\u001b[A"
     ]
    },
    {
     "name": "stdout",
     "output_type": "stream",
     "text": [
      "tensor(49.9732, grad_fn=<MeanBackward0>)\n"
     ]
    },
    {
     "name": "stderr",
     "output_type": "stream",
     "text": [
      "\n",
      " 46%|████▌     | 459/1000 [3:18:10<1:28:28,  9.81s/it]\u001b[A"
     ]
    },
    {
     "name": "stdout",
     "output_type": "stream",
     "text": [
      "tensor(35.4019, grad_fn=<MeanBackward0>)\n"
     ]
    },
    {
     "name": "stderr",
     "output_type": "stream",
     "text": [
      "\n",
      " 46%|████▌     | 460/1000 [3:18:16<1:17:24,  8.60s/it]\u001b[A"
     ]
    },
    {
     "name": "stdout",
     "output_type": "stream",
     "text": [
      "tensor(51.1461, grad_fn=<MeanBackward0>)\n",
      "104.0 112.0\n",
      "Saved iteration: 460\n"
     ]
    },
    {
     "name": "stderr",
     "output_type": "stream",
     "text": [
      "\n",
      " 46%|████▌     | 461/1000 [3:21:52<10:34:22, 70.62s/it]\u001b[A"
     ]
    },
    {
     "name": "stdout",
     "output_type": "stream",
     "text": [
      "tensor(28.1529, grad_fn=<MeanBackward0>)\n"
     ]
    },
    {
     "name": "stderr",
     "output_type": "stream",
     "text": [
      "\n",
      " 46%|████▌     | 462/1000 [3:21:58<7:39:45, 51.27s/it] \u001b[A"
     ]
    },
    {
     "name": "stdout",
     "output_type": "stream",
     "text": [
      "tensor(63.8163, grad_fn=<MeanBackward0>)\n"
     ]
    },
    {
     "name": "stderr",
     "output_type": "stream",
     "text": [
      "\n",
      " 46%|████▋     | 463/1000 [3:22:04<5:37:45, 37.74s/it]\u001b[A"
     ]
    },
    {
     "name": "stdout",
     "output_type": "stream",
     "text": [
      "tensor(56.7938, grad_fn=<MeanBackward0>)\n"
     ]
    },
    {
     "name": "stderr",
     "output_type": "stream",
     "text": [
      "\n",
      " 46%|████▋     | 464/1000 [3:22:10<4:11:36, 28.17s/it]\u001b[A"
     ]
    },
    {
     "name": "stdout",
     "output_type": "stream",
     "text": [
      "tensor(51.8648, grad_fn=<MeanBackward0>)\n"
     ]
    },
    {
     "name": "stderr",
     "output_type": "stream",
     "text": [
      "\n",
      " 46%|████▋     | 465/1000 [3:22:15<3:10:58, 21.42s/it]\u001b[A"
     ]
    },
    {
     "name": "stdout",
     "output_type": "stream",
     "text": [
      "tensor(63.4433, grad_fn=<MeanBackward0>)\n"
     ]
    },
    {
     "name": "stderr",
     "output_type": "stream",
     "text": [
      "\n",
      " 47%|████▋     | 466/1000 [3:22:21<2:28:15, 16.66s/it]\u001b[A"
     ]
    },
    {
     "name": "stdout",
     "output_type": "stream",
     "text": [
      "tensor(89.1409, grad_fn=<MeanBackward0>)\n"
     ]
    },
    {
     "name": "stderr",
     "output_type": "stream",
     "text": [
      "\n",
      " 47%|████▋     | 467/1000 [3:22:27<2:00:04, 13.52s/it]\u001b[A"
     ]
    },
    {
     "name": "stdout",
     "output_type": "stream",
     "text": [
      "tensor(74.9210, grad_fn=<MeanBackward0>)\n"
     ]
    },
    {
     "name": "stderr",
     "output_type": "stream",
     "text": [
      "\n",
      " 47%|████▋     | 468/1000 [3:22:33<1:39:10, 11.18s/it]\u001b[A"
     ]
    },
    {
     "name": "stdout",
     "output_type": "stream",
     "text": [
      "tensor(74.2833, grad_fn=<MeanBackward0>)\n"
     ]
    },
    {
     "name": "stderr",
     "output_type": "stream",
     "text": [
      "\n",
      " 47%|████▋     | 469/1000 [3:22:39<1:24:44,  9.57s/it]\u001b[A"
     ]
    },
    {
     "name": "stdout",
     "output_type": "stream",
     "text": [
      "tensor(46.1009, grad_fn=<MeanBackward0>)\n"
     ]
    },
    {
     "name": "stderr",
     "output_type": "stream",
     "text": [
      "\n",
      " 47%|████▋     | 470/1000 [3:22:45<1:15:12,  8.51s/it]\u001b[A"
     ]
    },
    {
     "name": "stdout",
     "output_type": "stream",
     "text": [
      "tensor(46.6994, grad_fn=<MeanBackward0>)\n",
      "102.0 110.0\n",
      "Saved iteration: 470\n"
     ]
    },
    {
     "name": "stderr",
     "output_type": "stream",
     "text": [
      "\n",
      " 47%|████▋     | 471/1000 [3:26:23<10:30:06, 71.47s/it]\u001b[A"
     ]
    },
    {
     "name": "stdout",
     "output_type": "stream",
     "text": [
      "tensor(73.1259, grad_fn=<MeanBackward0>)\n"
     ]
    },
    {
     "name": "stderr",
     "output_type": "stream",
     "text": [
      "\n",
      " 47%|████▋     | 472/1000 [3:26:29<7:35:01, 51.71s/it] \u001b[A"
     ]
    },
    {
     "name": "stdout",
     "output_type": "stream",
     "text": [
      "tensor(74.9121, grad_fn=<MeanBackward0>)\n"
     ]
    },
    {
     "name": "stderr",
     "output_type": "stream",
     "text": [
      "\n",
      " 47%|████▋     | 473/1000 [3:26:34<5:32:40, 37.88s/it]\u001b[A"
     ]
    },
    {
     "name": "stdout",
     "output_type": "stream",
     "text": [
      "tensor(36.9345, grad_fn=<MeanBackward0>)\n"
     ]
    },
    {
     "name": "stderr",
     "output_type": "stream",
     "text": [
      "\n",
      " 47%|████▋     | 474/1000 [3:26:40<4:07:47, 28.26s/it]\u001b[A"
     ]
    },
    {
     "name": "stdout",
     "output_type": "stream",
     "text": [
      "tensor(57.7750, grad_fn=<MeanBackward0>)\n"
     ]
    },
    {
     "name": "stderr",
     "output_type": "stream",
     "text": [
      "\n",
      " 48%|████▊     | 475/1000 [3:26:46<3:08:21, 21.53s/it]\u001b[A"
     ]
    },
    {
     "name": "stdout",
     "output_type": "stream",
     "text": [
      "tensor(28.1639, grad_fn=<MeanBackward0>)\n"
     ]
    },
    {
     "name": "stderr",
     "output_type": "stream",
     "text": [
      "\n",
      " 48%|████▊     | 476/1000 [3:26:52<2:27:21, 16.87s/it]\u001b[A"
     ]
    },
    {
     "name": "stdout",
     "output_type": "stream",
     "text": [
      "tensor(34.3051, grad_fn=<MeanBackward0>)\n"
     ]
    },
    {
     "name": "stderr",
     "output_type": "stream",
     "text": [
      "\n",
      " 48%|████▊     | 477/1000 [3:26:58<1:57:32, 13.48s/it]\u001b[A"
     ]
    },
    {
     "name": "stdout",
     "output_type": "stream",
     "text": [
      "tensor(19.3042, grad_fn=<MeanBackward0>)\n"
     ]
    },
    {
     "name": "stderr",
     "output_type": "stream",
     "text": [
      "\n",
      " 48%|████▊     | 478/1000 [3:27:03<1:36:20, 11.07s/it]\u001b[A"
     ]
    },
    {
     "name": "stdout",
     "output_type": "stream",
     "text": [
      "tensor(41.6108, grad_fn=<MeanBackward0>)\n"
     ]
    },
    {
     "name": "stderr",
     "output_type": "stream",
     "text": [
      "\n",
      " 48%|████▊     | 479/1000 [3:27:09<1:23:14,  9.59s/it]\u001b[A"
     ]
    },
    {
     "name": "stdout",
     "output_type": "stream",
     "text": [
      "tensor(28.7526, grad_fn=<MeanBackward0>)\n"
     ]
    },
    {
     "name": "stderr",
     "output_type": "stream",
     "text": [
      "\n",
      " 48%|████▊     | 480/1000 [3:27:15<1:12:47,  8.40s/it]\u001b[A"
     ]
    },
    {
     "name": "stdout",
     "output_type": "stream",
     "text": [
      "tensor(38.7397, grad_fn=<MeanBackward0>)\n",
      "125.0 145.0\n",
      "Saved iteration: 480\n"
     ]
    },
    {
     "name": "stderr",
     "output_type": "stream",
     "text": [
      "\n",
      " 48%|████▊     | 481/1000 [3:30:51<10:12:18, 70.79s/it]\u001b[A"
     ]
    },
    {
     "name": "stdout",
     "output_type": "stream",
     "text": [
      "tensor(30.9790, grad_fn=<MeanBackward0>)\n"
     ]
    },
    {
     "name": "stderr",
     "output_type": "stream",
     "text": [
      "\n",
      " 48%|████▊     | 482/1000 [3:30:57<7:22:59, 51.31s/it] \u001b[A"
     ]
    },
    {
     "name": "stdout",
     "output_type": "stream",
     "text": [
      "tensor(168.4926, grad_fn=<MeanBackward0>)\n"
     ]
    },
    {
     "name": "stderr",
     "output_type": "stream",
     "text": [
      "\n",
      " 48%|████▊     | 483/1000 [3:31:03<5:24:04, 37.61s/it]\u001b[A"
     ]
    },
    {
     "name": "stdout",
     "output_type": "stream",
     "text": [
      "tensor(118.0659, grad_fn=<MeanBackward0>)\n"
     ]
    },
    {
     "name": "stderr",
     "output_type": "stream",
     "text": [
      "\n",
      " 48%|████▊     | 484/1000 [3:31:08<4:01:11, 28.05s/it]\u001b[A"
     ]
    },
    {
     "name": "stdout",
     "output_type": "stream",
     "text": [
      "tensor(122.8405, grad_fn=<MeanBackward0>)\n"
     ]
    },
    {
     "name": "stderr",
     "output_type": "stream",
     "text": [
      "\n",
      " 48%|████▊     | 485/1000 [3:31:15<3:04:31, 21.50s/it]\u001b[A"
     ]
    },
    {
     "name": "stdout",
     "output_type": "stream",
     "text": [
      "tensor(131.6630, grad_fn=<MeanBackward0>)\n"
     ]
    },
    {
     "name": "stderr",
     "output_type": "stream",
     "text": [
      "\n",
      " 49%|████▊     | 486/1000 [3:31:20<2:23:32, 16.76s/it]\u001b[A"
     ]
    },
    {
     "name": "stdout",
     "output_type": "stream",
     "text": [
      "tensor(165.4755, grad_fn=<MeanBackward0>)\n"
     ]
    },
    {
     "name": "stderr",
     "output_type": "stream",
     "text": [
      "\n",
      " 49%|████▊     | 487/1000 [3:31:26<1:54:55, 13.44s/it]\u001b[A"
     ]
    },
    {
     "name": "stdout",
     "output_type": "stream",
     "text": [
      "tensor(170.2618, grad_fn=<MeanBackward0>)\n"
     ]
    },
    {
     "name": "stderr",
     "output_type": "stream",
     "text": [
      "\n",
      " 49%|████▉     | 488/1000 [3:31:31<1:34:27, 11.07s/it]\u001b[A"
     ]
    },
    {
     "name": "stdout",
     "output_type": "stream",
     "text": [
      "tensor(217.3414, grad_fn=<MeanBackward0>)\n"
     ]
    },
    {
     "name": "stderr",
     "output_type": "stream",
     "text": [
      "\n",
      " 49%|████▉     | 489/1000 [3:31:38<1:21:31,  9.57s/it]\u001b[A"
     ]
    },
    {
     "name": "stdout",
     "output_type": "stream",
     "text": [
      "tensor(228.0229, grad_fn=<MeanBackward0>)\n"
     ]
    },
    {
     "name": "stderr",
     "output_type": "stream",
     "text": [
      "\n",
      " 49%|████▉     | 490/1000 [3:31:43<1:11:44,  8.44s/it]\u001b[A"
     ]
    },
    {
     "name": "stdout",
     "output_type": "stream",
     "text": [
      "tensor(143.2417, grad_fn=<MeanBackward0>)\n",
      "99.0 110.0\n",
      "Saved iteration: 490\n"
     ]
    },
    {
     "name": "stderr",
     "output_type": "stream",
     "text": [
      "\n",
      " 49%|████▉     | 491/1000 [3:35:20<10:02:14, 70.99s/it]\u001b[A"
     ]
    },
    {
     "name": "stdout",
     "output_type": "stream",
     "text": [
      "tensor(177.5557, grad_fn=<MeanBackward0>)\n"
     ]
    },
    {
     "name": "stderr",
     "output_type": "stream",
     "text": [
      "\n",
      " 49%|████▉     | 492/1000 [3:35:26<7:15:23, 51.42s/it] \u001b[A"
     ]
    },
    {
     "name": "stdout",
     "output_type": "stream",
     "text": [
      "tensor(71.4129, grad_fn=<MeanBackward0>)\n"
     ]
    },
    {
     "name": "stderr",
     "output_type": "stream",
     "text": [
      "\n",
      " 49%|████▉     | 493/1000 [3:35:32<5:18:49, 37.73s/it]\u001b[A"
     ]
    },
    {
     "name": "stdout",
     "output_type": "stream",
     "text": [
      "tensor(70.3170, grad_fn=<MeanBackward0>)\n"
     ]
    },
    {
     "name": "stderr",
     "output_type": "stream",
     "text": [
      "\n",
      " 49%|████▉     | 494/1000 [3:35:37<3:56:36, 28.06s/it]\u001b[A"
     ]
    },
    {
     "name": "stdout",
     "output_type": "stream",
     "text": [
      "tensor(53.5123, grad_fn=<MeanBackward0>)\n"
     ]
    },
    {
     "name": "stderr",
     "output_type": "stream",
     "text": [
      "\n",
      " 50%|████▉     | 495/1000 [3:35:43<2:59:37, 21.34s/it]\u001b[A"
     ]
    },
    {
     "name": "stdout",
     "output_type": "stream",
     "text": [
      "tensor(50.8417, grad_fn=<MeanBackward0>)\n"
     ]
    },
    {
     "name": "stderr",
     "output_type": "stream",
     "text": [
      "\n",
      " 50%|████▉     | 496/1000 [3:35:49<2:21:21, 16.83s/it]\u001b[A"
     ]
    },
    {
     "name": "stdout",
     "output_type": "stream",
     "text": [
      "tensor(91.5747, grad_fn=<MeanBackward0>)\n"
     ]
    },
    {
     "name": "stderr",
     "output_type": "stream",
     "text": [
      "\n",
      " 50%|████▉     | 497/1000 [3:35:56<1:54:34, 13.67s/it]\u001b[A"
     ]
    },
    {
     "name": "stdout",
     "output_type": "stream",
     "text": [
      "tensor(72.0836, grad_fn=<MeanBackward0>)\n"
     ]
    },
    {
     "name": "stderr",
     "output_type": "stream",
     "text": [
      "\n",
      " 50%|████▉     | 498/1000 [3:36:02<1:35:17, 11.39s/it]\u001b[A"
     ]
    },
    {
     "name": "stdout",
     "output_type": "stream",
     "text": [
      "tensor(36.5857, grad_fn=<MeanBackward0>)\n"
     ]
    },
    {
     "name": "stderr",
     "output_type": "stream",
     "text": [
      "\n",
      " 50%|████▉     | 499/1000 [3:36:08<1:21:25,  9.75s/it]\u001b[A"
     ]
    },
    {
     "name": "stdout",
     "output_type": "stream",
     "text": [
      "tensor(80.5502, grad_fn=<MeanBackward0>)\n"
     ]
    },
    {
     "name": "stderr",
     "output_type": "stream",
     "text": [
      "\n",
      " 50%|█████     | 500/1000 [3:36:14<1:12:06,  8.65s/it]\u001b[A"
     ]
    },
    {
     "name": "stdout",
     "output_type": "stream",
     "text": [
      "tensor(85.7254, grad_fn=<MeanBackward0>)\n",
      "101.0 111.0\n",
      "Saved iteration: 500\n"
     ]
    },
    {
     "name": "stderr",
     "output_type": "stream",
     "text": [
      "\n",
      " 50%|█████     | 501/1000 [3:39:49<9:47:57, 70.70s/it]\u001b[A"
     ]
    },
    {
     "name": "stdout",
     "output_type": "stream",
     "text": [
      "tensor(76.7834, grad_fn=<MeanBackward0>)\n"
     ]
    },
    {
     "name": "stderr",
     "output_type": "stream",
     "text": [
      "\n",
      " 50%|█████     | 502/1000 [3:39:55<7:05:14, 51.23s/it]\u001b[A"
     ]
    },
    {
     "name": "stdout",
     "output_type": "stream",
     "text": [
      "tensor(37.0265, grad_fn=<MeanBackward0>)\n"
     ]
    },
    {
     "name": "stderr",
     "output_type": "stream",
     "text": [
      "\n",
      " 50%|█████     | 503/1000 [3:40:01<5:11:47, 37.64s/it]\u001b[A"
     ]
    },
    {
     "name": "stdout",
     "output_type": "stream",
     "text": [
      "tensor(37.6402, grad_fn=<MeanBackward0>)\n"
     ]
    },
    {
     "name": "stderr",
     "output_type": "stream",
     "text": [
      "\n",
      " 50%|█████     | 504/1000 [3:40:07<3:52:57, 28.18s/it]\u001b[A"
     ]
    },
    {
     "name": "stdout",
     "output_type": "stream",
     "text": [
      "tensor(29.8305, grad_fn=<MeanBackward0>)\n"
     ]
    },
    {
     "name": "stderr",
     "output_type": "stream",
     "text": [
      "\n",
      " 50%|█████     | 505/1000 [3:40:13<2:57:26, 21.51s/it]\u001b[A"
     ]
    },
    {
     "name": "stdout",
     "output_type": "stream",
     "text": [
      "tensor(24.1085, grad_fn=<MeanBackward0>)\n"
     ]
    },
    {
     "name": "stderr",
     "output_type": "stream",
     "text": [
      "\n",
      " 51%|█████     | 506/1000 [3:40:19<2:17:51, 16.74s/it]\u001b[A"
     ]
    },
    {
     "name": "stdout",
     "output_type": "stream",
     "text": [
      "tensor(36.6221, grad_fn=<MeanBackward0>)\n"
     ]
    },
    {
     "name": "stderr",
     "output_type": "stream",
     "text": [
      "\n",
      " 51%|█████     | 507/1000 [3:40:25<1:51:42, 13.60s/it]\u001b[A"
     ]
    },
    {
     "name": "stdout",
     "output_type": "stream",
     "text": [
      "tensor(54.5382, grad_fn=<MeanBackward0>)\n"
     ]
    },
    {
     "name": "stderr",
     "output_type": "stream",
     "text": [
      "\n",
      " 51%|█████     | 508/1000 [3:40:31<1:32:30, 11.28s/it]\u001b[A"
     ]
    },
    {
     "name": "stdout",
     "output_type": "stream",
     "text": [
      "tensor(34.5201, grad_fn=<MeanBackward0>)\n"
     ]
    },
    {
     "name": "stderr",
     "output_type": "stream",
     "text": [
      "\n",
      " 51%|█████     | 509/1000 [3:40:36<1:18:29,  9.59s/it]\u001b[A"
     ]
    },
    {
     "name": "stdout",
     "output_type": "stream",
     "text": [
      "tensor(29.1615, grad_fn=<MeanBackward0>)\n"
     ]
    },
    {
     "name": "stderr",
     "output_type": "stream",
     "text": [
      "\n",
      " 51%|█████     | 510/1000 [3:40:42<1:08:59,  8.45s/it]\u001b[A"
     ]
    },
    {
     "name": "stdout",
     "output_type": "stream",
     "text": [
      "tensor(35.0193, grad_fn=<MeanBackward0>)\n",
      "122.0 138.0\n",
      "Saved iteration: 510\n"
     ]
    },
    {
     "name": "stderr",
     "output_type": "stream",
     "text": [
      "\n",
      " 51%|█████     | 511/1000 [3:44:19<9:38:00, 70.92s/it]\u001b[A"
     ]
    },
    {
     "name": "stdout",
     "output_type": "stream",
     "text": [
      "tensor(18.0469, grad_fn=<MeanBackward0>)\n"
     ]
    },
    {
     "name": "stderr",
     "output_type": "stream",
     "text": [
      "\n",
      " 51%|█████     | 512/1000 [3:44:25<6:57:52, 51.38s/it]\u001b[A"
     ]
    },
    {
     "name": "stdout",
     "output_type": "stream",
     "text": [
      "tensor(187.8991, grad_fn=<MeanBackward0>)\n"
     ]
    },
    {
     "name": "stderr",
     "output_type": "stream",
     "text": [
      "\n",
      " 51%|█████▏    | 513/1000 [3:44:30<5:06:05, 37.71s/it]\u001b[A"
     ]
    },
    {
     "name": "stdout",
     "output_type": "stream",
     "text": [
      "tensor(173.5004, grad_fn=<MeanBackward0>)\n"
     ]
    },
    {
     "name": "stderr",
     "output_type": "stream",
     "text": [
      "\n",
      " 51%|█████▏    | 514/1000 [3:44:37<3:49:11, 28.29s/it]\u001b[A"
     ]
    },
    {
     "name": "stdout",
     "output_type": "stream",
     "text": [
      "tensor(211.3350, grad_fn=<MeanBackward0>)\n"
     ]
    },
    {
     "name": "stderr",
     "output_type": "stream",
     "text": [
      "\n",
      " 52%|█████▏    | 515/1000 [3:44:42<2:53:58, 21.52s/it]\u001b[A"
     ]
    },
    {
     "name": "stdout",
     "output_type": "stream",
     "text": [
      "tensor(132.2222, grad_fn=<MeanBackward0>)\n"
     ]
    },
    {
     "name": "stderr",
     "output_type": "stream",
     "text": [
      "\n",
      " 52%|█████▏    | 516/1000 [3:44:48<2:14:55, 16.73s/it]\u001b[A"
     ]
    },
    {
     "name": "stdout",
     "output_type": "stream",
     "text": [
      "tensor(226.5805, grad_fn=<MeanBackward0>)\n"
     ]
    },
    {
     "name": "stderr",
     "output_type": "stream",
     "text": [
      "\n",
      " 52%|█████▏    | 517/1000 [3:44:54<1:47:49, 13.39s/it]\u001b[A"
     ]
    },
    {
     "name": "stdout",
     "output_type": "stream",
     "text": [
      "tensor(126.3670, grad_fn=<MeanBackward0>)\n"
     ]
    },
    {
     "name": "stderr",
     "output_type": "stream",
     "text": [
      "\n",
      " 52%|█████▏    | 518/1000 [3:45:00<1:29:54, 11.19s/it]\u001b[A"
     ]
    },
    {
     "name": "stdout",
     "output_type": "stream",
     "text": [
      "tensor(165.0222, grad_fn=<MeanBackward0>)\n"
     ]
    },
    {
     "name": "stderr",
     "output_type": "stream",
     "text": [
      "\n",
      " 52%|█████▏    | 519/1000 [3:45:06<1:17:08,  9.62s/it]\u001b[A"
     ]
    },
    {
     "name": "stdout",
     "output_type": "stream",
     "text": [
      "tensor(97.3039, grad_fn=<MeanBackward0>)\n"
     ]
    },
    {
     "name": "stderr",
     "output_type": "stream",
     "text": [
      "\n",
      " 52%|█████▏    | 520/1000 [3:45:11<1:07:34,  8.45s/it]\u001b[A"
     ]
    },
    {
     "name": "stdout",
     "output_type": "stream",
     "text": [
      "tensor(113.6127, grad_fn=<MeanBackward0>)\n",
      "100.0 110.0\n",
      "Saved iteration: 520\n"
     ]
    },
    {
     "name": "stderr",
     "output_type": "stream",
     "text": [
      "\n",
      " 52%|█████▏    | 521/1000 [3:48:48<9:25:16, 70.81s/it]\u001b[A"
     ]
    },
    {
     "name": "stdout",
     "output_type": "stream",
     "text": [
      "tensor(196.0807, grad_fn=<MeanBackward0>)\n"
     ]
    },
    {
     "name": "stderr",
     "output_type": "stream",
     "text": [
      "\n",
      " 52%|█████▏    | 522/1000 [3:48:53<6:48:48, 51.32s/it]\u001b[A"
     ]
    },
    {
     "name": "stdout",
     "output_type": "stream",
     "text": [
      "tensor(77.1307, grad_fn=<MeanBackward0>)\n"
     ]
    },
    {
     "name": "stderr",
     "output_type": "stream",
     "text": [
      "\n",
      " 52%|█████▏    | 523/1000 [3:48:59<4:59:23, 37.66s/it]\u001b[A"
     ]
    },
    {
     "name": "stdout",
     "output_type": "stream",
     "text": [
      "tensor(110.8402, grad_fn=<MeanBackward0>)\n"
     ]
    },
    {
     "name": "stderr",
     "output_type": "stream",
     "text": [
      "\n",
      " 52%|█████▏    | 524/1000 [3:49:05<3:42:39, 28.07s/it]\u001b[A"
     ]
    },
    {
     "name": "stdout",
     "output_type": "stream",
     "text": [
      "tensor(89.7825, grad_fn=<MeanBackward0>)\n"
     ]
    },
    {
     "name": "stderr",
     "output_type": "stream",
     "text": [
      "\n",
      " 52%|█████▎    | 525/1000 [3:49:11<2:50:59, 21.60s/it]\u001b[A"
     ]
    },
    {
     "name": "stdout",
     "output_type": "stream",
     "text": [
      "tensor(98.0209, grad_fn=<MeanBackward0>)\n"
     ]
    },
    {
     "name": "stderr",
     "output_type": "stream",
     "text": [
      "\n",
      " 53%|█████▎    | 526/1000 [3:49:18<2:13:53, 16.95s/it]\u001b[A"
     ]
    },
    {
     "name": "stdout",
     "output_type": "stream",
     "text": [
      "tensor(96.2868, grad_fn=<MeanBackward0>)\n"
     ]
    },
    {
     "name": "stderr",
     "output_type": "stream",
     "text": [
      "\n",
      " 53%|█████▎    | 527/1000 [3:49:23<1:47:04, 13.58s/it]\u001b[A"
     ]
    },
    {
     "name": "stdout",
     "output_type": "stream",
     "text": [
      "tensor(100.5542, grad_fn=<MeanBackward0>)\n"
     ]
    },
    {
     "name": "stderr",
     "output_type": "stream",
     "text": [
      "\n",
      " 53%|█████▎    | 528/1000 [3:49:29<1:28:56, 11.31s/it]\u001b[A"
     ]
    },
    {
     "name": "stdout",
     "output_type": "stream",
     "text": [
      "tensor(65.4552, grad_fn=<MeanBackward0>)\n"
     ]
    },
    {
     "name": "stderr",
     "output_type": "stream",
     "text": [
      "\n",
      " 53%|█████▎    | 529/1000 [3:49:35<1:15:30,  9.62s/it]\u001b[A"
     ]
    },
    {
     "name": "stdout",
     "output_type": "stream",
     "text": [
      "tensor(69.1152, grad_fn=<MeanBackward0>)\n"
     ]
    },
    {
     "name": "stderr",
     "output_type": "stream",
     "text": [
      "\n",
      " 53%|█████▎    | 530/1000 [3:49:41<1:07:02,  8.56s/it]\u001b[A"
     ]
    },
    {
     "name": "stdout",
     "output_type": "stream",
     "text": [
      "tensor(73.9712, grad_fn=<MeanBackward0>)\n",
      "100.0 110.0\n",
      "Saved iteration: 530\n"
     ]
    },
    {
     "name": "stderr",
     "output_type": "stream",
     "text": [
      "\n",
      " 53%|█████▎    | 531/1000 [3:53:17<9:14:25, 70.93s/it]\u001b[A"
     ]
    },
    {
     "name": "stdout",
     "output_type": "stream",
     "text": [
      "tensor(75.0777, grad_fn=<MeanBackward0>)\n"
     ]
    },
    {
     "name": "stderr",
     "output_type": "stream",
     "text": [
      "\n",
      " 53%|█████▎    | 532/1000 [3:53:23<6:40:48, 51.39s/it]\u001b[A"
     ]
    },
    {
     "name": "stdout",
     "output_type": "stream",
     "text": [
      "tensor(33.1478, grad_fn=<MeanBackward0>)\n"
     ]
    },
    {
     "name": "stderr",
     "output_type": "stream",
     "text": [
      "\n",
      " 53%|█████▎    | 533/1000 [3:53:29<4:53:40, 37.73s/it]\u001b[A"
     ]
    },
    {
     "name": "stdout",
     "output_type": "stream",
     "text": [
      "tensor(43.0450, grad_fn=<MeanBackward0>)\n"
     ]
    },
    {
     "name": "stderr",
     "output_type": "stream",
     "text": [
      "\n",
      " 53%|█████▎    | 534/1000 [3:53:35<3:39:07, 28.21s/it]\u001b[A"
     ]
    },
    {
     "name": "stdout",
     "output_type": "stream",
     "text": [
      "tensor(56.4526, grad_fn=<MeanBackward0>)\n"
     ]
    },
    {
     "name": "stderr",
     "output_type": "stream",
     "text": [
      "\n",
      " 54%|█████▎    | 535/1000 [3:53:41<2:46:41, 21.51s/it]\u001b[A"
     ]
    },
    {
     "name": "stdout",
     "output_type": "stream",
     "text": [
      "tensor(40.8074, grad_fn=<MeanBackward0>)\n"
     ]
    },
    {
     "name": "stderr",
     "output_type": "stream",
     "text": [
      "\n",
      " 54%|█████▎    | 536/1000 [3:53:47<2:10:11, 16.84s/it]\u001b[A"
     ]
    },
    {
     "name": "stdout",
     "output_type": "stream",
     "text": [
      "tensor(39.3515, grad_fn=<MeanBackward0>)\n"
     ]
    },
    {
     "name": "stderr",
     "output_type": "stream",
     "text": [
      "\n",
      " 54%|█████▎    | 537/1000 [3:53:53<1:44:32, 13.55s/it]\u001b[A"
     ]
    },
    {
     "name": "stdout",
     "output_type": "stream",
     "text": [
      "tensor(32.8966, grad_fn=<MeanBackward0>)\n"
     ]
    },
    {
     "name": "stderr",
     "output_type": "stream",
     "text": [
      "\n",
      " 54%|█████▍    | 538/1000 [3:53:59<1:26:15, 11.20s/it]\u001b[A"
     ]
    },
    {
     "name": "stdout",
     "output_type": "stream",
     "text": [
      "tensor(25.9943, grad_fn=<MeanBackward0>)\n"
     ]
    },
    {
     "name": "stderr",
     "output_type": "stream",
     "text": [
      "\n",
      " 54%|█████▍    | 539/1000 [3:54:04<1:13:20,  9.55s/it]\u001b[A"
     ]
    },
    {
     "name": "stdout",
     "output_type": "stream",
     "text": [
      "tensor(50.9535, grad_fn=<MeanBackward0>)\n"
     ]
    },
    {
     "name": "stderr",
     "output_type": "stream",
     "text": [
      "\n",
      " 54%|█████▍    | 540/1000 [3:54:10<1:04:32,  8.42s/it]\u001b[A"
     ]
    },
    {
     "name": "stdout",
     "output_type": "stream",
     "text": [
      "tensor(40.8087, grad_fn=<MeanBackward0>)\n",
      "117.0 127.0\n",
      "Saved iteration: 540\n"
     ]
    },
    {
     "name": "stderr",
     "output_type": "stream",
     "text": [
      "\n",
      " 54%|█████▍    | 541/1000 [3:57:46<9:01:36, 70.80s/it]\u001b[A"
     ]
    },
    {
     "name": "stdout",
     "output_type": "stream",
     "text": [
      "tensor(20.1769, grad_fn=<MeanBackward0>)\n"
     ]
    },
    {
     "name": "stderr",
     "output_type": "stream",
     "text": [
      "\n",
      " 54%|█████▍    | 542/1000 [3:57:52<6:31:11, 51.25s/it]\u001b[A"
     ]
    },
    {
     "name": "stdout",
     "output_type": "stream",
     "text": [
      "tensor(158.5471, grad_fn=<MeanBackward0>)\n"
     ]
    },
    {
     "name": "stderr",
     "output_type": "stream",
     "text": [
      "\n",
      " 54%|█████▍    | 543/1000 [3:57:58<4:46:20, 37.59s/it]\u001b[A"
     ]
    },
    {
     "name": "stdout",
     "output_type": "stream",
     "text": [
      "tensor(218.6445, grad_fn=<MeanBackward0>)\n"
     ]
    },
    {
     "name": "stderr",
     "output_type": "stream",
     "text": [
      "\n",
      " 54%|█████▍    | 544/1000 [3:58:03<3:33:02, 28.03s/it]\u001b[A"
     ]
    },
    {
     "name": "stdout",
     "output_type": "stream",
     "text": [
      "tensor(122.5743, grad_fn=<MeanBackward0>)\n"
     ]
    },
    {
     "name": "stderr",
     "output_type": "stream",
     "text": [
      "\n",
      " 55%|█████▍    | 545/1000 [3:58:09<2:42:26, 21.42s/it]\u001b[A"
     ]
    },
    {
     "name": "stdout",
     "output_type": "stream",
     "text": [
      "tensor(189.9270, grad_fn=<MeanBackward0>)\n"
     ]
    },
    {
     "name": "stderr",
     "output_type": "stream",
     "text": [
      "\n",
      " 55%|█████▍    | 546/1000 [3:58:15<2:06:53, 16.77s/it]\u001b[A"
     ]
    },
    {
     "name": "stdout",
     "output_type": "stream",
     "text": [
      "tensor(140.8645, grad_fn=<MeanBackward0>)\n"
     ]
    },
    {
     "name": "stderr",
     "output_type": "stream",
     "text": [
      "\n",
      " 55%|█████▍    | 547/1000 [3:58:21<1:41:48, 13.48s/it]\u001b[A"
     ]
    },
    {
     "name": "stdout",
     "output_type": "stream",
     "text": [
      "tensor(118.1736, grad_fn=<MeanBackward0>)\n"
     ]
    },
    {
     "name": "stderr",
     "output_type": "stream",
     "text": [
      "\n",
      " 55%|█████▍    | 548/1000 [3:58:27<1:24:20, 11.20s/it]\u001b[A"
     ]
    },
    {
     "name": "stdout",
     "output_type": "stream",
     "text": [
      "tensor(136.6602, grad_fn=<MeanBackward0>)\n"
     ]
    },
    {
     "name": "stderr",
     "output_type": "stream",
     "text": [
      "\n",
      " 55%|█████▍    | 549/1000 [3:58:33<1:11:34,  9.52s/it]\u001b[A"
     ]
    },
    {
     "name": "stdout",
     "output_type": "stream",
     "text": [
      "tensor(112.9412, grad_fn=<MeanBackward0>)\n"
     ]
    },
    {
     "name": "stderr",
     "output_type": "stream",
     "text": [
      "\n",
      " 55%|█████▌    | 550/1000 [3:58:38<1:03:02,  8.41s/it]\u001b[A"
     ]
    },
    {
     "name": "stdout",
     "output_type": "stream",
     "text": [
      "tensor(146.8928, grad_fn=<MeanBackward0>)\n",
      "100.0 110.0\n",
      "Saved iteration: 550\n"
     ]
    },
    {
     "name": "stderr",
     "output_type": "stream",
     "text": [
      "\n",
      " 55%|█████▌    | 551/1000 [4:02:17<8:54:42, 71.45s/it]\u001b[A"
     ]
    },
    {
     "name": "stdout",
     "output_type": "stream",
     "text": [
      "tensor(142.3746, grad_fn=<MeanBackward0>)\n"
     ]
    },
    {
     "name": "stderr",
     "output_type": "stream",
     "text": [
      "\n",
      " 55%|█████▌    | 552/1000 [4:02:23<6:26:32, 51.77s/it]\u001b[A"
     ]
    },
    {
     "name": "stdout",
     "output_type": "stream",
     "text": [
      "tensor(74.5903, grad_fn=<MeanBackward0>)\n"
     ]
    },
    {
     "name": "stderr",
     "output_type": "stream",
     "text": [
      "\n",
      " 55%|█████▌    | 553/1000 [4:02:29<4:42:58, 37.98s/it]\u001b[A"
     ]
    },
    {
     "name": "stdout",
     "output_type": "stream",
     "text": [
      "tensor(102.0200, grad_fn=<MeanBackward0>)\n"
     ]
    },
    {
     "name": "stderr",
     "output_type": "stream",
     "text": [
      "\n",
      " 55%|█████▌    | 554/1000 [4:02:34<3:30:04, 28.26s/it]\u001b[A"
     ]
    },
    {
     "name": "stdout",
     "output_type": "stream",
     "text": [
      "tensor(48.6192, grad_fn=<MeanBackward0>)\n"
     ]
    },
    {
     "name": "stderr",
     "output_type": "stream",
     "text": [
      "\n",
      " 56%|█████▌    | 555/1000 [4:02:40<2:39:47, 21.54s/it]\u001b[A"
     ]
    },
    {
     "name": "stdout",
     "output_type": "stream",
     "text": [
      "tensor(72.5345, grad_fn=<MeanBackward0>)\n"
     ]
    },
    {
     "name": "stderr",
     "output_type": "stream",
     "text": [
      "\n",
      " 56%|█████▌    | 556/1000 [4:02:46<2:04:10, 16.78s/it]\u001b[A"
     ]
    },
    {
     "name": "stdout",
     "output_type": "stream",
     "text": [
      "tensor(57.3518, grad_fn=<MeanBackward0>)\n"
     ]
    },
    {
     "name": "stderr",
     "output_type": "stream",
     "text": [
      "\n",
      " 56%|█████▌    | 557/1000 [4:02:51<1:39:17, 13.45s/it]\u001b[A"
     ]
    },
    {
     "name": "stdout",
     "output_type": "stream",
     "text": [
      "tensor(88.6651, grad_fn=<MeanBackward0>)\n"
     ]
    },
    {
     "name": "stderr",
     "output_type": "stream",
     "text": [
      "\n",
      " 56%|█████▌    | 558/1000 [4:02:57<1:21:38, 11.08s/it]\u001b[A"
     ]
    },
    {
     "name": "stdout",
     "output_type": "stream",
     "text": [
      "tensor(55.5361, grad_fn=<MeanBackward0>)\n"
     ]
    },
    {
     "name": "stderr",
     "output_type": "stream",
     "text": [
      "\n",
      " 56%|█████▌    | 559/1000 [4:03:03<1:10:35,  9.60s/it]\u001b[A"
     ]
    },
    {
     "name": "stdout",
     "output_type": "stream",
     "text": [
      "tensor(67.7714, grad_fn=<MeanBackward0>)\n"
     ]
    },
    {
     "name": "stderr",
     "output_type": "stream",
     "text": [
      "\n",
      " 56%|█████▌    | 560/1000 [4:03:09<1:02:39,  8.54s/it]\u001b[A"
     ]
    },
    {
     "name": "stdout",
     "output_type": "stream",
     "text": [
      "tensor(72.8401, grad_fn=<MeanBackward0>)\n",
      "104.0 113.0\n",
      "Saved iteration: 560\n"
     ]
    },
    {
     "name": "stderr",
     "output_type": "stream",
     "text": [
      "\n",
      " 56%|█████▌    | 561/1000 [4:06:45<8:37:35, 70.74s/it]\u001b[A"
     ]
    },
    {
     "name": "stdout",
     "output_type": "stream",
     "text": [
      "tensor(34.2312, grad_fn=<MeanBackward0>)\n"
     ]
    },
    {
     "name": "stderr",
     "output_type": "stream",
     "text": [
      "\n",
      " 56%|█████▌    | 562/1000 [4:06:51<6:14:01, 51.24s/it]\u001b[A"
     ]
    },
    {
     "name": "stdout",
     "output_type": "stream",
     "text": [
      "tensor(51.5271, grad_fn=<MeanBackward0>)\n"
     ]
    },
    {
     "name": "stderr",
     "output_type": "stream",
     "text": [
      "\n",
      " 56%|█████▋    | 563/1000 [4:06:57<4:33:36, 37.57s/it]\u001b[A"
     ]
    },
    {
     "name": "stdout",
     "output_type": "stream",
     "text": [
      "tensor(69.7050, grad_fn=<MeanBackward0>)\n"
     ]
    },
    {
     "name": "stderr",
     "output_type": "stream",
     "text": [
      "\n",
      " 56%|█████▋    | 564/1000 [4:07:02<3:23:00, 27.94s/it]\u001b[A"
     ]
    },
    {
     "name": "stdout",
     "output_type": "stream",
     "text": [
      "tensor(61.3477, grad_fn=<MeanBackward0>)\n"
     ]
    },
    {
     "name": "stderr",
     "output_type": "stream",
     "text": [
      "\n",
      " 56%|█████▋    | 565/1000 [4:07:08<2:33:52, 21.22s/it]\u001b[A"
     ]
    },
    {
     "name": "stdout",
     "output_type": "stream",
     "text": [
      "tensor(35.9737, grad_fn=<MeanBackward0>)\n"
     ]
    },
    {
     "name": "stderr",
     "output_type": "stream",
     "text": [
      "\n",
      " 57%|█████▋    | 566/1000 [4:07:13<2:00:20, 16.64s/it]\u001b[A"
     ]
    },
    {
     "name": "stdout",
     "output_type": "stream",
     "text": [
      "tensor(26.5506, grad_fn=<MeanBackward0>)\n"
     ]
    },
    {
     "name": "stderr",
     "output_type": "stream",
     "text": [
      "\n",
      " 57%|█████▋    | 567/1000 [4:07:19<1:36:14, 13.34s/it]\u001b[A"
     ]
    },
    {
     "name": "stdout",
     "output_type": "stream",
     "text": [
      "tensor(25.3787, grad_fn=<MeanBackward0>)\n"
     ]
    },
    {
     "name": "stderr",
     "output_type": "stream",
     "text": [
      "\n",
      " 57%|█████▋    | 568/1000 [4:07:25<1:19:09, 10.99s/it]\u001b[A"
     ]
    },
    {
     "name": "stdout",
     "output_type": "stream",
     "text": [
      "tensor(48.4464, grad_fn=<MeanBackward0>)\n"
     ]
    },
    {
     "name": "stderr",
     "output_type": "stream",
     "text": [
      "\n",
      " 57%|█████▋    | 569/1000 [4:07:30<1:07:20,  9.37s/it]\u001b[A"
     ]
    },
    {
     "name": "stdout",
     "output_type": "stream",
     "text": [
      "tensor(29.0425, grad_fn=<MeanBackward0>)\n"
     ]
    },
    {
     "name": "stderr",
     "output_type": "stream",
     "text": [
      "\n",
      " 57%|█████▋    | 570/1000 [4:07:37<1:00:53,  8.50s/it]\u001b[A"
     ]
    },
    {
     "name": "stdout",
     "output_type": "stream",
     "text": [
      "tensor(25.4460, grad_fn=<MeanBackward0>)\n",
      "114.0 122.0\n",
      "Saved iteration: 570\n"
     ]
    },
    {
     "name": "stderr",
     "output_type": "stream",
     "text": [
      "\n",
      " 57%|█████▋    | 571/1000 [4:11:12<8:23:43, 70.45s/it]\u001b[A"
     ]
    },
    {
     "name": "stdout",
     "output_type": "stream",
     "text": [
      "tensor(23.6370, grad_fn=<MeanBackward0>)\n"
     ]
    },
    {
     "name": "stderr",
     "output_type": "stream",
     "text": [
      "\n",
      " 57%|█████▋    | 572/1000 [4:11:18<6:05:07, 51.19s/it]\u001b[A"
     ]
    },
    {
     "name": "stdout",
     "output_type": "stream",
     "text": [
      "tensor(139.4317, grad_fn=<MeanBackward0>)\n"
     ]
    },
    {
     "name": "stderr",
     "output_type": "stream",
     "text": [
      "\n",
      " 57%|█████▋    | 573/1000 [4:11:24<4:27:06, 37.53s/it]\u001b[A"
     ]
    },
    {
     "name": "stdout",
     "output_type": "stream",
     "text": [
      "tensor(105.6554, grad_fn=<MeanBackward0>)\n"
     ]
    },
    {
     "name": "stderr",
     "output_type": "stream",
     "text": [
      "\n",
      " 57%|█████▋    | 574/1000 [4:11:29<3:18:18, 27.93s/it]\u001b[A"
     ]
    },
    {
     "name": "stdout",
     "output_type": "stream",
     "text": [
      "tensor(91.0412, grad_fn=<MeanBackward0>)\n"
     ]
    },
    {
     "name": "stderr",
     "output_type": "stream",
     "text": [
      "\n",
      " 57%|█████▊    | 575/1000 [4:11:35<2:31:00, 21.32s/it]\u001b[A"
     ]
    },
    {
     "name": "stdout",
     "output_type": "stream",
     "text": [
      "tensor(136.4656, grad_fn=<MeanBackward0>)\n"
     ]
    },
    {
     "name": "stderr",
     "output_type": "stream",
     "text": [
      "\n",
      " 58%|█████▊    | 576/1000 [4:11:41<1:58:26, 16.76s/it]\u001b[A"
     ]
    },
    {
     "name": "stdout",
     "output_type": "stream",
     "text": [
      "tensor(137.2936, grad_fn=<MeanBackward0>)\n"
     ]
    },
    {
     "name": "stderr",
     "output_type": "stream",
     "text": [
      "\n",
      " 58%|█████▊    | 577/1000 [4:11:47<1:35:36, 13.56s/it]\u001b[A"
     ]
    },
    {
     "name": "stdout",
     "output_type": "stream",
     "text": [
      "tensor(125.3676, grad_fn=<MeanBackward0>)\n"
     ]
    },
    {
     "name": "stderr",
     "output_type": "stream",
     "text": [
      "\n",
      " 58%|█████▊    | 578/1000 [4:11:53<1:18:25, 11.15s/it]\u001b[A"
     ]
    },
    {
     "name": "stdout",
     "output_type": "stream",
     "text": [
      "tensor(112.2266, grad_fn=<MeanBackward0>)\n"
     ]
    },
    {
     "name": "stderr",
     "output_type": "stream",
     "text": [
      "\n",
      " 58%|█████▊    | 579/1000 [4:11:59<1:07:04,  9.56s/it]\u001b[A"
     ]
    },
    {
     "name": "stdout",
     "output_type": "stream",
     "text": [
      "tensor(132.4511, grad_fn=<MeanBackward0>)\n"
     ]
    },
    {
     "name": "stderr",
     "output_type": "stream",
     "text": [
      "\n",
      " 58%|█████▊    | 580/1000 [4:12:04<59:00,  8.43s/it]  \u001b[A"
     ]
    },
    {
     "name": "stdout",
     "output_type": "stream",
     "text": [
      "tensor(110.4851, grad_fn=<MeanBackward0>)\n",
      "100.0 110.0\n",
      "Saved iteration: 580\n"
     ]
    },
    {
     "name": "stderr",
     "output_type": "stream",
     "text": [
      "\n",
      " 58%|█████▊    | 581/1000 [4:15:43<8:18:33, 71.39s/it]\u001b[A"
     ]
    },
    {
     "name": "stdout",
     "output_type": "stream",
     "text": [
      "tensor(73.6684, grad_fn=<MeanBackward0>)\n"
     ]
    },
    {
     "name": "stderr",
     "output_type": "stream",
     "text": [
      "\n",
      " 58%|█████▊    | 582/1000 [4:15:48<5:59:54, 51.66s/it]\u001b[A"
     ]
    },
    {
     "name": "stdout",
     "output_type": "stream",
     "text": [
      "tensor(28.4259, grad_fn=<MeanBackward0>)\n"
     ]
    },
    {
     "name": "stderr",
     "output_type": "stream",
     "text": [
      "\n",
      " 58%|█████▊    | 583/1000 [4:15:54<4:23:35, 37.93s/it]\u001b[A"
     ]
    },
    {
     "name": "stdout",
     "output_type": "stream",
     "text": [
      "tensor(78.1410, grad_fn=<MeanBackward0>)\n"
     ]
    },
    {
     "name": "stderr",
     "output_type": "stream",
     "text": [
      "\n",
      " 58%|█████▊    | 584/1000 [4:16:00<3:16:28, 28.34s/it]\u001b[A"
     ]
    },
    {
     "name": "stdout",
     "output_type": "stream",
     "text": [
      "tensor(37.6982, grad_fn=<MeanBackward0>)\n"
     ]
    },
    {
     "name": "stderr",
     "output_type": "stream",
     "text": [
      "\n",
      " 58%|█████▊    | 585/1000 [4:16:06<2:28:35, 21.48s/it]\u001b[A"
     ]
    },
    {
     "name": "stdout",
     "output_type": "stream",
     "text": [
      "tensor(34.3605, grad_fn=<MeanBackward0>)\n"
     ]
    },
    {
     "name": "stderr",
     "output_type": "stream",
     "text": [
      "\n",
      " 59%|█████▊    | 586/1000 [4:16:11<1:55:24, 16.72s/it]\u001b[A"
     ]
    },
    {
     "name": "stdout",
     "output_type": "stream",
     "text": [
      "tensor(18.6503, grad_fn=<MeanBackward0>)\n"
     ]
    },
    {
     "name": "stderr",
     "output_type": "stream",
     "text": [
      "\n",
      " 59%|█████▊    | 587/1000 [4:16:17<1:32:11, 13.39s/it]\u001b[A"
     ]
    },
    {
     "name": "stdout",
     "output_type": "stream",
     "text": [
      "tensor(54.7885, grad_fn=<MeanBackward0>)\n"
     ]
    },
    {
     "name": "stderr",
     "output_type": "stream",
     "text": [
      "\n",
      " 59%|█████▉    | 588/1000 [4:16:23<1:16:44, 11.18s/it]\u001b[A"
     ]
    },
    {
     "name": "stdout",
     "output_type": "stream",
     "text": [
      "tensor(27.5853, grad_fn=<MeanBackward0>)\n"
     ]
    },
    {
     "name": "stderr",
     "output_type": "stream",
     "text": [
      "\n",
      " 59%|█████▉    | 589/1000 [4:16:28<1:04:43,  9.45s/it]\u001b[A"
     ]
    },
    {
     "name": "stdout",
     "output_type": "stream",
     "text": [
      "tensor(19.0658, grad_fn=<MeanBackward0>)\n"
     ]
    },
    {
     "name": "stderr",
     "output_type": "stream",
     "text": [
      "\n",
      " 59%|█████▉    | 590/1000 [4:16:34<57:12,  8.37s/it]  \u001b[A"
     ]
    },
    {
     "name": "stdout",
     "output_type": "stream",
     "text": [
      "tensor(39.2094, grad_fn=<MeanBackward0>)\n",
      "102.0 110.0\n",
      "Saved iteration: 590\n"
     ]
    },
    {
     "name": "stderr",
     "output_type": "stream",
     "text": [
      "\n",
      " 59%|█████▉    | 591/1000 [4:20:11<8:03:17, 70.90s/it]\u001b[A"
     ]
    },
    {
     "name": "stdout",
     "output_type": "stream",
     "text": [
      "tensor(32.0474, grad_fn=<MeanBackward0>)\n"
     ]
    },
    {
     "name": "stderr",
     "output_type": "stream",
     "text": [
      "\n",
      " 59%|█████▉    | 592/1000 [4:20:17<5:49:28, 51.39s/it]\u001b[A"
     ]
    },
    {
     "name": "stdout",
     "output_type": "stream",
     "text": [
      "tensor(55.5856, grad_fn=<MeanBackward0>)\n"
     ]
    },
    {
     "name": "stderr",
     "output_type": "stream",
     "text": [
      "\n",
      " 59%|█████▉    | 593/1000 [4:20:23<4:15:33, 37.67s/it]\u001b[A"
     ]
    },
    {
     "name": "stdout",
     "output_type": "stream",
     "text": [
      "tensor(62.3440, grad_fn=<MeanBackward0>)\n"
     ]
    },
    {
     "name": "stderr",
     "output_type": "stream",
     "text": [
      "\n",
      " 59%|█████▉    | 594/1000 [4:20:28<3:10:10, 28.10s/it]\u001b[A"
     ]
    },
    {
     "name": "stdout",
     "output_type": "stream",
     "text": [
      "tensor(47.8739, grad_fn=<MeanBackward0>)\n"
     ]
    },
    {
     "name": "stderr",
     "output_type": "stream",
     "text": [
      "\n",
      " 60%|█████▉    | 595/1000 [4:20:34<2:25:03, 21.49s/it]\u001b[A"
     ]
    },
    {
     "name": "stdout",
     "output_type": "stream",
     "text": [
      "tensor(24.7751, grad_fn=<MeanBackward0>)\n"
     ]
    },
    {
     "name": "stderr",
     "output_type": "stream",
     "text": [
      "\n",
      " 60%|█████▉    | 596/1000 [4:20:40<1:53:27, 16.85s/it]\u001b[A"
     ]
    },
    {
     "name": "stdout",
     "output_type": "stream",
     "text": [
      "tensor(43.4825, grad_fn=<MeanBackward0>)\n"
     ]
    },
    {
     "name": "stderr",
     "output_type": "stream",
     "text": [
      "\n",
      " 60%|█████▉    | 597/1000 [4:20:46<1:31:14, 13.58s/it]\u001b[A"
     ]
    },
    {
     "name": "stdout",
     "output_type": "stream",
     "text": [
      "tensor(35.4975, grad_fn=<MeanBackward0>)\n"
     ]
    },
    {
     "name": "stderr",
     "output_type": "stream",
     "text": [
      "\n",
      " 60%|█████▉    | 598/1000 [4:20:53<1:16:31, 11.42s/it]\u001b[A"
     ]
    },
    {
     "name": "stdout",
     "output_type": "stream",
     "text": [
      "tensor(28.9588, grad_fn=<MeanBackward0>)\n"
     ]
    },
    {
     "name": "stderr",
     "output_type": "stream",
     "text": [
      "\n",
      " 60%|█████▉    | 599/1000 [4:20:59<1:05:26,  9.79s/it]\u001b[A"
     ]
    },
    {
     "name": "stdout",
     "output_type": "stream",
     "text": [
      "tensor(32.2594, grad_fn=<MeanBackward0>)\n"
     ]
    },
    {
     "name": "stderr",
     "output_type": "stream",
     "text": [
      "\n",
      " 60%|██████    | 600/1000 [4:21:04<56:58,  8.55s/it]  \u001b[A"
     ]
    },
    {
     "name": "stdout",
     "output_type": "stream",
     "text": [
      "tensor(35.8382, grad_fn=<MeanBackward0>)\n",
      "108.0 116.0\n",
      "Saved iteration: 600\n"
     ]
    },
    {
     "name": "stderr",
     "output_type": "stream",
     "text": [
      "\n",
      " 60%|██████    | 601/1000 [4:24:43<7:56:28, 71.65s/it]\u001b[A"
     ]
    },
    {
     "name": "stdout",
     "output_type": "stream",
     "text": [
      "tensor(36.8506, grad_fn=<MeanBackward0>)\n"
     ]
    },
    {
     "name": "stderr",
     "output_type": "stream",
     "text": [
      "\n",
      " 60%|██████    | 602/1000 [4:24:49<5:44:53, 51.99s/it]\u001b[A"
     ]
    },
    {
     "name": "stdout",
     "output_type": "stream",
     "text": [
      "tensor(103.7343, grad_fn=<MeanBackward0>)\n"
     ]
    },
    {
     "name": "stderr",
     "output_type": "stream",
     "text": [
      "\n",
      " 60%|██████    | 603/1000 [4:24:55<4:11:45, 38.05s/it]\u001b[A"
     ]
    },
    {
     "name": "stdout",
     "output_type": "stream",
     "text": [
      "tensor(70.9999, grad_fn=<MeanBackward0>)\n"
     ]
    },
    {
     "name": "stderr",
     "output_type": "stream",
     "text": [
      "\n",
      " 60%|██████    | 604/1000 [4:25:01<3:07:17, 28.38s/it]\u001b[A"
     ]
    },
    {
     "name": "stdout",
     "output_type": "stream",
     "text": [
      "tensor(122.9398, grad_fn=<MeanBackward0>)\n"
     ]
    },
    {
     "name": "stderr",
     "output_type": "stream",
     "text": [
      "\n",
      " 60%|██████    | 605/1000 [4:25:06<2:22:00, 21.57s/it]\u001b[A"
     ]
    },
    {
     "name": "stdout",
     "output_type": "stream",
     "text": [
      "tensor(111.2918, grad_fn=<MeanBackward0>)\n"
     ]
    },
    {
     "name": "stderr",
     "output_type": "stream",
     "text": [
      "\n",
      " 61%|██████    | 606/1000 [4:25:12<1:50:36, 16.84s/it]\u001b[A"
     ]
    },
    {
     "name": "stdout",
     "output_type": "stream",
     "text": [
      "tensor(82.7267, grad_fn=<MeanBackward0>)\n"
     ]
    },
    {
     "name": "stderr",
     "output_type": "stream",
     "text": [
      "\n",
      " 61%|██████    | 607/1000 [4:25:18<1:28:19, 13.49s/it]\u001b[A"
     ]
    },
    {
     "name": "stdout",
     "output_type": "stream",
     "text": [
      "tensor(50.3498, grad_fn=<MeanBackward0>)\n"
     ]
    },
    {
     "name": "stderr",
     "output_type": "stream",
     "text": [
      "\n",
      " 61%|██████    | 608/1000 [4:25:24<1:12:51, 11.15s/it]\u001b[A"
     ]
    },
    {
     "name": "stdout",
     "output_type": "stream",
     "text": [
      "tensor(136.7500, grad_fn=<MeanBackward0>)\n"
     ]
    },
    {
     "name": "stderr",
     "output_type": "stream",
     "text": [
      "\n",
      " 61%|██████    | 609/1000 [4:25:29<1:02:01,  9.52s/it]\u001b[A"
     ]
    },
    {
     "name": "stdout",
     "output_type": "stream",
     "text": [
      "tensor(75.0561, grad_fn=<MeanBackward0>)\n"
     ]
    },
    {
     "name": "stderr",
     "output_type": "stream",
     "text": [
      "\n",
      " 61%|██████    | 610/1000 [4:25:35<55:11,  8.49s/it]  \u001b[A"
     ]
    },
    {
     "name": "stdout",
     "output_type": "stream",
     "text": [
      "tensor(130.0422, grad_fn=<MeanBackward0>)\n",
      "101.0 110.0\n",
      "Saved iteration: 610\n"
     ]
    },
    {
     "name": "stderr",
     "output_type": "stream",
     "text": [
      "\n",
      " 61%|██████    | 611/1000 [4:29:12<7:39:13, 70.83s/it]\u001b[A"
     ]
    },
    {
     "name": "stdout",
     "output_type": "stream",
     "text": [
      "tensor(90.2459, grad_fn=<MeanBackward0>)\n"
     ]
    },
    {
     "name": "stderr",
     "output_type": "stream",
     "text": [
      "\n",
      " 61%|██████    | 612/1000 [4:29:18<5:32:00, 51.34s/it]\u001b[A"
     ]
    },
    {
     "name": "stdout",
     "output_type": "stream",
     "text": [
      "tensor(47.1422, grad_fn=<MeanBackward0>)\n"
     ]
    },
    {
     "name": "stderr",
     "output_type": "stream",
     "text": [
      "\n",
      " 61%|██████▏   | 613/1000 [4:29:23<4:02:44, 37.63s/it]\u001b[A"
     ]
    },
    {
     "name": "stdout",
     "output_type": "stream",
     "text": [
      "tensor(29.4704, grad_fn=<MeanBackward0>)\n"
     ]
    },
    {
     "name": "stderr",
     "output_type": "stream",
     "text": [
      "\n",
      " 61%|██████▏   | 614/1000 [4:29:29<3:00:19, 28.03s/it]\u001b[A"
     ]
    },
    {
     "name": "stdout",
     "output_type": "stream",
     "text": [
      "tensor(37.1557, grad_fn=<MeanBackward0>)\n"
     ]
    },
    {
     "name": "stderr",
     "output_type": "stream",
     "text": [
      "\n",
      " 62%|██████▏   | 615/1000 [4:29:34<2:16:46, 21.32s/it]\u001b[A"
     ]
    },
    {
     "name": "stdout",
     "output_type": "stream",
     "text": [
      "tensor(22.4789, grad_fn=<MeanBackward0>)\n"
     ]
    },
    {
     "name": "stderr",
     "output_type": "stream",
     "text": [
      "\n",
      " 62%|██████▏   | 616/1000 [4:29:41<1:47:49, 16.85s/it]\u001b[A"
     ]
    },
    {
     "name": "stdout",
     "output_type": "stream",
     "text": [
      "tensor(36.0908, grad_fn=<MeanBackward0>)\n"
     ]
    },
    {
     "name": "stderr",
     "output_type": "stream",
     "text": [
      "\n",
      " 62%|██████▏   | 617/1000 [4:29:47<1:27:01, 13.63s/it]\u001b[A"
     ]
    },
    {
     "name": "stdout",
     "output_type": "stream",
     "text": [
      "tensor(35.9163, grad_fn=<MeanBackward0>)\n"
     ]
    },
    {
     "name": "stderr",
     "output_type": "stream",
     "text": [
      "\n",
      " 62%|██████▏   | 618/1000 [4:29:53<1:11:41, 11.26s/it]\u001b[A"
     ]
    },
    {
     "name": "stdout",
     "output_type": "stream",
     "text": [
      "tensor(25.3271, grad_fn=<MeanBackward0>)\n"
     ]
    },
    {
     "name": "stderr",
     "output_type": "stream",
     "text": [
      "\n",
      " 62%|██████▏   | 619/1000 [4:29:58<1:00:50,  9.58s/it]\u001b[A"
     ]
    },
    {
     "name": "stdout",
     "output_type": "stream",
     "text": [
      "tensor(20.5635, grad_fn=<MeanBackward0>)\n"
     ]
    },
    {
     "name": "stderr",
     "output_type": "stream",
     "text": [
      "\n",
      " 62%|██████▏   | 620/1000 [4:30:04<53:26,  8.44s/it]  \u001b[A"
     ]
    },
    {
     "name": "stdout",
     "output_type": "stream",
     "text": [
      "tensor(47.0843, grad_fn=<MeanBackward0>)\n",
      "105.0 114.0\n",
      "Saved iteration: 620\n"
     ]
    },
    {
     "name": "stderr",
     "output_type": "stream",
     "text": [
      "\n",
      " 62%|██████▏   | 621/1000 [4:33:40<7:25:54, 70.59s/it]\u001b[A"
     ]
    },
    {
     "name": "stdout",
     "output_type": "stream",
     "text": [
      "tensor(41.1615, grad_fn=<MeanBackward0>)\n"
     ]
    },
    {
     "name": "stderr",
     "output_type": "stream",
     "text": [
      "\n",
      " 62%|██████▏   | 622/1000 [4:33:46<5:22:24, 51.18s/it]\u001b[A"
     ]
    },
    {
     "name": "stdout",
     "output_type": "stream",
     "text": [
      "tensor(117.6617, grad_fn=<MeanBackward0>)\n"
     ]
    },
    {
     "name": "stderr",
     "output_type": "stream",
     "text": [
      "\n",
      " 62%|██████▏   | 623/1000 [4:33:51<3:55:47, 37.53s/it]\u001b[A"
     ]
    },
    {
     "name": "stdout",
     "output_type": "stream",
     "text": [
      "tensor(71.5026, grad_fn=<MeanBackward0>)\n"
     ]
    },
    {
     "name": "stderr",
     "output_type": "stream",
     "text": [
      "\n",
      " 62%|██████▏   | 624/1000 [4:33:58<2:56:13, 28.12s/it]\u001b[A"
     ]
    },
    {
     "name": "stdout",
     "output_type": "stream",
     "text": [
      "tensor(72.5621, grad_fn=<MeanBackward0>)\n"
     ]
    },
    {
     "name": "stderr",
     "output_type": "stream",
     "text": [
      "\n",
      " 62%|██████▎   | 625/1000 [4:34:03<2:13:39, 21.38s/it]\u001b[A"
     ]
    },
    {
     "name": "stdout",
     "output_type": "stream",
     "text": [
      "tensor(83.3998, grad_fn=<MeanBackward0>)\n"
     ]
    },
    {
     "name": "stderr",
     "output_type": "stream",
     "text": [
      "\n",
      " 63%|██████▎   | 626/1000 [4:34:09<1:44:13, 16.72s/it]\u001b[A"
     ]
    },
    {
     "name": "stdout",
     "output_type": "stream",
     "text": [
      "tensor(54.4593, grad_fn=<MeanBackward0>)\n"
     ]
    },
    {
     "name": "stderr",
     "output_type": "stream",
     "text": [
      "\n",
      " 63%|██████▎   | 627/1000 [4:34:15<1:23:12, 13.38s/it]\u001b[A"
     ]
    },
    {
     "name": "stdout",
     "output_type": "stream",
     "text": [
      "tensor(80.2274, grad_fn=<MeanBackward0>)\n"
     ]
    },
    {
     "name": "stderr",
     "output_type": "stream",
     "text": [
      "\n",
      " 63%|██████▎   | 628/1000 [4:34:20<1:09:00, 11.13s/it]\u001b[A"
     ]
    },
    {
     "name": "stdout",
     "output_type": "stream",
     "text": [
      "tensor(46.4817, grad_fn=<MeanBackward0>)\n"
     ]
    },
    {
     "name": "stderr",
     "output_type": "stream",
     "text": [
      "\n",
      " 63%|██████▎   | 629/1000 [4:34:26<58:40,  9.49s/it]  \u001b[A"
     ]
    },
    {
     "name": "stdout",
     "output_type": "stream",
     "text": [
      "tensor(72.7423, grad_fn=<MeanBackward0>)\n"
     ]
    },
    {
     "name": "stderr",
     "output_type": "stream",
     "text": [
      "\n",
      " 63%|██████▎   | 630/1000 [4:34:32<51:48,  8.40s/it]\u001b[A"
     ]
    },
    {
     "name": "stdout",
     "output_type": "stream",
     "text": [
      "tensor(75.9610, grad_fn=<MeanBackward0>)\n",
      "101.0 110.0\n",
      "Saved iteration: 630\n"
     ]
    },
    {
     "name": "stderr",
     "output_type": "stream",
     "text": [
      "\n",
      " 63%|██████▎   | 631/1000 [4:38:11<7:20:22, 71.60s/it]\u001b[A"
     ]
    },
    {
     "name": "stdout",
     "output_type": "stream",
     "text": [
      "tensor(74.9082, grad_fn=<MeanBackward0>)\n"
     ]
    },
    {
     "name": "stderr",
     "output_type": "stream",
     "text": [
      "\n",
      " 63%|██████▎   | 632/1000 [4:38:17<5:18:26, 51.92s/it]\u001b[A"
     ]
    },
    {
     "name": "stdout",
     "output_type": "stream",
     "text": [
      "tensor(57.5183, grad_fn=<MeanBackward0>)\n"
     ]
    },
    {
     "name": "stderr",
     "output_type": "stream",
     "text": [
      "\n",
      " 63%|██████▎   | 633/1000 [4:38:23<3:52:35, 38.03s/it]\u001b[A"
     ]
    },
    {
     "name": "stdout",
     "output_type": "stream",
     "text": [
      "tensor(25.3292, grad_fn=<MeanBackward0>)\n"
     ]
    },
    {
     "name": "stderr",
     "output_type": "stream",
     "text": [
      "\n",
      " 63%|██████▎   | 634/1000 [4:38:29<2:53:14, 28.40s/it]\u001b[A"
     ]
    },
    {
     "name": "stdout",
     "output_type": "stream",
     "text": [
      "tensor(30.5205, grad_fn=<MeanBackward0>)\n"
     ]
    },
    {
     "name": "stderr",
     "output_type": "stream",
     "text": [
      "\n",
      " 64%|██████▎   | 635/1000 [4:38:35<2:12:21, 21.76s/it]\u001b[A"
     ]
    },
    {
     "name": "stdout",
     "output_type": "stream",
     "text": [
      "tensor(27.6005, grad_fn=<MeanBackward0>)\n"
     ]
    },
    {
     "name": "stderr",
     "output_type": "stream",
     "text": [
      "\n",
      " 64%|██████▎   | 636/1000 [4:38:41<1:43:32, 17.07s/it]\u001b[A"
     ]
    },
    {
     "name": "stdout",
     "output_type": "stream",
     "text": [
      "tensor(55.8445, grad_fn=<MeanBackward0>)\n"
     ]
    },
    {
     "name": "stderr",
     "output_type": "stream",
     "text": [
      "\n",
      " 64%|██████▎   | 637/1000 [4:38:47<1:23:16, 13.76s/it]\u001b[A"
     ]
    },
    {
     "name": "stdout",
     "output_type": "stream",
     "text": [
      "tensor(44.0112, grad_fn=<MeanBackward0>)\n"
     ]
    },
    {
     "name": "stderr",
     "output_type": "stream",
     "text": [
      "\n",
      " 64%|██████▍   | 638/1000 [4:38:53<1:08:49, 11.41s/it]\u001b[A"
     ]
    },
    {
     "name": "stdout",
     "output_type": "stream",
     "text": [
      "tensor(36.6544, grad_fn=<MeanBackward0>)\n"
     ]
    },
    {
     "name": "stderr",
     "output_type": "stream",
     "text": [
      "\n",
      " 64%|██████▍   | 639/1000 [4:38:59<58:07,  9.66s/it]  \u001b[A"
     ]
    },
    {
     "name": "stdout",
     "output_type": "stream",
     "text": [
      "tensor(19.1469, grad_fn=<MeanBackward0>)\n"
     ]
    },
    {
     "name": "stderr",
     "output_type": "stream",
     "text": [
      "\n",
      " 64%|██████▍   | 640/1000 [4:39:04<51:08,  8.52s/it]\u001b[A"
     ]
    },
    {
     "name": "stdout",
     "output_type": "stream",
     "text": [
      "tensor(31.8460, grad_fn=<MeanBackward0>)\n",
      "134.0 138.0\n",
      "Saved iteration: 640\n"
     ]
    },
    {
     "name": "stderr",
     "output_type": "stream",
     "text": [
      "\n",
      " 64%|██████▍   | 641/1000 [4:42:41<7:04:31, 70.95s/it]\u001b[A"
     ]
    },
    {
     "name": "stdout",
     "output_type": "stream",
     "text": [
      "tensor(20.3748, grad_fn=<MeanBackward0>)\n"
     ]
    },
    {
     "name": "stderr",
     "output_type": "stream",
     "text": [
      "\n",
      " 64%|██████▍   | 642/1000 [4:42:47<5:07:10, 51.48s/it]\u001b[A"
     ]
    },
    {
     "name": "stdout",
     "output_type": "stream",
     "text": [
      "tensor(233.3762, grad_fn=<MeanBackward0>)\n"
     ]
    },
    {
     "name": "stderr",
     "output_type": "stream",
     "text": [
      "\n",
      " 64%|██████▍   | 643/1000 [4:42:53<3:44:53, 37.80s/it]\u001b[A"
     ]
    },
    {
     "name": "stdout",
     "output_type": "stream",
     "text": [
      "tensor(168.1605, grad_fn=<MeanBackward0>)\n"
     ]
    },
    {
     "name": "stderr",
     "output_type": "stream",
     "text": [
      "\n",
      " 64%|██████▍   | 644/1000 [4:42:59<2:47:02, 28.15s/it]\u001b[A"
     ]
    },
    {
     "name": "stdout",
     "output_type": "stream",
     "text": [
      "tensor(179.3638, grad_fn=<MeanBackward0>)\n"
     ]
    },
    {
     "name": "stderr",
     "output_type": "stream",
     "text": [
      "\n",
      " 64%|██████▍   | 645/1000 [4:43:04<2:06:42, 21.42s/it]\u001b[A"
     ]
    },
    {
     "name": "stdout",
     "output_type": "stream",
     "text": [
      "tensor(219.3849, grad_fn=<MeanBackward0>)\n"
     ]
    },
    {
     "name": "stderr",
     "output_type": "stream",
     "text": [
      "\n",
      " 65%|██████▍   | 646/1000 [4:43:10<1:38:48, 16.75s/it]\u001b[A"
     ]
    },
    {
     "name": "stdout",
     "output_type": "stream",
     "text": [
      "tensor(304.8296, grad_fn=<MeanBackward0>)\n"
     ]
    },
    {
     "name": "stderr",
     "output_type": "stream",
     "text": [
      "\n",
      " 65%|██████▍   | 647/1000 [4:43:16<1:19:19, 13.48s/it]\u001b[A"
     ]
    },
    {
     "name": "stdout",
     "output_type": "stream",
     "text": [
      "tensor(201.0796, grad_fn=<MeanBackward0>)\n"
     ]
    },
    {
     "name": "stderr",
     "output_type": "stream",
     "text": [
      "\n",
      " 65%|██████▍   | 648/1000 [4:43:22<1:05:12, 11.11s/it]\u001b[A"
     ]
    },
    {
     "name": "stdout",
     "output_type": "stream",
     "text": [
      "tensor(272.5638, grad_fn=<MeanBackward0>)\n"
     ]
    },
    {
     "name": "stderr",
     "output_type": "stream",
     "text": [
      "\n",
      " 65%|██████▍   | 649/1000 [4:43:27<55:28,  9.48s/it]  \u001b[A"
     ]
    },
    {
     "name": "stdout",
     "output_type": "stream",
     "text": [
      "tensor(201.1834, grad_fn=<MeanBackward0>)\n"
     ]
    },
    {
     "name": "stderr",
     "output_type": "stream",
     "text": [
      "\n",
      " 65%|██████▌   | 650/1000 [4:43:33<48:33,  8.32s/it]\u001b[A"
     ]
    },
    {
     "name": "stdout",
     "output_type": "stream",
     "text": [
      "tensor(151.5168, grad_fn=<MeanBackward0>)\n",
      "102.0 110.0\n",
      "Saved iteration: 650\n"
     ]
    },
    {
     "name": "stderr",
     "output_type": "stream",
     "text": [
      "\n",
      " 65%|██████▌   | 651/1000 [4:47:12<6:55:31, 71.44s/it]\u001b[A"
     ]
    },
    {
     "name": "stdout",
     "output_type": "stream",
     "text": [
      "tensor(173.2893, grad_fn=<MeanBackward0>)\n"
     ]
    },
    {
     "name": "stderr",
     "output_type": "stream",
     "text": [
      "\n",
      " 65%|██████▌   | 652/1000 [4:47:17<4:59:51, 51.70s/it]\u001b[A"
     ]
    },
    {
     "name": "stdout",
     "output_type": "stream",
     "text": [
      "tensor(109.1017, grad_fn=<MeanBackward0>)\n"
     ]
    },
    {
     "name": "stderr",
     "output_type": "stream",
     "text": [
      "\n",
      " 65%|██████▌   | 653/1000 [4:47:23<3:39:26, 37.94s/it]\u001b[A"
     ]
    },
    {
     "name": "stdout",
     "output_type": "stream",
     "text": [
      "tensor(85.7192, grad_fn=<MeanBackward0>)\n"
     ]
    },
    {
     "name": "stderr",
     "output_type": "stream",
     "text": [
      "\n",
      " 65%|██████▌   | 654/1000 [4:47:29<2:43:34, 28.37s/it]\u001b[A"
     ]
    },
    {
     "name": "stdout",
     "output_type": "stream",
     "text": [
      "tensor(86.6968, grad_fn=<MeanBackward0>)\n"
     ]
    },
    {
     "name": "stderr",
     "output_type": "stream",
     "text": [
      "\n",
      " 66%|██████▌   | 655/1000 [4:47:35<2:04:13, 21.60s/it]\u001b[A"
     ]
    },
    {
     "name": "stdout",
     "output_type": "stream",
     "text": [
      "tensor(52.5292, grad_fn=<MeanBackward0>)\n"
     ]
    },
    {
     "name": "stderr",
     "output_type": "stream",
     "text": [
      "\n",
      " 66%|██████▌   | 656/1000 [4:47:41<1:36:28, 16.83s/it]\u001b[A"
     ]
    },
    {
     "name": "stdout",
     "output_type": "stream",
     "text": [
      "tensor(78.9901, grad_fn=<MeanBackward0>)\n"
     ]
    },
    {
     "name": "stderr",
     "output_type": "stream",
     "text": [
      "\n",
      " 66%|██████▌   | 657/1000 [4:47:46<1:16:46, 13.43s/it]\u001b[A"
     ]
    },
    {
     "name": "stdout",
     "output_type": "stream",
     "text": [
      "tensor(110.6931, grad_fn=<MeanBackward0>)\n"
     ]
    },
    {
     "name": "stderr",
     "output_type": "stream",
     "text": [
      "\n",
      " 66%|██████▌   | 658/1000 [4:47:52<1:03:42, 11.18s/it]\u001b[A"
     ]
    },
    {
     "name": "stdout",
     "output_type": "stream",
     "text": [
      "tensor(78.8286, grad_fn=<MeanBackward0>)\n"
     ]
    },
    {
     "name": "stderr",
     "output_type": "stream",
     "text": [
      "\n",
      " 66%|██████▌   | 659/1000 [4:47:58<54:07,  9.52s/it]  \u001b[A"
     ]
    },
    {
     "name": "stdout",
     "output_type": "stream",
     "text": [
      "tensor(88.9973, grad_fn=<MeanBackward0>)\n"
     ]
    },
    {
     "name": "stderr",
     "output_type": "stream",
     "text": [
      "\n",
      " 66%|██████▌   | 660/1000 [4:48:04<47:40,  8.41s/it]\u001b[A"
     ]
    },
    {
     "name": "stdout",
     "output_type": "stream",
     "text": [
      "tensor(125.4369, grad_fn=<MeanBackward0>)\n",
      "105.0 110.0\n",
      "Saved iteration: 660\n"
     ]
    },
    {
     "name": "stderr",
     "output_type": "stream",
     "text": [
      "\n",
      " 66%|██████▌   | 661/1000 [4:51:41<6:41:03, 70.98s/it]\u001b[A"
     ]
    },
    {
     "name": "stdout",
     "output_type": "stream",
     "text": [
      "tensor(114.5384, grad_fn=<MeanBackward0>)\n"
     ]
    },
    {
     "name": "stderr",
     "output_type": "stream",
     "text": [
      "\n",
      " 66%|██████▌   | 662/1000 [4:51:46<4:49:28, 51.39s/it]\u001b[A"
     ]
    },
    {
     "name": "stdout",
     "output_type": "stream",
     "text": [
      "tensor(34.8506, grad_fn=<MeanBackward0>)\n"
     ]
    },
    {
     "name": "stderr",
     "output_type": "stream",
     "text": [
      "\n",
      " 66%|██████▋   | 663/1000 [4:51:52<3:31:15, 37.61s/it]\u001b[A"
     ]
    },
    {
     "name": "stdout",
     "output_type": "stream",
     "text": [
      "tensor(48.4354, grad_fn=<MeanBackward0>)\n"
     ]
    },
    {
     "name": "stderr",
     "output_type": "stream",
     "text": [
      "\n",
      " 66%|██████▋   | 664/1000 [4:51:58<2:38:05, 28.23s/it]\u001b[A"
     ]
    },
    {
     "name": "stdout",
     "output_type": "stream",
     "text": [
      "tensor(52.8176, grad_fn=<MeanBackward0>)\n"
     ]
    },
    {
     "name": "stderr",
     "output_type": "stream",
     "text": [
      "\n",
      " 66%|██████▋   | 665/1000 [4:52:04<2:00:32, 21.59s/it]\u001b[A"
     ]
    },
    {
     "name": "stdout",
     "output_type": "stream",
     "text": [
      "tensor(40.7852, grad_fn=<MeanBackward0>)\n"
     ]
    },
    {
     "name": "stderr",
     "output_type": "stream",
     "text": [
      "\n",
      " 67%|██████▋   | 666/1000 [4:52:10<1:33:41, 16.83s/it]\u001b[A"
     ]
    },
    {
     "name": "stdout",
     "output_type": "stream",
     "text": [
      "tensor(50.3638, grad_fn=<MeanBackward0>)\n"
     ]
    },
    {
     "name": "stderr",
     "output_type": "stream",
     "text": [
      "\n",
      " 67%|██████▋   | 667/1000 [4:52:15<1:14:44, 13.47s/it]\u001b[A"
     ]
    },
    {
     "name": "stdout",
     "output_type": "stream",
     "text": [
      "tensor(37.8378, grad_fn=<MeanBackward0>)\n"
     ]
    },
    {
     "name": "stderr",
     "output_type": "stream",
     "text": [
      "\n",
      " 67%|██████▋   | 668/1000 [4:52:21<1:01:17, 11.08s/it]\u001b[A"
     ]
    },
    {
     "name": "stdout",
     "output_type": "stream",
     "text": [
      "tensor(36.1581, grad_fn=<MeanBackward0>)\n"
     ]
    },
    {
     "name": "stderr",
     "output_type": "stream",
     "text": [
      "\n",
      " 67%|██████▋   | 669/1000 [4:52:27<52:53,  9.59s/it]  \u001b[A"
     ]
    },
    {
     "name": "stdout",
     "output_type": "stream",
     "text": [
      "tensor(28.7865, grad_fn=<MeanBackward0>)\n"
     ]
    },
    {
     "name": "stderr",
     "output_type": "stream",
     "text": [
      "\n",
      " 67%|██████▋   | 670/1000 [4:52:33<46:20,  8.42s/it]\u001b[A"
     ]
    },
    {
     "name": "stdout",
     "output_type": "stream",
     "text": [
      "tensor(26.8228, grad_fn=<MeanBackward0>)\n",
      "128.0 130.0\n",
      "Saved iteration: 670\n"
     ]
    },
    {
     "name": "stderr",
     "output_type": "stream",
     "text": [
      "\n",
      " 67%|██████▋   | 671/1000 [4:56:08<6:26:42, 70.53s/it]\u001b[A"
     ]
    },
    {
     "name": "stdout",
     "output_type": "stream",
     "text": [
      "tensor(22.6493, grad_fn=<MeanBackward0>)\n"
     ]
    },
    {
     "name": "stderr",
     "output_type": "stream",
     "text": [
      "\n",
      " 67%|██████▋   | 672/1000 [4:56:14<4:39:09, 51.07s/it]\u001b[A"
     ]
    },
    {
     "name": "stdout",
     "output_type": "stream",
     "text": [
      "tensor(150.5723, grad_fn=<MeanBackward0>)\n"
     ]
    },
    {
     "name": "stderr",
     "output_type": "stream",
     "text": [
      "\n",
      " 67%|██████▋   | 673/1000 [4:56:19<3:23:52, 37.41s/it]\u001b[A"
     ]
    },
    {
     "name": "stdout",
     "output_type": "stream",
     "text": [
      "tensor(183.1505, grad_fn=<MeanBackward0>)\n"
     ]
    },
    {
     "name": "stderr",
     "output_type": "stream",
     "text": [
      "\n",
      " 67%|██████▋   | 674/1000 [4:56:25<2:31:47, 27.94s/it]\u001b[A"
     ]
    },
    {
     "name": "stdout",
     "output_type": "stream",
     "text": [
      "tensor(164.3640, grad_fn=<MeanBackward0>)\n"
     ]
    },
    {
     "name": "stderr",
     "output_type": "stream",
     "text": [
      "\n",
      " 68%|██████▊   | 675/1000 [4:56:31<1:55:36, 21.34s/it]\u001b[A"
     ]
    },
    {
     "name": "stdout",
     "output_type": "stream",
     "text": [
      "tensor(189.2066, grad_fn=<MeanBackward0>)\n"
     ]
    },
    {
     "name": "stderr",
     "output_type": "stream",
     "text": [
      "\n",
      " 68%|██████▊   | 676/1000 [4:56:37<1:29:59, 16.67s/it]\u001b[A"
     ]
    },
    {
     "name": "stdout",
     "output_type": "stream",
     "text": [
      "tensor(129.3536, grad_fn=<MeanBackward0>)\n"
     ]
    },
    {
     "name": "stderr",
     "output_type": "stream",
     "text": [
      "\n",
      " 68%|██████▊   | 677/1000 [4:56:42<1:11:43, 13.33s/it]\u001b[A"
     ]
    },
    {
     "name": "stdout",
     "output_type": "stream",
     "text": [
      "tensor(161.3302, grad_fn=<MeanBackward0>)\n"
     ]
    },
    {
     "name": "stderr",
     "output_type": "stream",
     "text": [
      "\n",
      " 68%|██████▊   | 678/1000 [4:56:48<59:09, 11.02s/it]  \u001b[A"
     ]
    },
    {
     "name": "stdout",
     "output_type": "stream",
     "text": [
      "tensor(158.6604, grad_fn=<MeanBackward0>)\n"
     ]
    },
    {
     "name": "stderr",
     "output_type": "stream",
     "text": [
      "\n",
      " 68%|██████▊   | 679/1000 [4:56:54<51:09,  9.56s/it]\u001b[A"
     ]
    },
    {
     "name": "stdout",
     "output_type": "stream",
     "text": [
      "tensor(182.0160, grad_fn=<MeanBackward0>)\n"
     ]
    },
    {
     "name": "stderr",
     "output_type": "stream",
     "text": [
      "\n",
      " 68%|██████▊   | 680/1000 [4:57:01<46:18,  8.68s/it]\u001b[A"
     ]
    },
    {
     "name": "stdout",
     "output_type": "stream",
     "text": [
      "tensor(199.0584, grad_fn=<MeanBackward0>)\n",
      "100.0 110.0\n",
      "Saved iteration: 680\n"
     ]
    },
    {
     "name": "stderr",
     "output_type": "stream",
     "text": [
      "\n",
      " 68%|██████▊   | 681/1000 [5:00:38<6:18:17, 71.15s/it]\u001b[A"
     ]
    },
    {
     "name": "stdout",
     "output_type": "stream",
     "text": [
      "tensor(124.5247, grad_fn=<MeanBackward0>)\n"
     ]
    },
    {
     "name": "stderr",
     "output_type": "stream",
     "text": [
      "\n",
      " 68%|██████▊   | 682/1000 [5:00:43<4:32:49, 51.48s/it]\u001b[A"
     ]
    },
    {
     "name": "stdout",
     "output_type": "stream",
     "text": [
      "tensor(95.2135, grad_fn=<MeanBackward0>)\n"
     ]
    },
    {
     "name": "stderr",
     "output_type": "stream",
     "text": [
      "\n",
      " 68%|██████▊   | 683/1000 [5:00:49<3:19:35, 37.78s/it]\u001b[A"
     ]
    },
    {
     "name": "stdout",
     "output_type": "stream",
     "text": [
      "tensor(89.1249, grad_fn=<MeanBackward0>)\n"
     ]
    },
    {
     "name": "stderr",
     "output_type": "stream",
     "text": [
      "\n",
      " 68%|██████▊   | 684/1000 [5:00:55<2:27:58, 28.10s/it]\u001b[A"
     ]
    },
    {
     "name": "stdout",
     "output_type": "stream",
     "text": [
      "tensor(87.3890, grad_fn=<MeanBackward0>)\n"
     ]
    },
    {
     "name": "stderr",
     "output_type": "stream",
     "text": [
      "\n",
      " 68%|██████▊   | 685/1000 [5:01:00<1:52:20, 21.40s/it]\u001b[A"
     ]
    },
    {
     "name": "stdout",
     "output_type": "stream",
     "text": [
      "tensor(73.1205, grad_fn=<MeanBackward0>)\n"
     ]
    },
    {
     "name": "stderr",
     "output_type": "stream",
     "text": [
      "\n",
      " 69%|██████▊   | 686/1000 [5:01:06<1:27:24, 16.70s/it]\u001b[A"
     ]
    },
    {
     "name": "stdout",
     "output_type": "stream",
     "text": [
      "tensor(62.5245, grad_fn=<MeanBackward0>)\n"
     ]
    },
    {
     "name": "stderr",
     "output_type": "stream",
     "text": [
      "\n",
      " 69%|██████▊   | 687/1000 [5:01:12<1:10:26, 13.50s/it]\u001b[A"
     ]
    },
    {
     "name": "stdout",
     "output_type": "stream",
     "text": [
      "tensor(71.6565, grad_fn=<MeanBackward0>)\n"
     ]
    },
    {
     "name": "stderr",
     "output_type": "stream",
     "text": [
      "\n",
      " 69%|██████▉   | 688/1000 [5:01:18<57:46, 11.11s/it]  \u001b[A"
     ]
    },
    {
     "name": "stdout",
     "output_type": "stream",
     "text": [
      "tensor(68.0180, grad_fn=<MeanBackward0>)\n"
     ]
    },
    {
     "name": "stderr",
     "output_type": "stream",
     "text": [
      "\n",
      " 69%|██████▉   | 689/1000 [5:01:24<49:27,  9.54s/it]\u001b[A"
     ]
    },
    {
     "name": "stdout",
     "output_type": "stream",
     "text": [
      "tensor(46.4046, grad_fn=<MeanBackward0>)\n"
     ]
    },
    {
     "name": "stderr",
     "output_type": "stream",
     "text": [
      "\n",
      " 69%|██████▉   | 690/1000 [5:01:29<43:18,  8.38s/it]\u001b[A"
     ]
    },
    {
     "name": "stdout",
     "output_type": "stream",
     "text": [
      "tensor(50.5953, grad_fn=<MeanBackward0>)\n",
      "105.0 110.0\n",
      "Saved iteration: 690\n"
     ]
    },
    {
     "name": "stderr",
     "output_type": "stream",
     "text": [
      "\n",
      " 69%|██████▉   | 691/1000 [5:05:06<6:04:57, 70.86s/it]\u001b[A"
     ]
    },
    {
     "name": "stdout",
     "output_type": "stream",
     "text": [
      "tensor(44.5222, grad_fn=<MeanBackward0>)\n"
     ]
    },
    {
     "name": "stderr",
     "output_type": "stream",
     "text": [
      "\n",
      " 69%|██████▉   | 692/1000 [5:05:12<4:24:15, 51.48s/it]\u001b[A"
     ]
    },
    {
     "name": "stdout",
     "output_type": "stream",
     "text": [
      "tensor(38.5928, grad_fn=<MeanBackward0>)\n"
     ]
    },
    {
     "name": "stderr",
     "output_type": "stream",
     "text": [
      "\n",
      " 69%|██████▉   | 693/1000 [5:05:18<3:13:31, 37.82s/it]\u001b[A"
     ]
    },
    {
     "name": "stdout",
     "output_type": "stream",
     "text": [
      "tensor(44.7078, grad_fn=<MeanBackward0>)\n"
     ]
    },
    {
     "name": "stderr",
     "output_type": "stream",
     "text": [
      "\n",
      " 69%|██████▉   | 694/1000 [5:05:24<2:23:43, 28.18s/it]\u001b[A"
     ]
    },
    {
     "name": "stdout",
     "output_type": "stream",
     "text": [
      "tensor(55.3788, grad_fn=<MeanBackward0>)\n"
     ]
    },
    {
     "name": "stderr",
     "output_type": "stream",
     "text": [
      "\n",
      " 70%|██████▉   | 695/1000 [5:05:30<1:48:57, 21.43s/it]\u001b[A"
     ]
    },
    {
     "name": "stdout",
     "output_type": "stream",
     "text": [
      "tensor(46.9539, grad_fn=<MeanBackward0>)\n"
     ]
    },
    {
     "name": "stderr",
     "output_type": "stream",
     "text": [
      "\n",
      " 70%|██████▉   | 696/1000 [5:05:35<1:24:45, 16.73s/it]\u001b[A"
     ]
    },
    {
     "name": "stdout",
     "output_type": "stream",
     "text": [
      "tensor(24.4000, grad_fn=<MeanBackward0>)\n"
     ]
    },
    {
     "name": "stderr",
     "output_type": "stream",
     "text": [
      "\n",
      " 70%|██████▉   | 697/1000 [5:05:41<1:07:47, 13.42s/it]\u001b[A"
     ]
    },
    {
     "name": "stdout",
     "output_type": "stream",
     "text": [
      "tensor(42.8043, grad_fn=<MeanBackward0>)\n"
     ]
    },
    {
     "name": "stderr",
     "output_type": "stream",
     "text": [
      "\n",
      " 70%|██████▉   | 698/1000 [5:05:47<56:13, 11.17s/it]  \u001b[A"
     ]
    },
    {
     "name": "stdout",
     "output_type": "stream",
     "text": [
      "tensor(23.6115, grad_fn=<MeanBackward0>)\n"
     ]
    },
    {
     "name": "stderr",
     "output_type": "stream",
     "text": [
      "\n",
      " 70%|██████▉   | 699/1000 [5:05:53<47:38,  9.50s/it]\u001b[A"
     ]
    },
    {
     "name": "stdout",
     "output_type": "stream",
     "text": [
      "tensor(38.7848, grad_fn=<MeanBackward0>)\n"
     ]
    },
    {
     "name": "stderr",
     "output_type": "stream",
     "text": [
      "\n",
      " 70%|███████   | 700/1000 [5:05:58<41:49,  8.37s/it]\u001b[A"
     ]
    },
    {
     "name": "stdout",
     "output_type": "stream",
     "text": [
      "tensor(16.7442, grad_fn=<MeanBackward0>)\n",
      "137.0 129.0\n",
      "Saved iteration: 700\n"
     ]
    },
    {
     "name": "stderr",
     "output_type": "stream",
     "text": [
      "\n",
      " 70%|███████   | 701/1000 [5:09:35<5:53:09, 70.87s/it]\u001b[A"
     ]
    },
    {
     "name": "stdout",
     "output_type": "stream",
     "text": [
      "tensor(30.5479, grad_fn=<MeanBackward0>)\n"
     ]
    },
    {
     "name": "stderr",
     "output_type": "stream",
     "text": [
      "\n",
      " 70%|███████   | 702/1000 [5:09:41<4:14:50, 51.31s/it]\u001b[A"
     ]
    },
    {
     "name": "stdout",
     "output_type": "stream",
     "text": [
      "tensor(126.5235, grad_fn=<MeanBackward0>)\n"
     ]
    },
    {
     "name": "stderr",
     "output_type": "stream",
     "text": [
      "\n",
      " 70%|███████   | 703/1000 [5:09:46<3:06:18, 37.64s/it]\u001b[A"
     ]
    },
    {
     "name": "stdout",
     "output_type": "stream",
     "text": [
      "tensor(175.7829, grad_fn=<MeanBackward0>)\n"
     ]
    },
    {
     "name": "stderr",
     "output_type": "stream",
     "text": [
      "\n",
      " 70%|███████   | 704/1000 [5:09:52<2:18:48, 28.14s/it]\u001b[A"
     ]
    },
    {
     "name": "stdout",
     "output_type": "stream",
     "text": [
      "tensor(175.8171, grad_fn=<MeanBackward0>)\n"
     ]
    },
    {
     "name": "stderr",
     "output_type": "stream",
     "text": [
      "\n",
      " 70%|███████   | 705/1000 [5:09:59<1:46:57, 21.75s/it]\u001b[A"
     ]
    },
    {
     "name": "stdout",
     "output_type": "stream",
     "text": [
      "tensor(165.6382, grad_fn=<MeanBackward0>)\n"
     ]
    },
    {
     "name": "stderr",
     "output_type": "stream",
     "text": [
      "\n",
      " 71%|███████   | 706/1000 [5:10:05<1:23:29, 17.04s/it]\u001b[A"
     ]
    },
    {
     "name": "stdout",
     "output_type": "stream",
     "text": [
      "tensor(212.2541, grad_fn=<MeanBackward0>)\n"
     ]
    },
    {
     "name": "stderr",
     "output_type": "stream",
     "text": [
      "\n",
      " 71%|███████   | 707/1000 [5:10:11<1:06:46, 13.67s/it]\u001b[A"
     ]
    },
    {
     "name": "stdout",
     "output_type": "stream",
     "text": [
      "tensor(201.3544, grad_fn=<MeanBackward0>)\n"
     ]
    },
    {
     "name": "stderr",
     "output_type": "stream",
     "text": [
      "\n",
      " 71%|███████   | 708/1000 [5:10:17<55:27, 11.39s/it]  \u001b[A"
     ]
    },
    {
     "name": "stdout",
     "output_type": "stream",
     "text": [
      "tensor(137.1038, grad_fn=<MeanBackward0>)\n"
     ]
    },
    {
     "name": "stderr",
     "output_type": "stream",
     "text": [
      "\n",
      " 71%|███████   | 709/1000 [5:10:23<46:58,  9.69s/it]\u001b[A"
     ]
    },
    {
     "name": "stdout",
     "output_type": "stream",
     "text": [
      "tensor(242.1969, grad_fn=<MeanBackward0>)\n"
     ]
    },
    {
     "name": "stderr",
     "output_type": "stream",
     "text": [
      "\n",
      " 71%|███████   | 710/1000 [5:10:29<41:15,  8.54s/it]\u001b[A"
     ]
    },
    {
     "name": "stdout",
     "output_type": "stream",
     "text": [
      "tensor(154.5894, grad_fn=<MeanBackward0>)\n",
      "101.0 110.0\n",
      "Saved iteration: 710\n"
     ]
    },
    {
     "name": "stderr",
     "output_type": "stream",
     "text": [
      "\n",
      " 71%|███████   | 711/1000 [5:14:06<5:43:15, 71.26s/it]\u001b[A"
     ]
    },
    {
     "name": "stdout",
     "output_type": "stream",
     "text": [
      "tensor(203.3585, grad_fn=<MeanBackward0>)\n"
     ]
    },
    {
     "name": "stderr",
     "output_type": "stream",
     "text": [
      "\n",
      " 71%|███████   | 712/1000 [5:14:12<4:07:56, 51.65s/it]\u001b[A"
     ]
    },
    {
     "name": "stdout",
     "output_type": "stream",
     "text": [
      "tensor(114.0987, grad_fn=<MeanBackward0>)\n"
     ]
    },
    {
     "name": "stderr",
     "output_type": "stream",
     "text": [
      "\n",
      " 71%|███████▏  | 713/1000 [5:14:18<3:01:11, 37.88s/it]\u001b[A"
     ]
    },
    {
     "name": "stdout",
     "output_type": "stream",
     "text": [
      "tensor(122.0828, grad_fn=<MeanBackward0>)\n"
     ]
    },
    {
     "name": "stderr",
     "output_type": "stream",
     "text": [
      "\n",
      " 71%|███████▏  | 714/1000 [5:14:24<2:14:36, 28.24s/it]\u001b[A"
     ]
    },
    {
     "name": "stdout",
     "output_type": "stream",
     "text": [
      "tensor(132.2462, grad_fn=<MeanBackward0>)\n"
     ]
    },
    {
     "name": "stderr",
     "output_type": "stream",
     "text": [
      "\n",
      " 72%|███████▏  | 715/1000 [5:14:30<1:42:11, 21.51s/it]\u001b[A"
     ]
    },
    {
     "name": "stdout",
     "output_type": "stream",
     "text": [
      "tensor(130.8789, grad_fn=<MeanBackward0>)\n"
     ]
    },
    {
     "name": "stderr",
     "output_type": "stream",
     "text": [
      "\n",
      " 72%|███████▏  | 716/1000 [5:14:35<1:19:34, 16.81s/it]\u001b[A"
     ]
    },
    {
     "name": "stdout",
     "output_type": "stream",
     "text": [
      "tensor(117.1470, grad_fn=<MeanBackward0>)\n"
     ]
    },
    {
     "name": "stderr",
     "output_type": "stream",
     "text": [
      "\n",
      " 72%|███████▏  | 717/1000 [5:14:41<1:04:05, 13.59s/it]\u001b[A"
     ]
    },
    {
     "name": "stdout",
     "output_type": "stream",
     "text": [
      "tensor(62.9212, grad_fn=<MeanBackward0>)\n"
     ]
    },
    {
     "name": "stderr",
     "output_type": "stream",
     "text": [
      "\n",
      " 72%|███████▏  | 718/1000 [5:14:47<52:57, 11.27s/it]  \u001b[A"
     ]
    },
    {
     "name": "stdout",
     "output_type": "stream",
     "text": [
      "tensor(89.4762, grad_fn=<MeanBackward0>)\n"
     ]
    },
    {
     "name": "stderr",
     "output_type": "stream",
     "text": [
      "\n",
      " 72%|███████▏  | 719/1000 [5:14:53<45:31,  9.72s/it]\u001b[A"
     ]
    },
    {
     "name": "stdout",
     "output_type": "stream",
     "text": [
      "tensor(82.8189, grad_fn=<MeanBackward0>)\n"
     ]
    },
    {
     "name": "stderr",
     "output_type": "stream",
     "text": [
      "\n",
      " 72%|███████▏  | 720/1000 [5:15:00<40:19,  8.64s/it]\u001b[A"
     ]
    },
    {
     "name": "stdout",
     "output_type": "stream",
     "text": [
      "tensor(77.1817, grad_fn=<MeanBackward0>)\n",
      "105.0 110.0\n",
      "Saved iteration: 720\n"
     ]
    },
    {
     "name": "stderr",
     "output_type": "stream",
     "text": [
      "\n",
      " 72%|███████▏  | 721/1000 [5:18:34<5:27:41, 70.47s/it]\u001b[A"
     ]
    },
    {
     "name": "stdout",
     "output_type": "stream",
     "text": [
      "tensor(59.1896, grad_fn=<MeanBackward0>)\n"
     ]
    },
    {
     "name": "stderr",
     "output_type": "stream",
     "text": [
      "\n",
      " 72%|███████▏  | 722/1000 [5:18:40<3:56:36, 51.07s/it]\u001b[A"
     ]
    },
    {
     "name": "stdout",
     "output_type": "stream",
     "text": [
      "tensor(73.5728, grad_fn=<MeanBackward0>)\n"
     ]
    },
    {
     "name": "stderr",
     "output_type": "stream",
     "text": [
      "\n",
      " 72%|███████▏  | 723/1000 [5:18:46<2:53:03, 37.48s/it]\u001b[A"
     ]
    },
    {
     "name": "stdout",
     "output_type": "stream",
     "text": [
      "tensor(75.4575, grad_fn=<MeanBackward0>)\n"
     ]
    },
    {
     "name": "stderr",
     "output_type": "stream",
     "text": [
      "\n",
      " 72%|███████▏  | 724/1000 [5:18:52<2:08:45, 27.99s/it]\u001b[A"
     ]
    },
    {
     "name": "stdout",
     "output_type": "stream",
     "text": [
      "tensor(48.4357, grad_fn=<MeanBackward0>)\n"
     ]
    },
    {
     "name": "stderr",
     "output_type": "stream",
     "text": [
      "\n",
      " 72%|███████▎  | 725/1000 [5:18:57<1:37:31, 21.28s/it]\u001b[A"
     ]
    },
    {
     "name": "stdout",
     "output_type": "stream",
     "text": [
      "tensor(49.6041, grad_fn=<MeanBackward0>)\n"
     ]
    },
    {
     "name": "stderr",
     "output_type": "stream",
     "text": [
      "\n",
      " 73%|███████▎  | 726/1000 [5:19:03<1:15:40, 16.57s/it]\u001b[A"
     ]
    },
    {
     "name": "stdout",
     "output_type": "stream",
     "text": [
      "tensor(31.3203, grad_fn=<MeanBackward0>)\n"
     ]
    },
    {
     "name": "stderr",
     "output_type": "stream",
     "text": [
      "\n",
      " 73%|███████▎  | 727/1000 [5:19:09<1:01:46, 13.58s/it]\u001b[A"
     ]
    },
    {
     "name": "stdout",
     "output_type": "stream",
     "text": [
      "tensor(21.0170, grad_fn=<MeanBackward0>)\n"
     ]
    },
    {
     "name": "stderr",
     "output_type": "stream",
     "text": [
      "\n",
      " 73%|███████▎  | 728/1000 [5:19:15<50:59, 11.25s/it]  \u001b[A"
     ]
    },
    {
     "name": "stdout",
     "output_type": "stream",
     "text": [
      "tensor(27.1505, grad_fn=<MeanBackward0>)\n"
     ]
    },
    {
     "name": "stderr",
     "output_type": "stream",
     "text": [
      "\n",
      " 73%|███████▎  | 729/1000 [5:19:21<43:37,  9.66s/it]\u001b[A"
     ]
    },
    {
     "name": "stdout",
     "output_type": "stream",
     "text": [
      "tensor(41.5331, grad_fn=<MeanBackward0>)\n"
     ]
    },
    {
     "name": "stderr",
     "output_type": "stream",
     "text": [
      "\n",
      " 73%|███████▎  | 730/1000 [5:19:27<37:57,  8.43s/it]\u001b[A"
     ]
    },
    {
     "name": "stdout",
     "output_type": "stream",
     "text": [
      "tensor(42.9188, grad_fn=<MeanBackward0>)\n",
      "111.0 121.0\n",
      "Saved iteration: 730\n"
     ]
    },
    {
     "name": "stderr",
     "output_type": "stream",
     "text": [
      "\n",
      " 73%|███████▎  | 731/1000 [5:23:03<5:17:48, 70.89s/it]\u001b[A"
     ]
    },
    {
     "name": "stdout",
     "output_type": "stream",
     "text": [
      "tensor(29.5435, grad_fn=<MeanBackward0>)\n"
     ]
    },
    {
     "name": "stderr",
     "output_type": "stream",
     "text": [
      "\n",
      " 73%|███████▎  | 732/1000 [5:23:09<3:49:14, 51.32s/it]\u001b[A"
     ]
    },
    {
     "name": "stdout",
     "output_type": "stream",
     "text": [
      "tensor(70.6942, grad_fn=<MeanBackward0>)\n"
     ]
    },
    {
     "name": "stderr",
     "output_type": "stream",
     "text": [
      "\n",
      " 73%|███████▎  | 733/1000 [5:23:15<2:47:45, 37.70s/it]\u001b[A"
     ]
    },
    {
     "name": "stdout",
     "output_type": "stream",
     "text": [
      "tensor(86.1292, grad_fn=<MeanBackward0>)\n"
     ]
    },
    {
     "name": "stderr",
     "output_type": "stream",
     "text": [
      "\n",
      " 73%|███████▎  | 734/1000 [5:23:21<2:05:02, 28.21s/it]\u001b[A"
     ]
    },
    {
     "name": "stdout",
     "output_type": "stream",
     "text": [
      "tensor(69.2597, grad_fn=<MeanBackward0>)\n"
     ]
    },
    {
     "name": "stderr",
     "output_type": "stream",
     "text": [
      "\n",
      " 74%|███████▎  | 735/1000 [5:23:27<1:35:09, 21.55s/it]\u001b[A"
     ]
    },
    {
     "name": "stdout",
     "output_type": "stream",
     "text": [
      "tensor(47.3432, grad_fn=<MeanBackward0>)\n"
     ]
    },
    {
     "name": "stderr",
     "output_type": "stream",
     "text": [
      "\n",
      " 74%|███████▎  | 736/1000 [5:23:33<1:13:56, 16.81s/it]\u001b[A"
     ]
    },
    {
     "name": "stdout",
     "output_type": "stream",
     "text": [
      "tensor(81.7499, grad_fn=<MeanBackward0>)\n"
     ]
    },
    {
     "name": "stderr",
     "output_type": "stream",
     "text": [
      "\n",
      " 74%|███████▎  | 737/1000 [5:23:38<58:57, 13.45s/it]  \u001b[A"
     ]
    },
    {
     "name": "stdout",
     "output_type": "stream",
     "text": [
      "tensor(44.0942, grad_fn=<MeanBackward0>)\n"
     ]
    },
    {
     "name": "stderr",
     "output_type": "stream",
     "text": [
      "\n",
      " 74%|███████▍  | 738/1000 [5:23:44<48:55, 11.20s/it]\u001b[A"
     ]
    },
    {
     "name": "stdout",
     "output_type": "stream",
     "text": [
      "tensor(61.2525, grad_fn=<MeanBackward0>)\n"
     ]
    },
    {
     "name": "stderr",
     "output_type": "stream",
     "text": [
      "\n",
      " 74%|███████▍  | 739/1000 [5:23:50<41:38,  9.57s/it]\u001b[A"
     ]
    },
    {
     "name": "stdout",
     "output_type": "stream",
     "text": [
      "tensor(67.9901, grad_fn=<MeanBackward0>)\n"
     ]
    },
    {
     "name": "stderr",
     "output_type": "stream",
     "text": [
      "\n",
      " 74%|███████▍  | 740/1000 [5:23:56<36:50,  8.50s/it]\u001b[A"
     ]
    },
    {
     "name": "stdout",
     "output_type": "stream",
     "text": [
      "tensor(68.3251, grad_fn=<MeanBackward0>)\n",
      "105.0 110.0\n",
      "Saved iteration: 740\n"
     ]
    },
    {
     "name": "stderr",
     "output_type": "stream",
     "text": [
      "\n",
      " 74%|███████▍  | 741/1000 [5:27:33<5:06:39, 71.04s/it]\u001b[A"
     ]
    },
    {
     "name": "stdout",
     "output_type": "stream",
     "text": [
      "tensor(28.5537, grad_fn=<MeanBackward0>)\n"
     ]
    },
    {
     "name": "stderr",
     "output_type": "stream",
     "text": [
      "\n",
      " 74%|███████▍  | 742/1000 [5:27:39<3:41:14, 51.45s/it]\u001b[A"
     ]
    },
    {
     "name": "stdout",
     "output_type": "stream",
     "text": [
      "tensor(47.9860, grad_fn=<MeanBackward0>)\n"
     ]
    },
    {
     "name": "stderr",
     "output_type": "stream",
     "text": [
      "\n",
      " 74%|███████▍  | 743/1000 [5:27:45<2:41:40, 37.74s/it]\u001b[A"
     ]
    },
    {
     "name": "stdout",
     "output_type": "stream",
     "text": [
      "tensor(67.6290, grad_fn=<MeanBackward0>)\n"
     ]
    },
    {
     "name": "stderr",
     "output_type": "stream",
     "text": [
      "\n",
      " 74%|███████▍  | 744/1000 [5:27:50<1:59:57, 28.12s/it]\u001b[A"
     ]
    },
    {
     "name": "stdout",
     "output_type": "stream",
     "text": [
      "tensor(45.1376, grad_fn=<MeanBackward0>)\n"
     ]
    },
    {
     "name": "stderr",
     "output_type": "stream",
     "text": [
      "\n",
      " 74%|███████▍  | 745/1000 [5:27:56<1:31:15, 21.47s/it]\u001b[A"
     ]
    },
    {
     "name": "stdout",
     "output_type": "stream",
     "text": [
      "tensor(54.7188, grad_fn=<MeanBackward0>)\n"
     ]
    },
    {
     "name": "stderr",
     "output_type": "stream",
     "text": [
      "\n",
      " 75%|███████▍  | 746/1000 [5:28:02<1:10:48, 16.72s/it]\u001b[A"
     ]
    },
    {
     "name": "stdout",
     "output_type": "stream",
     "text": [
      "tensor(24.1413, grad_fn=<MeanBackward0>)\n"
     ]
    },
    {
     "name": "stderr",
     "output_type": "stream",
     "text": [
      "\n",
      " 75%|███████▍  | 747/1000 [5:28:07<56:16, 13.35s/it]  \u001b[A"
     ]
    },
    {
     "name": "stdout",
     "output_type": "stream",
     "text": [
      "tensor(28.5609, grad_fn=<MeanBackward0>)\n"
     ]
    },
    {
     "name": "stderr",
     "output_type": "stream",
     "text": [
      "\n",
      " 75%|███████▍  | 748/1000 [5:28:13<46:23, 11.04s/it]\u001b[A"
     ]
    },
    {
     "name": "stdout",
     "output_type": "stream",
     "text": [
      "tensor(36.4180, grad_fn=<MeanBackward0>)\n"
     ]
    },
    {
     "name": "stderr",
     "output_type": "stream",
     "text": [
      "\n",
      " 75%|███████▍  | 749/1000 [5:28:19<40:10,  9.60s/it]\u001b[A"
     ]
    },
    {
     "name": "stdout",
     "output_type": "stream",
     "text": [
      "tensor(32.8560, grad_fn=<MeanBackward0>)\n"
     ]
    },
    {
     "name": "stderr",
     "output_type": "stream",
     "text": [
      "\n",
      " 75%|███████▌  | 750/1000 [5:28:25<35:06,  8.42s/it]\u001b[A"
     ]
    },
    {
     "name": "stdout",
     "output_type": "stream",
     "text": [
      "tensor(26.1154, grad_fn=<MeanBackward0>)\n",
      "116.0 128.0\n",
      "Saved iteration: 750\n"
     ]
    },
    {
     "name": "stderr",
     "output_type": "stream",
     "text": [
      "\n",
      " 75%|███████▌  | 751/1000 [5:32:01<4:53:15, 70.66s/it]\u001b[A"
     ]
    },
    {
     "name": "stdout",
     "output_type": "stream",
     "text": [
      "tensor(28.3671, grad_fn=<MeanBackward0>)\n"
     ]
    },
    {
     "name": "stderr",
     "output_type": "stream",
     "text": [
      "\n",
      " 75%|███████▌  | 752/1000 [5:32:06<3:31:21, 51.14s/it]\u001b[A"
     ]
    },
    {
     "name": "stdout",
     "output_type": "stream",
     "text": [
      "tensor(197.4279, grad_fn=<MeanBackward0>)\n"
     ]
    },
    {
     "name": "stderr",
     "output_type": "stream",
     "text": [
      "\n",
      " 75%|███████▌  | 753/1000 [5:32:12<2:34:25, 37.51s/it]\u001b[A"
     ]
    },
    {
     "name": "stdout",
     "output_type": "stream",
     "text": [
      "tensor(112.5596, grad_fn=<MeanBackward0>)\n"
     ]
    },
    {
     "name": "stderr",
     "output_type": "stream",
     "text": [
      "\n",
      " 75%|███████▌  | 754/1000 [5:32:18<1:54:46, 27.99s/it]\u001b[A"
     ]
    },
    {
     "name": "stdout",
     "output_type": "stream",
     "text": [
      "tensor(182.4366, grad_fn=<MeanBackward0>)\n"
     ]
    },
    {
     "name": "stderr",
     "output_type": "stream",
     "text": [
      "\n",
      " 76%|███████▌  | 755/1000 [5:32:24<1:27:03, 21.32s/it]\u001b[A"
     ]
    },
    {
     "name": "stdout",
     "output_type": "stream",
     "text": [
      "tensor(160.2595, grad_fn=<MeanBackward0>)\n"
     ]
    },
    {
     "name": "stderr",
     "output_type": "stream",
     "text": [
      "\n",
      " 76%|███████▌  | 756/1000 [5:32:30<1:08:06, 16.75s/it]\u001b[A"
     ]
    },
    {
     "name": "stdout",
     "output_type": "stream",
     "text": [
      "tensor(168.5578, grad_fn=<MeanBackward0>)\n"
     ]
    },
    {
     "name": "stderr",
     "output_type": "stream",
     "text": [
      "\n",
      " 76%|███████▌  | 757/1000 [5:32:35<54:10, 13.37s/it]  \u001b[A"
     ]
    },
    {
     "name": "stdout",
     "output_type": "stream",
     "text": [
      "tensor(119.1640, grad_fn=<MeanBackward0>)\n"
     ]
    },
    {
     "name": "stderr",
     "output_type": "stream",
     "text": [
      "\n",
      " 76%|███████▌  | 758/1000 [5:32:41<45:00, 11.16s/it]\u001b[A"
     ]
    },
    {
     "name": "stdout",
     "output_type": "stream",
     "text": [
      "tensor(124.4097, grad_fn=<MeanBackward0>)\n"
     ]
    },
    {
     "name": "stderr",
     "output_type": "stream",
     "text": [
      "\n",
      " 76%|███████▌  | 759/1000 [5:32:47<38:30,  9.59s/it]\u001b[A"
     ]
    },
    {
     "name": "stdout",
     "output_type": "stream",
     "text": [
      "tensor(88.8487, grad_fn=<MeanBackward0>)\n"
     ]
    },
    {
     "name": "stderr",
     "output_type": "stream",
     "text": [
      "\n",
      " 76%|███████▌  | 760/1000 [5:32:54<34:54,  8.73s/it]\u001b[A"
     ]
    },
    {
     "name": "stdout",
     "output_type": "stream",
     "text": [
      "tensor(178.6732, grad_fn=<MeanBackward0>)\n",
      "101.0 110.0\n",
      "Saved iteration: 760\n"
     ]
    },
    {
     "name": "stderr",
     "output_type": "stream",
     "text": [
      "\n",
      " 76%|███████▌  | 761/1000 [5:36:31<4:43:36, 71.20s/it]\u001b[A"
     ]
    },
    {
     "name": "stdout",
     "output_type": "stream",
     "text": [
      "tensor(114.0935, grad_fn=<MeanBackward0>)\n"
     ]
    },
    {
     "name": "stderr",
     "output_type": "stream",
     "text": [
      "\n",
      " 76%|███████▌  | 762/1000 [5:36:37<3:24:30, 51.56s/it]\u001b[A"
     ]
    },
    {
     "name": "stdout",
     "output_type": "stream",
     "text": [
      "tensor(84.7463, grad_fn=<MeanBackward0>)\n"
     ]
    },
    {
     "name": "stderr",
     "output_type": "stream",
     "text": [
      "\n",
      " 76%|███████▋  | 763/1000 [5:36:43<2:29:36, 37.88s/it]\u001b[A"
     ]
    },
    {
     "name": "stdout",
     "output_type": "stream",
     "text": [
      "tensor(39.8473, grad_fn=<MeanBackward0>)\n"
     ]
    },
    {
     "name": "stderr",
     "output_type": "stream",
     "text": [
      "\n",
      " 76%|███████▋  | 764/1000 [5:36:48<1:50:52, 28.19s/it]\u001b[A"
     ]
    },
    {
     "name": "stdout",
     "output_type": "stream",
     "text": [
      "tensor(76.6736, grad_fn=<MeanBackward0>)\n"
     ]
    },
    {
     "name": "stderr",
     "output_type": "stream",
     "text": [
      "\n",
      " 76%|███████▋  | 765/1000 [5:36:54<1:24:07, 21.48s/it]\u001b[A"
     ]
    },
    {
     "name": "stdout",
     "output_type": "stream",
     "text": [
      "tensor(59.5747, grad_fn=<MeanBackward0>)\n"
     ]
    },
    {
     "name": "stderr",
     "output_type": "stream",
     "text": [
      "\n",
      " 77%|███████▋  | 766/1000 [5:37:00<1:05:19, 16.75s/it]\u001b[A"
     ]
    },
    {
     "name": "stdout",
     "output_type": "stream",
     "text": [
      "tensor(44.0542, grad_fn=<MeanBackward0>)\n"
     ]
    },
    {
     "name": "stderr",
     "output_type": "stream",
     "text": [
      "\n",
      " 77%|███████▋  | 767/1000 [5:37:06<52:47, 13.59s/it]  \u001b[A"
     ]
    },
    {
     "name": "stdout",
     "output_type": "stream",
     "text": [
      "tensor(47.2394, grad_fn=<MeanBackward0>)\n"
     ]
    },
    {
     "name": "stderr",
     "output_type": "stream",
     "text": [
      "\n",
      " 77%|███████▋  | 768/1000 [5:37:11<43:15, 11.19s/it]\u001b[A"
     ]
    },
    {
     "name": "stdout",
     "output_type": "stream",
     "text": [
      "tensor(37.2069, grad_fn=<MeanBackward0>)\n"
     ]
    },
    {
     "name": "stderr",
     "output_type": "stream",
     "text": [
      "\n",
      " 77%|███████▋  | 769/1000 [5:37:17<36:39,  9.52s/it]\u001b[A"
     ]
    },
    {
     "name": "stdout",
     "output_type": "stream",
     "text": [
      "tensor(47.5623, grad_fn=<MeanBackward0>)\n"
     ]
    },
    {
     "name": "stderr",
     "output_type": "stream",
     "text": [
      "\n",
      " 77%|███████▋  | 770/1000 [5:37:23<32:01,  8.35s/it]\u001b[A"
     ]
    },
    {
     "name": "stdout",
     "output_type": "stream",
     "text": [
      "tensor(36.8959, grad_fn=<MeanBackward0>)\n",
      "107.0 113.0\n",
      "Saved iteration: 770\n"
     ]
    },
    {
     "name": "stderr",
     "output_type": "stream",
     "text": [
      "\n",
      " 77%|███████▋  | 771/1000 [5:40:58<4:29:16, 70.55s/it]\u001b[A"
     ]
    },
    {
     "name": "stdout",
     "output_type": "stream",
     "text": [
      "tensor(45.4390, grad_fn=<MeanBackward0>)\n"
     ]
    },
    {
     "name": "stderr",
     "output_type": "stream",
     "text": [
      "\n",
      " 77%|███████▋  | 772/1000 [5:41:05<3:14:54, 51.29s/it]\u001b[A"
     ]
    },
    {
     "name": "stdout",
     "output_type": "stream",
     "text": [
      "tensor(70.0512, grad_fn=<MeanBackward0>)\n"
     ]
    },
    {
     "name": "stderr",
     "output_type": "stream",
     "text": [
      "\n",
      " 77%|███████▋  | 773/1000 [5:41:10<2:22:14, 37.60s/it]\u001b[A"
     ]
    },
    {
     "name": "stdout",
     "output_type": "stream",
     "text": [
      "tensor(54.3331, grad_fn=<MeanBackward0>)\n"
     ]
    },
    {
     "name": "stderr",
     "output_type": "stream",
     "text": [
      "\n",
      " 77%|███████▋  | 774/1000 [5:41:17<1:46:27, 28.26s/it]\u001b[A"
     ]
    },
    {
     "name": "stdout",
     "output_type": "stream",
     "text": [
      "tensor(89.6240, grad_fn=<MeanBackward0>)\n"
     ]
    },
    {
     "name": "stderr",
     "output_type": "stream",
     "text": [
      "\n",
      " 78%|███████▊  | 775/1000 [5:41:23<1:20:32, 21.48s/it]\u001b[A"
     ]
    },
    {
     "name": "stdout",
     "output_type": "stream",
     "text": [
      "tensor(63.6461, grad_fn=<MeanBackward0>)\n"
     ]
    },
    {
     "name": "stderr",
     "output_type": "stream",
     "text": [
      "\n",
      " 78%|███████▊  | 776/1000 [5:41:28<1:02:36, 16.77s/it]\u001b[A"
     ]
    },
    {
     "name": "stdout",
     "output_type": "stream",
     "text": [
      "tensor(45.2413, grad_fn=<MeanBackward0>)\n"
     ]
    },
    {
     "name": "stderr",
     "output_type": "stream",
     "text": [
      "\n",
      " 78%|███████▊  | 777/1000 [5:41:34<49:57, 13.44s/it]  \u001b[A"
     ]
    },
    {
     "name": "stdout",
     "output_type": "stream",
     "text": [
      "tensor(88.7069, grad_fn=<MeanBackward0>)\n"
     ]
    },
    {
     "name": "stderr",
     "output_type": "stream",
     "text": [
      "\n",
      " 78%|███████▊  | 778/1000 [5:41:40<41:12, 11.14s/it]\u001b[A"
     ]
    },
    {
     "name": "stdout",
     "output_type": "stream",
     "text": [
      "tensor(43.6403, grad_fn=<MeanBackward0>)\n"
     ]
    },
    {
     "name": "stderr",
     "output_type": "stream",
     "text": [
      "\n",
      " 78%|███████▊  | 779/1000 [5:41:45<34:52,  9.47s/it]\u001b[A"
     ]
    },
    {
     "name": "stdout",
     "output_type": "stream",
     "text": [
      "tensor(53.5583, grad_fn=<MeanBackward0>)\n"
     ]
    },
    {
     "name": "stderr",
     "output_type": "stream",
     "text": [
      "\n",
      " 78%|███████▊  | 780/1000 [5:41:51<30:38,  8.36s/it]\u001b[A"
     ]
    },
    {
     "name": "stdout",
     "output_type": "stream",
     "text": [
      "tensor(49.1690, grad_fn=<MeanBackward0>)\n",
      "105.0 112.0\n",
      "Saved iteration: 780\n"
     ]
    },
    {
     "name": "stderr",
     "output_type": "stream",
     "text": [
      "\n",
      " 78%|███████▊  | 781/1000 [5:45:27<4:17:57, 70.67s/it]\u001b[A"
     ]
    },
    {
     "name": "stdout",
     "output_type": "stream",
     "text": [
      "tensor(33.8260, grad_fn=<MeanBackward0>)\n"
     ]
    },
    {
     "name": "stderr",
     "output_type": "stream",
     "text": [
      "\n",
      " 78%|███████▊  | 782/1000 [5:45:34<3:06:50, 51.43s/it]\u001b[A"
     ]
    },
    {
     "name": "stdout",
     "output_type": "stream",
     "text": [
      "tensor(87.9901, grad_fn=<MeanBackward0>)\n"
     ]
    },
    {
     "name": "stderr",
     "output_type": "stream",
     "text": [
      "\n",
      " 78%|███████▊  | 783/1000 [5:45:39<2:16:27, 37.73s/it]\u001b[A"
     ]
    },
    {
     "name": "stdout",
     "output_type": "stream",
     "text": [
      "tensor(84.0512, grad_fn=<MeanBackward0>)\n"
     ]
    },
    {
     "name": "stderr",
     "output_type": "stream",
     "text": [
      "\n",
      " 78%|███████▊  | 784/1000 [5:45:45<1:41:03, 28.07s/it]\u001b[A"
     ]
    },
    {
     "name": "stdout",
     "output_type": "stream",
     "text": [
      "tensor(81.6147, grad_fn=<MeanBackward0>)\n"
     ]
    },
    {
     "name": "stderr",
     "output_type": "stream",
     "text": [
      "\n",
      " 78%|███████▊  | 785/1000 [5:45:51<1:16:49, 21.44s/it]\u001b[A"
     ]
    },
    {
     "name": "stdout",
     "output_type": "stream",
     "text": [
      "tensor(55.7108, grad_fn=<MeanBackward0>)\n"
     ]
    },
    {
     "name": "stderr",
     "output_type": "stream",
     "text": [
      "\n",
      " 79%|███████▊  | 786/1000 [5:45:57<1:00:04, 16.84s/it]\u001b[A"
     ]
    },
    {
     "name": "stdout",
     "output_type": "stream",
     "text": [
      "tensor(72.8975, grad_fn=<MeanBackward0>)\n"
     ]
    },
    {
     "name": "stderr",
     "output_type": "stream",
     "text": [
      "\n",
      " 79%|███████▊  | 787/1000 [5:46:03<48:04, 13.54s/it]  \u001b[A"
     ]
    },
    {
     "name": "stdout",
     "output_type": "stream",
     "text": [
      "tensor(49.7653, grad_fn=<MeanBackward0>)\n"
     ]
    },
    {
     "name": "stderr",
     "output_type": "stream",
     "text": [
      "\n",
      " 79%|███████▉  | 788/1000 [5:46:09<39:30, 11.18s/it]\u001b[A"
     ]
    },
    {
     "name": "stdout",
     "output_type": "stream",
     "text": [
      "tensor(63.3012, grad_fn=<MeanBackward0>)\n"
     ]
    },
    {
     "name": "stderr",
     "output_type": "stream",
     "text": [
      "\n",
      " 79%|███████▉  | 789/1000 [5:46:14<33:31,  9.53s/it]\u001b[A"
     ]
    },
    {
     "name": "stdout",
     "output_type": "stream",
     "text": [
      "tensor(50.3231, grad_fn=<MeanBackward0>)\n"
     ]
    },
    {
     "name": "stderr",
     "output_type": "stream",
     "text": [
      "\n",
      " 79%|███████▉  | 790/1000 [5:46:20<29:46,  8.51s/it]\u001b[A"
     ]
    },
    {
     "name": "stdout",
     "output_type": "stream",
     "text": [
      "tensor(47.2330, grad_fn=<MeanBackward0>)\n",
      "104.0 111.0\n",
      "Saved iteration: 790\n"
     ]
    },
    {
     "name": "stderr",
     "output_type": "stream",
     "text": [
      "\n",
      " 79%|███████▉  | 791/1000 [5:49:58<4:07:43, 71.12s/it]\u001b[A"
     ]
    },
    {
     "name": "stdout",
     "output_type": "stream",
     "text": [
      "tensor(38.1938, grad_fn=<MeanBackward0>)\n"
     ]
    },
    {
     "name": "stderr",
     "output_type": "stream",
     "text": [
      "\n",
      " 79%|███████▉  | 792/1000 [5:50:04<2:59:10, 51.68s/it]\u001b[A"
     ]
    },
    {
     "name": "stdout",
     "output_type": "stream",
     "text": [
      "tensor(86.9414, grad_fn=<MeanBackward0>)\n"
     ]
    },
    {
     "name": "stderr",
     "output_type": "stream",
     "text": [
      "\n",
      " 79%|███████▉  | 793/1000 [5:50:10<2:10:46, 37.90s/it]\u001b[A"
     ]
    },
    {
     "name": "stdout",
     "output_type": "stream",
     "text": [
      "tensor(90.4250, grad_fn=<MeanBackward0>)\n"
     ]
    },
    {
     "name": "stderr",
     "output_type": "stream",
     "text": [
      "\n",
      " 79%|███████▉  | 794/1000 [5:50:16<1:37:16, 28.33s/it]\u001b[A"
     ]
    },
    {
     "name": "stdout",
     "output_type": "stream",
     "text": [
      "tensor(67.2238, grad_fn=<MeanBackward0>)\n"
     ]
    },
    {
     "name": "stderr",
     "output_type": "stream",
     "text": [
      "\n",
      " 80%|███████▉  | 795/1000 [5:50:21<1:13:29, 21.51s/it]\u001b[A"
     ]
    },
    {
     "name": "stdout",
     "output_type": "stream",
     "text": [
      "tensor(75.6889, grad_fn=<MeanBackward0>)\n"
     ]
    },
    {
     "name": "stderr",
     "output_type": "stream",
     "text": [
      "\n",
      " 80%|███████▉  | 796/1000 [5:50:27<57:17, 16.85s/it]  \u001b[A"
     ]
    },
    {
     "name": "stdout",
     "output_type": "stream",
     "text": [
      "tensor(66.4998, grad_fn=<MeanBackward0>)\n"
     ]
    },
    {
     "name": "stderr",
     "output_type": "stream",
     "text": [
      "\n",
      " 80%|███████▉  | 797/1000 [5:50:33<45:46, 13.53s/it]\u001b[A"
     ]
    },
    {
     "name": "stdout",
     "output_type": "stream",
     "text": [
      "tensor(52.5944, grad_fn=<MeanBackward0>)\n"
     ]
    },
    {
     "name": "stderr",
     "output_type": "stream",
     "text": [
      "\n",
      " 80%|███████▉  | 798/1000 [5:50:39<37:35, 11.16s/it]\u001b[A"
     ]
    },
    {
     "name": "stdout",
     "output_type": "stream",
     "text": [
      "tensor(37.3718, grad_fn=<MeanBackward0>)\n"
     ]
    },
    {
     "name": "stderr",
     "output_type": "stream",
     "text": [
      "\n",
      " 80%|███████▉  | 799/1000 [5:50:44<31:46,  9.49s/it]\u001b[A"
     ]
    },
    {
     "name": "stdout",
     "output_type": "stream",
     "text": [
      "tensor(64.9307, grad_fn=<MeanBackward0>)\n"
     ]
    },
    {
     "name": "stderr",
     "output_type": "stream",
     "text": [
      "\n",
      " 80%|████████  | 800/1000 [5:50:50<27:56,  8.38s/it]\u001b[A"
     ]
    },
    {
     "name": "stdout",
     "output_type": "stream",
     "text": [
      "tensor(83.5058, grad_fn=<MeanBackward0>)\n",
      "103.0 110.0\n",
      "Saved iteration: 800\n"
     ]
    },
    {
     "name": "stderr",
     "output_type": "stream",
     "text": [
      "\n",
      " 80%|████████  | 801/1000 [5:54:26<3:53:57, 70.54s/it]\u001b[A"
     ]
    },
    {
     "name": "stdout",
     "output_type": "stream",
     "text": [
      "tensor(68.2489, grad_fn=<MeanBackward0>)\n"
     ]
    },
    {
     "name": "stderr",
     "output_type": "stream",
     "text": [
      "\n",
      " 80%|████████  | 802/1000 [5:54:31<2:48:32, 51.08s/it]\u001b[A"
     ]
    },
    {
     "name": "stdout",
     "output_type": "stream",
     "text": [
      "tensor(49.3971, grad_fn=<MeanBackward0>)\n"
     ]
    },
    {
     "name": "stderr",
     "output_type": "stream",
     "text": [
      "\n",
      " 80%|████████  | 803/1000 [5:54:38<2:03:33, 37.63s/it]\u001b[A"
     ]
    },
    {
     "name": "stdout",
     "output_type": "stream",
     "text": [
      "tensor(74.3952, grad_fn=<MeanBackward0>)\n"
     ]
    },
    {
     "name": "stderr",
     "output_type": "stream",
     "text": [
      "\n",
      " 80%|████████  | 804/1000 [5:54:43<1:31:37, 28.05s/it]\u001b[A"
     ]
    },
    {
     "name": "stdout",
     "output_type": "stream",
     "text": [
      "tensor(51.1617, grad_fn=<MeanBackward0>)\n"
     ]
    },
    {
     "name": "stderr",
     "output_type": "stream",
     "text": [
      "\n",
      " 80%|████████  | 805/1000 [5:54:49<1:09:11, 21.29s/it]\u001b[A"
     ]
    },
    {
     "name": "stdout",
     "output_type": "stream",
     "text": [
      "tensor(79.6876, grad_fn=<MeanBackward0>)\n"
     ]
    },
    {
     "name": "stderr",
     "output_type": "stream",
     "text": [
      "\n",
      " 81%|████████  | 806/1000 [5:54:54<53:39, 16.60s/it]  \u001b[A"
     ]
    },
    {
     "name": "stdout",
     "output_type": "stream",
     "text": [
      "tensor(26.8401, grad_fn=<MeanBackward0>)\n"
     ]
    },
    {
     "name": "stderr",
     "output_type": "stream",
     "text": [
      "\n",
      " 81%|████████  | 807/1000 [5:55:01<43:27, 13.51s/it]\u001b[A"
     ]
    },
    {
     "name": "stdout",
     "output_type": "stream",
     "text": [
      "tensor(66.8661, grad_fn=<MeanBackward0>)\n"
     ]
    },
    {
     "name": "stderr",
     "output_type": "stream",
     "text": [
      "\n",
      " 81%|████████  | 808/1000 [5:55:07<36:03, 11.27s/it]\u001b[A"
     ]
    },
    {
     "name": "stdout",
     "output_type": "stream",
     "text": [
      "tensor(61.6228, grad_fn=<MeanBackward0>)\n"
     ]
    },
    {
     "name": "stderr",
     "output_type": "stream",
     "text": [
      "\n",
      " 81%|████████  | 809/1000 [5:55:12<30:28,  9.58s/it]\u001b[A"
     ]
    },
    {
     "name": "stdout",
     "output_type": "stream",
     "text": [
      "tensor(41.7568, grad_fn=<MeanBackward0>)\n"
     ]
    },
    {
     "name": "stderr",
     "output_type": "stream",
     "text": [
      "\n",
      " 81%|████████  | 810/1000 [5:55:18<26:54,  8.50s/it]\u001b[A"
     ]
    },
    {
     "name": "stdout",
     "output_type": "stream",
     "text": [
      "tensor(60.0415, grad_fn=<MeanBackward0>)\n",
      "102.0 110.0\n",
      "Saved iteration: 810\n"
     ]
    },
    {
     "name": "stderr",
     "output_type": "stream",
     "text": [
      "\n",
      " 81%|████████  | 811/1000 [5:58:55<3:43:47, 71.05s/it]\u001b[A"
     ]
    },
    {
     "name": "stdout",
     "output_type": "stream",
     "text": [
      "tensor(51.9582, grad_fn=<MeanBackward0>)\n"
     ]
    },
    {
     "name": "stderr",
     "output_type": "stream",
     "text": [
      "\n",
      " 81%|████████  | 812/1000 [5:59:01<2:41:11, 51.44s/it]\u001b[A"
     ]
    },
    {
     "name": "stdout",
     "output_type": "stream",
     "text": [
      "tensor(108.3893, grad_fn=<MeanBackward0>)\n"
     ]
    },
    {
     "name": "stderr",
     "output_type": "stream",
     "text": [
      "\n",
      " 81%|████████▏ | 813/1000 [5:59:07<1:57:30, 37.70s/it]\u001b[A"
     ]
    },
    {
     "name": "stdout",
     "output_type": "stream",
     "text": [
      "tensor(52.9024, grad_fn=<MeanBackward0>)\n"
     ]
    },
    {
     "name": "stderr",
     "output_type": "stream",
     "text": [
      "\n",
      " 81%|████████▏ | 814/1000 [5:59:12<1:27:05, 28.09s/it]\u001b[A"
     ]
    },
    {
     "name": "stdout",
     "output_type": "stream",
     "text": [
      "tensor(58.5383, grad_fn=<MeanBackward0>)\n"
     ]
    },
    {
     "name": "stderr",
     "output_type": "stream",
     "text": [
      "\n",
      " 82%|████████▏ | 815/1000 [5:59:19<1:06:20, 21.52s/it]\u001b[A"
     ]
    },
    {
     "name": "stdout",
     "output_type": "stream",
     "text": [
      "tensor(53.6241, grad_fn=<MeanBackward0>)\n"
     ]
    },
    {
     "name": "stderr",
     "output_type": "stream",
     "text": [
      "\n",
      " 82%|████████▏ | 816/1000 [5:59:24<51:15, 16.72s/it]  \u001b[A"
     ]
    },
    {
     "name": "stdout",
     "output_type": "stream",
     "text": [
      "tensor(70.8719, grad_fn=<MeanBackward0>)\n"
     ]
    },
    {
     "name": "stderr",
     "output_type": "stream",
     "text": [
      "\n",
      " 82%|████████▏ | 817/1000 [5:59:30<40:51, 13.40s/it]\u001b[A"
     ]
    },
    {
     "name": "stdout",
     "output_type": "stream",
     "text": [
      "tensor(70.7428, grad_fn=<MeanBackward0>)\n"
     ]
    },
    {
     "name": "stderr",
     "output_type": "stream",
     "text": [
      "\n",
      " 82%|████████▏ | 818/1000 [5:59:35<33:35, 11.08s/it]\u001b[A"
     ]
    },
    {
     "name": "stdout",
     "output_type": "stream",
     "text": [
      "tensor(77.3954, grad_fn=<MeanBackward0>)\n"
     ]
    },
    {
     "name": "stderr",
     "output_type": "stream",
     "text": [
      "\n",
      " 82%|████████▏ | 819/1000 [5:59:41<28:52,  9.57s/it]\u001b[A"
     ]
    },
    {
     "name": "stdout",
     "output_type": "stream",
     "text": [
      "tensor(53.4012, grad_fn=<MeanBackward0>)\n"
     ]
    },
    {
     "name": "stderr",
     "output_type": "stream",
     "text": [
      "\n",
      " 82%|████████▏ | 820/1000 [5:59:47<25:03,  8.35s/it]\u001b[A"
     ]
    },
    {
     "name": "stdout",
     "output_type": "stream",
     "text": [
      "tensor(54.2247, grad_fn=<MeanBackward0>)\n",
      "104.0 110.0\n",
      "Saved iteration: 820\n"
     ]
    },
    {
     "name": "stderr",
     "output_type": "stream",
     "text": [
      "\n",
      " 82%|████████▏ | 821/1000 [6:03:22<3:30:20, 70.50s/it]\u001b[A"
     ]
    },
    {
     "name": "stdout",
     "output_type": "stream",
     "text": [
      "tensor(50.9096, grad_fn=<MeanBackward0>)\n"
     ]
    },
    {
     "name": "stderr",
     "output_type": "stream",
     "text": [
      "\n",
      " 82%|████████▏ | 822/1000 [6:03:28<2:31:35, 51.10s/it]\u001b[A"
     ]
    },
    {
     "name": "stdout",
     "output_type": "stream",
     "text": [
      "tensor(144.9843, grad_fn=<MeanBackward0>)\n"
     ]
    },
    {
     "name": "stderr",
     "output_type": "stream",
     "text": [
      "\n",
      " 82%|████████▏ | 823/1000 [6:03:34<1:50:40, 37.52s/it]\u001b[A"
     ]
    },
    {
     "name": "stdout",
     "output_type": "stream",
     "text": [
      "tensor(69.6691, grad_fn=<MeanBackward0>)\n"
     ]
    },
    {
     "name": "stderr",
     "output_type": "stream",
     "text": [
      "\n",
      " 82%|████████▏ | 824/1000 [6:03:40<1:22:16, 28.05s/it]\u001b[A"
     ]
    },
    {
     "name": "stdout",
     "output_type": "stream",
     "text": [
      "tensor(68.0179, grad_fn=<MeanBackward0>)\n"
     ]
    },
    {
     "name": "stderr",
     "output_type": "stream",
     "text": [
      "\n",
      " 82%|████████▎ | 825/1000 [6:03:46<1:02:36, 21.47s/it]\u001b[A"
     ]
    },
    {
     "name": "stdout",
     "output_type": "stream",
     "text": [
      "tensor(79.5166, grad_fn=<MeanBackward0>)\n"
     ]
    },
    {
     "name": "stderr",
     "output_type": "stream",
     "text": [
      "\n",
      " 83%|████████▎ | 826/1000 [6:03:52<48:42, 16.80s/it]  \u001b[A"
     ]
    },
    {
     "name": "stdout",
     "output_type": "stream",
     "text": [
      "tensor(69.7026, grad_fn=<MeanBackward0>)\n"
     ]
    },
    {
     "name": "stderr",
     "output_type": "stream",
     "text": [
      "\n",
      " 83%|████████▎ | 827/1000 [6:03:58<39:01, 13.54s/it]\u001b[A"
     ]
    },
    {
     "name": "stdout",
     "output_type": "stream",
     "text": [
      "tensor(88.2261, grad_fn=<MeanBackward0>)\n"
     ]
    },
    {
     "name": "stderr",
     "output_type": "stream",
     "text": [
      "\n",
      " 83%|████████▎ | 828/1000 [6:04:04<32:17, 11.27s/it]\u001b[A"
     ]
    },
    {
     "name": "stdout",
     "output_type": "stream",
     "text": [
      "tensor(49.8132, grad_fn=<MeanBackward0>)\n"
     ]
    },
    {
     "name": "stderr",
     "output_type": "stream",
     "text": [
      "\n",
      " 83%|████████▎ | 829/1000 [6:04:10<27:26,  9.63s/it]\u001b[A"
     ]
    },
    {
     "name": "stdout",
     "output_type": "stream",
     "text": [
      "tensor(95.3681, grad_fn=<MeanBackward0>)\n"
     ]
    },
    {
     "name": "stderr",
     "output_type": "stream",
     "text": [
      "\n",
      " 83%|████████▎ | 830/1000 [6:04:15<23:54,  8.44s/it]\u001b[A"
     ]
    },
    {
     "name": "stdout",
     "output_type": "stream",
     "text": [
      "tensor(84.3034, grad_fn=<MeanBackward0>)\n",
      "102.0 110.0\n",
      "Saved iteration: 830\n"
     ]
    },
    {
     "name": "stderr",
     "output_type": "stream",
     "text": [
      "\n",
      " 83%|████████▎ | 831/1000 [6:07:51<3:19:01, 70.66s/it]\u001b[A"
     ]
    },
    {
     "name": "stdout",
     "output_type": "stream",
     "text": [
      "tensor(85.9752, grad_fn=<MeanBackward0>)\n"
     ]
    },
    {
     "name": "stderr",
     "output_type": "stream",
     "text": [
      "\n",
      " 83%|████████▎ | 832/1000 [6:07:57<2:23:18, 51.18s/it]\u001b[A"
     ]
    },
    {
     "name": "stdout",
     "output_type": "stream",
     "text": [
      "tensor(70.0401, grad_fn=<MeanBackward0>)\n"
     ]
    },
    {
     "name": "stderr",
     "output_type": "stream",
     "text": [
      "\n",
      " 83%|████████▎ | 833/1000 [6:08:03<1:44:56, 37.70s/it]\u001b[A"
     ]
    },
    {
     "name": "stdout",
     "output_type": "stream",
     "text": [
      "tensor(45.4535, grad_fn=<MeanBackward0>)\n"
     ]
    },
    {
     "name": "stderr",
     "output_type": "stream",
     "text": [
      "\n",
      " 83%|████████▎ | 834/1000 [6:08:09<1:17:47, 28.12s/it]\u001b[A"
     ]
    },
    {
     "name": "stdout",
     "output_type": "stream",
     "text": [
      "tensor(28.1750, grad_fn=<MeanBackward0>)\n"
     ]
    },
    {
     "name": "stderr",
     "output_type": "stream",
     "text": [
      "\n",
      " 84%|████████▎ | 835/1000 [6:08:15<59:12, 21.53s/it]  \u001b[A"
     ]
    },
    {
     "name": "stdout",
     "output_type": "stream",
     "text": [
      "tensor(45.9005, grad_fn=<MeanBackward0>)\n"
     ]
    },
    {
     "name": "stderr",
     "output_type": "stream",
     "text": [
      "\n",
      " 84%|████████▎ | 836/1000 [6:08:21<45:45, 16.74s/it]\u001b[A"
     ]
    },
    {
     "name": "stdout",
     "output_type": "stream",
     "text": [
      "tensor(72.0186, grad_fn=<MeanBackward0>)\n"
     ]
    },
    {
     "name": "stderr",
     "output_type": "stream",
     "text": [
      "\n",
      " 84%|████████▎ | 837/1000 [6:08:27<36:49, 13.55s/it]\u001b[A"
     ]
    },
    {
     "name": "stdout",
     "output_type": "stream",
     "text": [
      "tensor(37.5685, grad_fn=<MeanBackward0>)\n"
     ]
    },
    {
     "name": "stderr",
     "output_type": "stream",
     "text": [
      "\n",
      " 84%|████████▍ | 838/1000 [6:08:33<30:36, 11.33s/it]\u001b[A"
     ]
    },
    {
     "name": "stdout",
     "output_type": "stream",
     "text": [
      "tensor(20.8289, grad_fn=<MeanBackward0>)\n"
     ]
    },
    {
     "name": "stderr",
     "output_type": "stream",
     "text": [
      "\n",
      " 84%|████████▍ | 839/1000 [6:08:39<26:24,  9.84s/it]\u001b[A"
     ]
    },
    {
     "name": "stdout",
     "output_type": "stream",
     "text": [
      "tensor(39.8982, grad_fn=<MeanBackward0>)\n"
     ]
    },
    {
     "name": "stderr",
     "output_type": "stream",
     "text": [
      "\n",
      " 84%|████████▍ | 840/1000 [6:08:46<23:23,  8.77s/it]\u001b[A"
     ]
    },
    {
     "name": "stdout",
     "output_type": "stream",
     "text": [
      "tensor(28.0633, grad_fn=<MeanBackward0>)\n",
      "121.0 124.0\n",
      "Saved iteration: 840\n"
     ]
    },
    {
     "name": "stderr",
     "output_type": "stream",
     "text": [
      "\n",
      " 84%|████████▍ | 841/1000 [6:12:21<3:07:22, 70.71s/it]\u001b[A"
     ]
    },
    {
     "name": "stdout",
     "output_type": "stream",
     "text": [
      "tensor(20.9733, grad_fn=<MeanBackward0>)\n"
     ]
    },
    {
     "name": "stderr",
     "output_type": "stream",
     "text": [
      "\n",
      " 84%|████████▍ | 842/1000 [6:12:26<2:14:37, 51.12s/it]\u001b[A"
     ]
    },
    {
     "name": "stdout",
     "output_type": "stream",
     "text": [
      "tensor(180.2098, grad_fn=<MeanBackward0>)\n"
     ]
    },
    {
     "name": "stderr",
     "output_type": "stream",
     "text": [
      "\n",
      " 84%|████████▍ | 843/1000 [6:12:32<1:38:04, 37.48s/it]\u001b[A"
     ]
    },
    {
     "name": "stdout",
     "output_type": "stream",
     "text": [
      "tensor(151.3391, grad_fn=<MeanBackward0>)\n"
     ]
    },
    {
     "name": "stderr",
     "output_type": "stream",
     "text": [
      "\n",
      " 84%|████████▍ | 844/1000 [6:12:38<1:12:53, 28.04s/it]\u001b[A"
     ]
    },
    {
     "name": "stdout",
     "output_type": "stream",
     "text": [
      "tensor(149.7863, grad_fn=<MeanBackward0>)\n"
     ]
    },
    {
     "name": "stderr",
     "output_type": "stream",
     "text": [
      "\n",
      " 84%|████████▍ | 845/1000 [6:12:44<55:06, 21.33s/it]  \u001b[A"
     ]
    },
    {
     "name": "stdout",
     "output_type": "stream",
     "text": [
      "tensor(211.6909, grad_fn=<MeanBackward0>)\n"
     ]
    },
    {
     "name": "stderr",
     "output_type": "stream",
     "text": [
      "\n",
      " 85%|████████▍ | 846/1000 [6:12:49<42:33, 16.58s/it]\u001b[A"
     ]
    },
    {
     "name": "stdout",
     "output_type": "stream",
     "text": [
      "tensor(130.4919, grad_fn=<MeanBackward0>)\n"
     ]
    },
    {
     "name": "stderr",
     "output_type": "stream",
     "text": [
      "\n",
      " 85%|████████▍ | 847/1000 [6:12:55<33:55, 13.30s/it]\u001b[A"
     ]
    },
    {
     "name": "stdout",
     "output_type": "stream",
     "text": [
      "tensor(130.8079, grad_fn=<MeanBackward0>)\n"
     ]
    },
    {
     "name": "stderr",
     "output_type": "stream",
     "text": [
      "\n",
      " 85%|████████▍ | 848/1000 [6:13:01<28:18, 11.17s/it]\u001b[A"
     ]
    },
    {
     "name": "stdout",
     "output_type": "stream",
     "text": [
      "tensor(191.3993, grad_fn=<MeanBackward0>)\n"
     ]
    },
    {
     "name": "stderr",
     "output_type": "stream",
     "text": [
      "\n",
      " 85%|████████▍ | 849/1000 [6:13:07<24:12,  9.62s/it]\u001b[A"
     ]
    },
    {
     "name": "stdout",
     "output_type": "stream",
     "text": [
      "tensor(95.6904, grad_fn=<MeanBackward0>)\n"
     ]
    },
    {
     "name": "stderr",
     "output_type": "stream",
     "text": [
      "\n",
      " 85%|████████▌ | 850/1000 [6:13:13<21:01,  8.41s/it]\u001b[A"
     ]
    },
    {
     "name": "stdout",
     "output_type": "stream",
     "text": [
      "tensor(178.5043, grad_fn=<MeanBackward0>)\n",
      "100.0 110.0\n",
      "Saved iteration: 850\n"
     ]
    },
    {
     "name": "stderr",
     "output_type": "stream",
     "text": [
      "\n",
      " 85%|████████▌ | 851/1000 [6:16:49<2:56:06, 70.91s/it]\u001b[A"
     ]
    },
    {
     "name": "stdout",
     "output_type": "stream",
     "text": [
      "tensor(136.3192, grad_fn=<MeanBackward0>)\n"
     ]
    },
    {
     "name": "stderr",
     "output_type": "stream",
     "text": [
      "\n",
      " 85%|████████▌ | 852/1000 [6:16:55<2:06:47, 51.40s/it]\u001b[A"
     ]
    },
    {
     "name": "stdout",
     "output_type": "stream",
     "text": [
      "tensor(66.3926, grad_fn=<MeanBackward0>)\n"
     ]
    },
    {
     "name": "stderr",
     "output_type": "stream",
     "text": [
      "\n",
      " 85%|████████▌ | 853/1000 [6:17:01<1:32:33, 37.78s/it]\u001b[A"
     ]
    },
    {
     "name": "stdout",
     "output_type": "stream",
     "text": [
      "tensor(48.0669, grad_fn=<MeanBackward0>)\n"
     ]
    },
    {
     "name": "stderr",
     "output_type": "stream",
     "text": [
      "\n",
      " 85%|████████▌ | 854/1000 [6:17:07<1:08:32, 28.17s/it]\u001b[A"
     ]
    },
    {
     "name": "stdout",
     "output_type": "stream",
     "text": [
      "tensor(56.1415, grad_fn=<MeanBackward0>)\n"
     ]
    },
    {
     "name": "stderr",
     "output_type": "stream",
     "text": [
      "\n",
      " 86%|████████▌ | 855/1000 [6:17:13<51:59, 21.51s/it]  \u001b[A"
     ]
    },
    {
     "name": "stdout",
     "output_type": "stream",
     "text": [
      "tensor(69.8540, grad_fn=<MeanBackward0>)\n"
     ]
    },
    {
     "name": "stderr",
     "output_type": "stream",
     "text": [
      "\n",
      " 86%|████████▌ | 856/1000 [6:17:19<40:11, 16.74s/it]\u001b[A"
     ]
    },
    {
     "name": "stdout",
     "output_type": "stream",
     "text": [
      "tensor(43.7480, grad_fn=<MeanBackward0>)\n"
     ]
    },
    {
     "name": "stderr",
     "output_type": "stream",
     "text": [
      "\n",
      " 86%|████████▌ | 857/1000 [6:17:24<31:58, 13.42s/it]\u001b[A"
     ]
    },
    {
     "name": "stdout",
     "output_type": "stream",
     "text": [
      "tensor(33.9260, grad_fn=<MeanBackward0>)\n"
     ]
    },
    {
     "name": "stderr",
     "output_type": "stream",
     "text": [
      "\n",
      " 86%|████████▌ | 858/1000 [6:17:30<26:17, 11.11s/it]\u001b[A"
     ]
    },
    {
     "name": "stdout",
     "output_type": "stream",
     "text": [
      "tensor(38.9917, grad_fn=<MeanBackward0>)\n"
     ]
    },
    {
     "name": "stderr",
     "output_type": "stream",
     "text": [
      "\n",
      " 86%|████████▌ | 859/1000 [6:17:36<22:37,  9.63s/it]\u001b[A"
     ]
    },
    {
     "name": "stdout",
     "output_type": "stream",
     "text": [
      "tensor(42.3308, grad_fn=<MeanBackward0>)\n"
     ]
    },
    {
     "name": "stderr",
     "output_type": "stream",
     "text": [
      "\n",
      " 86%|████████▌ | 860/1000 [6:17:42<19:51,  8.51s/it]\u001b[A"
     ]
    },
    {
     "name": "stdout",
     "output_type": "stream",
     "text": [
      "tensor(31.5732, grad_fn=<MeanBackward0>)\n",
      "107.0 113.0\n",
      "Saved iteration: 860\n"
     ]
    },
    {
     "name": "stderr",
     "output_type": "stream",
     "text": [
      "\n",
      " 86%|████████▌ | 861/1000 [6:21:05<2:34:43, 66.79s/it]\u001b[A"
     ]
    },
    {
     "name": "stdout",
     "output_type": "stream",
     "text": [
      "tensor(32.4149, grad_fn=<MeanBackward0>)\n"
     ]
    },
    {
     "name": "stderr",
     "output_type": "stream",
     "text": [
      "\n",
      " 86%|████████▌ | 862/1000 [6:21:10<1:51:08, 48.32s/it]\u001b[A"
     ]
    },
    {
     "name": "stdout",
     "output_type": "stream",
     "text": [
      "tensor(43.8181, grad_fn=<MeanBackward0>)\n"
     ]
    },
    {
     "name": "stderr",
     "output_type": "stream",
     "text": [
      "\n",
      " 86%|████████▋ | 863/1000 [6:21:15<1:20:45, 35.37s/it]\u001b[A"
     ]
    },
    {
     "name": "stdout",
     "output_type": "stream",
     "text": [
      "tensor(56.0947, grad_fn=<MeanBackward0>)\n"
     ]
    },
    {
     "name": "stderr",
     "output_type": "stream",
     "text": [
      "\n",
      " 86%|████████▋ | 864/1000 [6:21:21<59:46, 26.37s/it]  \u001b[A"
     ]
    },
    {
     "name": "stdout",
     "output_type": "stream",
     "text": [
      "tensor(83.5397, grad_fn=<MeanBackward0>)\n"
     ]
    },
    {
     "name": "stderr",
     "output_type": "stream",
     "text": [
      "\n",
      " 86%|████████▋ | 865/1000 [6:21:26<45:05, 20.04s/it]\u001b[A"
     ]
    },
    {
     "name": "stdout",
     "output_type": "stream",
     "text": [
      "tensor(85.7514, grad_fn=<MeanBackward0>)\n"
     ]
    },
    {
     "name": "stderr",
     "output_type": "stream",
     "text": [
      "\n",
      " 87%|████████▋ | 866/1000 [6:21:31<34:40, 15.52s/it]\u001b[A"
     ]
    },
    {
     "name": "stdout",
     "output_type": "stream",
     "text": [
      "tensor(86.4536, grad_fn=<MeanBackward0>)\n"
     ]
    },
    {
     "name": "stderr",
     "output_type": "stream",
     "text": [
      "\n",
      " 87%|████████▋ | 867/1000 [6:21:36<27:31, 12.42s/it]\u001b[A"
     ]
    },
    {
     "name": "stdout",
     "output_type": "stream",
     "text": [
      "tensor(79.7058, grad_fn=<MeanBackward0>)\n"
     ]
    },
    {
     "name": "stderr",
     "output_type": "stream",
     "text": [
      "\n",
      " 87%|████████▋ | 868/1000 [6:21:41<22:40, 10.31s/it]\u001b[A"
     ]
    },
    {
     "name": "stdout",
     "output_type": "stream",
     "text": [
      "tensor(44.4691, grad_fn=<MeanBackward0>)\n"
     ]
    },
    {
     "name": "stderr",
     "output_type": "stream",
     "text": [
      "\n",
      " 87%|████████▋ | 869/1000 [6:21:46<19:04,  8.74s/it]\u001b[A"
     ]
    },
    {
     "name": "stdout",
     "output_type": "stream",
     "text": [
      "tensor(63.5715, grad_fn=<MeanBackward0>)\n"
     ]
    },
    {
     "name": "stderr",
     "output_type": "stream",
     "text": [
      "\n",
      " 87%|████████▋ | 870/1000 [6:21:52<16:35,  7.66s/it]\u001b[A"
     ]
    },
    {
     "name": "stdout",
     "output_type": "stream",
     "text": [
      "tensor(64.7575, grad_fn=<MeanBackward0>)\n",
      "103.0 110.0\n",
      "Saved iteration: 870\n"
     ]
    },
    {
     "name": "stderr",
     "output_type": "stream",
     "text": [
      "\n",
      " 87%|████████▋ | 871/1000 [6:25:04<2:15:30, 63.03s/it]\u001b[A"
     ]
    },
    {
     "name": "stdout",
     "output_type": "stream",
     "text": [
      "tensor(91.5307, grad_fn=<MeanBackward0>)\n"
     ]
    },
    {
     "name": "stderr",
     "output_type": "stream",
     "text": [
      "\n",
      " 87%|████████▋ | 872/1000 [6:25:09<1:37:41, 45.79s/it]\u001b[A"
     ]
    },
    {
     "name": "stdout",
     "output_type": "stream",
     "text": [
      "tensor(29.6341, grad_fn=<MeanBackward0>)\n"
     ]
    },
    {
     "name": "stderr",
     "output_type": "stream",
     "text": [
      "\n",
      " 87%|████████▋ | 873/1000 [6:25:14<1:11:03, 33.57s/it]\u001b[A"
     ]
    },
    {
     "name": "stdout",
     "output_type": "stream",
     "text": [
      "tensor(54.8612, grad_fn=<MeanBackward0>)\n"
     ]
    },
    {
     "name": "stderr",
     "output_type": "stream",
     "text": [
      "\n",
      " 87%|████████▋ | 874/1000 [6:25:20<52:39, 25.08s/it]  \u001b[A"
     ]
    },
    {
     "name": "stdout",
     "output_type": "stream",
     "text": [
      "tensor(41.0542, grad_fn=<MeanBackward0>)\n"
     ]
    },
    {
     "name": "stderr",
     "output_type": "stream",
     "text": [
      "\n",
      " 88%|████████▊ | 875/1000 [6:25:25<39:50, 19.12s/it]\u001b[A"
     ]
    },
    {
     "name": "stdout",
     "output_type": "stream",
     "text": [
      "tensor(35.8168, grad_fn=<MeanBackward0>)\n"
     ]
    },
    {
     "name": "stderr",
     "output_type": "stream",
     "text": [
      "\n",
      " 88%|████████▊ | 876/1000 [6:25:30<30:53, 14.95s/it]\u001b[A"
     ]
    },
    {
     "name": "stdout",
     "output_type": "stream",
     "text": [
      "tensor(11.4425, grad_fn=<MeanBackward0>)\n"
     ]
    },
    {
     "name": "stderr",
     "output_type": "stream",
     "text": [
      "\n",
      " 88%|████████▊ | 877/1000 [6:25:35<24:37, 12.01s/it]\u001b[A"
     ]
    },
    {
     "name": "stdout",
     "output_type": "stream",
     "text": [
      "tensor(34.5989, grad_fn=<MeanBackward0>)\n"
     ]
    },
    {
     "name": "stderr",
     "output_type": "stream",
     "text": [
      "\n",
      " 88%|████████▊ | 878/1000 [6:25:40<20:16,  9.97s/it]\u001b[A"
     ]
    },
    {
     "name": "stdout",
     "output_type": "stream",
     "text": [
      "tensor(38.7149, grad_fn=<MeanBackward0>)\n"
     ]
    },
    {
     "name": "stderr",
     "output_type": "stream",
     "text": [
      "\n",
      " 88%|████████▊ | 879/1000 [6:25:46<17:14,  8.55s/it]\u001b[A"
     ]
    },
    {
     "name": "stdout",
     "output_type": "stream",
     "text": [
      "tensor(36.5592, grad_fn=<MeanBackward0>)\n"
     ]
    },
    {
     "name": "stderr",
     "output_type": "stream",
     "text": [
      "\n",
      " 88%|████████▊ | 880/1000 [6:25:51<15:00,  7.51s/it]\u001b[A"
     ]
    },
    {
     "name": "stdout",
     "output_type": "stream",
     "text": [
      "tensor(27.3176, grad_fn=<MeanBackward0>)\n",
      "127.0 130.0\n",
      "Saved iteration: 880\n"
     ]
    },
    {
     "name": "stderr",
     "output_type": "stream",
     "text": [
      "\n",
      " 88%|████████▊ | 881/1000 [6:29:05<2:06:06, 63.58s/it]\u001b[A"
     ]
    },
    {
     "name": "stdout",
     "output_type": "stream",
     "text": [
      "tensor(30.4113, grad_fn=<MeanBackward0>)\n"
     ]
    },
    {
     "name": "stderr",
     "output_type": "stream",
     "text": [
      "\n",
      " 88%|████████▊ | 882/1000 [6:29:11<1:30:40, 46.10s/it]\u001b[A"
     ]
    },
    {
     "name": "stdout",
     "output_type": "stream",
     "text": [
      "tensor(189.8081, grad_fn=<MeanBackward0>)\n"
     ]
    },
    {
     "name": "stderr",
     "output_type": "stream",
     "text": [
      "\n",
      " 88%|████████▊ | 883/1000 [6:29:16<1:05:58, 33.83s/it]\u001b[A"
     ]
    },
    {
     "name": "stdout",
     "output_type": "stream",
     "text": [
      "tensor(215.8753, grad_fn=<MeanBackward0>)\n"
     ]
    },
    {
     "name": "stderr",
     "output_type": "stream",
     "text": [
      "\n",
      " 88%|████████▊ | 884/1000 [6:29:21<48:45, 25.22s/it]  \u001b[A"
     ]
    },
    {
     "name": "stdout",
     "output_type": "stream",
     "text": [
      "tensor(186.5988, grad_fn=<MeanBackward0>)\n"
     ]
    },
    {
     "name": "stderr",
     "output_type": "stream",
     "text": [
      "\n",
      " 88%|████████▊ | 885/1000 [6:29:26<36:59, 19.30s/it]\u001b[A"
     ]
    },
    {
     "name": "stdout",
     "output_type": "stream",
     "text": [
      "tensor(172.0063, grad_fn=<MeanBackward0>)\n"
     ]
    },
    {
     "name": "stderr",
     "output_type": "stream",
     "text": [
      "\n",
      " 89%|████████▊ | 886/1000 [6:29:32<28:49, 15.17s/it]\u001b[A"
     ]
    },
    {
     "name": "stdout",
     "output_type": "stream",
     "text": [
      "tensor(125.0096, grad_fn=<MeanBackward0>)\n"
     ]
    },
    {
     "name": "stderr",
     "output_type": "stream",
     "text": [
      "\n",
      " 89%|████████▊ | 887/1000 [6:29:37<22:58, 12.20s/it]\u001b[A"
     ]
    },
    {
     "name": "stdout",
     "output_type": "stream",
     "text": [
      "tensor(132.2431, grad_fn=<MeanBackward0>)\n"
     ]
    },
    {
     "name": "stderr",
     "output_type": "stream",
     "text": [
      "\n",
      " 89%|████████▉ | 888/1000 [6:29:42<18:45, 10.05s/it]\u001b[A"
     ]
    },
    {
     "name": "stdout",
     "output_type": "stream",
     "text": [
      "tensor(121.8559, grad_fn=<MeanBackward0>)\n"
     ]
    },
    {
     "name": "stderr",
     "output_type": "stream",
     "text": [
      "\n",
      " 89%|████████▉ | 889/1000 [6:29:47<15:52,  8.58s/it]\u001b[A"
     ]
    },
    {
     "name": "stdout",
     "output_type": "stream",
     "text": [
      "tensor(230.8649, grad_fn=<MeanBackward0>)\n"
     ]
    },
    {
     "name": "stderr",
     "output_type": "stream",
     "text": [
      "\n",
      " 89%|████████▉ | 890/1000 [6:29:53<13:52,  7.57s/it]\u001b[A"
     ]
    },
    {
     "name": "stdout",
     "output_type": "stream",
     "text": [
      "tensor(164.0767, grad_fn=<MeanBackward0>)\n",
      "101.0 110.0\n",
      "Saved iteration: 890\n"
     ]
    },
    {
     "name": "stderr",
     "output_type": "stream",
     "text": [
      "\n",
      " 89%|████████▉ | 891/1000 [6:33:06<1:55:08, 63.38s/it]\u001b[A"
     ]
    },
    {
     "name": "stdout",
     "output_type": "stream",
     "text": [
      "tensor(173.1204, grad_fn=<MeanBackward0>)\n"
     ]
    },
    {
     "name": "stderr",
     "output_type": "stream",
     "text": [
      "\n",
      " 89%|████████▉ | 892/1000 [6:33:11<1:22:31, 45.85s/it]\u001b[A"
     ]
    },
    {
     "name": "stdout",
     "output_type": "stream",
     "text": [
      "tensor(71.3697, grad_fn=<MeanBackward0>)\n"
     ]
    },
    {
     "name": "stderr",
     "output_type": "stream",
     "text": [
      "\n",
      " 89%|████████▉ | 893/1000 [6:33:16<1:00:00, 33.65s/it]\u001b[A"
     ]
    },
    {
     "name": "stdout",
     "output_type": "stream",
     "text": [
      "tensor(92.4374, grad_fn=<MeanBackward0>)\n"
     ]
    },
    {
     "name": "stderr",
     "output_type": "stream",
     "text": [
      "\n",
      " 89%|████████▉ | 894/1000 [6:33:21<44:19, 25.09s/it]  \u001b[A"
     ]
    },
    {
     "name": "stdout",
     "output_type": "stream",
     "text": [
      "tensor(78.2944, grad_fn=<MeanBackward0>)\n"
     ]
    },
    {
     "name": "stderr",
     "output_type": "stream",
     "text": [
      "\n",
      " 90%|████████▉ | 895/1000 [6:33:26<33:18, 19.04s/it]\u001b[A"
     ]
    },
    {
     "name": "stdout",
     "output_type": "stream",
     "text": [
      "tensor(91.1542, grad_fn=<MeanBackward0>)\n"
     ]
    },
    {
     "name": "stderr",
     "output_type": "stream",
     "text": [
      "\n",
      " 90%|████████▉ | 896/1000 [6:33:31<25:42, 14.83s/it]\u001b[A"
     ]
    },
    {
     "name": "stdout",
     "output_type": "stream",
     "text": [
      "tensor(96.4125, grad_fn=<MeanBackward0>)\n"
     ]
    },
    {
     "name": "stderr",
     "output_type": "stream",
     "text": [
      "\n",
      " 90%|████████▉ | 897/1000 [6:33:36<20:25, 11.90s/it]\u001b[A"
     ]
    },
    {
     "name": "stdout",
     "output_type": "stream",
     "text": [
      "tensor(88.5940, grad_fn=<MeanBackward0>)\n"
     ]
    },
    {
     "name": "stderr",
     "output_type": "stream",
     "text": [
      "\n",
      " 90%|████████▉ | 898/1000 [6:33:41<16:40,  9.81s/it]\u001b[A"
     ]
    },
    {
     "name": "stdout",
     "output_type": "stream",
     "text": [
      "tensor(89.7549, grad_fn=<MeanBackward0>)\n"
     ]
    },
    {
     "name": "stderr",
     "output_type": "stream",
     "text": [
      "\n",
      " 90%|████████▉ | 899/1000 [6:33:46<14:04,  8.36s/it]\u001b[A"
     ]
    },
    {
     "name": "stdout",
     "output_type": "stream",
     "text": [
      "tensor(79.8074, grad_fn=<MeanBackward0>)\n"
     ]
    },
    {
     "name": "stderr",
     "output_type": "stream",
     "text": [
      "\n",
      " 90%|█████████ | 900/1000 [6:33:52<12:30,  7.50s/it]\u001b[A"
     ]
    },
    {
     "name": "stdout",
     "output_type": "stream",
     "text": [
      "tensor(90.4654, grad_fn=<MeanBackward0>)\n",
      "103.0 111.0\n",
      "Saved iteration: 900\n"
     ]
    },
    {
     "name": "stderr",
     "output_type": "stream",
     "text": [
      "\n",
      " 90%|█████████ | 901/1000 [6:37:07<1:45:15, 63.79s/it]\u001b[A"
     ]
    },
    {
     "name": "stdout",
     "output_type": "stream",
     "text": [
      "tensor(64.8959, grad_fn=<MeanBackward0>)\n"
     ]
    },
    {
     "name": "stderr",
     "output_type": "stream",
     "text": [
      "\n",
      " 90%|█████████ | 902/1000 [6:37:12<1:15:34, 46.27s/it]\u001b[A"
     ]
    },
    {
     "name": "stdout",
     "output_type": "stream",
     "text": [
      "tensor(39.8376, grad_fn=<MeanBackward0>)\n"
     ]
    },
    {
     "name": "stderr",
     "output_type": "stream",
     "text": [
      "\n",
      " 90%|█████████ | 903/1000 [6:37:17<54:49, 33.91s/it]  \u001b[A"
     ]
    },
    {
     "name": "stdout",
     "output_type": "stream",
     "text": [
      "tensor(28.5669, grad_fn=<MeanBackward0>)\n"
     ]
    },
    {
     "name": "stderr",
     "output_type": "stream",
     "text": [
      "\n",
      " 90%|█████████ | 904/1000 [6:37:23<40:32, 25.34s/it]\u001b[A"
     ]
    },
    {
     "name": "stdout",
     "output_type": "stream",
     "text": [
      "tensor(58.8818, grad_fn=<MeanBackward0>)\n"
     ]
    },
    {
     "name": "stderr",
     "output_type": "stream",
     "text": [
      "\n",
      " 90%|█████████ | 905/1000 [6:37:28<30:32, 19.29s/it]\u001b[A"
     ]
    },
    {
     "name": "stdout",
     "output_type": "stream",
     "text": [
      "tensor(42.9661, grad_fn=<MeanBackward0>)\n"
     ]
    },
    {
     "name": "stderr",
     "output_type": "stream",
     "text": [
      "\n",
      " 91%|█████████ | 906/1000 [6:37:33<23:34, 15.05s/it]\u001b[A"
     ]
    },
    {
     "name": "stdout",
     "output_type": "stream",
     "text": [
      "tensor(40.7676, grad_fn=<MeanBackward0>)\n"
     ]
    },
    {
     "name": "stderr",
     "output_type": "stream",
     "text": [
      "\n",
      " 91%|█████████ | 907/1000 [6:37:38<18:39, 12.04s/it]\u001b[A"
     ]
    },
    {
     "name": "stdout",
     "output_type": "stream",
     "text": [
      "tensor(59.2241, grad_fn=<MeanBackward0>)\n"
     ]
    },
    {
     "name": "stderr",
     "output_type": "stream",
     "text": [
      "\n",
      " 91%|█████████ | 908/1000 [6:37:43<15:20, 10.01s/it]\u001b[A"
     ]
    },
    {
     "name": "stdout",
     "output_type": "stream",
     "text": [
      "tensor(24.6523, grad_fn=<MeanBackward0>)\n"
     ]
    },
    {
     "name": "stderr",
     "output_type": "stream",
     "text": [
      "\n",
      " 91%|█████████ | 909/1000 [6:37:49<13:00,  8.58s/it]\u001b[A"
     ]
    },
    {
     "name": "stdout",
     "output_type": "stream",
     "text": [
      "tensor(52.7765, grad_fn=<MeanBackward0>)\n"
     ]
    },
    {
     "name": "stderr",
     "output_type": "stream",
     "text": [
      "\n",
      " 91%|█████████ | 910/1000 [6:37:54<11:16,  7.52s/it]\u001b[A"
     ]
    },
    {
     "name": "stdout",
     "output_type": "stream",
     "text": [
      "tensor(33.3342, grad_fn=<MeanBackward0>)\n",
      "116.0 120.0\n",
      "Saved iteration: 910\n"
     ]
    },
    {
     "name": "stderr",
     "output_type": "stream",
     "text": [
      "\n",
      " 91%|█████████ | 911/1000 [6:41:08<1:34:28, 63.69s/it]\u001b[A"
     ]
    },
    {
     "name": "stdout",
     "output_type": "stream",
     "text": [
      "tensor(53.6213, grad_fn=<MeanBackward0>)\n"
     ]
    },
    {
     "name": "stderr",
     "output_type": "stream",
     "text": [
      "\n",
      " 91%|█████████ | 912/1000 [6:41:14<1:07:39, 46.13s/it]\u001b[A"
     ]
    },
    {
     "name": "stdout",
     "output_type": "stream",
     "text": [
      "tensor(168.9588, grad_fn=<MeanBackward0>)\n"
     ]
    },
    {
     "name": "stderr",
     "output_type": "stream",
     "text": [
      "\n",
      " 91%|█████████▏| 913/1000 [6:41:19<49:03, 33.83s/it]  \u001b[A"
     ]
    },
    {
     "name": "stdout",
     "output_type": "stream",
     "text": [
      "tensor(136.6361, grad_fn=<MeanBackward0>)\n"
     ]
    },
    {
     "name": "stderr",
     "output_type": "stream",
     "text": [
      "\n",
      " 91%|█████████▏| 914/1000 [6:41:24<36:08, 25.21s/it]\u001b[A"
     ]
    },
    {
     "name": "stdout",
     "output_type": "stream",
     "text": [
      "tensor(212.7363, grad_fn=<MeanBackward0>)\n"
     ]
    },
    {
     "name": "stderr",
     "output_type": "stream",
     "text": [
      "\n",
      " 92%|█████████▏| 915/1000 [6:41:29<27:11, 19.19s/it]\u001b[A"
     ]
    },
    {
     "name": "stdout",
     "output_type": "stream",
     "text": [
      "tensor(206.1507, grad_fn=<MeanBackward0>)\n"
     ]
    },
    {
     "name": "stderr",
     "output_type": "stream",
     "text": [
      "\n",
      " 92%|█████████▏| 916/1000 [6:41:34<21:05, 15.06s/it]\u001b[A"
     ]
    },
    {
     "name": "stdout",
     "output_type": "stream",
     "text": [
      "tensor(137.5008, grad_fn=<MeanBackward0>)\n"
     ]
    },
    {
     "name": "stderr",
     "output_type": "stream",
     "text": [
      "\n",
      " 92%|█████████▏| 917/1000 [6:41:40<16:47, 12.14s/it]\u001b[A"
     ]
    },
    {
     "name": "stdout",
     "output_type": "stream",
     "text": [
      "tensor(147.1083, grad_fn=<MeanBackward0>)\n"
     ]
    },
    {
     "name": "stderr",
     "output_type": "stream",
     "text": [
      "\n",
      " 92%|█████████▏| 918/1000 [6:41:45<13:45, 10.06s/it]\u001b[A"
     ]
    },
    {
     "name": "stdout",
     "output_type": "stream",
     "text": [
      "tensor(182.2822, grad_fn=<MeanBackward0>)\n"
     ]
    },
    {
     "name": "stderr",
     "output_type": "stream",
     "text": [
      "\n",
      " 92%|█████████▏| 919/1000 [6:41:50<11:41,  8.66s/it]\u001b[A"
     ]
    },
    {
     "name": "stdout",
     "output_type": "stream",
     "text": [
      "tensor(100.7588, grad_fn=<MeanBackward0>)\n"
     ]
    },
    {
     "name": "stderr",
     "output_type": "stream",
     "text": [
      "\n",
      " 92%|█████████▏| 920/1000 [6:41:56<10:17,  7.72s/it]\u001b[A"
     ]
    },
    {
     "name": "stdout",
     "output_type": "stream",
     "text": [
      "tensor(250.7090, grad_fn=<MeanBackward0>)\n",
      "100.0 110.0\n",
      "Saved iteration: 920\n"
     ]
    },
    {
     "name": "stderr",
     "output_type": "stream",
     "text": [
      "\n",
      " 92%|█████████▏| 921/1000 [6:45:09<1:23:25, 63.36s/it]\u001b[A"
     ]
    },
    {
     "name": "stdout",
     "output_type": "stream",
     "text": [
      "tensor(124.2895, grad_fn=<MeanBackward0>)\n"
     ]
    },
    {
     "name": "stderr",
     "output_type": "stream",
     "text": [
      "\n",
      " 92%|█████████▏| 922/1000 [6:45:14<59:40, 45.90s/it]  \u001b[A"
     ]
    },
    {
     "name": "stdout",
     "output_type": "stream",
     "text": [
      "tensor(53.6127, grad_fn=<MeanBackward0>)\n"
     ]
    },
    {
     "name": "stderr",
     "output_type": "stream",
     "text": [
      "\n",
      " 92%|█████████▏| 923/1000 [6:45:20<43:19, 33.76s/it]\u001b[A"
     ]
    },
    {
     "name": "stdout",
     "output_type": "stream",
     "text": [
      "tensor(71.1784, grad_fn=<MeanBackward0>)\n"
     ]
    },
    {
     "name": "stderr",
     "output_type": "stream",
     "text": [
      "\n",
      " 92%|█████████▏| 924/1000 [6:45:25<31:55, 25.21s/it]\u001b[A"
     ]
    },
    {
     "name": "stdout",
     "output_type": "stream",
     "text": [
      "tensor(79.8065, grad_fn=<MeanBackward0>)\n"
     ]
    },
    {
     "name": "stderr",
     "output_type": "stream",
     "text": [
      "\n",
      " 92%|█████████▎| 925/1000 [6:45:30<24:01, 19.22s/it]\u001b[A"
     ]
    },
    {
     "name": "stdout",
     "output_type": "stream",
     "text": [
      "tensor(50.5718, grad_fn=<MeanBackward0>)\n"
     ]
    },
    {
     "name": "stderr",
     "output_type": "stream",
     "text": [
      "\n",
      " 93%|█████████▎| 926/1000 [6:45:35<18:28, 14.98s/it]\u001b[A"
     ]
    },
    {
     "name": "stdout",
     "output_type": "stream",
     "text": [
      "tensor(66.7141, grad_fn=<MeanBackward0>)\n"
     ]
    },
    {
     "name": "stderr",
     "output_type": "stream",
     "text": [
      "\n",
      " 93%|█████████▎| 927/1000 [6:45:40<14:41, 12.08s/it]\u001b[A"
     ]
    },
    {
     "name": "stdout",
     "output_type": "stream",
     "text": [
      "tensor(72.8833, grad_fn=<MeanBackward0>)\n"
     ]
    },
    {
     "name": "stderr",
     "output_type": "stream",
     "text": [
      "\n",
      " 93%|█████████▎| 928/1000 [6:45:46<12:04, 10.07s/it]\u001b[A"
     ]
    },
    {
     "name": "stdout",
     "output_type": "stream",
     "text": [
      "tensor(60.4040, grad_fn=<MeanBackward0>)\n"
     ]
    },
    {
     "name": "stderr",
     "output_type": "stream",
     "text": [
      "\n",
      " 93%|█████████▎| 929/1000 [6:45:51<10:07,  8.55s/it]\u001b[A"
     ]
    },
    {
     "name": "stdout",
     "output_type": "stream",
     "text": [
      "tensor(52.5626, grad_fn=<MeanBackward0>)\n"
     ]
    },
    {
     "name": "stderr",
     "output_type": "stream",
     "text": [
      "\n",
      " 93%|█████████▎| 930/1000 [6:45:56<08:49,  7.56s/it]\u001b[A"
     ]
    },
    {
     "name": "stdout",
     "output_type": "stream",
     "text": [
      "tensor(55.5746, grad_fn=<MeanBackward0>)\n",
      "108.0 115.0\n",
      "Saved iteration: 930\n"
     ]
    },
    {
     "name": "stderr",
     "output_type": "stream",
     "text": [
      "\n",
      " 93%|█████████▎| 931/1000 [6:49:11<1:13:15, 63.71s/it]\u001b[A"
     ]
    },
    {
     "name": "stdout",
     "output_type": "stream",
     "text": [
      "tensor(45.1360, grad_fn=<MeanBackward0>)\n"
     ]
    },
    {
     "name": "stderr",
     "output_type": "stream",
     "text": [
      "\n",
      " 93%|█████████▎| 932/1000 [6:49:16<52:17, 46.14s/it]  \u001b[A"
     ]
    },
    {
     "name": "stdout",
     "output_type": "stream",
     "text": [
      "tensor(64.9816, grad_fn=<MeanBackward0>)\n"
     ]
    },
    {
     "name": "stderr",
     "output_type": "stream",
     "text": [
      "\n",
      " 93%|█████████▎| 933/1000 [6:49:21<37:48, 33.86s/it]\u001b[A"
     ]
    },
    {
     "name": "stdout",
     "output_type": "stream",
     "text": [
      "tensor(52.7198, grad_fn=<MeanBackward0>)\n"
     ]
    },
    {
     "name": "stderr",
     "output_type": "stream",
     "text": [
      "\n",
      " 93%|█████████▎| 934/1000 [6:49:26<27:42, 25.19s/it]\u001b[A"
     ]
    },
    {
     "name": "stdout",
     "output_type": "stream",
     "text": [
      "tensor(36.4292, grad_fn=<MeanBackward0>)\n"
     ]
    },
    {
     "name": "stderr",
     "output_type": "stream",
     "text": [
      "\n",
      " 94%|█████████▎| 935/1000 [6:49:31<20:50, 19.24s/it]\u001b[A"
     ]
    },
    {
     "name": "stdout",
     "output_type": "stream",
     "text": [
      "tensor(73.2787, grad_fn=<MeanBackward0>)\n"
     ]
    },
    {
     "name": "stderr",
     "output_type": "stream",
     "text": [
      "\n",
      " 94%|█████████▎| 936/1000 [6:49:37<16:00, 15.01s/it]\u001b[A"
     ]
    },
    {
     "name": "stdout",
     "output_type": "stream",
     "text": [
      "tensor(52.2613, grad_fn=<MeanBackward0>)\n"
     ]
    },
    {
     "name": "stderr",
     "output_type": "stream",
     "text": [
      "\n",
      " 94%|█████████▎| 937/1000 [6:49:42<12:36, 12.01s/it]\u001b[A"
     ]
    },
    {
     "name": "stdout",
     "output_type": "stream",
     "text": [
      "tensor(32.0933, grad_fn=<MeanBackward0>)\n"
     ]
    },
    {
     "name": "stderr",
     "output_type": "stream",
     "text": [
      "\n",
      " 94%|█████████▍| 938/1000 [6:49:47<10:16,  9.95s/it]\u001b[A"
     ]
    },
    {
     "name": "stdout",
     "output_type": "stream",
     "text": [
      "tensor(52.3414, grad_fn=<MeanBackward0>)\n"
     ]
    },
    {
     "name": "stderr",
     "output_type": "stream",
     "text": [
      "\n",
      " 94%|█████████▍| 939/1000 [6:49:52<08:47,  8.65s/it]\u001b[A"
     ]
    },
    {
     "name": "stdout",
     "output_type": "stream",
     "text": [
      "tensor(58.9103, grad_fn=<MeanBackward0>)\n"
     ]
    },
    {
     "name": "stderr",
     "output_type": "stream",
     "text": [
      "\n",
      " 94%|█████████▍| 940/1000 [6:49:57<07:34,  7.58s/it]\u001b[A"
     ]
    },
    {
     "name": "stdout",
     "output_type": "stream",
     "text": [
      "tensor(36.6729, grad_fn=<MeanBackward0>)\n",
      "104.0 113.0\n",
      "Saved iteration: 940\n"
     ]
    },
    {
     "name": "stderr",
     "output_type": "stream",
     "text": [
      "\n",
      " 94%|█████████▍| 941/1000 [6:53:10<1:02:03, 63.11s/it]\u001b[A"
     ]
    },
    {
     "name": "stdout",
     "output_type": "stream",
     "text": [
      "tensor(56.4401, grad_fn=<MeanBackward0>)\n"
     ]
    },
    {
     "name": "stderr",
     "output_type": "stream",
     "text": [
      "\n",
      " 94%|█████████▍| 942/1000 [6:53:15<44:11, 45.72s/it]  \u001b[A"
     ]
    },
    {
     "name": "stdout",
     "output_type": "stream",
     "text": [
      "tensor(126.3257, grad_fn=<MeanBackward0>)\n"
     ]
    },
    {
     "name": "stderr",
     "output_type": "stream",
     "text": [
      "\n",
      " 94%|█████████▍| 943/1000 [6:53:21<31:57, 33.64s/it]\u001b[A"
     ]
    },
    {
     "name": "stdout",
     "output_type": "stream",
     "text": [
      "tensor(108.6132, grad_fn=<MeanBackward0>)\n"
     ]
    },
    {
     "name": "stderr",
     "output_type": "stream",
     "text": [
      "\n",
      " 94%|█████████▍| 944/1000 [6:53:26<23:22, 25.04s/it]\u001b[A"
     ]
    },
    {
     "name": "stdout",
     "output_type": "stream",
     "text": [
      "tensor(112.6713, grad_fn=<MeanBackward0>)\n"
     ]
    },
    {
     "name": "stderr",
     "output_type": "stream",
     "text": [
      "\n",
      " 94%|█████████▍| 945/1000 [6:53:31<17:31, 19.11s/it]\u001b[A"
     ]
    },
    {
     "name": "stdout",
     "output_type": "stream",
     "text": [
      "tensor(84.2503, grad_fn=<MeanBackward0>)\n"
     ]
    },
    {
     "name": "stderr",
     "output_type": "stream",
     "text": [
      "\n",
      " 95%|█████████▍| 946/1000 [6:53:36<13:28, 14.97s/it]\u001b[A"
     ]
    },
    {
     "name": "stdout",
     "output_type": "stream",
     "text": [
      "tensor(118.3975, grad_fn=<MeanBackward0>)\n"
     ]
    },
    {
     "name": "stderr",
     "output_type": "stream",
     "text": [
      "\n",
      " 95%|█████████▍| 947/1000 [6:53:41<10:35, 11.98s/it]\u001b[A"
     ]
    },
    {
     "name": "stdout",
     "output_type": "stream",
     "text": [
      "tensor(71.9293, grad_fn=<MeanBackward0>)\n"
     ]
    },
    {
     "name": "stderr",
     "output_type": "stream",
     "text": [
      "\n",
      " 95%|█████████▍| 948/1000 [6:53:46<08:34,  9.89s/it]\u001b[A"
     ]
    },
    {
     "name": "stdout",
     "output_type": "stream",
     "text": [
      "tensor(101.3803, grad_fn=<MeanBackward0>)\n"
     ]
    },
    {
     "name": "stderr",
     "output_type": "stream",
     "text": [
      "\n",
      " 95%|█████████▍| 949/1000 [6:53:51<07:12,  8.47s/it]\u001b[A"
     ]
    },
    {
     "name": "stdout",
     "output_type": "stream",
     "text": [
      "tensor(53.3429, grad_fn=<MeanBackward0>)\n"
     ]
    },
    {
     "name": "stderr",
     "output_type": "stream",
     "text": [
      "\n",
      " 95%|█████████▌| 950/1000 [6:53:57<06:12,  7.44s/it]\u001b[A"
     ]
    },
    {
     "name": "stdout",
     "output_type": "stream",
     "text": [
      "tensor(70.5363, grad_fn=<MeanBackward0>)\n",
      "101.0 110.0\n",
      "Saved iteration: 950\n"
     ]
    },
    {
     "name": "stderr",
     "output_type": "stream",
     "text": [
      "\n",
      " 95%|█████████▌| 951/1000 [6:57:11<51:51, 63.51s/it]\u001b[A"
     ]
    },
    {
     "name": "stdout",
     "output_type": "stream",
     "text": [
      "tensor(63.6555, grad_fn=<MeanBackward0>)\n"
     ]
    },
    {
     "name": "stderr",
     "output_type": "stream",
     "text": [
      "\n",
      " 95%|█████████▌| 952/1000 [6:57:16<36:46, 45.96s/it]\u001b[A"
     ]
    },
    {
     "name": "stdout",
     "output_type": "stream",
     "text": [
      "tensor(49.2694, grad_fn=<MeanBackward0>)\n"
     ]
    },
    {
     "name": "stderr",
     "output_type": "stream",
     "text": [
      "\n",
      " 95%|█████████▌| 953/1000 [6:57:21<26:29, 33.82s/it]\u001b[A"
     ]
    },
    {
     "name": "stdout",
     "output_type": "stream",
     "text": [
      "tensor(38.7848, grad_fn=<MeanBackward0>)\n"
     ]
    },
    {
     "name": "stderr",
     "output_type": "stream",
     "text": [
      "\n",
      " 95%|█████████▌| 954/1000 [6:57:27<19:21, 25.26s/it]\u001b[A"
     ]
    },
    {
     "name": "stdout",
     "output_type": "stream",
     "text": [
      "tensor(46.7955, grad_fn=<MeanBackward0>)\n"
     ]
    },
    {
     "name": "stderr",
     "output_type": "stream",
     "text": [
      "\n",
      " 96%|█████████▌| 955/1000 [6:57:32<14:24, 19.21s/it]\u001b[A"
     ]
    },
    {
     "name": "stdout",
     "output_type": "stream",
     "text": [
      "tensor(32.2324, grad_fn=<MeanBackward0>)\n"
     ]
    },
    {
     "name": "stderr",
     "output_type": "stream",
     "text": [
      "\n",
      " 96%|█████████▌| 956/1000 [6:57:37<10:59, 14.99s/it]\u001b[A"
     ]
    },
    {
     "name": "stdout",
     "output_type": "stream",
     "text": [
      "tensor(28.7008, grad_fn=<MeanBackward0>)\n"
     ]
    },
    {
     "name": "stderr",
     "output_type": "stream",
     "text": [
      "\n",
      " 96%|█████████▌| 957/1000 [6:57:42<08:39, 12.08s/it]\u001b[A"
     ]
    },
    {
     "name": "stdout",
     "output_type": "stream",
     "text": [
      "tensor(22.4166, grad_fn=<MeanBackward0>)\n"
     ]
    },
    {
     "name": "stderr",
     "output_type": "stream",
     "text": [
      "\n",
      " 96%|█████████▌| 958/1000 [6:57:47<07:00, 10.00s/it]\u001b[A"
     ]
    },
    {
     "name": "stdout",
     "output_type": "stream",
     "text": [
      "tensor(25.5265, grad_fn=<MeanBackward0>)\n"
     ]
    },
    {
     "name": "stderr",
     "output_type": "stream",
     "text": [
      "\n",
      " 96%|█████████▌| 959/1000 [6:57:52<05:50,  8.54s/it]\u001b[A"
     ]
    },
    {
     "name": "stdout",
     "output_type": "stream",
     "text": [
      "tensor(26.5061, grad_fn=<MeanBackward0>)\n"
     ]
    },
    {
     "name": "stderr",
     "output_type": "stream",
     "text": [
      "\n",
      " 96%|█████████▌| 960/1000 [6:57:58<05:01,  7.54s/it]\u001b[A"
     ]
    },
    {
     "name": "stdout",
     "output_type": "stream",
     "text": [
      "tensor(31.5934, grad_fn=<MeanBackward0>)\n",
      "119.0 125.0\n",
      "Saved iteration: 960\n"
     ]
    },
    {
     "name": "stderr",
     "output_type": "stream",
     "text": [
      "\n",
      " 96%|█████████▌| 961/1000 [7:01:13<41:32, 63.90s/it]\u001b[A"
     ]
    },
    {
     "name": "stdout",
     "output_type": "stream",
     "text": [
      "tensor(34.9281, grad_fn=<MeanBackward0>)\n"
     ]
    },
    {
     "name": "stderr",
     "output_type": "stream",
     "text": [
      "\n",
      " 96%|█████████▌| 962/1000 [7:01:18<29:18, 46.29s/it]\u001b[A"
     ]
    },
    {
     "name": "stdout",
     "output_type": "stream",
     "text": [
      "tensor(165.3134, grad_fn=<MeanBackward0>)\n"
     ]
    },
    {
     "name": "stderr",
     "output_type": "stream",
     "text": [
      "\n",
      " 96%|█████████▋| 963/1000 [7:01:23<20:56, 33.95s/it]\u001b[A"
     ]
    },
    {
     "name": "stdout",
     "output_type": "stream",
     "text": [
      "tensor(170.5617, grad_fn=<MeanBackward0>)\n"
     ]
    },
    {
     "name": "stderr",
     "output_type": "stream",
     "text": [
      "\n",
      " 96%|█████████▋| 964/1000 [7:01:29<15:11, 25.31s/it]\u001b[A"
     ]
    },
    {
     "name": "stdout",
     "output_type": "stream",
     "text": [
      "tensor(217.8037, grad_fn=<MeanBackward0>)\n"
     ]
    },
    {
     "name": "stderr",
     "output_type": "stream",
     "text": [
      "\n",
      " 96%|█████████▋| 965/1000 [7:01:34<11:19, 19.41s/it]\u001b[A"
     ]
    },
    {
     "name": "stdout",
     "output_type": "stream",
     "text": [
      "tensor(175.0518, grad_fn=<MeanBackward0>)\n"
     ]
    },
    {
     "name": "stderr",
     "output_type": "stream",
     "text": [
      "\n",
      " 97%|█████████▋| 966/1000 [7:01:40<08:37, 15.22s/it]\u001b[A"
     ]
    },
    {
     "name": "stdout",
     "output_type": "stream",
     "text": [
      "tensor(104.1975, grad_fn=<MeanBackward0>)\n"
     ]
    },
    {
     "name": "stderr",
     "output_type": "stream",
     "text": [
      "\n",
      " 97%|█████████▋| 967/1000 [7:01:45<06:40, 12.15s/it]\u001b[A"
     ]
    },
    {
     "name": "stdout",
     "output_type": "stream",
     "text": [
      "tensor(94.9914, grad_fn=<MeanBackward0>)\n"
     ]
    },
    {
     "name": "stderr",
     "output_type": "stream",
     "text": [
      "\n",
      " 97%|█████████▋| 968/1000 [7:01:50<05:22, 10.07s/it]\u001b[A"
     ]
    },
    {
     "name": "stdout",
     "output_type": "stream",
     "text": [
      "tensor(176.7471, grad_fn=<MeanBackward0>)\n"
     ]
    },
    {
     "name": "stderr",
     "output_type": "stream",
     "text": [
      "\n",
      " 97%|█████████▋| 969/1000 [7:01:55<04:27,  8.64s/it]\u001b[A"
     ]
    },
    {
     "name": "stdout",
     "output_type": "stream",
     "text": [
      "tensor(107.2563, grad_fn=<MeanBackward0>)\n"
     ]
    },
    {
     "name": "stderr",
     "output_type": "stream",
     "text": [
      "\n",
      " 97%|█████████▋| 970/1000 [7:02:00<03:47,  7.57s/it]\u001b[A"
     ]
    },
    {
     "name": "stdout",
     "output_type": "stream",
     "text": [
      "tensor(163.1489, grad_fn=<MeanBackward0>)\n",
      "101.0 110.0\n",
      "Saved iteration: 970\n"
     ]
    },
    {
     "name": "stderr",
     "output_type": "stream",
     "text": [
      "\n",
      " 97%|█████████▋| 971/1000 [7:05:13<30:28, 63.04s/it]\u001b[A"
     ]
    },
    {
     "name": "stdout",
     "output_type": "stream",
     "text": [
      "tensor(192.7949, grad_fn=<MeanBackward0>)\n"
     ]
    },
    {
     "name": "stderr",
     "output_type": "stream",
     "text": [
      "\n",
      " 97%|█████████▋| 972/1000 [7:05:18<21:21, 45.77s/it]\u001b[A"
     ]
    },
    {
     "name": "stdout",
     "output_type": "stream",
     "text": [
      "tensor(47.4480, grad_fn=<MeanBackward0>)\n"
     ]
    },
    {
     "name": "stderr",
     "output_type": "stream",
     "text": [
      "\n",
      " 97%|█████████▋| 973/1000 [7:05:23<15:06, 33.58s/it]\u001b[A"
     ]
    },
    {
     "name": "stdout",
     "output_type": "stream",
     "text": [
      "tensor(76.0251, grad_fn=<MeanBackward0>)\n"
     ]
    },
    {
     "name": "stderr",
     "output_type": "stream",
     "text": [
      "\n",
      " 97%|█████████▋| 974/1000 [7:05:28<10:50, 25.02s/it]\u001b[A"
     ]
    },
    {
     "name": "stdout",
     "output_type": "stream",
     "text": [
      "tensor(56.9463, grad_fn=<MeanBackward0>)\n"
     ]
    },
    {
     "name": "stderr",
     "output_type": "stream",
     "text": [
      "\n",
      " 98%|█████████▊| 975/1000 [7:05:34<07:56, 19.07s/it]\u001b[A"
     ]
    },
    {
     "name": "stdout",
     "output_type": "stream",
     "text": [
      "tensor(63.9880, grad_fn=<MeanBackward0>)\n"
     ]
    },
    {
     "name": "stderr",
     "output_type": "stream",
     "text": [
      "\n",
      " 98%|█████████▊| 976/1000 [7:05:39<05:57, 14.91s/it]\u001b[A"
     ]
    },
    {
     "name": "stdout",
     "output_type": "stream",
     "text": [
      "tensor(126.2731, grad_fn=<MeanBackward0>)\n"
     ]
    },
    {
     "name": "stderr",
     "output_type": "stream",
     "text": [
      "\n",
      " 98%|█████████▊| 977/1000 [7:05:44<04:35, 11.98s/it]\u001b[A"
     ]
    },
    {
     "name": "stdout",
     "output_type": "stream",
     "text": [
      "tensor(50.7077, grad_fn=<MeanBackward0>)\n"
     ]
    },
    {
     "name": "stderr",
     "output_type": "stream",
     "text": [
      "\n",
      " 98%|█████████▊| 978/1000 [7:05:49<03:38,  9.94s/it]\u001b[A"
     ]
    },
    {
     "name": "stdout",
     "output_type": "stream",
     "text": [
      "tensor(47.6388, grad_fn=<MeanBackward0>)\n"
     ]
    },
    {
     "name": "stderr",
     "output_type": "stream",
     "text": [
      "\n",
      " 98%|█████████▊| 979/1000 [7:05:55<03:00,  8.60s/it]\u001b[A"
     ]
    },
    {
     "name": "stdout",
     "output_type": "stream",
     "text": [
      "tensor(84.3354, grad_fn=<MeanBackward0>)\n"
     ]
    },
    {
     "name": "stderr",
     "output_type": "stream",
     "text": [
      "\n",
      " 98%|█████████▊| 980/1000 [7:06:00<02:31,  7.58s/it]\u001b[A"
     ]
    },
    {
     "name": "stdout",
     "output_type": "stream",
     "text": [
      "tensor(61.7695, grad_fn=<MeanBackward0>)\n",
      "107.0 111.0\n",
      "Saved iteration: 980\n"
     ]
    },
    {
     "name": "stderr",
     "output_type": "stream",
     "text": [
      "\n",
      " 98%|█████████▊| 981/1000 [7:09:15<20:13, 63.87s/it]\u001b[A"
     ]
    },
    {
     "name": "stdout",
     "output_type": "stream",
     "text": [
      "tensor(47.9275, grad_fn=<MeanBackward0>)\n"
     ]
    },
    {
     "name": "stderr",
     "output_type": "stream",
     "text": [
      "\n",
      " 98%|█████████▊| 982/1000 [7:09:20<13:52, 46.26s/it]\u001b[A"
     ]
    },
    {
     "name": "stdout",
     "output_type": "stream",
     "text": [
      "tensor(57.8030, grad_fn=<MeanBackward0>)\n"
     ]
    },
    {
     "name": "stderr",
     "output_type": "stream",
     "text": [
      "\n",
      " 98%|█████████▊| 983/1000 [7:09:26<09:38, 34.01s/it]\u001b[A"
     ]
    },
    {
     "name": "stdout",
     "output_type": "stream",
     "text": [
      "tensor(52.5176, grad_fn=<MeanBackward0>)\n"
     ]
    },
    {
     "name": "stderr",
     "output_type": "stream",
     "text": [
      "\n",
      " 98%|█████████▊| 984/1000 [7:09:31<06:47, 25.46s/it]\u001b[A"
     ]
    },
    {
     "name": "stdout",
     "output_type": "stream",
     "text": [
      "tensor(40.1079, grad_fn=<MeanBackward0>)\n"
     ]
    },
    {
     "name": "stderr",
     "output_type": "stream",
     "text": [
      "\n",
      " 98%|█████████▊| 985/1000 [7:09:36<04:51, 19.41s/it]\u001b[A"
     ]
    },
    {
     "name": "stdout",
     "output_type": "stream",
     "text": [
      "tensor(39.5278, grad_fn=<MeanBackward0>)\n"
     ]
    },
    {
     "name": "stderr",
     "output_type": "stream",
     "text": [
      "\n",
      " 99%|█████████▊| 986/1000 [7:09:41<03:31, 15.11s/it]\u001b[A"
     ]
    },
    {
     "name": "stdout",
     "output_type": "stream",
     "text": [
      "tensor(28.3438, grad_fn=<MeanBackward0>)\n"
     ]
    },
    {
     "name": "stderr",
     "output_type": "stream",
     "text": [
      "\n",
      " 99%|█████████▊| 987/1000 [7:09:47<02:38, 12.17s/it]\u001b[A"
     ]
    },
    {
     "name": "stdout",
     "output_type": "stream",
     "text": [
      "tensor(27.3527, grad_fn=<MeanBackward0>)\n"
     ]
    },
    {
     "name": "stderr",
     "output_type": "stream",
     "text": [
      "\n",
      " 99%|█████████▉| 988/1000 [7:09:52<02:01, 10.09s/it]\u001b[A"
     ]
    },
    {
     "name": "stdout",
     "output_type": "stream",
     "text": [
      "tensor(21.0136, grad_fn=<MeanBackward0>)\n"
     ]
    },
    {
     "name": "stderr",
     "output_type": "stream",
     "text": [
      "\n",
      " 99%|█████████▉| 989/1000 [7:09:57<01:34,  8.60s/it]\u001b[A"
     ]
    },
    {
     "name": "stdout",
     "output_type": "stream",
     "text": [
      "tensor(21.5114, grad_fn=<MeanBackward0>)\n"
     ]
    },
    {
     "name": "stderr",
     "output_type": "stream",
     "text": [
      "\n",
      " 99%|█████████▉| 990/1000 [7:10:02<01:16,  7.60s/it]\u001b[A"
     ]
    },
    {
     "name": "stdout",
     "output_type": "stream",
     "text": [
      "tensor(26.6118, grad_fn=<MeanBackward0>)\n",
      "125.0 127.0\n",
      "Saved iteration: 990\n"
     ]
    },
    {
     "name": "stderr",
     "output_type": "stream",
     "text": [
      "\n",
      " 99%|█████████▉| 991/1000 [7:13:16<09:29, 63.31s/it]\u001b[A"
     ]
    },
    {
     "name": "stdout",
     "output_type": "stream",
     "text": [
      "tensor(31.2593, grad_fn=<MeanBackward0>)\n"
     ]
    },
    {
     "name": "stderr",
     "output_type": "stream",
     "text": [
      "\n",
      " 99%|█████████▉| 992/1000 [7:13:21<06:07, 45.88s/it]\u001b[A"
     ]
    },
    {
     "name": "stdout",
     "output_type": "stream",
     "text": [
      "tensor(148.9959, grad_fn=<MeanBackward0>)\n"
     ]
    },
    {
     "name": "stderr",
     "output_type": "stream",
     "text": [
      "\n",
      " 99%|█████████▉| 993/1000 [7:13:26<03:55, 33.65s/it]\u001b[A"
     ]
    },
    {
     "name": "stdout",
     "output_type": "stream",
     "text": [
      "tensor(247.4972, grad_fn=<MeanBackward0>)\n"
     ]
    },
    {
     "name": "stderr",
     "output_type": "stream",
     "text": [
      "\n",
      " 99%|█████████▉| 994/1000 [7:13:31<02:30, 25.10s/it]\u001b[A"
     ]
    },
    {
     "name": "stdout",
     "output_type": "stream",
     "text": [
      "tensor(237.7434, grad_fn=<MeanBackward0>)\n"
     ]
    },
    {
     "name": "stderr",
     "output_type": "stream",
     "text": [
      "\n",
      "100%|█████████▉| 995/1000 [7:13:36<01:35, 19.12s/it]\u001b[A"
     ]
    },
    {
     "name": "stdout",
     "output_type": "stream",
     "text": [
      "tensor(122.2124, grad_fn=<MeanBackward0>)\n"
     ]
    },
    {
     "name": "stderr",
     "output_type": "stream",
     "text": [
      "\n",
      "100%|█████████▉| 996/1000 [7:13:41<00:59, 14.94s/it]\u001b[A"
     ]
    },
    {
     "name": "stdout",
     "output_type": "stream",
     "text": [
      "tensor(92.3149, grad_fn=<MeanBackward0>)\n"
     ]
    },
    {
     "name": "stderr",
     "output_type": "stream",
     "text": [
      "\n",
      "100%|█████████▉| 997/1000 [7:13:46<00:35, 11.95s/it]\u001b[A"
     ]
    },
    {
     "name": "stdout",
     "output_type": "stream",
     "text": [
      "tensor(196.0754, grad_fn=<MeanBackward0>)\n"
     ]
    },
    {
     "name": "stderr",
     "output_type": "stream",
     "text": [
      "\n",
      "100%|█████████▉| 998/1000 [7:13:52<00:20, 10.09s/it]\u001b[A"
     ]
    },
    {
     "name": "stdout",
     "output_type": "stream",
     "text": [
      "tensor(103.5399, grad_fn=<MeanBackward0>)\n"
     ]
    },
    {
     "name": "stderr",
     "output_type": "stream",
     "text": [
      "\n",
      "100%|█████████▉| 999/1000 [7:13:58<00:08,  8.66s/it]\u001b[A"
     ]
    },
    {
     "name": "stdout",
     "output_type": "stream",
     "text": [
      "tensor(180.1742, grad_fn=<MeanBackward0>)\n",
      "101.0 110.0\n",
      "Saved iteration: 999\n"
     ]
    },
    {
     "name": "stderr",
     "output_type": "stream",
     "text": [
      "\n",
      "100%|██████████| 1000/1000 [7:17:10<00:00, 26.23s/it]\u001b[A"
     ]
    },
    {
     "name": "stdout",
     "output_type": "stream",
     "text": [
      "tensor(268.6875, grad_fn=<MeanBackward0>)\n",
      "110.0\n"
     ]
    },
    {
     "name": "stderr",
     "output_type": "stream",
     "text": [
      "\n"
     ]
    }
   ],
   "source": [
    "# %load train_regression\n",
    "import argparse\n",
    "import os\n",
    "import torch\n",
    "from data.ghg import getGHG\n",
    "from data.gas import getGas\n",
    "from data.electric import getElectric\n",
    "from evaluate import *\n",
    "from pathlib import Path\n",
    "import sys\n",
    "import time\n",
    "from misc_utils import *\n",
    "import warnings\n",
    "from tqdm import tqdm\n",
    "import numpy as np\n",
    "from sklearn.datasets import make_regression\n",
    "from sklearn.linear_model import HuberRegressor, LinearRegression\n",
    "from scipy.stats import levy_stable\n",
    "\n",
    "\n",
    "def make_parser_reg():\n",
    "    parser = argparse.ArgumentParser()\n",
    "\n",
    "    def aa(*args, **kwargs):\n",
    "        parser.add_argument(*args, **kwargs)\n",
    "\n",
    "    aa(\"--data\", type=str, default=\"ghg\", help=\"ghg|gas|electric\")\n",
    "   # aa(\"--dataname\", type=str, default=\"mit\", help=\"eagle|mit|friends\")\n",
    "    aa(\"--m\", type=int, default=10, help=\"m for S\")\n",
    "    # the row num of S\n",
    "    # aa(\"--k\", type=int, default=10, help=\"target: rank k approximation\")\n",
    "    # aa(\"--mp\", type=int, default=10, help=\"mp for R\")\n",
    "    aa(\"--iter\", type=int, default=1000, help=\"total iterations\")\n",
    "    # aa(\"--scale\", type=int, default= 100, help=\"scale\") # not a functioning argument, assume 100\n",
    "\n",
    "    aa(\"--random\", default=False, action='store_true',\n",
    "       help=\"don't learn S! Just compute error on random S\")\n",
    "\n",
    "    aa(\"--size\", type=int, default=2000, help=\"dataset size\")\n",
    "    # aa(\"--bw\", dest='bw', default=False, action='store_true', help=\"input images to black and white\")\n",
    "    # aa(\"--dwnsmp\", type=int, default=1, help=\"how much to downsample input images\")\n",
    "    # aa(\"--dense\", type=int, default=-1, help=\"calculate dense?\")\n",
    "    # aa(\"--lr_S\", type=float, default=1.0, help=\"learning rate scale?\")\n",
    "    aa(\"--lr\", type=float, default=1e-4, help=\"learning rate for gradient descent\")\n",
    "    aa(\"--raw\", dest='raw', default=True,\n",
    "       action='store_true', help=\"generate raw?\")\n",
    "    aa(\"--bestonly\", dest='bestonly', default=False,\n",
    "       action='store_true', help=\"only compute best?\")\n",
    "    aa(\"--device\", type=str, default=\"cuda:0\")\n",
    "\n",
    "    # aa(\"--n_sample_rows\", type=int, default=-1, help=\"Train with n_sample_rows rows\")\n",
    "    aa(\"--k_sparse\", type=int, default=1,\n",
    "       help=\"number of values in a column of S, sketching mat\")\n",
    "    aa(\"--num_exp\", type=int, default=1,\n",
    "       help=\"number of times to rerun the experiment (for avg'ing results)\")\n",
    "    aa(\"--bs\", type=int, default=5, help=\"batch size\")\n",
    "    aa(\"--initalg\", type=str, default=\"random\",\n",
    "       help=\"random|kmeans|lev|gs|lev_cluster|load\")\n",
    "    aa(\"--load_file\", type=str, default=\"\",\n",
    "       help=\"if initalg=load, where to get S?\")\n",
    "\n",
    "    aa(\"--save_fldr\", type=str,\n",
    "       help=\"folder to save experiment results into; if None, then general folder\")  # default: None\n",
    "    aa(\"--save_file\", type=str, help=\"append to runtype, if not None\")\n",
    "\n",
    "    aa(\"--S_init_method\", type=str, default=\"gaussian\",\n",
    "       help=\"pm1|gaussian|gaussian_pm1\")\n",
    "    # aa(\"--lev_ridge\", dest='lev_ridge', default=False, action='store_true',\n",
    "    #    help=\"use ridge regression version with lambda?\")\n",
    "    # aa(\"--lev_cutoff\", type=int, help=\"how many top k to isolate; must be <=m? if m, then not isolate, but share\")\n",
    "    # aa(\"--lev_count\", default=False, action=\"store_true\", help=\"use counting method to compute top k over A_train?\")\n",
    "    return parser\n",
    "\n",
    "\n",
    "if __name__ == '__main__':\n",
    "    runtype = \"train_regression\"\n",
    "    # initalg_name2fn_dict = {\"kmeans\": init_w_kmeans, \"lev\": init_w_lev, \"gs\": init_w_gramschmidt,\n",
    "    #                         \"lev_cluster\": init_w_lev_cluster, \"load\": init_w_load}\n",
    "\n",
    "    parser = make_parser_reg()\n",
    "    args =parser.parse_known_args()[0]\n",
    "    # rawdir = \"/Users/siminliu/F19_classes/research/big-regression/\"\n",
    "    rawdir = \"/Users/lynette/Desktop/algorithm/final project\"\n",
    "    # rltdir = \"/Users/siminliu/F19_classes/research/big-regression/\"\n",
    "    rltdir = \"/Users/lynette/Desktop/algorithm/final project\"\n",
    "    print(args)\n",
    "    m = args.m\n",
    "\n",
    "    if args.data == 'ghg':\n",
    "        save_dir_prefix = os.path.join(rltdir, \"rlt\", \"ghg\")\n",
    "        # print(\"---------------testing1-----------\")\n",
    "        # TODO\n",
    "    elif args.data == 'gas':\n",
    "        save_dir_prefix = os.path.join(rltdir, \"rlt\", \"gas\")\n",
    "    elif args.data == 'electric':\n",
    "        save_dir_prefix = os.path.join(rltdir, \"rlt\", \"electric\")\n",
    "    else:\n",
    "        print(\"Wrong data option!\")\n",
    "        sys.exit()\n",
    "\n",
    "    if args.save_file:\n",
    "        runtype = runtype + \"_\" + args.save_file\n",
    "    if args.save_fldr:\n",
    "        save_dir = os.path.join(\n",
    "            save_dir_prefix, args.save_fldr, args_to_fldrname(runtype, args))\n",
    "    else:\n",
    "        save_dir = os.path.join(\n",
    "            save_dir_prefix, args_to_fldrname(runtype, args))\n",
    "    # print(\"---------------testing2-----------\")\n",
    "    best_fl_save_dir = os.path.join(save_dir_prefix, \"best_files\")\n",
    "    if not os.path.exists(save_dir):\n",
    "        os.makedirs(save_dir)\n",
    "    if not os.path.exists(best_fl_save_dir):\n",
    "        os.makedirs(best_fl_save_dir)\n",
    "\n",
    "    if (not args.bestonly) and (len(os.listdir(save_dir))):\n",
    "        print(\"This experiment is already done! Now exiting.\")\n",
    "        # sys.exit()\n",
    "    lr = args.lr  # default = 1\n",
    "    if args.data == \"ghg\":\n",
    "        AB_train, AB_test, n, d_a, d_b = getGHG(\n",
    "            args.raw, args.size, rawdir, 100)\n",
    "        A_train = AB_train[0]\n",
    "        B_train = AB_train[1]\n",
    "        A_test = AB_test[0]\n",
    "        B_test = AB_test[1]\n",
    "    elif args.data == \"gas\":\n",
    "        AB_train, AB_test, n, d_a, d_b = getGas(args.raw, rawdir, 100)\n",
    "        A_train = AB_train[0]\n",
    "        B_train = AB_train[1]\n",
    "        A_test = AB_test[0]\n",
    "        B_test = AB_test[1]\n",
    "    elif args.data == \"electric\":\n",
    "        AB_train, AB_test, n, d_a, d_b = getElectric(args.raw, rawdir, 100)\n",
    "        A_train = AB_train[0]\n",
    "        B_train = AB_train[1]\n",
    "        A_test = AB_test[0]\n",
    "        B_test = AB_test[1]\n",
    "    # TODO\n",
    "    # print(\"ln 106 in train_regression.py: check if we fetched data correctly\")\n",
    "    # IPython.embed()\n",
    "    # lr = lr * args.lr_S\n",
    "    print(\"Working on data \", args.data)\n",
    "\n",
    "    Path(save_dir).mkdir(parents=True, exist_ok=True)\n",
    "\n",
    "    N_train = len(A_train)\n",
    "    N_test = len(A_test)\n",
    "    print(\"Dim= \", n, d_a, d_b)\n",
    "    print(\"N train=\", N_train, \"N test=\", N_test)\n",
    "    p = 1.5\n",
    "    best_file = os.path.join(best_fl_save_dir, \"N=\" + str(args.size) + '_best')\n",
    "    # if (not os.path.isfile(best_file)) or args.raw:\n",
    "    # print(\"computing optimal least squares (linear) approximations\", best_file)\n",
    "    # getbest_regression(A_train, B_train, A_test, B_test, best_file)\n",
    "    # best_train, best_test = torch.load(best_file)\n",
    "    # print(\"Best: train:%f , test:%f\" % (best_train, best_test))\n",
    "    # to get error again\n",
    "    print(\"computing best lp regression loss\")\n",
    "    getbest_lp_regression(A_train, B_train, A_test, B_test, best_file, p)\n",
    "    best_train, best_test = torch.load(best_file)\n",
    "    print(\"Best: train:%f , test:%f\" % (best_train, best_test))\n",
    "\n",
    "    start = time.time()\n",
    "    print_freq = 50  # TODO\n",
    "\n",
    "    # save args\n",
    "    args_save_fpath = os.path.join(save_dir, \"args_it_0.pkl\")\n",
    "    f = open(args_save_fpath, \"wb\")\n",
    "    pickle.dump(vars(args), f)\n",
    "    f.close()\n",
    "\n",
    "    avg_over_exps = 0\n",
    "    for exp_num in range(args.num_exp):\n",
    "\n",
    "        it_save_dir = os.path.join(save_dir, \"exp_%d\" % exp_num)\n",
    "        it_print_freq = print_freq\n",
    "        it_lr = lr\n",
    "\n",
    "        if not os.path.exists(it_save_dir):\n",
    "            os.makedirs(it_save_dir)\n",
    "\n",
    "        test_errs = []\n",
    "        train_errs = []\n",
    "        fp_times = []\n",
    "        bp_times = []\n",
    "\n",
    "        # Initialize sparsity pattern\n",
    "        if args.initalg == \"random\":\n",
    "            sketch_vector = torch.randint(m, [args.k_sparse, n]).int()\n",
    "            sketch_vector = torch.randint(m, [args.k_sparse, n]).int()\n",
    "            print()\n",
    "            print(\"-----------doing random-----------\")\n",
    "        elif args.initalg == \"load\":\n",
    "            # TODO: not implemented for ksparse\n",
    "            initalg = initalg_name2fn_dict[args.initalg]\n",
    "            sketch_vector, sketch_value_cpu, active_ind = initalg(\n",
    "                args.load_file, exp_num, n, m)\n",
    "            sketch_value = sketch_value_cpu.detach()  # .to(args.device)\n",
    "\n",
    "        # Note: we sample with repeats, so you may map 1 row of A to <k_sparse distinct locations\n",
    "        sketch_vector.requires_grad = False\n",
    "        if args.initalg != \"load\":\n",
    "            if args.S_init_method == \"pm1\":\n",
    "                sketch_value = (\n",
    "                    (torch.randint(2, [args.k_sparse, n]).float() - 0.5) * 2)  # .to(args.device)\n",
    "                # print(\"-------pm1----sketch_value--------\")\n",
    "                # print(sketch_value.size)\n",
    "            elif args.S_init_method == \"gaussian\":\n",
    "                sketch_value = torch.from_numpy(levy_stable.rvs(\n",
    "                    p, 0, size=[args.k_sparse, n]).astype(\"float32\"))  # .to(args.device)\n",
    "                # sketch_value_cpu = ((torch.randint(2, [args.k_sparse, n]).float() - 0.5) * 2).to(args.device)\n",
    "            elif args.S_init_method == \"gaussian_pm1\":\n",
    "                sketch_value = (\n",
    "                    (torch.randint(2, [args.k_sparse, n]).float() - 0.5) * 2)  # .to(args.device)\n",
    "                sketch_value = sketch_value + torch.from_numpy(\n",
    "                    np.random.normal(size=[args.k_sparse, n]).astype(\"float32\"))  # .to(args.device)\n",
    "\n",
    "        sketch_value.requires_grad = True\n",
    "\n",
    "        for bigstep in tqdm(range(args.iter)):\n",
    "            if (bigstep % 1000 == 0) and it_lr > 1:\n",
    "                it_lr = it_lr * 0.3\n",
    "            if bigstep > 200:\n",
    "                it_print_freq = 200\n",
    "\n",
    "            fp_start_time = time.time()\n",
    "            # to randomly choose for gd\n",
    "            batch_rand_ind = np.random.randint(0, high=N_train, size=args.bs)\n",
    "\n",
    "            AM = A_train[batch_rand_ind]  # .to(args.device)\n",
    "            BM = B_train[batch_rand_ind]  # .to(args.device)\n",
    "\n",
    "            S = torch.zeros(m, n)  # .to(args.device)\n",
    "            S[sketch_vector.type(torch.LongTensor).reshape(-1), torch.arange(n).repeat(\n",
    "                args.k_sparse)] = sketch_value.reshape(-1)\n",
    "\n",
    "            # if bigstep % it_print_freq == 0 or bigstep == (args.iter - 1):\n",
    "            # IPython.embed()\n",
    "            if bigstep % 10 == 0 or bigstep == (args.iter - 1):\n",
    "                if(bigstep == 0):\n",
    "                     print(\"------------TOTAL RANDOM-----------\")\n",
    "                train_err, test_err = save_iteration_regression(\n",
    "                    S, A_train, B_train, A_test, B_test, it_save_dir, bigstep, p)\n",
    "                train_errs.append(train_err)\n",
    "                test_errs.append(test_err)\n",
    "                if bigstep == (args.iter - 1):\n",
    "                    # num_exp =how many times run\n",
    "                    avg_over_exps += (test_err/args.num_exp)\n",
    "                if args.random:\n",
    "                    # don't train! after evaluating, exit trial\n",
    "                    break\n",
    "            SA = torch.matmul(S, AM)\n",
    "            SB = torch.matmul(S, BM)\n",
    "            X = lp_norm_regression(p, SA, SB)\n",
    "            ans = AM.matmul(X)\n",
    "            loss = torch.mean(torch.norm(ans - BM, dim=(1, 2)))\n",
    "            fp_times.append(time.time() - fp_start_time)\n",
    "            bp_start_time = time.time()\n",
    "            loss.backward()\n",
    "            bp_times.append(time.time() - bp_start_time)\n",
    "\n",
    "            # TODO: Maybe don't have to divide by args.bs: is this similar to lev_score_experiments bug?\n",
    "            # However, if you change it, then you need to compensate in lr... all old exp will be invalidated\n",
    "            with torch.no_grad():\n",
    "                if args.initalg == \"load\":\n",
    "                    sketch_value[active_ind] -= (it_lr / args.bs) * \\\n",
    "                        sketch_value.grad[active_ind]\n",
    "                    sketch_value.grad.zero_()\n",
    "                else:\n",
    "                    sketch_value -= (it_lr / args.bs) * sketch_value.grad\n",
    "                    sketch_value.grad.zero_()\n",
    "\n",
    "            # del SA, SB, U, Sig, V, X, ans, loss\n",
    "            del SA, SB, X, ans, loss\n",
    "            torch.cuda.empty_cache()\n",
    "\n",
    "        np.save(os.path.join(it_save_dir, \"train_errs.npy\"),\n",
    "                train_errs, allow_pickle=True)\n",
    "        np.save(os.path.join(it_save_dir, \"test_errs.npy\"),\n",
    "                test_errs, allow_pickle=True)\n",
    "        np.save(os.path.join(it_save_dir, \"fp_times.npy\"),\n",
    "                fp_times, allow_pickle=True)\n",
    "        np.save(os.path.join(it_save_dir, \"bp_times.npy\"),\n",
    "                bp_times, allow_pickle=True)\n",
    "    print(avg_over_exps)\n"
   ]
  },
  {
   "cell_type": "code",
   "execution_count": null,
   "metadata": {},
   "outputs": [],
   "source": []
  }
 ],
 "metadata": {
  "kernelspec": {
   "display_name": "Python 3",
   "language": "python",
   "name": "python3"
  },
  "language_info": {
   "codemirror_mode": {
    "name": "ipython",
    "version": 3
   },
   "file_extension": ".py",
   "mimetype": "text/x-python",
   "name": "python",
   "nbconvert_exporter": "python",
   "pygments_lexer": "ipython3",
   "version": "3.7.1"
  }
 },
 "nbformat": 4,
 "nbformat_minor": 2
}
